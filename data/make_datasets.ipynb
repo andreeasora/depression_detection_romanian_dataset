{
 "cells": [
  {
   "cell_type": "code",
   "id": "b69d1a10",
   "metadata": {
    "ExecuteTime": {
     "end_time": "2024-06-23T14:32:17.845181Z",
     "start_time": "2024-06-23T14:31:53.872717Z"
    }
   },
   "source": [
    "!pip install scikit-learn\n",
    "!pip install pandas\n",
    "!pip install emoji\n",
    "!pip install num2words\n",
    "!pip install nltk\n",
    "!pip install matplotlib"
   ],
   "outputs": [
    {
     "name": "stdout",
     "output_type": "stream",
     "text": [
      "Requirement already satisfied: scikit-learn in c:\\users\\tiast\\onedrive\\work\\masters\\m-1\\2\\bionlp\\bionlp project\\venv\\lib\\site-packages (1.5.0)\n",
      "Requirement already satisfied: numpy>=1.19.5 in c:\\users\\tiast\\onedrive\\work\\masters\\m-1\\2\\bionlp\\bionlp project\\venv\\lib\\site-packages (from scikit-learn) (2.0.0)\n",
      "Requirement already satisfied: scipy>=1.6.0 in c:\\users\\tiast\\onedrive\\work\\masters\\m-1\\2\\bionlp\\bionlp project\\venv\\lib\\site-packages (from scikit-learn) (1.13.1)\n",
      "Requirement already satisfied: joblib>=1.2.0 in c:\\users\\tiast\\onedrive\\work\\masters\\m-1\\2\\bionlp\\bionlp project\\venv\\lib\\site-packages (from scikit-learn) (1.4.2)\n",
      "Requirement already satisfied: threadpoolctl>=3.1.0 in c:\\users\\tiast\\onedrive\\work\\masters\\m-1\\2\\bionlp\\bionlp project\\venv\\lib\\site-packages (from scikit-learn) (3.5.0)\n",
      "Requirement already satisfied: pandas in c:\\users\\tiast\\onedrive\\work\\masters\\m-1\\2\\bionlp\\bionlp project\\venv\\lib\\site-packages (2.2.2)\n",
      "Requirement already satisfied: numpy>=1.26.0 in c:\\users\\tiast\\onedrive\\work\\masters\\m-1\\2\\bionlp\\bionlp project\\venv\\lib\\site-packages (from pandas) (2.0.0)\n",
      "Requirement already satisfied: python-dateutil>=2.8.2 in c:\\users\\tiast\\onedrive\\work\\masters\\m-1\\2\\bionlp\\bionlp project\\venv\\lib\\site-packages (from pandas) (2.9.0.post0)\n",
      "Requirement already satisfied: pytz>=2020.1 in c:\\users\\tiast\\onedrive\\work\\masters\\m-1\\2\\bionlp\\bionlp project\\venv\\lib\\site-packages (from pandas) (2024.1)\n",
      "Requirement already satisfied: tzdata>=2022.7 in c:\\users\\tiast\\onedrive\\work\\masters\\m-1\\2\\bionlp\\bionlp project\\venv\\lib\\site-packages (from pandas) (2024.1)\n",
      "Requirement already satisfied: six>=1.5 in c:\\users\\tiast\\onedrive\\work\\masters\\m-1\\2\\bionlp\\bionlp project\\venv\\lib\\site-packages (from python-dateutil>=2.8.2->pandas) (1.16.0)\n",
      "Requirement already satisfied: emoji in c:\\users\\tiast\\onedrive\\work\\masters\\m-1\\2\\bionlp\\bionlp project\\venv\\lib\\site-packages (2.12.1)\n",
      "Requirement already satisfied: typing-extensions>=4.7.0 in c:\\users\\tiast\\onedrive\\work\\masters\\m-1\\2\\bionlp\\bionlp project\\venv\\lib\\site-packages (from emoji) (4.12.2)\n",
      "Requirement already satisfied: num2words in c:\\users\\tiast\\onedrive\\work\\masters\\m-1\\2\\bionlp\\bionlp project\\venv\\lib\\site-packages (0.5.13)\n",
      "Requirement already satisfied: docopt>=0.6.2 in c:\\users\\tiast\\onedrive\\work\\masters\\m-1\\2\\bionlp\\bionlp project\\venv\\lib\\site-packages (from num2words) (0.6.2)\n",
      "Requirement already satisfied: nltk in c:\\users\\tiast\\onedrive\\work\\masters\\m-1\\2\\bionlp\\bionlp project\\venv\\lib\\site-packages (3.8.1)\n",
      "Requirement already satisfied: click in c:\\users\\tiast\\onedrive\\work\\masters\\m-1\\2\\bionlp\\bionlp project\\venv\\lib\\site-packages (from nltk) (8.1.7)\n",
      "Requirement already satisfied: joblib in c:\\users\\tiast\\onedrive\\work\\masters\\m-1\\2\\bionlp\\bionlp project\\venv\\lib\\site-packages (from nltk) (1.4.2)\n",
      "Requirement already satisfied: regex>=2021.8.3 in c:\\users\\tiast\\onedrive\\work\\masters\\m-1\\2\\bionlp\\bionlp project\\venv\\lib\\site-packages (from nltk) (2024.5.15)\n",
      "Requirement already satisfied: tqdm in c:\\users\\tiast\\onedrive\\work\\masters\\m-1\\2\\bionlp\\bionlp project\\venv\\lib\\site-packages (from nltk) (4.66.4)\n",
      "Requirement already satisfied: colorama in c:\\users\\tiast\\onedrive\\work\\masters\\m-1\\2\\bionlp\\bionlp project\\venv\\lib\\site-packages (from click->nltk) (0.4.6)\n",
      "Requirement already satisfied: matplotlib in c:\\users\\tiast\\onedrive\\work\\masters\\m-1\\2\\bionlp\\bionlp project\\venv\\lib\\site-packages (3.9.0)\n",
      "Requirement already satisfied: contourpy>=1.0.1 in c:\\users\\tiast\\onedrive\\work\\masters\\m-1\\2\\bionlp\\bionlp project\\venv\\lib\\site-packages (from matplotlib) (1.2.1)\n",
      "Requirement already satisfied: cycler>=0.10 in c:\\users\\tiast\\onedrive\\work\\masters\\m-1\\2\\bionlp\\bionlp project\\venv\\lib\\site-packages (from matplotlib) (0.12.1)\n",
      "Requirement already satisfied: fonttools>=4.22.0 in c:\\users\\tiast\\onedrive\\work\\masters\\m-1\\2\\bionlp\\bionlp project\\venv\\lib\\site-packages (from matplotlib) (4.53.0)\n",
      "Requirement already satisfied: kiwisolver>=1.3.1 in c:\\users\\tiast\\onedrive\\work\\masters\\m-1\\2\\bionlp\\bionlp project\\venv\\lib\\site-packages (from matplotlib) (1.4.5)\n",
      "Requirement already satisfied: numpy>=1.23 in c:\\users\\tiast\\onedrive\\work\\masters\\m-1\\2\\bionlp\\bionlp project\\venv\\lib\\site-packages (from matplotlib) (2.0.0)\n",
      "Requirement already satisfied: packaging>=20.0 in c:\\users\\tiast\\onedrive\\work\\masters\\m-1\\2\\bionlp\\bionlp project\\venv\\lib\\site-packages (from matplotlib) (24.1)\n",
      "Requirement already satisfied: pillow>=8 in c:\\users\\tiast\\onedrive\\work\\masters\\m-1\\2\\bionlp\\bionlp project\\venv\\lib\\site-packages (from matplotlib) (10.3.0)\n",
      "Requirement already satisfied: pyparsing>=2.3.1 in c:\\users\\tiast\\onedrive\\work\\masters\\m-1\\2\\bionlp\\bionlp project\\venv\\lib\\site-packages (from matplotlib) (3.1.2)\n",
      "Requirement already satisfied: python-dateutil>=2.7 in c:\\users\\tiast\\onedrive\\work\\masters\\m-1\\2\\bionlp\\bionlp project\\venv\\lib\\site-packages (from matplotlib) (2.9.0.post0)\n",
      "Requirement already satisfied: six>=1.5 in c:\\users\\tiast\\onedrive\\work\\masters\\m-1\\2\\bionlp\\bionlp project\\venv\\lib\\site-packages (from python-dateutil>=2.7->matplotlib) (1.16.0)\n"
     ]
    }
   ],
   "execution_count": 2
  },
  {
   "cell_type": "code",
   "id": "66ad6cad",
   "metadata": {
    "ExecuteTime": {
     "end_time": "2024-06-23T14:32:38.272623Z",
     "start_time": "2024-06-23T14:32:24.905835Z"
    }
   },
   "source": [
    "import json\n",
    "import pandas as pd\n",
    "from sklearn.model_selection import train_test_split\n",
    "import re\n",
    "import emoji\n",
    "#from num2words import num2words\n",
    "import nltk\n",
    "#from nltk.corpus import stopwords\n",
    "#from nltk.stem import WordNetLemmatizer\n",
    "#from nltk.stem import PorterStemmer\n",
    "#nltk.download('stopwords')\n",
    "#nltk.download('wordnet')\n",
    "#import matplotlib.pyplot as plt\n",
    "from collections import defaultdict\n",
    "from collections import Counter\n",
    "#from matplotlib import colors\n",
    "#from wordcloud import WordCloud"
   ],
   "outputs": [],
   "execution_count": 3
  },
  {
   "cell_type": "code",
   "id": "32f4db0b",
   "metadata": {
    "ExecuteTime": {
     "end_time": "2024-06-23T17:19:47.037337Z",
     "start_time": "2024-06-23T17:19:46.981588Z"
    }
   },
   "source": [
    "def read_df_from_json(doc, label):\n",
    "    data_list = []\n",
    "\n",
    "    with open(doc, 'r') as file:\n",
    "        data = json.load(file)\n",
    "        \n",
    "        for user in data:\n",
    "            for post in user['posts']:\n",
    "                data_list.append({\"label\": label, \"text\": post[\"title\"] + \" \" + post[\"selftext\"]})\n",
    "\n",
    "        df = pd.DataFrame(data_list)\n",
    "    \n",
    "        return df"
   ],
   "outputs": [],
   "execution_count": 44
  },
  {
   "cell_type": "code",
   "id": "60b560ea",
   "metadata": {
    "ExecuteTime": {
     "end_time": "2024-06-23T17:19:50.689900Z",
     "start_time": "2024-06-23T17:19:50.678036Z"
    }
   },
   "source": [
    "def concatenate_dfs(docs, labels):\n",
    "    dfs = []\n",
    "\n",
    "    for i in range(len(docs)):\n",
    "        dfs.append(read_df_from_json(docs[i], labels[i]))\n",
    "    \n",
    "    big_df = pd.concat(dfs, ignore_index=True)\n",
    "    \n",
    "    return big_df"
   ],
   "outputs": [],
   "execution_count": 45
  },
  {
   "cell_type": "code",
   "id": "44514e1d",
   "metadata": {
    "ExecuteTime": {
     "end_time": "2024-06-23T17:19:53.338168Z",
     "start_time": "2024-06-23T17:19:53.117563Z"
    }
   },
   "source": [
    "docs = ['data/reddit_data_with_depression.json','data/reddit_data_with_true_depression.json','data/reddit_data_without_depression.json']\n",
    "labels = ['possible_depression', 'true_depression', 'no_depression']\n",
    "df  = concatenate_dfs(docs, labels)"
   ],
   "outputs": [],
   "execution_count": 46
  },
  {
   "metadata": {
    "ExecuteTime": {
     "end_time": "2024-06-23T17:19:55.504835Z",
     "start_time": "2024-06-23T17:19:55.477893Z"
    }
   },
   "cell_type": "code",
   "source": "df",
   "id": "cb41ff754b15251",
   "outputs": [
    {
     "data": {
      "text/plain": [
       "                    label                                               text\n",
       "0     possible_depression  Stare mentala nasoala - attachment issues, fri...\n",
       "1     possible_depression  Problema serioasa - transpiratia Salut,\\n\\nAm ...\n",
       "2     possible_depression  Ce peeling chimic imi recomandati? Buna fetelo...\n",
       "3     possible_depression  Ce produse de skincare bune reusesc sa va ia o...\n",
       "4     possible_depression  Relatia cu sora mea mai mica \\nBuna, am si eu ...\n",
       "...                   ...                                                ...\n",
       "4086        no_depression  Rosiile alea la 40lei/kg sunt ieftine Poza fac...\n",
       "4087        no_depression  Luminati-ma sau fiti luminati. Care e faza cu ...\n",
       "4088        no_depression  De ce e asa molipsitor accentul ardelenesc? Su...\n",
       "4089        no_depression  Va simtiti amenintati de AI? Cum priviti acest...\n",
       "4090        no_depression  intrebare pentru cei care locuiesc in orasele ...\n",
       "\n",
       "[4091 rows x 2 columns]"
      ],
      "text/html": [
       "<div>\n",
       "<style scoped>\n",
       "    .dataframe tbody tr th:only-of-type {\n",
       "        vertical-align: middle;\n",
       "    }\n",
       "\n",
       "    .dataframe tbody tr th {\n",
       "        vertical-align: top;\n",
       "    }\n",
       "\n",
       "    .dataframe thead th {\n",
       "        text-align: right;\n",
       "    }\n",
       "</style>\n",
       "<table border=\"1\" class=\"dataframe\">\n",
       "  <thead>\n",
       "    <tr style=\"text-align: right;\">\n",
       "      <th></th>\n",
       "      <th>label</th>\n",
       "      <th>text</th>\n",
       "    </tr>\n",
       "  </thead>\n",
       "  <tbody>\n",
       "    <tr>\n",
       "      <th>0</th>\n",
       "      <td>possible_depression</td>\n",
       "      <td>Stare mentala nasoala - attachment issues, fri...</td>\n",
       "    </tr>\n",
       "    <tr>\n",
       "      <th>1</th>\n",
       "      <td>possible_depression</td>\n",
       "      <td>Problema serioasa - transpiratia Salut,\\n\\nAm ...</td>\n",
       "    </tr>\n",
       "    <tr>\n",
       "      <th>2</th>\n",
       "      <td>possible_depression</td>\n",
       "      <td>Ce peeling chimic imi recomandati? Buna fetelo...</td>\n",
       "    </tr>\n",
       "    <tr>\n",
       "      <th>3</th>\n",
       "      <td>possible_depression</td>\n",
       "      <td>Ce produse de skincare bune reusesc sa va ia o...</td>\n",
       "    </tr>\n",
       "    <tr>\n",
       "      <th>4</th>\n",
       "      <td>possible_depression</td>\n",
       "      <td>Relatia cu sora mea mai mica \\nBuna, am si eu ...</td>\n",
       "    </tr>\n",
       "    <tr>\n",
       "      <th>...</th>\n",
       "      <td>...</td>\n",
       "      <td>...</td>\n",
       "    </tr>\n",
       "    <tr>\n",
       "      <th>4086</th>\n",
       "      <td>no_depression</td>\n",
       "      <td>Rosiile alea la 40lei/kg sunt ieftine Poza fac...</td>\n",
       "    </tr>\n",
       "    <tr>\n",
       "      <th>4087</th>\n",
       "      <td>no_depression</td>\n",
       "      <td>Luminati-ma sau fiti luminati. Care e faza cu ...</td>\n",
       "    </tr>\n",
       "    <tr>\n",
       "      <th>4088</th>\n",
       "      <td>no_depression</td>\n",
       "      <td>De ce e asa molipsitor accentul ardelenesc? Su...</td>\n",
       "    </tr>\n",
       "    <tr>\n",
       "      <th>4089</th>\n",
       "      <td>no_depression</td>\n",
       "      <td>Va simtiti amenintati de AI? Cum priviti acest...</td>\n",
       "    </tr>\n",
       "    <tr>\n",
       "      <th>4090</th>\n",
       "      <td>no_depression</td>\n",
       "      <td>intrebare pentru cei care locuiesc in orasele ...</td>\n",
       "    </tr>\n",
       "  </tbody>\n",
       "</table>\n",
       "<p>4091 rows × 2 columns</p>\n",
       "</div>"
      ]
     },
     "execution_count": 47,
     "metadata": {},
     "output_type": "execute_result"
    }
   ],
   "execution_count": 47
  },
  {
   "cell_type": "code",
   "id": "ce891110",
   "metadata": {
    "ExecuteTime": {
     "end_time": "2024-06-23T17:20:05.923380Z",
     "start_time": "2024-06-23T17:20:05.910816Z"
    }
   },
   "source": [
    "print(\"Possible Depression:\", df[\"label\"].value_counts()[\"possible_depression\"])\n",
    "print(\"True Depression:\", df[\"label\"].value_counts()[\"true_depression\"])\n",
    "print(\"No Depression:\", df[\"label\"].value_counts()[\"no_depression\"])"
   ],
   "outputs": [
    {
     "name": "stdout",
     "output_type": "stream",
     "text": [
      "Possible Depression: 949\n",
      "True Depression: 211\n",
      "No Depression: 2931\n"
     ]
    }
   ],
   "execution_count": 48
  },
  {
   "cell_type": "code",
   "id": "fd93b4b8",
   "metadata": {
    "ExecuteTime": {
     "end_time": "2024-06-23T17:21:01.333638Z",
     "start_time": "2024-06-23T17:21:01.320493Z"
    }
   },
   "source": [
    "def split_and_write_csv(input_df, train_size_per_class={'possible_depression':500, 'true_depression':100, 'no_depression':1500}, test_size_per_class={'possible_depression':250, 'true_depression':75, 'no_depression':1000}, validation_size_per_class={'possible_depression':199, 'true_depression':36, 'no_depression':431}):\n",
    "    grouped = input_df.groupby('label')\n",
    "\n",
    "    train_data = pd.DataFrame()\n",
    "    train_labels = pd.DataFrame()\n",
    "    test_data = pd.DataFrame()\n",
    "    test_labels = pd.DataFrame()\n",
    "    validation_data = pd.DataFrame()\n",
    "    validation_labels = pd.DataFrame()\n",
    "    \n",
    "    train_data_plot = pd.DataFrame()\n",
    "    test_data_plot = pd.DataFrame()\n",
    "    validation_data_plot = pd.DataFrame()\n",
    "\n",
    "    for group_name, group_df in grouped:\n",
    "        # print(test_size_per_class[group_name])\n",
    "        shuffled_group_df = group_df.sample(frac=1)\n",
    "\n",
    "        train_group, test_group = train_test_split(shuffled_group_df, train_size=train_size_per_class[group_name] , test_size=test_size_per_class[group_name] + validation_size_per_class[group_name])\n",
    "    \n",
    "        test_group, validation_group = train_test_split(test_group, test_size=validation_size_per_class[group_name])\n",
    "\n",
    "        train_data = pd.concat([train_data, train_group['text']])\n",
    "        train_labels = pd.concat([train_labels, train_group['label']])\n",
    "\n",
    "        test_data = pd.concat([test_data, test_group['text']])\n",
    "        test_labels = pd.concat([test_labels, test_group['label']])\n",
    "    \n",
    "        validation_data = pd.concat([validation_data, validation_group['text']])\n",
    "        validation_labels = pd.concat([validation_labels, validation_group['label']])\n",
    "    \n",
    "        train_data_plot = pd.concat([train_data_plot, train_group])  \n",
    "        test_data_plot = pd.concat([test_data_plot, test_group])\n",
    "        validation_data_plot = pd.concat([validation_data_plot, validation_group])\n",
    "        \n",
    "    \n",
    "    shuffled_train_data = train_data.sample(frac=1)\n",
    "    shuffled_train_labels = train_labels.sample(frac=1)\n",
    "\n",
    "    shuffled_train_data.rename(columns={0: \"text\"}, inplace=True)\n",
    "    shuffled_train_labels.rename(columns={0: \"label\"}, inplace=True)\n",
    "    \n",
    "\n",
    "    validation_data.rename(columns={0: \"text\"}, inplace=True)\n",
    "    validation_labels.rename(columns={0: \"label\"}, inplace=True)\n",
    "    \n",
    "    test_data.rename(columns={0: \"text\"}, inplace=True)\n",
    "    test_labels.rename(columns={0: \"label\"}, inplace=True)\n",
    "    \n",
    "    train_data.to_csv('data/shuffled_train_data.csv', index=False)\n",
    "    train_labels.to_csv('data/shuffled_train_labels.csv', index=False)\n",
    "    validation_data.to_csv('data/validation_data.csv', index=False)\n",
    "    validation_labels.to_csv('data/validation_labels.csv', index=False)\n",
    "    test_data.to_csv('data/test_data.csv', index=False)\n",
    "    test_labels.to_csv('data/test_labels.csv', index=False)\n",
    "    train_data_plot.to_csv('data/train_data_plot.csv', index=False)\n",
    "    test_data_plot.to_csv('data/test_data_plot.csv', index=False)\n",
    "    validation_data_plot.to_csv('data/validation_data_plot.csv', index=False)\n"
   ],
   "outputs": [],
   "execution_count": 53
  },
  {
   "cell_type": "code",
   "id": "525ed7d9",
   "metadata": {
    "ExecuteTime": {
     "end_time": "2024-06-23T17:21:03.154007Z",
     "start_time": "2024-06-23T17:21:02.674890Z"
    }
   },
   "source": [
    "split_and_write_csv(df)"
   ],
   "outputs": [],
   "execution_count": 54
  },
  {
   "cell_type": "code",
   "id": "8c6bda89",
   "metadata": {
    "ExecuteTime": {
     "end_time": "2024-06-23T17:21:07.565094Z",
     "start_time": "2024-06-23T17:21:07.346521Z"
    }
   },
   "source": [
    "train_data = pd.read_csv('data/shuffled_train_data.csv',index_col=None)\n",
    "train_labels = pd.read_csv('data/shuffled_train_labels.csv',index_col=None)\n",
    "\n",
    "test_data = pd.read_csv('data/test_data.csv',index_col=None)\n",
    "test_labels = pd.read_csv('data/test_labels.csv',index_col=None)\n",
    "\n",
    "val_data = pd.read_csv('data/validation_data.csv',index_col=None)\n",
    "val_labels = pd.read_csv('data/validation_labels.csv',index_col=None)\n",
    "\n",
    "train_data_plot = pd.read_csv('data/train_data_plot.csv',index_col=None)\n",
    "test_data_plot = pd.read_csv('data/test_data_plot.csv',index_col=None)\n",
    "\n",
    "train_data.shape"
   ],
   "outputs": [
    {
     "data": {
      "text/plain": [
       "(2100, 1)"
      ]
     },
     "execution_count": 55,
     "metadata": {},
     "output_type": "execute_result"
    }
   ],
   "execution_count": 55
  },
  {
   "cell_type": "code",
   "execution_count": null,
   "id": "1a735c7c",
   "metadata": {},
   "outputs": [],
   "source": []
  }
 ],
 "metadata": {
  "kernelspec": {
   "display_name": "Python 3 (ipykernel)",
   "language": "python",
   "name": "python3"
  },
  "language_info": {
   "codemirror_mode": {
    "name": "ipython",
    "version": 3
   },
   "file_extension": ".py",
   "mimetype": "text/x-python",
   "name": "python",
   "nbconvert_exporter": "python",
   "pygments_lexer": "ipython3",
   "version": "3.11.5"
  }
 },
 "nbformat": 4,
 "nbformat_minor": 5
}
