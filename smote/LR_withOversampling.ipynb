{
  "cells": [
    {
      "cell_type": "code",
      "execution_count": null,
      "id": "db8a1675",
      "metadata": {
        "ExecuteTime": {
          "end_time": "2024-06-24T10:47:35.513755Z",
          "start_time": "2024-06-24T10:46:52.851358Z"
        },
        "colab": {
          "base_uri": "https://localhost:8080/"
        },
        "collapsed": true,
        "id": "db8a1675",
        "outputId": "c75a3a05-3631-4dd4-b9a8-ff5977c90f4f"
      },
      "outputs": [
        {
          "output_type": "stream",
          "name": "stdout",
          "text": [
            "Requirement already satisfied: scikit-learn in /usr/local/lib/python3.10/dist-packages (1.3.2)\n",
            "Requirement already satisfied: numpy<2.0,>=1.17.3 in /usr/local/lib/python3.10/dist-packages (from scikit-learn) (1.26.4)\n",
            "Requirement already satisfied: scipy>=1.5.0 in /usr/local/lib/python3.10/dist-packages (from scikit-learn) (1.13.1)\n",
            "Requirement already satisfied: joblib>=1.1.1 in /usr/local/lib/python3.10/dist-packages (from scikit-learn) (1.4.2)\n",
            "Requirement already satisfied: threadpoolctl>=2.0.0 in /usr/local/lib/python3.10/dist-packages (from scikit-learn) (3.5.0)\n",
            "Requirement already satisfied: pandas in /usr/local/lib/python3.10/dist-packages (2.1.4)\n",
            "Requirement already satisfied: numpy<2,>=1.22.4 in /usr/local/lib/python3.10/dist-packages (from pandas) (1.26.4)\n",
            "Requirement already satisfied: python-dateutil>=2.8.2 in /usr/local/lib/python3.10/dist-packages (from pandas) (2.8.2)\n",
            "Requirement already satisfied: pytz>=2020.1 in /usr/local/lib/python3.10/dist-packages (from pandas) (2024.1)\n",
            "Requirement already satisfied: tzdata>=2022.1 in /usr/local/lib/python3.10/dist-packages (from pandas) (2024.1)\n",
            "Requirement already satisfied: six>=1.5 in /usr/local/lib/python3.10/dist-packages (from python-dateutil>=2.8.2->pandas) (1.16.0)\n",
            "Requirement already satisfied: emoji in /usr/local/lib/python3.10/dist-packages (2.12.1)\n",
            "Requirement already satisfied: typing-extensions>=4.7.0 in /usr/local/lib/python3.10/dist-packages (from emoji) (4.12.2)\n",
            "Requirement already satisfied: num2words in /usr/local/lib/python3.10/dist-packages (0.5.13)\n",
            "Requirement already satisfied: docopt>=0.6.2 in /usr/local/lib/python3.10/dist-packages (from num2words) (0.6.2)\n",
            "Requirement already satisfied: nltk in /usr/local/lib/python3.10/dist-packages (3.8.1)\n",
            "Requirement already satisfied: click in /usr/local/lib/python3.10/dist-packages (from nltk) (8.1.7)\n",
            "Requirement already satisfied: joblib in /usr/local/lib/python3.10/dist-packages (from nltk) (1.4.2)\n",
            "Requirement already satisfied: regex>=2021.8.3 in /usr/local/lib/python3.10/dist-packages (from nltk) (2024.5.15)\n",
            "Requirement already satisfied: tqdm in /usr/local/lib/python3.10/dist-packages (from nltk) (4.66.5)\n",
            "Requirement already satisfied: matplotlib in /usr/local/lib/python3.10/dist-packages (3.7.1)\n",
            "Requirement already satisfied: contourpy>=1.0.1 in /usr/local/lib/python3.10/dist-packages (from matplotlib) (1.2.1)\n",
            "Requirement already satisfied: cycler>=0.10 in /usr/local/lib/python3.10/dist-packages (from matplotlib) (0.12.1)\n",
            "Requirement already satisfied: fonttools>=4.22.0 in /usr/local/lib/python3.10/dist-packages (from matplotlib) (4.53.1)\n",
            "Requirement already satisfied: kiwisolver>=1.0.1 in /usr/local/lib/python3.10/dist-packages (from matplotlib) (1.4.5)\n",
            "Requirement already satisfied: numpy>=1.20 in /usr/local/lib/python3.10/dist-packages (from matplotlib) (1.26.4)\n",
            "Requirement already satisfied: packaging>=20.0 in /usr/local/lib/python3.10/dist-packages (from matplotlib) (24.1)\n",
            "Requirement already satisfied: pillow>=6.2.0 in /usr/local/lib/python3.10/dist-packages (from matplotlib) (9.4.0)\n",
            "Requirement already satisfied: pyparsing>=2.3.1 in /usr/local/lib/python3.10/dist-packages (from matplotlib) (3.1.4)\n",
            "Requirement already satisfied: python-dateutil>=2.7 in /usr/local/lib/python3.10/dist-packages (from matplotlib) (2.8.2)\n",
            "Requirement already satisfied: six>=1.5 in /usr/local/lib/python3.10/dist-packages (from python-dateutil>=2.7->matplotlib) (1.16.0)\n",
            "Requirement already satisfied: wordcloud in /usr/local/lib/python3.10/dist-packages (1.9.3)\n",
            "Requirement already satisfied: numpy>=1.6.1 in /usr/local/lib/python3.10/dist-packages (from wordcloud) (1.26.4)\n",
            "Requirement already satisfied: pillow in /usr/local/lib/python3.10/dist-packages (from wordcloud) (9.4.0)\n",
            "Requirement already satisfied: matplotlib in /usr/local/lib/python3.10/dist-packages (from wordcloud) (3.7.1)\n",
            "Requirement already satisfied: contourpy>=1.0.1 in /usr/local/lib/python3.10/dist-packages (from matplotlib->wordcloud) (1.2.1)\n",
            "Requirement already satisfied: cycler>=0.10 in /usr/local/lib/python3.10/dist-packages (from matplotlib->wordcloud) (0.12.1)\n",
            "Requirement already satisfied: fonttools>=4.22.0 in /usr/local/lib/python3.10/dist-packages (from matplotlib->wordcloud) (4.53.1)\n",
            "Requirement already satisfied: kiwisolver>=1.0.1 in /usr/local/lib/python3.10/dist-packages (from matplotlib->wordcloud) (1.4.5)\n",
            "Requirement already satisfied: packaging>=20.0 in /usr/local/lib/python3.10/dist-packages (from matplotlib->wordcloud) (24.1)\n",
            "Requirement already satisfied: pyparsing>=2.3.1 in /usr/local/lib/python3.10/dist-packages (from matplotlib->wordcloud) (3.1.4)\n",
            "Requirement already satisfied: python-dateutil>=2.7 in /usr/local/lib/python3.10/dist-packages (from matplotlib->wordcloud) (2.8.2)\n",
            "Requirement already satisfied: six>=1.5 in /usr/local/lib/python3.10/dist-packages (from python-dateutil>=2.7->matplotlib->wordcloud) (1.16.0)\n",
            "Requirement already satisfied: python-docx in /usr/local/lib/python3.10/dist-packages (1.1.2)\n",
            "Requirement already satisfied: lxml>=3.1.0 in /usr/local/lib/python3.10/dist-packages (from python-docx) (4.9.4)\n",
            "Requirement already satisfied: typing-extensions>=4.9.0 in /usr/local/lib/python3.10/dist-packages (from python-docx) (4.12.2)\n",
            "Requirement already satisfied: ipynb in /usr/local/lib/python3.10/dist-packages (0.5.1)\n",
            "Requirement already satisfied: seaborn in /usr/local/lib/python3.10/dist-packages (0.13.1)\n",
            "Requirement already satisfied: numpy!=1.24.0,>=1.20 in /usr/local/lib/python3.10/dist-packages (from seaborn) (1.26.4)\n",
            "Requirement already satisfied: pandas>=1.2 in /usr/local/lib/python3.10/dist-packages (from seaborn) (2.1.4)\n",
            "Requirement already satisfied: matplotlib!=3.6.1,>=3.4 in /usr/local/lib/python3.10/dist-packages (from seaborn) (3.7.1)\n",
            "Requirement already satisfied: contourpy>=1.0.1 in /usr/local/lib/python3.10/dist-packages (from matplotlib!=3.6.1,>=3.4->seaborn) (1.2.1)\n",
            "Requirement already satisfied: cycler>=0.10 in /usr/local/lib/python3.10/dist-packages (from matplotlib!=3.6.1,>=3.4->seaborn) (0.12.1)\n",
            "Requirement already satisfied: fonttools>=4.22.0 in /usr/local/lib/python3.10/dist-packages (from matplotlib!=3.6.1,>=3.4->seaborn) (4.53.1)\n",
            "Requirement already satisfied: kiwisolver>=1.0.1 in /usr/local/lib/python3.10/dist-packages (from matplotlib!=3.6.1,>=3.4->seaborn) (1.4.5)\n",
            "Requirement already satisfied: packaging>=20.0 in /usr/local/lib/python3.10/dist-packages (from matplotlib!=3.6.1,>=3.4->seaborn) (24.1)\n",
            "Requirement already satisfied: pillow>=6.2.0 in /usr/local/lib/python3.10/dist-packages (from matplotlib!=3.6.1,>=3.4->seaborn) (9.4.0)\n",
            "Requirement already satisfied: pyparsing>=2.3.1 in /usr/local/lib/python3.10/dist-packages (from matplotlib!=3.6.1,>=3.4->seaborn) (3.1.4)\n",
            "Requirement already satisfied: python-dateutil>=2.7 in /usr/local/lib/python3.10/dist-packages (from matplotlib!=3.6.1,>=3.4->seaborn) (2.8.2)\n",
            "Requirement already satisfied: pytz>=2020.1 in /usr/local/lib/python3.10/dist-packages (from pandas>=1.2->seaborn) (2024.1)\n",
            "Requirement already satisfied: tzdata>=2022.1 in /usr/local/lib/python3.10/dist-packages (from pandas>=1.2->seaborn) (2024.1)\n",
            "Requirement already satisfied: six>=1.5 in /usr/local/lib/python3.10/dist-packages (from python-dateutil>=2.7->matplotlib!=3.6.1,>=3.4->seaborn) (1.16.0)\n",
            "Requirement already satisfied: unidecode in /usr/local/lib/python3.10/dist-packages (1.3.8)\n",
            "Requirement already satisfied: python-docx in /usr/local/lib/python3.10/dist-packages (1.1.2)\n",
            "Requirement already satisfied: lxml>=3.1.0 in /usr/local/lib/python3.10/dist-packages (from python-docx) (4.9.4)\n",
            "Requirement already satisfied: typing-extensions>=4.9.0 in /usr/local/lib/python3.10/dist-packages (from python-docx) (4.12.2)\n"
          ]
        }
      ],
      "source": [
        "!pip install scikit-learn\n",
        "!pip install pandas\n",
        "!pip install emoji\n",
        "!pip install num2words\n",
        "!pip install nltk\n",
        "!pip install matplotlib\n",
        "!pip install wordcloud\n",
        "!pip install python-docx\n",
        "!pip install ipynb\n",
        "!pip install seaborn\n",
        "!pip install unidecode\n",
        "!pip install python-docx\n",
        "import docx"
      ]
    },
    {
      "cell_type": "code",
      "execution_count": null,
      "id": "9b2289f8",
      "metadata": {
        "ExecuteTime": {
          "end_time": "2024-06-24T10:47:35.567274Z",
          "start_time": "2024-06-24T10:47:35.523761Z"
        },
        "colab": {
          "base_uri": "https://localhost:8080/"
        },
        "id": "9b2289f8",
        "outputId": "c50f3501-06ca-48cc-a9ed-9f708b2e761a"
      },
      "outputs": [
        {
          "output_type": "stream",
          "name": "stderr",
          "text": [
            "[nltk_data] Downloading package stopwords to /root/nltk_data...\n",
            "[nltk_data]   Package stopwords is already up-to-date!\n",
            "[nltk_data] Downloading package wordnet to /root/nltk_data...\n",
            "[nltk_data]   Package wordnet is already up-to-date!\n",
            "[nltk_data] Downloading package stopwords to /root/nltk_data...\n",
            "[nltk_data]   Package stopwords is already up-to-date!\n",
            "[nltk_data] Downloading package wordnet to /root/nltk_data...\n",
            "[nltk_data]   Package wordnet is already up-to-date!\n"
          ]
        }
      ],
      "source": [
        "import json\n",
        "import pandas as pd\n",
        "from sklearn.model_selection import train_test_split\n",
        "import re\n",
        "import emoji\n",
        "from num2words import num2words\n",
        "import nltk\n",
        "from nltk.corpus import stopwords\n",
        "from nltk.stem import WordNetLemmatizer\n",
        "from nltk.stem import PorterStemmer\n",
        "from sklearn.feature_extraction.text import TfidfVectorizer\n",
        "from sklearn.linear_model import LogisticRegression\n",
        "from sklearn.pipeline import make_pipeline\n",
        "from sklearn.metrics import accuracy_score, classification_report\n",
        "nltk.download('stopwords')\n",
        "nltk.download('wordnet')\n",
        "import numpy as np\n",
        "import matplotlib.pyplot as plt\n",
        "from collections import defaultdict\n",
        "from collections import Counter\n",
        "from matplotlib import colors\n",
        "from wordcloud import WordCloud\n",
        "from sklearn import metrics\n",
        "import docx\n",
        "from ipynb.fs.full.preprocessor_class import Preprocessor\n",
        "from sklearn.metrics import classification_report\n",
        "import seaborn as sns\n",
        "from sklearn.metrics import confusion_matrix\n",
        "from sklearn.metrics import classification_report\n"
      ]
    },
    {
      "cell_type": "code",
      "execution_count": null,
      "id": "497679b4",
      "metadata": {
        "ExecuteTime": {
          "end_time": "2024-06-24T10:47:35.835959Z",
          "start_time": "2024-06-24T10:47:35.569276Z"
        },
        "colab": {
          "base_uri": "https://localhost:8080/"
        },
        "id": "497679b4",
        "outputId": "f13b4543-eb83-4fe8-cf75-501183a2fa39"
      },
      "outputs": [
        {
          "output_type": "execute_result",
          "data": {
            "text/plain": [
              "(2100, 1)"
            ]
          },
          "metadata": {},
          "execution_count": 5
        }
      ],
      "source": [
        "train_data = pd.read_csv('data/shuffled_train_data.csv',index_col=None)\n",
        "train_labels = pd.read_csv('data/shuffled_train_labels.csv',index_col=None)\n",
        "\n",
        "test_data = pd.read_csv('data/test_data.csv',index_col=None)\n",
        "test_labels = pd.read_csv('data/test_labels.csv',index_col=None)\n",
        "\n",
        "train_data_plot = pd.read_csv('data/train_data_plot.csv',index_col=None)\n",
        "test_data_plot = pd.read_csv('data/test_data_plot.csv',index_col=None)\n",
        "\n",
        "train_data.shape"
      ]
    },
    {
      "cell_type": "code",
      "execution_count": null,
      "id": "8b40ae40",
      "metadata": {
        "ExecuteTime": {
          "end_time": "2024-06-24T10:47:38.966819Z",
          "start_time": "2024-06-24T10:47:35.836960Z"
        },
        "id": "8b40ae40"
      },
      "outputs": [],
      "source": [
        "preprocessor = Preprocessor(set(stopwords.words('romanian')),None, None, True, True, True, True, False, True, True, True, True, False, False)\n",
        "\n",
        "preprocessed_data = pd.DataFrame(columns=['text'])\n",
        "\n",
        "preprocessed_train_data = pd.DataFrame(columns=['text'])\n",
        "preprocessed_test_data = pd.DataFrame(columns=['text'])\n",
        "\n",
        "preprocessed_train_data['text'] = train_data.apply(lambda row: preprocessor.preprocess(row.iloc[0]), axis = 1)\n",
        "preprocessed_test_data['text'] = test_data.apply(lambda row: preprocessor.preprocess(row.iloc[0]), axis = 1)"
      ]
    },
    {
      "cell_type": "code",
      "execution_count": null,
      "id": "634cb4d9d1e05c58",
      "metadata": {
        "ExecuteTime": {
          "end_time": "2024-06-24T10:47:39.014332Z",
          "start_time": "2024-06-24T10:47:38.970820Z"
        },
        "colab": {
          "base_uri": "https://localhost:8080/",
          "height": 423
        },
        "collapsed": true,
        "id": "634cb4d9d1e05c58",
        "outputId": "87649814-4093-4156-8c4d-f0caf6032273"
      },
      "outputs": [
        {
          "output_type": "execute_result",
          "data": {
            "text/plain": [
              "                                                   text\n",
              "0     mare durere fizica simtita clasa ten stomatolo...\n",
              "1     petitie asf impotriva speculei asiguratorilor ...\n",
              "2     ride sharing plecat proteste redditori masini ...\n",
              "3     apasa trimite refugiat sprit ten salvati gold ...\n",
              "4     politia datoria scurt depus plangere politie m...\n",
              "...                                                 ...\n",
              "1320  sfat buna neboie sfat facut doza vaccin contra...\n",
              "1321  boli mintale soferii tir dn1 locuit an jumatat...\n",
              "1322  freelancer gasesc clienti gasesc client job fr...\n",
              "1323  furata cunostinta spune probe suficiente furat...\n",
              "1324  merita aprofundezi js frontend devs merita inv...\n",
              "\n",
              "[1325 rows x 1 columns]"
            ],
            "text/html": [
              "\n",
              "  <div id=\"df-16fc8204-28d7-4ae7-8f53-3bd923ddfeb4\" class=\"colab-df-container\">\n",
              "    <div>\n",
              "<style scoped>\n",
              "    .dataframe tbody tr th:only-of-type {\n",
              "        vertical-align: middle;\n",
              "    }\n",
              "\n",
              "    .dataframe tbody tr th {\n",
              "        vertical-align: top;\n",
              "    }\n",
              "\n",
              "    .dataframe thead th {\n",
              "        text-align: right;\n",
              "    }\n",
              "</style>\n",
              "<table border=\"1\" class=\"dataframe\">\n",
              "  <thead>\n",
              "    <tr style=\"text-align: right;\">\n",
              "      <th></th>\n",
              "      <th>text</th>\n",
              "    </tr>\n",
              "  </thead>\n",
              "  <tbody>\n",
              "    <tr>\n",
              "      <th>0</th>\n",
              "      <td>mare durere fizica simtita clasa ten stomatolo...</td>\n",
              "    </tr>\n",
              "    <tr>\n",
              "      <th>1</th>\n",
              "      <td>petitie asf impotriva speculei asiguratorilor ...</td>\n",
              "    </tr>\n",
              "    <tr>\n",
              "      <th>2</th>\n",
              "      <td>ride sharing plecat proteste redditori masini ...</td>\n",
              "    </tr>\n",
              "    <tr>\n",
              "      <th>3</th>\n",
              "      <td>apasa trimite refugiat sprit ten salvati gold ...</td>\n",
              "    </tr>\n",
              "    <tr>\n",
              "      <th>4</th>\n",
              "      <td>politia datoria scurt depus plangere politie m...</td>\n",
              "    </tr>\n",
              "    <tr>\n",
              "      <th>...</th>\n",
              "      <td>...</td>\n",
              "    </tr>\n",
              "    <tr>\n",
              "      <th>1320</th>\n",
              "      <td>sfat buna neboie sfat facut doza vaccin contra...</td>\n",
              "    </tr>\n",
              "    <tr>\n",
              "      <th>1321</th>\n",
              "      <td>boli mintale soferii tir dn1 locuit an jumatat...</td>\n",
              "    </tr>\n",
              "    <tr>\n",
              "      <th>1322</th>\n",
              "      <td>freelancer gasesc clienti gasesc client job fr...</td>\n",
              "    </tr>\n",
              "    <tr>\n",
              "      <th>1323</th>\n",
              "      <td>furata cunostinta spune probe suficiente furat...</td>\n",
              "    </tr>\n",
              "    <tr>\n",
              "      <th>1324</th>\n",
              "      <td>merita aprofundezi js frontend devs merita inv...</td>\n",
              "    </tr>\n",
              "  </tbody>\n",
              "</table>\n",
              "<p>1325 rows × 1 columns</p>\n",
              "</div>\n",
              "    <div class=\"colab-df-buttons\">\n",
              "\n",
              "  <div class=\"colab-df-container\">\n",
              "    <button class=\"colab-df-convert\" onclick=\"convertToInteractive('df-16fc8204-28d7-4ae7-8f53-3bd923ddfeb4')\"\n",
              "            title=\"Convert this dataframe to an interactive table.\"\n",
              "            style=\"display:none;\">\n",
              "\n",
              "  <svg xmlns=\"http://www.w3.org/2000/svg\" height=\"24px\" viewBox=\"0 -960 960 960\">\n",
              "    <path d=\"M120-120v-720h720v720H120Zm60-500h600v-160H180v160Zm220 220h160v-160H400v160Zm0 220h160v-160H400v160ZM180-400h160v-160H180v160Zm440 0h160v-160H620v160ZM180-180h160v-160H180v160Zm440 0h160v-160H620v160Z\"/>\n",
              "  </svg>\n",
              "    </button>\n",
              "\n",
              "  <style>\n",
              "    .colab-df-container {\n",
              "      display:flex;\n",
              "      gap: 12px;\n",
              "    }\n",
              "\n",
              "    .colab-df-convert {\n",
              "      background-color: #E8F0FE;\n",
              "      border: none;\n",
              "      border-radius: 50%;\n",
              "      cursor: pointer;\n",
              "      display: none;\n",
              "      fill: #1967D2;\n",
              "      height: 32px;\n",
              "      padding: 0 0 0 0;\n",
              "      width: 32px;\n",
              "    }\n",
              "\n",
              "    .colab-df-convert:hover {\n",
              "      background-color: #E2EBFA;\n",
              "      box-shadow: 0px 1px 2px rgba(60, 64, 67, 0.3), 0px 1px 3px 1px rgba(60, 64, 67, 0.15);\n",
              "      fill: #174EA6;\n",
              "    }\n",
              "\n",
              "    .colab-df-buttons div {\n",
              "      margin-bottom: 4px;\n",
              "    }\n",
              "\n",
              "    [theme=dark] .colab-df-convert {\n",
              "      background-color: #3B4455;\n",
              "      fill: #D2E3FC;\n",
              "    }\n",
              "\n",
              "    [theme=dark] .colab-df-convert:hover {\n",
              "      background-color: #434B5C;\n",
              "      box-shadow: 0px 1px 3px 1px rgba(0, 0, 0, 0.15);\n",
              "      filter: drop-shadow(0px 1px 2px rgba(0, 0, 0, 0.3));\n",
              "      fill: #FFFFFF;\n",
              "    }\n",
              "  </style>\n",
              "\n",
              "    <script>\n",
              "      const buttonEl =\n",
              "        document.querySelector('#df-16fc8204-28d7-4ae7-8f53-3bd923ddfeb4 button.colab-df-convert');\n",
              "      buttonEl.style.display =\n",
              "        google.colab.kernel.accessAllowed ? 'block' : 'none';\n",
              "\n",
              "      async function convertToInteractive(key) {\n",
              "        const element = document.querySelector('#df-16fc8204-28d7-4ae7-8f53-3bd923ddfeb4');\n",
              "        const dataTable =\n",
              "          await google.colab.kernel.invokeFunction('convertToInteractive',\n",
              "                                                    [key], {});\n",
              "        if (!dataTable) return;\n",
              "\n",
              "        const docLinkHtml = 'Like what you see? Visit the ' +\n",
              "          '<a target=\"_blank\" href=https://colab.research.google.com/notebooks/data_table.ipynb>data table notebook</a>'\n",
              "          + ' to learn more about interactive tables.';\n",
              "        element.innerHTML = '';\n",
              "        dataTable['output_type'] = 'display_data';\n",
              "        await google.colab.output.renderOutput(dataTable, element);\n",
              "        const docLink = document.createElement('div');\n",
              "        docLink.innerHTML = docLinkHtml;\n",
              "        element.appendChild(docLink);\n",
              "      }\n",
              "    </script>\n",
              "  </div>\n",
              "\n",
              "\n",
              "<div id=\"df-17948bd9-ed19-497d-89a9-b9b1d1de32c0\">\n",
              "  <button class=\"colab-df-quickchart\" onclick=\"quickchart('df-17948bd9-ed19-497d-89a9-b9b1d1de32c0')\"\n",
              "            title=\"Suggest charts\"\n",
              "            style=\"display:none;\">\n",
              "\n",
              "<svg xmlns=\"http://www.w3.org/2000/svg\" height=\"24px\"viewBox=\"0 0 24 24\"\n",
              "     width=\"24px\">\n",
              "    <g>\n",
              "        <path d=\"M19 3H5c-1.1 0-2 .9-2 2v14c0 1.1.9 2 2 2h14c1.1 0 2-.9 2-2V5c0-1.1-.9-2-2-2zM9 17H7v-7h2v7zm4 0h-2V7h2v10zm4 0h-2v-4h2v4z\"/>\n",
              "    </g>\n",
              "</svg>\n",
              "  </button>\n",
              "\n",
              "<style>\n",
              "  .colab-df-quickchart {\n",
              "      --bg-color: #E8F0FE;\n",
              "      --fill-color: #1967D2;\n",
              "      --hover-bg-color: #E2EBFA;\n",
              "      --hover-fill-color: #174EA6;\n",
              "      --disabled-fill-color: #AAA;\n",
              "      --disabled-bg-color: #DDD;\n",
              "  }\n",
              "\n",
              "  [theme=dark] .colab-df-quickchart {\n",
              "      --bg-color: #3B4455;\n",
              "      --fill-color: #D2E3FC;\n",
              "      --hover-bg-color: #434B5C;\n",
              "      --hover-fill-color: #FFFFFF;\n",
              "      --disabled-bg-color: #3B4455;\n",
              "      --disabled-fill-color: #666;\n",
              "  }\n",
              "\n",
              "  .colab-df-quickchart {\n",
              "    background-color: var(--bg-color);\n",
              "    border: none;\n",
              "    border-radius: 50%;\n",
              "    cursor: pointer;\n",
              "    display: none;\n",
              "    fill: var(--fill-color);\n",
              "    height: 32px;\n",
              "    padding: 0;\n",
              "    width: 32px;\n",
              "  }\n",
              "\n",
              "  .colab-df-quickchart:hover {\n",
              "    background-color: var(--hover-bg-color);\n",
              "    box-shadow: 0 1px 2px rgba(60, 64, 67, 0.3), 0 1px 3px 1px rgba(60, 64, 67, 0.15);\n",
              "    fill: var(--button-hover-fill-color);\n",
              "  }\n",
              "\n",
              "  .colab-df-quickchart-complete:disabled,\n",
              "  .colab-df-quickchart-complete:disabled:hover {\n",
              "    background-color: var(--disabled-bg-color);\n",
              "    fill: var(--disabled-fill-color);\n",
              "    box-shadow: none;\n",
              "  }\n",
              "\n",
              "  .colab-df-spinner {\n",
              "    border: 2px solid var(--fill-color);\n",
              "    border-color: transparent;\n",
              "    border-bottom-color: var(--fill-color);\n",
              "    animation:\n",
              "      spin 1s steps(1) infinite;\n",
              "  }\n",
              "\n",
              "  @keyframes spin {\n",
              "    0% {\n",
              "      border-color: transparent;\n",
              "      border-bottom-color: var(--fill-color);\n",
              "      border-left-color: var(--fill-color);\n",
              "    }\n",
              "    20% {\n",
              "      border-color: transparent;\n",
              "      border-left-color: var(--fill-color);\n",
              "      border-top-color: var(--fill-color);\n",
              "    }\n",
              "    30% {\n",
              "      border-color: transparent;\n",
              "      border-left-color: var(--fill-color);\n",
              "      border-top-color: var(--fill-color);\n",
              "      border-right-color: var(--fill-color);\n",
              "    }\n",
              "    40% {\n",
              "      border-color: transparent;\n",
              "      border-right-color: var(--fill-color);\n",
              "      border-top-color: var(--fill-color);\n",
              "    }\n",
              "    60% {\n",
              "      border-color: transparent;\n",
              "      border-right-color: var(--fill-color);\n",
              "    }\n",
              "    80% {\n",
              "      border-color: transparent;\n",
              "      border-right-color: var(--fill-color);\n",
              "      border-bottom-color: var(--fill-color);\n",
              "    }\n",
              "    90% {\n",
              "      border-color: transparent;\n",
              "      border-bottom-color: var(--fill-color);\n",
              "    }\n",
              "  }\n",
              "</style>\n",
              "\n",
              "  <script>\n",
              "    async function quickchart(key) {\n",
              "      const quickchartButtonEl =\n",
              "        document.querySelector('#' + key + ' button');\n",
              "      quickchartButtonEl.disabled = true;  // To prevent multiple clicks.\n",
              "      quickchartButtonEl.classList.add('colab-df-spinner');\n",
              "      try {\n",
              "        const charts = await google.colab.kernel.invokeFunction(\n",
              "            'suggestCharts', [key], {});\n",
              "      } catch (error) {\n",
              "        console.error('Error during call to suggestCharts:', error);\n",
              "      }\n",
              "      quickchartButtonEl.classList.remove('colab-df-spinner');\n",
              "      quickchartButtonEl.classList.add('colab-df-quickchart-complete');\n",
              "    }\n",
              "    (() => {\n",
              "      let quickchartButtonEl =\n",
              "        document.querySelector('#df-17948bd9-ed19-497d-89a9-b9b1d1de32c0 button');\n",
              "      quickchartButtonEl.style.display =\n",
              "        google.colab.kernel.accessAllowed ? 'block' : 'none';\n",
              "    })();\n",
              "  </script>\n",
              "</div>\n",
              "\n",
              "  <div id=\"id_7e1e0ca3-aeca-400b-89fd-954bf642e373\">\n",
              "    <style>\n",
              "      .colab-df-generate {\n",
              "        background-color: #E8F0FE;\n",
              "        border: none;\n",
              "        border-radius: 50%;\n",
              "        cursor: pointer;\n",
              "        display: none;\n",
              "        fill: #1967D2;\n",
              "        height: 32px;\n",
              "        padding: 0 0 0 0;\n",
              "        width: 32px;\n",
              "      }\n",
              "\n",
              "      .colab-df-generate:hover {\n",
              "        background-color: #E2EBFA;\n",
              "        box-shadow: 0px 1px 2px rgba(60, 64, 67, 0.3), 0px 1px 3px 1px rgba(60, 64, 67, 0.15);\n",
              "        fill: #174EA6;\n",
              "      }\n",
              "\n",
              "      [theme=dark] .colab-df-generate {\n",
              "        background-color: #3B4455;\n",
              "        fill: #D2E3FC;\n",
              "      }\n",
              "\n",
              "      [theme=dark] .colab-df-generate:hover {\n",
              "        background-color: #434B5C;\n",
              "        box-shadow: 0px 1px 3px 1px rgba(0, 0, 0, 0.15);\n",
              "        filter: drop-shadow(0px 1px 2px rgba(0, 0, 0, 0.3));\n",
              "        fill: #FFFFFF;\n",
              "      }\n",
              "    </style>\n",
              "    <button class=\"colab-df-generate\" onclick=\"generateWithVariable('preprocessed_test_data')\"\n",
              "            title=\"Generate code using this dataframe.\"\n",
              "            style=\"display:none;\">\n",
              "\n",
              "  <svg xmlns=\"http://www.w3.org/2000/svg\" height=\"24px\"viewBox=\"0 0 24 24\"\n",
              "       width=\"24px\">\n",
              "    <path d=\"M7,19H8.4L18.45,9,17,7.55,7,17.6ZM5,21V16.75L18.45,3.32a2,2,0,0,1,2.83,0l1.4,1.43a1.91,1.91,0,0,1,.58,1.4,1.91,1.91,0,0,1-.58,1.4L9.25,21ZM18.45,9,17,7.55Zm-12,3A5.31,5.31,0,0,0,4.9,8.1,5.31,5.31,0,0,0,1,6.5,5.31,5.31,0,0,0,4.9,4.9,5.31,5.31,0,0,0,6.5,1,5.31,5.31,0,0,0,8.1,4.9,5.31,5.31,0,0,0,12,6.5,5.46,5.46,0,0,0,6.5,12Z\"/>\n",
              "  </svg>\n",
              "    </button>\n",
              "    <script>\n",
              "      (() => {\n",
              "      const buttonEl =\n",
              "        document.querySelector('#id_7e1e0ca3-aeca-400b-89fd-954bf642e373 button.colab-df-generate');\n",
              "      buttonEl.style.display =\n",
              "        google.colab.kernel.accessAllowed ? 'block' : 'none';\n",
              "\n",
              "      buttonEl.onclick = () => {\n",
              "        google.colab.notebook.generateWithVariable('preprocessed_test_data');\n",
              "      }\n",
              "      })();\n",
              "    </script>\n",
              "  </div>\n",
              "\n",
              "    </div>\n",
              "  </div>\n"
            ],
            "application/vnd.google.colaboratory.intrinsic+json": {
              "type": "dataframe",
              "variable_name": "preprocessed_test_data",
              "summary": "{\n  \"name\": \"preprocessed_test_data\",\n  \"rows\": 1325,\n  \"fields\": [\n    {\n      \"column\": \"text\",\n      \"properties\": {\n        \"dtype\": \"string\",\n        \"num_unique_values\": 1209,\n        \"samples\": [\n          \"vrem construim comunitate gaming procedam departe salut postez speranta gasi persoane pasionate gaming prieten incearca construiasca comunitate gaming cadrul organizeze competitii ofere jocuri gratuite general promoveze sporturile electronice nivel national bugetul promovare modest acopera cateva jocuri giveaway plus reclama sponsorizata luna motivul permis scriu invita urmariti pagina facebook acolo incercam aducem valoare urmaresc cer scuze potrivit posta aveti sugestii utile putea creste comunitatea ajuta gasiti facebook site oficial multumesc\",\n          \"venit mosul principelui nicolae plecat\",\n          \"indecis votez salut ultimul timp informat politica urmaresc cativa tipi vota data decis votez tind nicu stefanita vlad gheorghe reper sanse ultimele sondaje centru dreapta interesat anticoruptie intrarea romaniei schengen tind vlad gheorghe place activitatea tiktok pare extrem populist remarca decat activitatea tiktok retele socializare place nicu stefanuta stanga destul progresist vede pasa comunitate jur activitati campanii misto vazut propuneri impact tarii mandatul cunoaste limbi discurs echilibrat frica axa problemele europei decat coruptia schengen axa energia verde burning topic romania puteti ajutati decide votez\"\n        ],\n        \"semantic_type\": \"\",\n        \"description\": \"\"\n      }\n    }\n  ]\n}"
            }
          },
          "metadata": {},
          "execution_count": 7
        }
      ],
      "source": [
        "preprocessed_test_data['text'] = preprocessed_test_data['text'].apply(lambda x: ' '.join(map(str, x)))\n",
        "preprocessed_test_data"
      ]
    },
    {
      "cell_type": "code",
      "execution_count": null,
      "id": "b9d87689ed9737d9",
      "metadata": {
        "ExecuteTime": {
          "end_time": "2024-06-24T10:47:39.073125Z",
          "start_time": "2024-06-24T10:47:39.016333Z"
        },
        "colab": {
          "base_uri": "https://localhost:8080/",
          "height": 423
        },
        "id": "b9d87689ed9737d9",
        "outputId": "45fbb8e4-caa9-4181-8ab0-d975de9727d2"
      },
      "outputs": [
        {
          "output_type": "execute_result",
          "data": {
            "text/plain": [
              "                                                   text\n",
              "0     rant ajuns cumparam originalul postare tip imp...\n",
              "1     true grit secretul succesului evident ideile c...\n",
              "2     experiente schimbat mentalitatea buna experien...\n",
              "3     subreddit trebui numeasca r depresie casual ti...\n",
              "4     ticalosilor entr acte unchiul scrie decat marc...\n",
              "...                                                 ...\n",
              "2095  mersul sala eticheta mno inceput merg sala tov...\n",
              "2096  maine sala controla emotiile long story short ...\n",
              "2097  stie gasesc granita italiana intors sicilia ma...\n",
              "2098  somn permanenta stiu fac efectiv somn momentul...\n",
              "2099  rodditori programatori oameni buni rog salvati...\n",
              "\n",
              "[2100 rows x 1 columns]"
            ],
            "text/html": [
              "\n",
              "  <div id=\"df-84d68f97-5b4d-49b8-8d3e-6e1f79533e4a\" class=\"colab-df-container\">\n",
              "    <div>\n",
              "<style scoped>\n",
              "    .dataframe tbody tr th:only-of-type {\n",
              "        vertical-align: middle;\n",
              "    }\n",
              "\n",
              "    .dataframe tbody tr th {\n",
              "        vertical-align: top;\n",
              "    }\n",
              "\n",
              "    .dataframe thead th {\n",
              "        text-align: right;\n",
              "    }\n",
              "</style>\n",
              "<table border=\"1\" class=\"dataframe\">\n",
              "  <thead>\n",
              "    <tr style=\"text-align: right;\">\n",
              "      <th></th>\n",
              "      <th>text</th>\n",
              "    </tr>\n",
              "  </thead>\n",
              "  <tbody>\n",
              "    <tr>\n",
              "      <th>0</th>\n",
              "      <td>rant ajuns cumparam originalul postare tip imp...</td>\n",
              "    </tr>\n",
              "    <tr>\n",
              "      <th>1</th>\n",
              "      <td>true grit secretul succesului evident ideile c...</td>\n",
              "    </tr>\n",
              "    <tr>\n",
              "      <th>2</th>\n",
              "      <td>experiente schimbat mentalitatea buna experien...</td>\n",
              "    </tr>\n",
              "    <tr>\n",
              "      <th>3</th>\n",
              "      <td>subreddit trebui numeasca r depresie casual ti...</td>\n",
              "    </tr>\n",
              "    <tr>\n",
              "      <th>4</th>\n",
              "      <td>ticalosilor entr acte unchiul scrie decat marc...</td>\n",
              "    </tr>\n",
              "    <tr>\n",
              "      <th>...</th>\n",
              "      <td>...</td>\n",
              "    </tr>\n",
              "    <tr>\n",
              "      <th>2095</th>\n",
              "      <td>mersul sala eticheta mno inceput merg sala tov...</td>\n",
              "    </tr>\n",
              "    <tr>\n",
              "      <th>2096</th>\n",
              "      <td>maine sala controla emotiile long story short ...</td>\n",
              "    </tr>\n",
              "    <tr>\n",
              "      <th>2097</th>\n",
              "      <td>stie gasesc granita italiana intors sicilia ma...</td>\n",
              "    </tr>\n",
              "    <tr>\n",
              "      <th>2098</th>\n",
              "      <td>somn permanenta stiu fac efectiv somn momentul...</td>\n",
              "    </tr>\n",
              "    <tr>\n",
              "      <th>2099</th>\n",
              "      <td>rodditori programatori oameni buni rog salvati...</td>\n",
              "    </tr>\n",
              "  </tbody>\n",
              "</table>\n",
              "<p>2100 rows × 1 columns</p>\n",
              "</div>\n",
              "    <div class=\"colab-df-buttons\">\n",
              "\n",
              "  <div class=\"colab-df-container\">\n",
              "    <button class=\"colab-df-convert\" onclick=\"convertToInteractive('df-84d68f97-5b4d-49b8-8d3e-6e1f79533e4a')\"\n",
              "            title=\"Convert this dataframe to an interactive table.\"\n",
              "            style=\"display:none;\">\n",
              "\n",
              "  <svg xmlns=\"http://www.w3.org/2000/svg\" height=\"24px\" viewBox=\"0 -960 960 960\">\n",
              "    <path d=\"M120-120v-720h720v720H120Zm60-500h600v-160H180v160Zm220 220h160v-160H400v160Zm0 220h160v-160H400v160ZM180-400h160v-160H180v160Zm440 0h160v-160H620v160ZM180-180h160v-160H180v160Zm440 0h160v-160H620v160Z\"/>\n",
              "  </svg>\n",
              "    </button>\n",
              "\n",
              "  <style>\n",
              "    .colab-df-container {\n",
              "      display:flex;\n",
              "      gap: 12px;\n",
              "    }\n",
              "\n",
              "    .colab-df-convert {\n",
              "      background-color: #E8F0FE;\n",
              "      border: none;\n",
              "      border-radius: 50%;\n",
              "      cursor: pointer;\n",
              "      display: none;\n",
              "      fill: #1967D2;\n",
              "      height: 32px;\n",
              "      padding: 0 0 0 0;\n",
              "      width: 32px;\n",
              "    }\n",
              "\n",
              "    .colab-df-convert:hover {\n",
              "      background-color: #E2EBFA;\n",
              "      box-shadow: 0px 1px 2px rgba(60, 64, 67, 0.3), 0px 1px 3px 1px rgba(60, 64, 67, 0.15);\n",
              "      fill: #174EA6;\n",
              "    }\n",
              "\n",
              "    .colab-df-buttons div {\n",
              "      margin-bottom: 4px;\n",
              "    }\n",
              "\n",
              "    [theme=dark] .colab-df-convert {\n",
              "      background-color: #3B4455;\n",
              "      fill: #D2E3FC;\n",
              "    }\n",
              "\n",
              "    [theme=dark] .colab-df-convert:hover {\n",
              "      background-color: #434B5C;\n",
              "      box-shadow: 0px 1px 3px 1px rgba(0, 0, 0, 0.15);\n",
              "      filter: drop-shadow(0px 1px 2px rgba(0, 0, 0, 0.3));\n",
              "      fill: #FFFFFF;\n",
              "    }\n",
              "  </style>\n",
              "\n",
              "    <script>\n",
              "      const buttonEl =\n",
              "        document.querySelector('#df-84d68f97-5b4d-49b8-8d3e-6e1f79533e4a button.colab-df-convert');\n",
              "      buttonEl.style.display =\n",
              "        google.colab.kernel.accessAllowed ? 'block' : 'none';\n",
              "\n",
              "      async function convertToInteractive(key) {\n",
              "        const element = document.querySelector('#df-84d68f97-5b4d-49b8-8d3e-6e1f79533e4a');\n",
              "        const dataTable =\n",
              "          await google.colab.kernel.invokeFunction('convertToInteractive',\n",
              "                                                    [key], {});\n",
              "        if (!dataTable) return;\n",
              "\n",
              "        const docLinkHtml = 'Like what you see? Visit the ' +\n",
              "          '<a target=\"_blank\" href=https://colab.research.google.com/notebooks/data_table.ipynb>data table notebook</a>'\n",
              "          + ' to learn more about interactive tables.';\n",
              "        element.innerHTML = '';\n",
              "        dataTable['output_type'] = 'display_data';\n",
              "        await google.colab.output.renderOutput(dataTable, element);\n",
              "        const docLink = document.createElement('div');\n",
              "        docLink.innerHTML = docLinkHtml;\n",
              "        element.appendChild(docLink);\n",
              "      }\n",
              "    </script>\n",
              "  </div>\n",
              "\n",
              "\n",
              "<div id=\"df-08c03a61-2915-4433-a7fc-9ace27b62564\">\n",
              "  <button class=\"colab-df-quickchart\" onclick=\"quickchart('df-08c03a61-2915-4433-a7fc-9ace27b62564')\"\n",
              "            title=\"Suggest charts\"\n",
              "            style=\"display:none;\">\n",
              "\n",
              "<svg xmlns=\"http://www.w3.org/2000/svg\" height=\"24px\"viewBox=\"0 0 24 24\"\n",
              "     width=\"24px\">\n",
              "    <g>\n",
              "        <path d=\"M19 3H5c-1.1 0-2 .9-2 2v14c0 1.1.9 2 2 2h14c1.1 0 2-.9 2-2V5c0-1.1-.9-2-2-2zM9 17H7v-7h2v7zm4 0h-2V7h2v10zm4 0h-2v-4h2v4z\"/>\n",
              "    </g>\n",
              "</svg>\n",
              "  </button>\n",
              "\n",
              "<style>\n",
              "  .colab-df-quickchart {\n",
              "      --bg-color: #E8F0FE;\n",
              "      --fill-color: #1967D2;\n",
              "      --hover-bg-color: #E2EBFA;\n",
              "      --hover-fill-color: #174EA6;\n",
              "      --disabled-fill-color: #AAA;\n",
              "      --disabled-bg-color: #DDD;\n",
              "  }\n",
              "\n",
              "  [theme=dark] .colab-df-quickchart {\n",
              "      --bg-color: #3B4455;\n",
              "      --fill-color: #D2E3FC;\n",
              "      --hover-bg-color: #434B5C;\n",
              "      --hover-fill-color: #FFFFFF;\n",
              "      --disabled-bg-color: #3B4455;\n",
              "      --disabled-fill-color: #666;\n",
              "  }\n",
              "\n",
              "  .colab-df-quickchart {\n",
              "    background-color: var(--bg-color);\n",
              "    border: none;\n",
              "    border-radius: 50%;\n",
              "    cursor: pointer;\n",
              "    display: none;\n",
              "    fill: var(--fill-color);\n",
              "    height: 32px;\n",
              "    padding: 0;\n",
              "    width: 32px;\n",
              "  }\n",
              "\n",
              "  .colab-df-quickchart:hover {\n",
              "    background-color: var(--hover-bg-color);\n",
              "    box-shadow: 0 1px 2px rgba(60, 64, 67, 0.3), 0 1px 3px 1px rgba(60, 64, 67, 0.15);\n",
              "    fill: var(--button-hover-fill-color);\n",
              "  }\n",
              "\n",
              "  .colab-df-quickchart-complete:disabled,\n",
              "  .colab-df-quickchart-complete:disabled:hover {\n",
              "    background-color: var(--disabled-bg-color);\n",
              "    fill: var(--disabled-fill-color);\n",
              "    box-shadow: none;\n",
              "  }\n",
              "\n",
              "  .colab-df-spinner {\n",
              "    border: 2px solid var(--fill-color);\n",
              "    border-color: transparent;\n",
              "    border-bottom-color: var(--fill-color);\n",
              "    animation:\n",
              "      spin 1s steps(1) infinite;\n",
              "  }\n",
              "\n",
              "  @keyframes spin {\n",
              "    0% {\n",
              "      border-color: transparent;\n",
              "      border-bottom-color: var(--fill-color);\n",
              "      border-left-color: var(--fill-color);\n",
              "    }\n",
              "    20% {\n",
              "      border-color: transparent;\n",
              "      border-left-color: var(--fill-color);\n",
              "      border-top-color: var(--fill-color);\n",
              "    }\n",
              "    30% {\n",
              "      border-color: transparent;\n",
              "      border-left-color: var(--fill-color);\n",
              "      border-top-color: var(--fill-color);\n",
              "      border-right-color: var(--fill-color);\n",
              "    }\n",
              "    40% {\n",
              "      border-color: transparent;\n",
              "      border-right-color: var(--fill-color);\n",
              "      border-top-color: var(--fill-color);\n",
              "    }\n",
              "    60% {\n",
              "      border-color: transparent;\n",
              "      border-right-color: var(--fill-color);\n",
              "    }\n",
              "    80% {\n",
              "      border-color: transparent;\n",
              "      border-right-color: var(--fill-color);\n",
              "      border-bottom-color: var(--fill-color);\n",
              "    }\n",
              "    90% {\n",
              "      border-color: transparent;\n",
              "      border-bottom-color: var(--fill-color);\n",
              "    }\n",
              "  }\n",
              "</style>\n",
              "\n",
              "  <script>\n",
              "    async function quickchart(key) {\n",
              "      const quickchartButtonEl =\n",
              "        document.querySelector('#' + key + ' button');\n",
              "      quickchartButtonEl.disabled = true;  // To prevent multiple clicks.\n",
              "      quickchartButtonEl.classList.add('colab-df-spinner');\n",
              "      try {\n",
              "        const charts = await google.colab.kernel.invokeFunction(\n",
              "            'suggestCharts', [key], {});\n",
              "      } catch (error) {\n",
              "        console.error('Error during call to suggestCharts:', error);\n",
              "      }\n",
              "      quickchartButtonEl.classList.remove('colab-df-spinner');\n",
              "      quickchartButtonEl.classList.add('colab-df-quickchart-complete');\n",
              "    }\n",
              "    (() => {\n",
              "      let quickchartButtonEl =\n",
              "        document.querySelector('#df-08c03a61-2915-4433-a7fc-9ace27b62564 button');\n",
              "      quickchartButtonEl.style.display =\n",
              "        google.colab.kernel.accessAllowed ? 'block' : 'none';\n",
              "    })();\n",
              "  </script>\n",
              "</div>\n",
              "\n",
              "  <div id=\"id_ab41b7f1-44ac-438d-a197-4e76db973185\">\n",
              "    <style>\n",
              "      .colab-df-generate {\n",
              "        background-color: #E8F0FE;\n",
              "        border: none;\n",
              "        border-radius: 50%;\n",
              "        cursor: pointer;\n",
              "        display: none;\n",
              "        fill: #1967D2;\n",
              "        height: 32px;\n",
              "        padding: 0 0 0 0;\n",
              "        width: 32px;\n",
              "      }\n",
              "\n",
              "      .colab-df-generate:hover {\n",
              "        background-color: #E2EBFA;\n",
              "        box-shadow: 0px 1px 2px rgba(60, 64, 67, 0.3), 0px 1px 3px 1px rgba(60, 64, 67, 0.15);\n",
              "        fill: #174EA6;\n",
              "      }\n",
              "\n",
              "      [theme=dark] .colab-df-generate {\n",
              "        background-color: #3B4455;\n",
              "        fill: #D2E3FC;\n",
              "      }\n",
              "\n",
              "      [theme=dark] .colab-df-generate:hover {\n",
              "        background-color: #434B5C;\n",
              "        box-shadow: 0px 1px 3px 1px rgba(0, 0, 0, 0.15);\n",
              "        filter: drop-shadow(0px 1px 2px rgba(0, 0, 0, 0.3));\n",
              "        fill: #FFFFFF;\n",
              "      }\n",
              "    </style>\n",
              "    <button class=\"colab-df-generate\" onclick=\"generateWithVariable('preprocessed_train_data')\"\n",
              "            title=\"Generate code using this dataframe.\"\n",
              "            style=\"display:none;\">\n",
              "\n",
              "  <svg xmlns=\"http://www.w3.org/2000/svg\" height=\"24px\"viewBox=\"0 0 24 24\"\n",
              "       width=\"24px\">\n",
              "    <path d=\"M7,19H8.4L18.45,9,17,7.55,7,17.6ZM5,21V16.75L18.45,3.32a2,2,0,0,1,2.83,0l1.4,1.43a1.91,1.91,0,0,1,.58,1.4,1.91,1.91,0,0,1-.58,1.4L9.25,21ZM18.45,9,17,7.55Zm-12,3A5.31,5.31,0,0,0,4.9,8.1,5.31,5.31,0,0,0,1,6.5,5.31,5.31,0,0,0,4.9,4.9,5.31,5.31,0,0,0,6.5,1,5.31,5.31,0,0,0,8.1,4.9,5.31,5.31,0,0,0,12,6.5,5.46,5.46,0,0,0,6.5,12Z\"/>\n",
              "  </svg>\n",
              "    </button>\n",
              "    <script>\n",
              "      (() => {\n",
              "      const buttonEl =\n",
              "        document.querySelector('#id_ab41b7f1-44ac-438d-a197-4e76db973185 button.colab-df-generate');\n",
              "      buttonEl.style.display =\n",
              "        google.colab.kernel.accessAllowed ? 'block' : 'none';\n",
              "\n",
              "      buttonEl.onclick = () => {\n",
              "        google.colab.notebook.generateWithVariable('preprocessed_train_data');\n",
              "      }\n",
              "      })();\n",
              "    </script>\n",
              "  </div>\n",
              "\n",
              "    </div>\n",
              "  </div>\n"
            ],
            "application/vnd.google.colaboratory.intrinsic+json": {
              "type": "dataframe",
              "variable_name": "preprocessed_train_data",
              "summary": "{\n  \"name\": \"preprocessed_train_data\",\n  \"rows\": 2100,\n  \"fields\": [\n    {\n      \"column\": \"text\",\n      \"properties\": {\n        \"dtype\": \"string\",\n        \"num_unique_values\": 1919,\n        \"samples\": [\n          \"concediu medical psiholog salut recent reinceput duc psholog acu partea proasta tanti vedem ora trebui iau liber munca juma liber pranz fac forty minute pana forty minute lua concediu medical posibilitate gandesc urmatoarea duc psihiatru medic recomanda terapia concediu vreau mananc zilele concediu partea nasoala vre two saptamani termina proiectul stiu pm acum bomboana om urmatorul habar\",\n          \"hard to swallow pill romanii popor ospitalier putin parte degeaba laudam usa deschisa musafiri primim paine sare s pus problema ajutorarii refugiatilor ucrainieni romanache s aprins domle dea romini vin fac prapad aicea dece parlamentari cere acasa lista continua ospitalieri preteaza avantaj financiar imagine castigat haini lipsiti empatie lucru demonstrat continuu societatea romaneasca\",\n          \"cultul interlopilor romania vreau atrag atentia probleme sociale romania presa discuta parte problema romania problema serioasa criminalitatea organizata mediatizarea lumina senzationalista acesteia aminteste tarile america sud cartelurile degeaba zis sisu personaj simpatic fine romania micul mexic murit florin mototolea zis emi pian folosesc limbajul adecvat presa facut priveghi decat neagu djuvara mihai vorba cancan presa pretinde quality ion titisor zis fane spoitoru dani mocanu ode astora three milioane subscriberi acum ani nelson mondialu canalul uitau copiii apucau l imite aiurea strada increngaturile politica problema fratele presedintelui nasit amantele acum parlament dragnea cheama apere curtea suprema altele nasol exista nicio initiativa opri trendul probleme exemplu coruptia macar pus acord societate pute trebuie scapam scoate piesa politician corupt satira scoate piesa interlop balada carte miram bombardieri modelele poti astepti stai vezi fac mari canta dani mocanu gradinita presedinte cunoastem bine porecla sef clan thanks for coming to my ted talk\"\n        ],\n        \"semantic_type\": \"\",\n        \"description\": \"\"\n      }\n    }\n  ]\n}"
            }
          },
          "metadata": {},
          "execution_count": 8
        }
      ],
      "source": [
        "preprocessed_train_data['text'] = preprocessed_train_data['text'].apply(lambda x: ' '.join(map(str, x)))\n",
        "preprocessed_train_data"
      ]
    },
    {
      "cell_type": "code",
      "execution_count": null,
      "id": "4afd2afd-07cd-4d59-acd3-500c30fd8a54",
      "metadata": {
        "id": "4afd2afd-07cd-4d59-acd3-500c30fd8a54"
      },
      "outputs": [],
      "source": [
        "import pandas as pd\n",
        "import numpy as np\n",
        "import seaborn as sns\n",
        "from sklearn.preprocessing import StandardScaler\n",
        "from imblearn.under_sampling import RandomUnderSampler, TomekLinks\n",
        "from imblearn.over_sampling import RandomOverSampler, SMOTE"
      ]
    },
    {
      "source": [
        "#hyperparametrization\n",
        "\n",
        "best_f1 = 0\n",
        "chosen_parameters = {}\n",
        "data = []\n",
        "for max_features in [3000, 5000]:\n",
        "  for n_gram in [(1, 1), (1, 2), (1, 3)]:\n",
        "    for solver in ['lbfgs', 'liblinear', 'newton-cg', 'newton-cholesky', 'sag', 'saga']:\n",
        "      for tol in [5, 0.3, 3]:\n",
        "        for C in [0.1, 0.3, 3, 10]:\n",
        "            #initiate the TfidfVectorizer\n",
        "            tfidf = TfidfVectorizer(max_features = max_features, ngram_range = n_gram)\n",
        "\n",
        "            #convert the training and validation data to tf-idf indexes\n",
        "            X_train_tfidf = tfidf.fit_transform(preprocessed_train_data['text']) # Fit and transform on text column\n",
        "            X_test_tfidf = tfidf.transform(preprocessed_test_data[\"text\"])\n",
        "\n",
        "            # Apply SMOTE on the tfidf representation\n",
        "            X_res, y_res = sm.fit_resample(X_train_tfidf, train_labels) # Use tfidf data for SMOTE\n",
        "\n",
        "            sm = SMOTE(random_state=42)\n",
        "            model = LogisticRegression(solver = solver, tol = tol, C = C)\n",
        "\n",
        "            model.fit(X_res, y_res)\n",
        "            predictions = model.predict(X_test_tfidf)\n",
        "\n",
        "            f1 = metrics.f1_score(test_labels['label'], predictions, average = 'macro')\n",
        "            print(classification_report(test_labels['label'], predictions))\n",
        "            print('max_features: {} n_gram: {}  solver: {}  tol: {}  C: {}  f1: {}'.format(max_features, n_gram, solver, tol, C, f1))\n",
        "            data.append({\n",
        "              \"max_features\": max_features,\n",
        "              \"solver\": solver,\n",
        "              \"tol\": tol,\n",
        "              \"C\": C,\n",
        "              \"n_gram\": n_gram,\n",
        "              \"f1\": f1\n",
        "            })\n",
        "            if f1 > best_f1:\n",
        "                best_f1 = f1\n",
        "                chosen_parameters[\"max_features\"] = max_features\n",
        "                chosen_parameters[\"n_gram\"] = n_gram\n",
        "                chosen_parameters[\"solver\"] = solver\n",
        "                chosen_parameters[\"tol\"] = tol\n",
        "                chosen_parameters[\"C\"] = C\n",
        "\n",
        "print(best_f1)\n",
        "print(chosen_parameters)"
      ],
      "cell_type": "code",
      "metadata": {
        "colab": {
          "base_uri": "https://localhost:8080/"
        },
        "id": "XY9EP-a_q7ri",
        "outputId": "526f7cc8-04cc-47b2-aacf-2991aabe1678"
      },
      "id": "XY9EP-a_q7ri",
      "execution_count": null,
      "outputs": [
        {
          "output_type": "stream",
          "name": "stderr",
          "text": [
            "/usr/local/lib/python3.10/dist-packages/sklearn/utils/validation.py:1183: DataConversionWarning: A column-vector y was passed when a 1d array was expected. Please change the shape of y to (n_samples, ), for example using ravel().\n",
            "  y = column_or_1d(y, warn=True)\n"
          ]
        },
        {
          "output_type": "stream",
          "name": "stdout",
          "text": [
            "                     precision    recall  f1-score   support\n",
            "\n",
            "      no_depression       0.83      0.78      0.80      1000\n",
            "possible_depression       0.31      0.36      0.33       250\n",
            "    true_depression       0.23      0.29      0.26        75\n",
            "\n",
            "           accuracy                           0.67      1325\n",
            "          macro avg       0.45      0.48      0.46      1325\n",
            "       weighted avg       0.70      0.67      0.68      1325\n",
            "\n",
            "max_features: 3000 n_gram: (1, 1)  solver: lbfgs  tol: 5  C: 0.1  f1: 0.4627797526422735\n"
          ]
        },
        {
          "output_type": "stream",
          "name": "stderr",
          "text": [
            "/usr/local/lib/python3.10/dist-packages/sklearn/utils/validation.py:1183: DataConversionWarning: A column-vector y was passed when a 1d array was expected. Please change the shape of y to (n_samples, ), for example using ravel().\n",
            "  y = column_or_1d(y, warn=True)\n"
          ]
        },
        {
          "output_type": "stream",
          "name": "stdout",
          "text": [
            "                     precision    recall  f1-score   support\n",
            "\n",
            "      no_depression       0.83      0.79      0.81      1000\n",
            "possible_depression       0.30      0.36      0.33       250\n",
            "    true_depression       0.20      0.19      0.19        75\n",
            "\n",
            "           accuracy                           0.67      1325\n",
            "          macro avg       0.44      0.45      0.44      1325\n",
            "       weighted avg       0.69      0.67      0.68      1325\n",
            "\n",
            "max_features: 3000 n_gram: (1, 1)  solver: lbfgs  tol: 5  C: 0.3  f1: 0.4428218793249468\n"
          ]
        },
        {
          "output_type": "stream",
          "name": "stderr",
          "text": [
            "/usr/local/lib/python3.10/dist-packages/sklearn/utils/validation.py:1183: DataConversionWarning: A column-vector y was passed when a 1d array was expected. Please change the shape of y to (n_samples, ), for example using ravel().\n",
            "  y = column_or_1d(y, warn=True)\n"
          ]
        },
        {
          "output_type": "stream",
          "name": "stdout",
          "text": [
            "                     precision    recall  f1-score   support\n",
            "\n",
            "      no_depression       0.82      0.80      0.81      1000\n",
            "possible_depression       0.30      0.36      0.33       250\n",
            "    true_depression       0.20      0.13      0.16        75\n",
            "\n",
            "           accuracy                           0.68      1325\n",
            "          macro avg       0.44      0.43      0.43      1325\n",
            "       weighted avg       0.69      0.68      0.68      1325\n",
            "\n",
            "max_features: 3000 n_gram: (1, 1)  solver: lbfgs  tol: 5  C: 3  f1: 0.43264826175416843\n"
          ]
        },
        {
          "output_type": "stream",
          "name": "stderr",
          "text": [
            "/usr/local/lib/python3.10/dist-packages/sklearn/utils/validation.py:1183: DataConversionWarning: A column-vector y was passed when a 1d array was expected. Please change the shape of y to (n_samples, ), for example using ravel().\n",
            "  y = column_or_1d(y, warn=True)\n"
          ]
        },
        {
          "output_type": "stream",
          "name": "stdout",
          "text": [
            "                     precision    recall  f1-score   support\n",
            "\n",
            "      no_depression       0.82      0.80      0.81      1000\n",
            "possible_depression       0.31      0.37      0.34       250\n",
            "    true_depression       0.22      0.13      0.17        75\n",
            "\n",
            "           accuracy                           0.68      1325\n",
            "          macro avg       0.45      0.44      0.44      1325\n",
            "       weighted avg       0.69      0.68      0.68      1325\n",
            "\n",
            "max_features: 3000 n_gram: (1, 1)  solver: lbfgs  tol: 5  C: 10  f1: 0.437184269597436\n"
          ]
        },
        {
          "output_type": "stream",
          "name": "stderr",
          "text": [
            "/usr/local/lib/python3.10/dist-packages/sklearn/utils/validation.py:1183: DataConversionWarning: A column-vector y was passed when a 1d array was expected. Please change the shape of y to (n_samples, ), for example using ravel().\n",
            "  y = column_or_1d(y, warn=True)\n"
          ]
        },
        {
          "output_type": "stream",
          "name": "stdout",
          "text": [
            "                     precision    recall  f1-score   support\n",
            "\n",
            "      no_depression       0.83      0.78      0.80      1000\n",
            "possible_depression       0.31      0.36      0.33       250\n",
            "    true_depression       0.22      0.28      0.25        75\n",
            "\n",
            "           accuracy                           0.67      1325\n",
            "          macro avg       0.45      0.47      0.46      1325\n",
            "       weighted avg       0.70      0.67      0.68      1325\n",
            "\n",
            "max_features: 3000 n_gram: (1, 1)  solver: lbfgs  tol: 0.3  C: 0.1  f1: 0.4610236537067949\n"
          ]
        },
        {
          "output_type": "stream",
          "name": "stderr",
          "text": [
            "/usr/local/lib/python3.10/dist-packages/sklearn/utils/validation.py:1183: DataConversionWarning: A column-vector y was passed when a 1d array was expected. Please change the shape of y to (n_samples, ), for example using ravel().\n",
            "  y = column_or_1d(y, warn=True)\n"
          ]
        },
        {
          "output_type": "stream",
          "name": "stdout",
          "text": [
            "                     precision    recall  f1-score   support\n",
            "\n",
            "      no_depression       0.83      0.79      0.81      1000\n",
            "possible_depression       0.30      0.36      0.33       250\n",
            "    true_depression       0.19      0.17      0.18        75\n",
            "\n",
            "           accuracy                           0.67      1325\n",
            "          macro avg       0.44      0.44      0.44      1325\n",
            "       weighted avg       0.69      0.67      0.68      1325\n",
            "\n",
            "max_features: 3000 n_gram: (1, 1)  solver: lbfgs  tol: 0.3  C: 0.3  f1: 0.43829898571241327\n"
          ]
        },
        {
          "output_type": "stream",
          "name": "stderr",
          "text": [
            "/usr/local/lib/python3.10/dist-packages/sklearn/utils/validation.py:1183: DataConversionWarning: A column-vector y was passed when a 1d array was expected. Please change the shape of y to (n_samples, ), for example using ravel().\n",
            "  y = column_or_1d(y, warn=True)\n"
          ]
        },
        {
          "output_type": "stream",
          "name": "stdout",
          "text": [
            "                     precision    recall  f1-score   support\n",
            "\n",
            "      no_depression       0.82      0.80      0.81      1000\n",
            "possible_depression       0.30      0.36      0.33       250\n",
            "    true_depression       0.20      0.13      0.16        75\n",
            "\n",
            "           accuracy                           0.68      1325\n",
            "          macro avg       0.44      0.43      0.43      1325\n",
            "       weighted avg       0.69      0.68      0.68      1325\n",
            "\n",
            "max_features: 3000 n_gram: (1, 1)  solver: lbfgs  tol: 0.3  C: 3  f1: 0.43321475180639113\n"
          ]
        },
        {
          "output_type": "stream",
          "name": "stderr",
          "text": [
            "/usr/local/lib/python3.10/dist-packages/sklearn/utils/validation.py:1183: DataConversionWarning: A column-vector y was passed when a 1d array was expected. Please change the shape of y to (n_samples, ), for example using ravel().\n",
            "  y = column_or_1d(y, warn=True)\n"
          ]
        },
        {
          "output_type": "stream",
          "name": "stdout",
          "text": [
            "                     precision    recall  f1-score   support\n",
            "\n",
            "      no_depression       0.82      0.79      0.80      1000\n",
            "possible_depression       0.29      0.36      0.32       250\n",
            "    true_depression       0.24      0.15      0.18        75\n",
            "\n",
            "           accuracy                           0.67      1325\n",
            "          macro avg       0.45      0.43      0.44      1325\n",
            "       weighted avg       0.69      0.67      0.68      1325\n",
            "\n",
            "max_features: 3000 n_gram: (1, 1)  solver: lbfgs  tol: 0.3  C: 10  f1: 0.43656354239566725\n"
          ]
        },
        {
          "output_type": "stream",
          "name": "stderr",
          "text": [
            "/usr/local/lib/python3.10/dist-packages/sklearn/utils/validation.py:1183: DataConversionWarning: A column-vector y was passed when a 1d array was expected. Please change the shape of y to (n_samples, ), for example using ravel().\n",
            "  y = column_or_1d(y, warn=True)\n"
          ]
        },
        {
          "output_type": "stream",
          "name": "stdout",
          "text": [
            "                     precision    recall  f1-score   support\n",
            "\n",
            "      no_depression       0.83      0.78      0.80      1000\n",
            "possible_depression       0.31      0.36      0.33       250\n",
            "    true_depression       0.23      0.29      0.26        75\n",
            "\n",
            "           accuracy                           0.67      1325\n",
            "          macro avg       0.45      0.48      0.46      1325\n",
            "       weighted avg       0.70      0.67      0.68      1325\n",
            "\n",
            "max_features: 3000 n_gram: (1, 1)  solver: lbfgs  tol: 3  C: 0.1  f1: 0.4627797526422735\n"
          ]
        },
        {
          "output_type": "stream",
          "name": "stderr",
          "text": [
            "/usr/local/lib/python3.10/dist-packages/sklearn/utils/validation.py:1183: DataConversionWarning: A column-vector y was passed when a 1d array was expected. Please change the shape of y to (n_samples, ), for example using ravel().\n",
            "  y = column_or_1d(y, warn=True)\n"
          ]
        },
        {
          "output_type": "stream",
          "name": "stdout",
          "text": [
            "                     precision    recall  f1-score   support\n",
            "\n",
            "      no_depression       0.83      0.79      0.81      1000\n",
            "possible_depression       0.30      0.36      0.33       250\n",
            "    true_depression       0.20      0.19      0.19        75\n",
            "\n",
            "           accuracy                           0.67      1325\n",
            "          macro avg       0.44      0.45      0.44      1325\n",
            "       weighted avg       0.69      0.67      0.68      1325\n",
            "\n",
            "max_features: 3000 n_gram: (1, 1)  solver: lbfgs  tol: 3  C: 0.3  f1: 0.4428218793249468\n"
          ]
        },
        {
          "output_type": "stream",
          "name": "stderr",
          "text": [
            "/usr/local/lib/python3.10/dist-packages/sklearn/utils/validation.py:1183: DataConversionWarning: A column-vector y was passed when a 1d array was expected. Please change the shape of y to (n_samples, ), for example using ravel().\n",
            "  y = column_or_1d(y, warn=True)\n"
          ]
        },
        {
          "output_type": "stream",
          "name": "stdout",
          "text": [
            "                     precision    recall  f1-score   support\n",
            "\n",
            "      no_depression       0.82      0.80      0.81      1000\n",
            "possible_depression       0.30      0.37      0.33       250\n",
            "    true_depression       0.20      0.13      0.16        75\n",
            "\n",
            "           accuracy                           0.68      1325\n",
            "          macro avg       0.44      0.43      0.43      1325\n",
            "       weighted avg       0.69      0.68      0.68      1325\n",
            "\n",
            "max_features: 3000 n_gram: (1, 1)  solver: lbfgs  tol: 3  C: 3  f1: 0.43465166455031473\n"
          ]
        },
        {
          "output_type": "stream",
          "name": "stderr",
          "text": [
            "/usr/local/lib/python3.10/dist-packages/sklearn/utils/validation.py:1183: DataConversionWarning: A column-vector y was passed when a 1d array was expected. Please change the shape of y to (n_samples, ), for example using ravel().\n",
            "  y = column_or_1d(y, warn=True)\n"
          ]
        },
        {
          "output_type": "stream",
          "name": "stdout",
          "text": [
            "                     precision    recall  f1-score   support\n",
            "\n",
            "      no_depression       0.82      0.80      0.81      1000\n",
            "possible_depression       0.30      0.37      0.34       250\n",
            "    true_depression       0.22      0.13      0.17        75\n",
            "\n",
            "           accuracy                           0.68      1325\n",
            "          macro avg       0.45      0.44      0.44      1325\n",
            "       weighted avg       0.69      0.68      0.68      1325\n",
            "\n",
            "max_features: 3000 n_gram: (1, 1)  solver: lbfgs  tol: 3  C: 10  f1: 0.4373094613600943\n"
          ]
        },
        {
          "output_type": "stream",
          "name": "stderr",
          "text": [
            "/usr/local/lib/python3.10/dist-packages/sklearn/utils/validation.py:1183: DataConversionWarning: A column-vector y was passed when a 1d array was expected. Please change the shape of y to (n_samples, ), for example using ravel().\n",
            "  y = column_or_1d(y, warn=True)\n",
            "/usr/local/lib/python3.10/dist-packages/sklearn/metrics/_classification.py:1471: UndefinedMetricWarning: Precision and F-score are ill-defined and being set to 0.0 in labels with no predicted samples. Use `zero_division` parameter to control this behavior.\n",
            "  _warn_prf(average, modifier, msg_start, len(result))\n",
            "/usr/local/lib/python3.10/dist-packages/sklearn/metrics/_classification.py:1471: UndefinedMetricWarning: Precision and F-score are ill-defined and being set to 0.0 in labels with no predicted samples. Use `zero_division` parameter to control this behavior.\n",
            "  _warn_prf(average, modifier, msg_start, len(result))\n",
            "/usr/local/lib/python3.10/dist-packages/sklearn/metrics/_classification.py:1471: UndefinedMetricWarning: Precision and F-score are ill-defined and being set to 0.0 in labels with no predicted samples. Use `zero_division` parameter to control this behavior.\n",
            "  _warn_prf(average, modifier, msg_start, len(result))\n"
          ]
        },
        {
          "output_type": "stream",
          "name": "stdout",
          "text": [
            "                     precision    recall  f1-score   support\n",
            "\n",
            "      no_depression       0.75      1.00      0.86      1000\n",
            "possible_depression       0.00      0.00      0.00       250\n",
            "    true_depression       0.00      0.00      0.00        75\n",
            "\n",
            "           accuracy                           0.75      1325\n",
            "          macro avg       0.25      0.33      0.29      1325\n",
            "       weighted avg       0.57      0.75      0.65      1325\n",
            "\n",
            "max_features: 3000 n_gram: (1, 1)  solver: liblinear  tol: 5  C: 0.1  f1: 0.2867383512544803\n"
          ]
        },
        {
          "output_type": "stream",
          "name": "stderr",
          "text": [
            "/usr/local/lib/python3.10/dist-packages/sklearn/utils/validation.py:1183: DataConversionWarning: A column-vector y was passed when a 1d array was expected. Please change the shape of y to (n_samples, ), for example using ravel().\n",
            "  y = column_or_1d(y, warn=True)\n",
            "/usr/local/lib/python3.10/dist-packages/sklearn/metrics/_classification.py:1471: UndefinedMetricWarning: Precision and F-score are ill-defined and being set to 0.0 in labels with no predicted samples. Use `zero_division` parameter to control this behavior.\n",
            "  _warn_prf(average, modifier, msg_start, len(result))\n",
            "/usr/local/lib/python3.10/dist-packages/sklearn/metrics/_classification.py:1471: UndefinedMetricWarning: Precision and F-score are ill-defined and being set to 0.0 in labels with no predicted samples. Use `zero_division` parameter to control this behavior.\n",
            "  _warn_prf(average, modifier, msg_start, len(result))\n",
            "/usr/local/lib/python3.10/dist-packages/sklearn/metrics/_classification.py:1471: UndefinedMetricWarning: Precision and F-score are ill-defined and being set to 0.0 in labels with no predicted samples. Use `zero_division` parameter to control this behavior.\n",
            "  _warn_prf(average, modifier, msg_start, len(result))\n"
          ]
        },
        {
          "output_type": "stream",
          "name": "stdout",
          "text": [
            "                     precision    recall  f1-score   support\n",
            "\n",
            "      no_depression       0.75      1.00      0.86      1000\n",
            "possible_depression       0.00      0.00      0.00       250\n",
            "    true_depression       0.00      0.00      0.00        75\n",
            "\n",
            "           accuracy                           0.75      1325\n",
            "          macro avg       0.25      0.33      0.29      1325\n",
            "       weighted avg       0.57      0.75      0.65      1325\n",
            "\n",
            "max_features: 3000 n_gram: (1, 1)  solver: liblinear  tol: 5  C: 0.3  f1: 0.2867383512544803\n"
          ]
        },
        {
          "output_type": "stream",
          "name": "stderr",
          "text": [
            "/usr/local/lib/python3.10/dist-packages/sklearn/utils/validation.py:1183: DataConversionWarning: A column-vector y was passed when a 1d array was expected. Please change the shape of y to (n_samples, ), for example using ravel().\n",
            "  y = column_or_1d(y, warn=True)\n",
            "/usr/local/lib/python3.10/dist-packages/sklearn/metrics/_classification.py:1471: UndefinedMetricWarning: Precision and F-score are ill-defined and being set to 0.0 in labels with no predicted samples. Use `zero_division` parameter to control this behavior.\n",
            "  _warn_prf(average, modifier, msg_start, len(result))\n",
            "/usr/local/lib/python3.10/dist-packages/sklearn/metrics/_classification.py:1471: UndefinedMetricWarning: Precision and F-score are ill-defined and being set to 0.0 in labels with no predicted samples. Use `zero_division` parameter to control this behavior.\n",
            "  _warn_prf(average, modifier, msg_start, len(result))\n",
            "/usr/local/lib/python3.10/dist-packages/sklearn/metrics/_classification.py:1471: UndefinedMetricWarning: Precision and F-score are ill-defined and being set to 0.0 in labels with no predicted samples. Use `zero_division` parameter to control this behavior.\n",
            "  _warn_prf(average, modifier, msg_start, len(result))\n"
          ]
        },
        {
          "output_type": "stream",
          "name": "stdout",
          "text": [
            "                     precision    recall  f1-score   support\n",
            "\n",
            "      no_depression       0.75      1.00      0.86      1000\n",
            "possible_depression       0.00      0.00      0.00       250\n",
            "    true_depression       0.00      0.00      0.00        75\n",
            "\n",
            "           accuracy                           0.75      1325\n",
            "          macro avg       0.25      0.33      0.29      1325\n",
            "       weighted avg       0.57      0.75      0.65      1325\n",
            "\n",
            "max_features: 3000 n_gram: (1, 1)  solver: liblinear  tol: 5  C: 3  f1: 0.2867383512544803\n"
          ]
        },
        {
          "output_type": "stream",
          "name": "stderr",
          "text": [
            "/usr/local/lib/python3.10/dist-packages/sklearn/utils/validation.py:1183: DataConversionWarning: A column-vector y was passed when a 1d array was expected. Please change the shape of y to (n_samples, ), for example using ravel().\n",
            "  y = column_or_1d(y, warn=True)\n",
            "/usr/local/lib/python3.10/dist-packages/sklearn/metrics/_classification.py:1471: UndefinedMetricWarning: Precision and F-score are ill-defined and being set to 0.0 in labels with no predicted samples. Use `zero_division` parameter to control this behavior.\n",
            "  _warn_prf(average, modifier, msg_start, len(result))\n",
            "/usr/local/lib/python3.10/dist-packages/sklearn/metrics/_classification.py:1471: UndefinedMetricWarning: Precision and F-score are ill-defined and being set to 0.0 in labels with no predicted samples. Use `zero_division` parameter to control this behavior.\n",
            "  _warn_prf(average, modifier, msg_start, len(result))\n",
            "/usr/local/lib/python3.10/dist-packages/sklearn/metrics/_classification.py:1471: UndefinedMetricWarning: Precision and F-score are ill-defined and being set to 0.0 in labels with no predicted samples. Use `zero_division` parameter to control this behavior.\n",
            "  _warn_prf(average, modifier, msg_start, len(result))\n"
          ]
        },
        {
          "output_type": "stream",
          "name": "stdout",
          "text": [
            "                     precision    recall  f1-score   support\n",
            "\n",
            "      no_depression       0.75      1.00      0.86      1000\n",
            "possible_depression       0.00      0.00      0.00       250\n",
            "    true_depression       0.00      0.00      0.00        75\n",
            "\n",
            "           accuracy                           0.75      1325\n",
            "          macro avg       0.25      0.33      0.29      1325\n",
            "       weighted avg       0.57      0.75      0.65      1325\n",
            "\n",
            "max_features: 3000 n_gram: (1, 1)  solver: liblinear  tol: 5  C: 10  f1: 0.2867383512544803\n"
          ]
        },
        {
          "output_type": "stream",
          "name": "stderr",
          "text": [
            "/usr/local/lib/python3.10/dist-packages/sklearn/utils/validation.py:1183: DataConversionWarning: A column-vector y was passed when a 1d array was expected. Please change the shape of y to (n_samples, ), for example using ravel().\n",
            "  y = column_or_1d(y, warn=True)\n"
          ]
        },
        {
          "output_type": "stream",
          "name": "stdout",
          "text": [
            "                     precision    recall  f1-score   support\n",
            "\n",
            "      no_depression       0.83      0.75      0.79      1000\n",
            "possible_depression       0.31      0.39      0.34       250\n",
            "    true_depression       0.21      0.31      0.25        75\n",
            "\n",
            "           accuracy                           0.66      1325\n",
            "          macro avg       0.45      0.48      0.46      1325\n",
            "       weighted avg       0.70      0.66      0.68      1325\n",
            "\n",
            "max_features: 3000 n_gram: (1, 1)  solver: liblinear  tol: 0.3  C: 0.1  f1: 0.4609102493429891\n"
          ]
        },
        {
          "output_type": "stream",
          "name": "stderr",
          "text": [
            "/usr/local/lib/python3.10/dist-packages/sklearn/utils/validation.py:1183: DataConversionWarning: A column-vector y was passed when a 1d array was expected. Please change the shape of y to (n_samples, ), for example using ravel().\n",
            "  y = column_or_1d(y, warn=True)\n"
          ]
        },
        {
          "output_type": "stream",
          "name": "stdout",
          "text": [
            "                     precision    recall  f1-score   support\n",
            "\n",
            "      no_depression       0.82      0.79      0.80      1000\n",
            "possible_depression       0.31      0.34      0.32       250\n",
            "    true_depression       0.22      0.28      0.24        75\n",
            "\n",
            "           accuracy                           0.67      1325\n",
            "          macro avg       0.45      0.47      0.46      1325\n",
            "       weighted avg       0.69      0.67      0.68      1325\n",
            "\n",
            "max_features: 3000 n_gram: (1, 1)  solver: liblinear  tol: 0.3  C: 0.3  f1: 0.45722774718332077\n"
          ]
        },
        {
          "output_type": "stream",
          "name": "stderr",
          "text": [
            "/usr/local/lib/python3.10/dist-packages/sklearn/utils/validation.py:1183: DataConversionWarning: A column-vector y was passed when a 1d array was expected. Please change the shape of y to (n_samples, ), for example using ravel().\n",
            "  y = column_or_1d(y, warn=True)\n"
          ]
        },
        {
          "output_type": "stream",
          "name": "stdout",
          "text": [
            "                     precision    recall  f1-score   support\n",
            "\n",
            "      no_depression       0.84      0.75      0.79      1000\n",
            "possible_depression       0.30      0.42      0.35       250\n",
            "    true_depression       0.19      0.21      0.20        75\n",
            "\n",
            "           accuracy                           0.66      1325\n",
            "          macro avg       0.44      0.46      0.45      1325\n",
            "       weighted avg       0.70      0.66      0.68      1325\n",
            "\n",
            "max_features: 3000 n_gram: (1, 1)  solver: liblinear  tol: 0.3  C: 3  f1: 0.4482608878291889\n"
          ]
        },
        {
          "output_type": "stream",
          "name": "stderr",
          "text": [
            "/usr/local/lib/python3.10/dist-packages/sklearn/utils/validation.py:1183: DataConversionWarning: A column-vector y was passed when a 1d array was expected. Please change the shape of y to (n_samples, ), for example using ravel().\n",
            "  y = column_or_1d(y, warn=True)\n"
          ]
        },
        {
          "output_type": "stream",
          "name": "stdout",
          "text": [
            "                     precision    recall  f1-score   support\n",
            "\n",
            "      no_depression       0.83      0.76      0.80      1000\n",
            "possible_depression       0.31      0.44      0.36       250\n",
            "    true_depression       0.18      0.15      0.16        75\n",
            "\n",
            "           accuracy                           0.67      1325\n",
            "          macro avg       0.44      0.45      0.44      1325\n",
            "       weighted avg       0.70      0.67      0.68      1325\n",
            "\n",
            "max_features: 3000 n_gram: (1, 1)  solver: liblinear  tol: 0.3  C: 10  f1: 0.44140250781678114\n"
          ]
        },
        {
          "output_type": "stream",
          "name": "stderr",
          "text": [
            "/usr/local/lib/python3.10/dist-packages/sklearn/utils/validation.py:1183: DataConversionWarning: A column-vector y was passed when a 1d array was expected. Please change the shape of y to (n_samples, ), for example using ravel().\n",
            "  y = column_or_1d(y, warn=True)\n",
            "/usr/local/lib/python3.10/dist-packages/sklearn/metrics/_classification.py:1471: UndefinedMetricWarning: Precision and F-score are ill-defined and being set to 0.0 in labels with no predicted samples. Use `zero_division` parameter to control this behavior.\n",
            "  _warn_prf(average, modifier, msg_start, len(result))\n",
            "/usr/local/lib/python3.10/dist-packages/sklearn/metrics/_classification.py:1471: UndefinedMetricWarning: Precision and F-score are ill-defined and being set to 0.0 in labels with no predicted samples. Use `zero_division` parameter to control this behavior.\n",
            "  _warn_prf(average, modifier, msg_start, len(result))\n",
            "/usr/local/lib/python3.10/dist-packages/sklearn/metrics/_classification.py:1471: UndefinedMetricWarning: Precision and F-score are ill-defined and being set to 0.0 in labels with no predicted samples. Use `zero_division` parameter to control this behavior.\n",
            "  _warn_prf(average, modifier, msg_start, len(result))\n"
          ]
        },
        {
          "output_type": "stream",
          "name": "stdout",
          "text": [
            "                     precision    recall  f1-score   support\n",
            "\n",
            "      no_depression       0.75      1.00      0.86      1000\n",
            "possible_depression       0.00      0.00      0.00       250\n",
            "    true_depression       0.00      0.00      0.00        75\n",
            "\n",
            "           accuracy                           0.75      1325\n",
            "          macro avg       0.25      0.33      0.29      1325\n",
            "       weighted avg       0.57      0.75      0.65      1325\n",
            "\n",
            "max_features: 3000 n_gram: (1, 1)  solver: liblinear  tol: 3  C: 0.1  f1: 0.2867383512544803\n"
          ]
        },
        {
          "output_type": "stream",
          "name": "stderr",
          "text": [
            "/usr/local/lib/python3.10/dist-packages/sklearn/utils/validation.py:1183: DataConversionWarning: A column-vector y was passed when a 1d array was expected. Please change the shape of y to (n_samples, ), for example using ravel().\n",
            "  y = column_or_1d(y, warn=True)\n",
            "/usr/local/lib/python3.10/dist-packages/sklearn/metrics/_classification.py:1471: UndefinedMetricWarning: Precision and F-score are ill-defined and being set to 0.0 in labels with no predicted samples. Use `zero_division` parameter to control this behavior.\n",
            "  _warn_prf(average, modifier, msg_start, len(result))\n",
            "/usr/local/lib/python3.10/dist-packages/sklearn/metrics/_classification.py:1471: UndefinedMetricWarning: Precision and F-score are ill-defined and being set to 0.0 in labels with no predicted samples. Use `zero_division` parameter to control this behavior.\n",
            "  _warn_prf(average, modifier, msg_start, len(result))\n",
            "/usr/local/lib/python3.10/dist-packages/sklearn/metrics/_classification.py:1471: UndefinedMetricWarning: Precision and F-score are ill-defined and being set to 0.0 in labels with no predicted samples. Use `zero_division` parameter to control this behavior.\n",
            "  _warn_prf(average, modifier, msg_start, len(result))\n"
          ]
        },
        {
          "output_type": "stream",
          "name": "stdout",
          "text": [
            "                     precision    recall  f1-score   support\n",
            "\n",
            "      no_depression       0.75      1.00      0.86      1000\n",
            "possible_depression       0.00      0.00      0.00       250\n",
            "    true_depression       0.00      0.00      0.00        75\n",
            "\n",
            "           accuracy                           0.75      1325\n",
            "          macro avg       0.25      0.33      0.29      1325\n",
            "       weighted avg       0.57      0.75      0.65      1325\n",
            "\n",
            "max_features: 3000 n_gram: (1, 1)  solver: liblinear  tol: 3  C: 0.3  f1: 0.2867383512544803\n"
          ]
        },
        {
          "output_type": "stream",
          "name": "stderr",
          "text": [
            "/usr/local/lib/python3.10/dist-packages/sklearn/utils/validation.py:1183: DataConversionWarning: A column-vector y was passed when a 1d array was expected. Please change the shape of y to (n_samples, ), for example using ravel().\n",
            "  y = column_or_1d(y, warn=True)\n",
            "/usr/local/lib/python3.10/dist-packages/sklearn/metrics/_classification.py:1471: UndefinedMetricWarning: Precision and F-score are ill-defined and being set to 0.0 in labels with no predicted samples. Use `zero_division` parameter to control this behavior.\n",
            "  _warn_prf(average, modifier, msg_start, len(result))\n",
            "/usr/local/lib/python3.10/dist-packages/sklearn/metrics/_classification.py:1471: UndefinedMetricWarning: Precision and F-score are ill-defined and being set to 0.0 in labels with no predicted samples. Use `zero_division` parameter to control this behavior.\n",
            "  _warn_prf(average, modifier, msg_start, len(result))\n",
            "/usr/local/lib/python3.10/dist-packages/sklearn/metrics/_classification.py:1471: UndefinedMetricWarning: Precision and F-score are ill-defined and being set to 0.0 in labels with no predicted samples. Use `zero_division` parameter to control this behavior.\n",
            "  _warn_prf(average, modifier, msg_start, len(result))\n"
          ]
        },
        {
          "output_type": "stream",
          "name": "stdout",
          "text": [
            "                     precision    recall  f1-score   support\n",
            "\n",
            "      no_depression       0.75      1.00      0.86      1000\n",
            "possible_depression       0.00      0.00      0.00       250\n",
            "    true_depression       0.00      0.00      0.00        75\n",
            "\n",
            "           accuracy                           0.75      1325\n",
            "          macro avg       0.25      0.33      0.29      1325\n",
            "       weighted avg       0.57      0.75      0.65      1325\n",
            "\n",
            "max_features: 3000 n_gram: (1, 1)  solver: liblinear  tol: 3  C: 3  f1: 0.2867383512544803\n"
          ]
        },
        {
          "output_type": "stream",
          "name": "stderr",
          "text": [
            "/usr/local/lib/python3.10/dist-packages/sklearn/utils/validation.py:1183: DataConversionWarning: A column-vector y was passed when a 1d array was expected. Please change the shape of y to (n_samples, ), for example using ravel().\n",
            "  y = column_or_1d(y, warn=True)\n",
            "/usr/local/lib/python3.10/dist-packages/sklearn/metrics/_classification.py:1471: UndefinedMetricWarning: Precision and F-score are ill-defined and being set to 0.0 in labels with no predicted samples. Use `zero_division` parameter to control this behavior.\n",
            "  _warn_prf(average, modifier, msg_start, len(result))\n",
            "/usr/local/lib/python3.10/dist-packages/sklearn/metrics/_classification.py:1471: UndefinedMetricWarning: Precision and F-score are ill-defined and being set to 0.0 in labels with no predicted samples. Use `zero_division` parameter to control this behavior.\n",
            "  _warn_prf(average, modifier, msg_start, len(result))\n",
            "/usr/local/lib/python3.10/dist-packages/sklearn/metrics/_classification.py:1471: UndefinedMetricWarning: Precision and F-score are ill-defined and being set to 0.0 in labels with no predicted samples. Use `zero_division` parameter to control this behavior.\n",
            "  _warn_prf(average, modifier, msg_start, len(result))\n"
          ]
        },
        {
          "output_type": "stream",
          "name": "stdout",
          "text": [
            "                     precision    recall  f1-score   support\n",
            "\n",
            "      no_depression       0.75      1.00      0.86      1000\n",
            "possible_depression       0.00      0.00      0.00       250\n",
            "    true_depression       0.00      0.00      0.00        75\n",
            "\n",
            "           accuracy                           0.75      1325\n",
            "          macro avg       0.25      0.33      0.29      1325\n",
            "       weighted avg       0.57      0.75      0.65      1325\n",
            "\n",
            "max_features: 3000 n_gram: (1, 1)  solver: liblinear  tol: 3  C: 10  f1: 0.2867383512544803\n"
          ]
        },
        {
          "output_type": "stream",
          "name": "stderr",
          "text": [
            "/usr/local/lib/python3.10/dist-packages/sklearn/utils/validation.py:1183: DataConversionWarning: A column-vector y was passed when a 1d array was expected. Please change the shape of y to (n_samples, ), for example using ravel().\n",
            "  y = column_or_1d(y, warn=True)\n"
          ]
        },
        {
          "output_type": "stream",
          "name": "stdout",
          "text": [
            "                     precision    recall  f1-score   support\n",
            "\n",
            "      no_depression       0.83      0.77      0.80      1000\n",
            "possible_depression       0.31      0.38      0.34       250\n",
            "    true_depression       0.21      0.28      0.24        75\n",
            "\n",
            "           accuracy                           0.67      1325\n",
            "          macro avg       0.45      0.47      0.46      1325\n",
            "       weighted avg       0.70      0.67      0.68      1325\n",
            "\n",
            "max_features: 3000 n_gram: (1, 1)  solver: newton-cg  tol: 5  C: 0.1  f1: 0.46009860627551785\n"
          ]
        },
        {
          "output_type": "stream",
          "name": "stderr",
          "text": [
            "/usr/local/lib/python3.10/dist-packages/sklearn/utils/validation.py:1183: DataConversionWarning: A column-vector y was passed when a 1d array was expected. Please change the shape of y to (n_samples, ), for example using ravel().\n",
            "  y = column_or_1d(y, warn=True)\n"
          ]
        },
        {
          "output_type": "stream",
          "name": "stdout",
          "text": [
            "                     precision    recall  f1-score   support\n",
            "\n",
            "      no_depression       0.82      0.79      0.80      1000\n",
            "possible_depression       0.29      0.36      0.32       250\n",
            "    true_depression       0.19      0.17      0.18        75\n",
            "\n",
            "           accuracy                           0.67      1325\n",
            "          macro avg       0.44      0.44      0.44      1325\n",
            "       weighted avg       0.69      0.67      0.68      1325\n",
            "\n",
            "max_features: 3000 n_gram: (1, 1)  solver: newton-cg  tol: 5  C: 0.3  f1: 0.43538615774441664\n"
          ]
        },
        {
          "output_type": "stream",
          "name": "stderr",
          "text": [
            "/usr/local/lib/python3.10/dist-packages/sklearn/utils/validation.py:1183: DataConversionWarning: A column-vector y was passed when a 1d array was expected. Please change the shape of y to (n_samples, ), for example using ravel().\n",
            "  y = column_or_1d(y, warn=True)\n"
          ]
        },
        {
          "output_type": "stream",
          "name": "stdout",
          "text": [
            "                     precision    recall  f1-score   support\n",
            "\n",
            "      no_depression       0.82      0.80      0.81      1000\n",
            "possible_depression       0.30      0.36      0.32       250\n",
            "    true_depression       0.20      0.13      0.16        75\n",
            "\n",
            "           accuracy                           0.68      1325\n",
            "          macro avg       0.44      0.43      0.43      1325\n",
            "       weighted avg       0.69      0.68      0.68      1325\n",
            "\n",
            "max_features: 3000 n_gram: (1, 1)  solver: newton-cg  tol: 5  C: 3  f1: 0.4309167625623322\n"
          ]
        },
        {
          "output_type": "stream",
          "name": "stderr",
          "text": [
            "/usr/local/lib/python3.10/dist-packages/sklearn/utils/validation.py:1183: DataConversionWarning: A column-vector y was passed when a 1d array was expected. Please change the shape of y to (n_samples, ), for example using ravel().\n",
            "  y = column_or_1d(y, warn=True)\n"
          ]
        },
        {
          "output_type": "stream",
          "name": "stdout",
          "text": [
            "                     precision    recall  f1-score   support\n",
            "\n",
            "      no_depression       0.81      0.80      0.81      1000\n",
            "possible_depression       0.29      0.35      0.32       250\n",
            "    true_depression       0.23      0.12      0.16        75\n",
            "\n",
            "           accuracy                           0.68      1325\n",
            "          macro avg       0.45      0.42      0.43      1325\n",
            "       weighted avg       0.68      0.68      0.68      1325\n",
            "\n",
            "max_features: 3000 n_gram: (1, 1)  solver: newton-cg  tol: 5  C: 10  f1: 0.4280085398966307\n"
          ]
        },
        {
          "output_type": "stream",
          "name": "stderr",
          "text": [
            "/usr/local/lib/python3.10/dist-packages/sklearn/utils/validation.py:1183: DataConversionWarning: A column-vector y was passed when a 1d array was expected. Please change the shape of y to (n_samples, ), for example using ravel().\n",
            "  y = column_or_1d(y, warn=True)\n"
          ]
        },
        {
          "output_type": "stream",
          "name": "stdout",
          "text": [
            "                     precision    recall  f1-score   support\n",
            "\n",
            "      no_depression       0.83      0.78      0.80      1000\n",
            "possible_depression       0.31      0.36      0.33       250\n",
            "    true_depression       0.22      0.28      0.25        75\n",
            "\n",
            "           accuracy                           0.67      1325\n",
            "          macro avg       0.45      0.47      0.46      1325\n",
            "       weighted avg       0.70      0.67      0.68      1325\n",
            "\n",
            "max_features: 3000 n_gram: (1, 1)  solver: newton-cg  tol: 0.3  C: 0.1  f1: 0.4591123470247554\n"
          ]
        },
        {
          "output_type": "stream",
          "name": "stderr",
          "text": [
            "/usr/local/lib/python3.10/dist-packages/sklearn/utils/validation.py:1183: DataConversionWarning: A column-vector y was passed when a 1d array was expected. Please change the shape of y to (n_samples, ), for example using ravel().\n",
            "  y = column_or_1d(y, warn=True)\n"
          ]
        },
        {
          "output_type": "stream",
          "name": "stdout",
          "text": [
            "                     precision    recall  f1-score   support\n",
            "\n",
            "      no_depression       0.83      0.79      0.81      1000\n",
            "possible_depression       0.30      0.36      0.33       250\n",
            "    true_depression       0.19      0.17      0.18        75\n",
            "\n",
            "           accuracy                           0.67      1325\n",
            "          macro avg       0.44      0.44      0.44      1325\n",
            "       weighted avg       0.69      0.67      0.68      1325\n",
            "\n",
            "max_features: 3000 n_gram: (1, 1)  solver: newton-cg  tol: 0.3  C: 0.3  f1: 0.4384759567225389\n"
          ]
        },
        {
          "output_type": "stream",
          "name": "stderr",
          "text": [
            "/usr/local/lib/python3.10/dist-packages/sklearn/utils/validation.py:1183: DataConversionWarning: A column-vector y was passed when a 1d array was expected. Please change the shape of y to (n_samples, ), for example using ravel().\n",
            "  y = column_or_1d(y, warn=True)\n"
          ]
        },
        {
          "output_type": "stream",
          "name": "stdout",
          "text": [
            "                     precision    recall  f1-score   support\n",
            "\n",
            "      no_depression       0.82      0.80      0.81      1000\n",
            "possible_depression       0.30      0.36      0.33       250\n",
            "    true_depression       0.20      0.13      0.16        75\n",
            "\n",
            "           accuracy                           0.68      1325\n",
            "          macro avg       0.44      0.43      0.43      1325\n",
            "       weighted avg       0.69      0.68      0.68      1325\n",
            "\n",
            "max_features: 3000 n_gram: (1, 1)  solver: newton-cg  tol: 0.3  C: 3  f1: 0.43321475180639113\n"
          ]
        },
        {
          "output_type": "stream",
          "name": "stderr",
          "text": [
            "/usr/local/lib/python3.10/dist-packages/sklearn/utils/validation.py:1183: DataConversionWarning: A column-vector y was passed when a 1d array was expected. Please change the shape of y to (n_samples, ), for example using ravel().\n",
            "  y = column_or_1d(y, warn=True)\n"
          ]
        },
        {
          "output_type": "stream",
          "name": "stdout",
          "text": [
            "                     precision    recall  f1-score   support\n",
            "\n",
            "      no_depression       0.82      0.79      0.81      1000\n",
            "possible_depression       0.30      0.38      0.33       250\n",
            "    true_depression       0.24      0.15      0.18        75\n",
            "\n",
            "           accuracy                           0.68      1325\n",
            "          macro avg       0.46      0.44      0.44      1325\n",
            "       weighted avg       0.69      0.68      0.68      1325\n",
            "\n",
            "max_features: 3000 n_gram: (1, 1)  solver: newton-cg  tol: 0.3  C: 10  f1: 0.44152650868800375\n"
          ]
        },
        {
          "output_type": "stream",
          "name": "stderr",
          "text": [
            "/usr/local/lib/python3.10/dist-packages/sklearn/utils/validation.py:1183: DataConversionWarning: A column-vector y was passed when a 1d array was expected. Please change the shape of y to (n_samples, ), for example using ravel().\n",
            "  y = column_or_1d(y, warn=True)\n"
          ]
        },
        {
          "output_type": "stream",
          "name": "stdout",
          "text": [
            "                     precision    recall  f1-score   support\n",
            "\n",
            "      no_depression       0.83      0.78      0.80      1000\n",
            "possible_depression       0.31      0.36      0.33       250\n",
            "    true_depression       0.23      0.29      0.26        75\n",
            "\n",
            "           accuracy                           0.67      1325\n",
            "          macro avg       0.46      0.48      0.46      1325\n",
            "       weighted avg       0.70      0.67      0.68      1325\n",
            "\n",
            "max_features: 3000 n_gram: (1, 1)  solver: newton-cg  tol: 3  C: 0.1  f1: 0.4638737658946885\n"
          ]
        },
        {
          "output_type": "stream",
          "name": "stderr",
          "text": [
            "/usr/local/lib/python3.10/dist-packages/sklearn/utils/validation.py:1183: DataConversionWarning: A column-vector y was passed when a 1d array was expected. Please change the shape of y to (n_samples, ), for example using ravel().\n",
            "  y = column_or_1d(y, warn=True)\n"
          ]
        },
        {
          "output_type": "stream",
          "name": "stdout",
          "text": [
            "                     precision    recall  f1-score   support\n",
            "\n",
            "      no_depression       0.82      0.79      0.80      1000\n",
            "possible_depression       0.29      0.36      0.32       250\n",
            "    true_depression       0.19      0.17      0.18        75\n",
            "\n",
            "           accuracy                           0.67      1325\n",
            "          macro avg       0.44      0.44      0.44      1325\n",
            "       weighted avg       0.69      0.67      0.68      1325\n",
            "\n",
            "max_features: 3000 n_gram: (1, 1)  solver: newton-cg  tol: 3  C: 0.3  f1: 0.43538615774441664\n"
          ]
        },
        {
          "output_type": "stream",
          "name": "stderr",
          "text": [
            "/usr/local/lib/python3.10/dist-packages/sklearn/utils/validation.py:1183: DataConversionWarning: A column-vector y was passed when a 1d array was expected. Please change the shape of y to (n_samples, ), for example using ravel().\n",
            "  y = column_or_1d(y, warn=True)\n"
          ]
        },
        {
          "output_type": "stream",
          "name": "stdout",
          "text": [
            "                     precision    recall  f1-score   support\n",
            "\n",
            "      no_depression       0.82      0.80      0.81      1000\n",
            "possible_depression       0.30      0.36      0.32       250\n",
            "    true_depression       0.20      0.13      0.16        75\n",
            "\n",
            "           accuracy                           0.68      1325\n",
            "          macro avg       0.44      0.43      0.43      1325\n",
            "       weighted avg       0.69      0.68      0.68      1325\n",
            "\n",
            "max_features: 3000 n_gram: (1, 1)  solver: newton-cg  tol: 3  C: 3  f1: 0.4309167625623322\n"
          ]
        },
        {
          "output_type": "stream",
          "name": "stderr",
          "text": [
            "/usr/local/lib/python3.10/dist-packages/sklearn/utils/validation.py:1183: DataConversionWarning: A column-vector y was passed when a 1d array was expected. Please change the shape of y to (n_samples, ), for example using ravel().\n",
            "  y = column_or_1d(y, warn=True)\n"
          ]
        },
        {
          "output_type": "stream",
          "name": "stdout",
          "text": [
            "                     precision    recall  f1-score   support\n",
            "\n",
            "      no_depression       0.82      0.80      0.81      1000\n",
            "possible_depression       0.30      0.36      0.33       250\n",
            "    true_depression       0.25      0.15      0.18        75\n",
            "\n",
            "           accuracy                           0.68      1325\n",
            "          macro avg       0.46      0.44      0.44      1325\n",
            "       weighted avg       0.69      0.68      0.68      1325\n",
            "\n",
            "max_features: 3000 n_gram: (1, 1)  solver: newton-cg  tol: 3  C: 10  f1: 0.44015355114957205\n"
          ]
        },
        {
          "output_type": "stream",
          "name": "stderr",
          "text": [
            "/usr/local/lib/python3.10/dist-packages/sklearn/utils/validation.py:1183: DataConversionWarning: A column-vector y was passed when a 1d array was expected. Please change the shape of y to (n_samples, ), for example using ravel().\n",
            "  y = column_or_1d(y, warn=True)\n"
          ]
        },
        {
          "output_type": "stream",
          "name": "stdout",
          "text": [
            "                     precision    recall  f1-score   support\n",
            "\n",
            "      no_depression       0.82      0.79      0.81      1000\n",
            "possible_depression       0.30      0.30      0.30       250\n",
            "    true_depression       0.20      0.31      0.24        75\n",
            "\n",
            "           accuracy                           0.67      1325\n",
            "          macro avg       0.44      0.46      0.45      1325\n",
            "       weighted avg       0.69      0.67      0.68      1325\n",
            "\n",
            "max_features: 3000 n_gram: (1, 1)  solver: newton-cholesky  tol: 5  C: 0.1  f1: 0.44919844745514254\n"
          ]
        },
        {
          "output_type": "stream",
          "name": "stderr",
          "text": [
            "/usr/local/lib/python3.10/dist-packages/sklearn/utils/validation.py:1183: DataConversionWarning: A column-vector y was passed when a 1d array was expected. Please change the shape of y to (n_samples, ), for example using ravel().\n",
            "  y = column_or_1d(y, warn=True)\n"
          ]
        },
        {
          "output_type": "stream",
          "name": "stdout",
          "text": [
            "                     precision    recall  f1-score   support\n",
            "\n",
            "      no_depression       0.82      0.79      0.80      1000\n",
            "possible_depression       0.30      0.32      0.31       250\n",
            "    true_depression       0.24      0.31      0.27        75\n",
            "\n",
            "           accuracy                           0.67      1325\n",
            "          macro avg       0.45      0.47      0.46      1325\n",
            "       weighted avg       0.69      0.67      0.68      1325\n",
            "\n",
            "max_features: 3000 n_gram: (1, 1)  solver: newton-cholesky  tol: 5  C: 0.3  f1: 0.4608736624136691\n"
          ]
        },
        {
          "output_type": "stream",
          "name": "stderr",
          "text": [
            "/usr/local/lib/python3.10/dist-packages/sklearn/utils/validation.py:1183: DataConversionWarning: A column-vector y was passed when a 1d array was expected. Please change the shape of y to (n_samples, ), for example using ravel().\n",
            "  y = column_or_1d(y, warn=True)\n"
          ]
        },
        {
          "output_type": "stream",
          "name": "stdout",
          "text": [
            "                     precision    recall  f1-score   support\n",
            "\n",
            "      no_depression       0.82      0.79      0.81      1000\n",
            "possible_depression       0.29      0.34      0.31       250\n",
            "    true_depression       0.20      0.15      0.17        75\n",
            "\n",
            "           accuracy                           0.67      1325\n",
            "          macro avg       0.43      0.43      0.43      1325\n",
            "       weighted avg       0.68      0.67      0.68      1325\n",
            "\n",
            "max_features: 3000 n_gram: (1, 1)  solver: newton-cholesky  tol: 5  C: 3  f1: 0.42895849887505494\n"
          ]
        },
        {
          "output_type": "stream",
          "name": "stderr",
          "text": [
            "/usr/local/lib/python3.10/dist-packages/sklearn/utils/validation.py:1183: DataConversionWarning: A column-vector y was passed when a 1d array was expected. Please change the shape of y to (n_samples, ), for example using ravel().\n",
            "  y = column_or_1d(y, warn=True)\n"
          ]
        },
        {
          "output_type": "stream",
          "name": "stdout",
          "text": [
            "                     precision    recall  f1-score   support\n",
            "\n",
            "      no_depression       0.82      0.77      0.79      1000\n",
            "possible_depression       0.29      0.40      0.33       250\n",
            "    true_depression       0.21      0.13      0.16        75\n",
            "\n",
            "           accuracy                           0.66      1325\n",
            "          macro avg       0.44      0.43      0.43      1325\n",
            "       weighted avg       0.69      0.66      0.67      1325\n",
            "\n",
            "max_features: 3000 n_gram: (1, 1)  solver: newton-cholesky  tol: 5  C: 10  f1: 0.4301982436636383\n"
          ]
        },
        {
          "output_type": "stream",
          "name": "stderr",
          "text": [
            "/usr/local/lib/python3.10/dist-packages/sklearn/utils/validation.py:1183: DataConversionWarning: A column-vector y was passed when a 1d array was expected. Please change the shape of y to (n_samples, ), for example using ravel().\n",
            "  y = column_or_1d(y, warn=True)\n"
          ]
        },
        {
          "output_type": "stream",
          "name": "stdout",
          "text": [
            "                     precision    recall  f1-score   support\n",
            "\n",
            "      no_depression       0.82      0.79      0.81      1000\n",
            "possible_depression       0.30      0.30      0.30       250\n",
            "    true_depression       0.20      0.31      0.24        75\n",
            "\n",
            "           accuracy                           0.67      1325\n",
            "          macro avg       0.44      0.46      0.45      1325\n",
            "       weighted avg       0.69      0.67      0.68      1325\n",
            "\n",
            "max_features: 3000 n_gram: (1, 1)  solver: newton-cholesky  tol: 0.3  C: 0.1  f1: 0.44919844745514254\n"
          ]
        },
        {
          "output_type": "stream",
          "name": "stderr",
          "text": [
            "/usr/local/lib/python3.10/dist-packages/sklearn/utils/validation.py:1183: DataConversionWarning: A column-vector y was passed when a 1d array was expected. Please change the shape of y to (n_samples, ), for example using ravel().\n",
            "  y = column_or_1d(y, warn=True)\n"
          ]
        },
        {
          "output_type": "stream",
          "name": "stdout",
          "text": [
            "                     precision    recall  f1-score   support\n",
            "\n",
            "      no_depression       0.82      0.79      0.80      1000\n",
            "possible_depression       0.30      0.32      0.31       250\n",
            "    true_depression       0.24      0.31      0.27        75\n",
            "\n",
            "           accuracy                           0.67      1325\n",
            "          macro avg       0.45      0.47      0.46      1325\n",
            "       weighted avg       0.69      0.67      0.68      1325\n",
            "\n",
            "max_features: 3000 n_gram: (1, 1)  solver: newton-cholesky  tol: 0.3  C: 0.3  f1: 0.4608736624136691\n"
          ]
        },
        {
          "output_type": "stream",
          "name": "stderr",
          "text": [
            "/usr/local/lib/python3.10/dist-packages/sklearn/utils/validation.py:1183: DataConversionWarning: A column-vector y was passed when a 1d array was expected. Please change the shape of y to (n_samples, ), for example using ravel().\n",
            "  y = column_or_1d(y, warn=True)\n"
          ]
        },
        {
          "output_type": "stream",
          "name": "stdout",
          "text": [
            "                     precision    recall  f1-score   support\n",
            "\n",
            "      no_depression       0.82      0.80      0.81      1000\n",
            "possible_depression       0.30      0.35      0.32       250\n",
            "    true_depression       0.20      0.16      0.18        75\n",
            "\n",
            "           accuracy                           0.68      1325\n",
            "          macro avg       0.44      0.44      0.44      1325\n",
            "       weighted avg       0.69      0.68      0.68      1325\n",
            "\n",
            "max_features: 3000 n_gram: (1, 1)  solver: newton-cholesky  tol: 0.3  C: 3  f1: 0.4364977497311608\n"
          ]
        },
        {
          "output_type": "stream",
          "name": "stderr",
          "text": [
            "/usr/local/lib/python3.10/dist-packages/sklearn/utils/validation.py:1183: DataConversionWarning: A column-vector y was passed when a 1d array was expected. Please change the shape of y to (n_samples, ), for example using ravel().\n",
            "  y = column_or_1d(y, warn=True)\n"
          ]
        },
        {
          "output_type": "stream",
          "name": "stdout",
          "text": [
            "                     precision    recall  f1-score   support\n",
            "\n",
            "      no_depression       0.82      0.79      0.80      1000\n",
            "possible_depression       0.30      0.38      0.33       250\n",
            "    true_depression       0.21      0.13      0.16        75\n",
            "\n",
            "           accuracy                           0.67      1325\n",
            "          macro avg       0.44      0.43      0.43      1325\n",
            "       weighted avg       0.69      0.67      0.68      1325\n",
            "\n",
            "max_features: 3000 n_gram: (1, 1)  solver: newton-cholesky  tol: 0.3  C: 10  f1: 0.4341152234813896\n"
          ]
        },
        {
          "output_type": "stream",
          "name": "stderr",
          "text": [
            "/usr/local/lib/python3.10/dist-packages/sklearn/utils/validation.py:1183: DataConversionWarning: A column-vector y was passed when a 1d array was expected. Please change the shape of y to (n_samples, ), for example using ravel().\n",
            "  y = column_or_1d(y, warn=True)\n"
          ]
        },
        {
          "output_type": "stream",
          "name": "stdout",
          "text": [
            "                     precision    recall  f1-score   support\n",
            "\n",
            "      no_depression       0.82      0.79      0.81      1000\n",
            "possible_depression       0.30      0.30      0.30       250\n",
            "    true_depression       0.20      0.31      0.24        75\n",
            "\n",
            "           accuracy                           0.67      1325\n",
            "          macro avg       0.44      0.46      0.45      1325\n",
            "       weighted avg       0.69      0.67      0.68      1325\n",
            "\n",
            "max_features: 3000 n_gram: (1, 1)  solver: newton-cholesky  tol: 3  C: 0.1  f1: 0.44919844745514254\n"
          ]
        },
        {
          "output_type": "stream",
          "name": "stderr",
          "text": [
            "/usr/local/lib/python3.10/dist-packages/sklearn/utils/validation.py:1183: DataConversionWarning: A column-vector y was passed when a 1d array was expected. Please change the shape of y to (n_samples, ), for example using ravel().\n",
            "  y = column_or_1d(y, warn=True)\n"
          ]
        },
        {
          "output_type": "stream",
          "name": "stdout",
          "text": [
            "                     precision    recall  f1-score   support\n",
            "\n",
            "      no_depression       0.82      0.79      0.80      1000\n",
            "possible_depression       0.30      0.32      0.31       250\n",
            "    true_depression       0.24      0.31      0.27        75\n",
            "\n",
            "           accuracy                           0.67      1325\n",
            "          macro avg       0.45      0.47      0.46      1325\n",
            "       weighted avg       0.69      0.67      0.68      1325\n",
            "\n",
            "max_features: 3000 n_gram: (1, 1)  solver: newton-cholesky  tol: 3  C: 0.3  f1: 0.4608736624136691\n"
          ]
        },
        {
          "output_type": "stream",
          "name": "stderr",
          "text": [
            "/usr/local/lib/python3.10/dist-packages/sklearn/utils/validation.py:1183: DataConversionWarning: A column-vector y was passed when a 1d array was expected. Please change the shape of y to (n_samples, ), for example using ravel().\n",
            "  y = column_or_1d(y, warn=True)\n"
          ]
        },
        {
          "output_type": "stream",
          "name": "stdout",
          "text": [
            "                     precision    recall  f1-score   support\n",
            "\n",
            "      no_depression       0.82      0.79      0.81      1000\n",
            "possible_depression       0.29      0.34      0.31       250\n",
            "    true_depression       0.20      0.15      0.17        75\n",
            "\n",
            "           accuracy                           0.67      1325\n",
            "          macro avg       0.43      0.43      0.43      1325\n",
            "       weighted avg       0.68      0.67      0.68      1325\n",
            "\n",
            "max_features: 3000 n_gram: (1, 1)  solver: newton-cholesky  tol: 3  C: 3  f1: 0.42895849887505494\n"
          ]
        },
        {
          "output_type": "stream",
          "name": "stderr",
          "text": [
            "/usr/local/lib/python3.10/dist-packages/sklearn/utils/validation.py:1183: DataConversionWarning: A column-vector y was passed when a 1d array was expected. Please change the shape of y to (n_samples, ), for example using ravel().\n",
            "  y = column_or_1d(y, warn=True)\n"
          ]
        },
        {
          "output_type": "stream",
          "name": "stdout",
          "text": [
            "                     precision    recall  f1-score   support\n",
            "\n",
            "      no_depression       0.82      0.77      0.79      1000\n",
            "possible_depression       0.29      0.40      0.33       250\n",
            "    true_depression       0.21      0.13      0.16        75\n",
            "\n",
            "           accuracy                           0.66      1325\n",
            "          macro avg       0.44      0.43      0.43      1325\n",
            "       weighted avg       0.69      0.66      0.67      1325\n",
            "\n",
            "max_features: 3000 n_gram: (1, 1)  solver: newton-cholesky  tol: 3  C: 10  f1: 0.4301982436636383\n"
          ]
        },
        {
          "output_type": "stream",
          "name": "stderr",
          "text": [
            "/usr/local/lib/python3.10/dist-packages/sklearn/utils/validation.py:1183: DataConversionWarning: A column-vector y was passed when a 1d array was expected. Please change the shape of y to (n_samples, ), for example using ravel().\n",
            "  y = column_or_1d(y, warn=True)\n"
          ]
        },
        {
          "output_type": "stream",
          "name": "stdout",
          "text": [
            "                     precision    recall  f1-score   support\n",
            "\n",
            "      no_depression       0.82      0.77      0.80      1000\n",
            "possible_depression       0.29      0.34      0.31       250\n",
            "    true_depression       0.20      0.25      0.22        75\n",
            "\n",
            "           accuracy                           0.66      1325\n",
            "          macro avg       0.44      0.45      0.44      1325\n",
            "       weighted avg       0.69      0.66      0.67      1325\n",
            "\n",
            "max_features: 3000 n_gram: (1, 1)  solver: sag  tol: 5  C: 0.1  f1: 0.44342534859334287\n"
          ]
        },
        {
          "output_type": "stream",
          "name": "stderr",
          "text": [
            "/usr/local/lib/python3.10/dist-packages/sklearn/utils/validation.py:1183: DataConversionWarning: A column-vector y was passed when a 1d array was expected. Please change the shape of y to (n_samples, ), for example using ravel().\n",
            "  y = column_or_1d(y, warn=True)\n"
          ]
        },
        {
          "output_type": "stream",
          "name": "stdout",
          "text": [
            "                     precision    recall  f1-score   support\n",
            "\n",
            "      no_depression       0.83      0.76      0.79      1000\n",
            "possible_depression       0.30      0.41      0.35       250\n",
            "    true_depression       0.21      0.17      0.19        75\n",
            "\n",
            "           accuracy                           0.66      1325\n",
            "          macro avg       0.45      0.45      0.44      1325\n",
            "       weighted avg       0.69      0.66      0.67      1325\n",
            "\n",
            "max_features: 3000 n_gram: (1, 1)  solver: sag  tol: 5  C: 0.3  f1: 0.4440244936740621\n"
          ]
        },
        {
          "output_type": "stream",
          "name": "stderr",
          "text": [
            "/usr/local/lib/python3.10/dist-packages/sklearn/utils/validation.py:1183: DataConversionWarning: A column-vector y was passed when a 1d array was expected. Please change the shape of y to (n_samples, ), for example using ravel().\n",
            "  y = column_or_1d(y, warn=True)\n"
          ]
        },
        {
          "output_type": "stream",
          "name": "stdout",
          "text": [
            "                     precision    recall  f1-score   support\n",
            "\n",
            "      no_depression       0.81      0.80      0.81      1000\n",
            "possible_depression       0.27      0.30      0.28       250\n",
            "    true_depression       0.16      0.11      0.13        75\n",
            "\n",
            "           accuracy                           0.67      1325\n",
            "          macro avg       0.41      0.40      0.40      1325\n",
            "       weighted avg       0.67      0.67      0.67      1325\n",
            "\n",
            "max_features: 3000 n_gram: (1, 1)  solver: sag  tol: 5  C: 3  f1: 0.40471996591210285\n"
          ]
        },
        {
          "output_type": "stream",
          "name": "stderr",
          "text": [
            "/usr/local/lib/python3.10/dist-packages/sklearn/utils/validation.py:1183: DataConversionWarning: A column-vector y was passed when a 1d array was expected. Please change the shape of y to (n_samples, ), for example using ravel().\n",
            "  y = column_or_1d(y, warn=True)\n"
          ]
        },
        {
          "output_type": "stream",
          "name": "stdout",
          "text": [
            "                     precision    recall  f1-score   support\n",
            "\n",
            "      no_depression       0.83      0.74      0.78      1000\n",
            "possible_depression       0.28      0.44      0.35       250\n",
            "    true_depression       0.19      0.12      0.15        75\n",
            "\n",
            "           accuracy                           0.65      1325\n",
            "          macro avg       0.44      0.43      0.43      1325\n",
            "       weighted avg       0.69      0.65      0.66      1325\n",
            "\n",
            "max_features: 3000 n_gram: (1, 1)  solver: sag  tol: 5  C: 10  f1: 0.42504544086320273\n"
          ]
        },
        {
          "output_type": "stream",
          "name": "stderr",
          "text": [
            "/usr/local/lib/python3.10/dist-packages/sklearn/utils/validation.py:1183: DataConversionWarning: A column-vector y was passed when a 1d array was expected. Please change the shape of y to (n_samples, ), for example using ravel().\n",
            "  y = column_or_1d(y, warn=True)\n"
          ]
        },
        {
          "output_type": "stream",
          "name": "stdout",
          "text": [
            "                     precision    recall  f1-score   support\n",
            "\n",
            "      no_depression       0.83      0.77      0.80      1000\n",
            "possible_depression       0.30      0.35      0.33       250\n",
            "    true_depression       0.22      0.29      0.25        75\n",
            "\n",
            "           accuracy                           0.67      1325\n",
            "          macro avg       0.45      0.47      0.46      1325\n",
            "       weighted avg       0.69      0.67      0.68      1325\n",
            "\n",
            "max_features: 3000 n_gram: (1, 1)  solver: sag  tol: 0.3  C: 0.1  f1: 0.4590552323133797\n"
          ]
        },
        {
          "output_type": "stream",
          "name": "stderr",
          "text": [
            "/usr/local/lib/python3.10/dist-packages/sklearn/utils/validation.py:1183: DataConversionWarning: A column-vector y was passed when a 1d array was expected. Please change the shape of y to (n_samples, ), for example using ravel().\n",
            "  y = column_or_1d(y, warn=True)\n"
          ]
        },
        {
          "output_type": "stream",
          "name": "stdout",
          "text": [
            "                     precision    recall  f1-score   support\n",
            "\n",
            "      no_depression       0.83      0.76      0.79      1000\n",
            "possible_depression       0.29      0.39      0.33       250\n",
            "    true_depression       0.21      0.20      0.21        75\n",
            "\n",
            "           accuracy                           0.66      1325\n",
            "          macro avg       0.44      0.45      0.44      1325\n",
            "       weighted avg       0.69      0.66      0.67      1325\n",
            "\n",
            "max_features: 3000 n_gram: (1, 1)  solver: sag  tol: 0.3  C: 0.3  f1: 0.4435122364776906\n"
          ]
        },
        {
          "output_type": "stream",
          "name": "stderr",
          "text": [
            "/usr/local/lib/python3.10/dist-packages/sklearn/utils/validation.py:1183: DataConversionWarning: A column-vector y was passed when a 1d array was expected. Please change the shape of y to (n_samples, ), for example using ravel().\n",
            "  y = column_or_1d(y, warn=True)\n"
          ]
        },
        {
          "output_type": "stream",
          "name": "stdout",
          "text": [
            "                     precision    recall  f1-score   support\n",
            "\n",
            "      no_depression       0.82      0.80      0.81      1000\n",
            "possible_depression       0.30      0.35      0.32       250\n",
            "    true_depression       0.20      0.15      0.17        75\n",
            "\n",
            "           accuracy                           0.68      1325\n",
            "          macro avg       0.44      0.43      0.43      1325\n",
            "       weighted avg       0.69      0.68      0.68      1325\n",
            "\n",
            "max_features: 3000 n_gram: (1, 1)  solver: sag  tol: 0.3  C: 3  f1: 0.4336996336996337\n"
          ]
        },
        {
          "output_type": "stream",
          "name": "stderr",
          "text": [
            "/usr/local/lib/python3.10/dist-packages/sklearn/utils/validation.py:1183: DataConversionWarning: A column-vector y was passed when a 1d array was expected. Please change the shape of y to (n_samples, ), for example using ravel().\n",
            "  y = column_or_1d(y, warn=True)\n"
          ]
        },
        {
          "output_type": "stream",
          "name": "stdout",
          "text": [
            "                     precision    recall  f1-score   support\n",
            "\n",
            "      no_depression       0.82      0.80      0.81      1000\n",
            "possible_depression       0.30      0.35      0.32       250\n",
            "    true_depression       0.24      0.16      0.19        75\n",
            "\n",
            "           accuracy                           0.68      1325\n",
            "          macro avg       0.45      0.44      0.44      1325\n",
            "       weighted avg       0.69      0.68      0.68      1325\n",
            "\n",
            "max_features: 3000 n_gram: (1, 1)  solver: sag  tol: 0.3  C: 10  f1: 0.4416612061773353\n"
          ]
        },
        {
          "output_type": "stream",
          "name": "stderr",
          "text": [
            "/usr/local/lib/python3.10/dist-packages/sklearn/utils/validation.py:1183: DataConversionWarning: A column-vector y was passed when a 1d array was expected. Please change the shape of y to (n_samples, ), for example using ravel().\n",
            "  y = column_or_1d(y, warn=True)\n"
          ]
        },
        {
          "output_type": "stream",
          "name": "stdout",
          "text": [
            "                     precision    recall  f1-score   support\n",
            "\n",
            "      no_depression       0.84      0.72      0.78      1000\n",
            "possible_depression       0.29      0.44      0.35       250\n",
            "    true_depression       0.20      0.19      0.19        75\n",
            "\n",
            "           accuracy                           0.64      1325\n",
            "          macro avg       0.44      0.45      0.44      1325\n",
            "       weighted avg       0.70      0.64      0.66      1325\n",
            "\n",
            "max_features: 3000 n_gram: (1, 1)  solver: sag  tol: 3  C: 0.1  f1: 0.43902289635823033\n"
          ]
        },
        {
          "output_type": "stream",
          "name": "stderr",
          "text": [
            "/usr/local/lib/python3.10/dist-packages/sklearn/utils/validation.py:1183: DataConversionWarning: A column-vector y was passed when a 1d array was expected. Please change the shape of y to (n_samples, ), for example using ravel().\n",
            "  y = column_or_1d(y, warn=True)\n"
          ]
        },
        {
          "output_type": "stream",
          "name": "stdout",
          "text": [
            "                     precision    recall  f1-score   support\n",
            "\n",
            "      no_depression       0.82      0.78      0.80      1000\n",
            "possible_depression       0.29      0.37      0.33       250\n",
            "    true_depression       0.21      0.19      0.20        75\n",
            "\n",
            "           accuracy                           0.67      1325\n",
            "          macro avg       0.44      0.44      0.44      1325\n",
            "       weighted avg       0.69      0.67      0.68      1325\n",
            "\n",
            "max_features: 3000 n_gram: (1, 1)  solver: sag  tol: 3  C: 0.3  f1: 0.4409945161825271\n"
          ]
        },
        {
          "output_type": "stream",
          "name": "stderr",
          "text": [
            "/usr/local/lib/python3.10/dist-packages/sklearn/utils/validation.py:1183: DataConversionWarning: A column-vector y was passed when a 1d array was expected. Please change the shape of y to (n_samples, ), for example using ravel().\n",
            "  y = column_or_1d(y, warn=True)\n"
          ]
        },
        {
          "output_type": "stream",
          "name": "stdout",
          "text": [
            "                     precision    recall  f1-score   support\n",
            "\n",
            "      no_depression       0.82      0.74      0.78      1000\n",
            "possible_depression       0.28      0.43      0.34       250\n",
            "    true_depression       0.21      0.11      0.14        75\n",
            "\n",
            "           accuracy                           0.65      1325\n",
            "          macro avg       0.44      0.43      0.42      1325\n",
            "       weighted avg       0.68      0.65      0.66      1325\n",
            "\n",
            "max_features: 3000 n_gram: (1, 1)  solver: sag  tol: 3  C: 3  f1: 0.4193738816020071\n"
          ]
        },
        {
          "output_type": "stream",
          "name": "stderr",
          "text": [
            "/usr/local/lib/python3.10/dist-packages/sklearn/utils/validation.py:1183: DataConversionWarning: A column-vector y was passed when a 1d array was expected. Please change the shape of y to (n_samples, ), for example using ravel().\n",
            "  y = column_or_1d(y, warn=True)\n"
          ]
        },
        {
          "output_type": "stream",
          "name": "stdout",
          "text": [
            "                     precision    recall  f1-score   support\n",
            "\n",
            "      no_depression       0.81      0.77      0.79      1000\n",
            "possible_depression       0.26      0.33      0.29       250\n",
            "    true_depression       0.23      0.20      0.22        75\n",
            "\n",
            "           accuracy                           0.65      1325\n",
            "          macro avg       0.43      0.43      0.43      1325\n",
            "       weighted avg       0.68      0.65      0.66      1325\n",
            "\n",
            "max_features: 3000 n_gram: (1, 1)  solver: sag  tol: 3  C: 10  f1: 0.43091115711254996\n"
          ]
        },
        {
          "output_type": "stream",
          "name": "stderr",
          "text": [
            "/usr/local/lib/python3.10/dist-packages/sklearn/utils/validation.py:1183: DataConversionWarning: A column-vector y was passed when a 1d array was expected. Please change the shape of y to (n_samples, ), for example using ravel().\n",
            "  y = column_or_1d(y, warn=True)\n"
          ]
        },
        {
          "output_type": "stream",
          "name": "stdout",
          "text": [
            "                     precision    recall  f1-score   support\n",
            "\n",
            "      no_depression       0.85      0.70      0.77      1000\n",
            "possible_depression       0.30      0.42      0.35       250\n",
            "    true_depression       0.17      0.33      0.23        75\n",
            "\n",
            "           accuracy                           0.63      1325\n",
            "          macro avg       0.44      0.49      0.45      1325\n",
            "       weighted avg       0.71      0.63      0.66      1325\n",
            "\n",
            "max_features: 3000 n_gram: (1, 1)  solver: saga  tol: 5  C: 0.1  f1: 0.44910681811624076\n"
          ]
        },
        {
          "output_type": "stream",
          "name": "stderr",
          "text": [
            "/usr/local/lib/python3.10/dist-packages/sklearn/utils/validation.py:1183: DataConversionWarning: A column-vector y was passed when a 1d array was expected. Please change the shape of y to (n_samples, ), for example using ravel().\n",
            "  y = column_or_1d(y, warn=True)\n"
          ]
        },
        {
          "output_type": "stream",
          "name": "stdout",
          "text": [
            "                     precision    recall  f1-score   support\n",
            "\n",
            "      no_depression       0.85      0.68      0.76      1000\n",
            "possible_depression       0.30      0.54      0.39       250\n",
            "    true_depression       0.23      0.24      0.24        75\n",
            "\n",
            "           accuracy                           0.63      1325\n",
            "          macro avg       0.46      0.49      0.46      1325\n",
            "       weighted avg       0.71      0.63      0.66      1325\n",
            "\n",
            "max_features: 3000 n_gram: (1, 1)  solver: saga  tol: 5  C: 0.3  f1: 0.4603520231044398\n"
          ]
        },
        {
          "output_type": "stream",
          "name": "stderr",
          "text": [
            "/usr/local/lib/python3.10/dist-packages/sklearn/utils/validation.py:1183: DataConversionWarning: A column-vector y was passed when a 1d array was expected. Please change the shape of y to (n_samples, ), for example using ravel().\n",
            "  y = column_or_1d(y, warn=True)\n"
          ]
        },
        {
          "output_type": "stream",
          "name": "stdout",
          "text": [
            "                     precision    recall  f1-score   support\n",
            "\n",
            "      no_depression       0.84      0.65      0.74      1000\n",
            "possible_depression       0.28      0.50      0.36       250\n",
            "    true_depression       0.18      0.24      0.21        75\n",
            "\n",
            "           accuracy                           0.60      1325\n",
            "          macro avg       0.44      0.47      0.43      1325\n",
            "       weighted avg       0.70      0.60      0.64      1325\n",
            "\n",
            "max_features: 3000 n_gram: (1, 1)  solver: saga  tol: 5  C: 3  f1: 0.434656084324732\n"
          ]
        },
        {
          "output_type": "stream",
          "name": "stderr",
          "text": [
            "/usr/local/lib/python3.10/dist-packages/sklearn/utils/validation.py:1183: DataConversionWarning: A column-vector y was passed when a 1d array was expected. Please change the shape of y to (n_samples, ), for example using ravel().\n",
            "  y = column_or_1d(y, warn=True)\n"
          ]
        },
        {
          "output_type": "stream",
          "name": "stdout",
          "text": [
            "                     precision    recall  f1-score   support\n",
            "\n",
            "      no_depression       0.83      0.76      0.79      1000\n",
            "possible_depression       0.29      0.37      0.32       250\n",
            "    true_depression       0.22      0.27      0.24        75\n",
            "\n",
            "           accuracy                           0.66      1325\n",
            "          macro avg       0.45      0.46      0.45      1325\n",
            "       weighted avg       0.69      0.66      0.67      1325\n",
            "\n",
            "max_features: 3000 n_gram: (1, 1)  solver: saga  tol: 5  C: 10  f1: 0.45220942433485983\n"
          ]
        },
        {
          "output_type": "stream",
          "name": "stderr",
          "text": [
            "/usr/local/lib/python3.10/dist-packages/sklearn/utils/validation.py:1183: DataConversionWarning: A column-vector y was passed when a 1d array was expected. Please change the shape of y to (n_samples, ), for example using ravel().\n",
            "  y = column_or_1d(y, warn=True)\n"
          ]
        },
        {
          "output_type": "stream",
          "name": "stdout",
          "text": [
            "                     precision    recall  f1-score   support\n",
            "\n",
            "      no_depression       0.83      0.76      0.79      1000\n",
            "possible_depression       0.33      0.29      0.31       250\n",
            "    true_depression       0.18      0.45      0.26        75\n",
            "\n",
            "           accuracy                           0.65      1325\n",
            "          macro avg       0.45      0.50      0.45      1325\n",
            "       weighted avg       0.70      0.65      0.67      1325\n",
            "\n",
            "max_features: 3000 n_gram: (1, 1)  solver: saga  tol: 0.3  C: 0.1  f1: 0.4523709512929808\n"
          ]
        },
        {
          "output_type": "stream",
          "name": "stderr",
          "text": [
            "/usr/local/lib/python3.10/dist-packages/sklearn/utils/validation.py:1183: DataConversionWarning: A column-vector y was passed when a 1d array was expected. Please change the shape of y to (n_samples, ), for example using ravel().\n",
            "  y = column_or_1d(y, warn=True)\n"
          ]
        },
        {
          "output_type": "stream",
          "name": "stdout",
          "text": [
            "                     precision    recall  f1-score   support\n",
            "\n",
            "      no_depression       0.88      0.57      0.70      1000\n",
            "possible_depression       0.29      0.68      0.40       250\n",
            "    true_depression       0.17      0.19      0.18        75\n",
            "\n",
            "           accuracy                           0.57      1325\n",
            "          macro avg       0.44      0.48      0.43      1325\n",
            "       weighted avg       0.73      0.57      0.61      1325\n",
            "\n",
            "max_features: 3000 n_gram: (1, 1)  solver: saga  tol: 0.3  C: 0.3  f1: 0.4250488989676622\n"
          ]
        },
        {
          "output_type": "stream",
          "name": "stderr",
          "text": [
            "/usr/local/lib/python3.10/dist-packages/sklearn/utils/validation.py:1183: DataConversionWarning: A column-vector y was passed when a 1d array was expected. Please change the shape of y to (n_samples, ), for example using ravel().\n",
            "  y = column_or_1d(y, warn=True)\n"
          ]
        },
        {
          "output_type": "stream",
          "name": "stdout",
          "text": [
            "                     precision    recall  f1-score   support\n",
            "\n",
            "      no_depression       0.82      0.78      0.80      1000\n",
            "possible_depression       0.28      0.38      0.33       250\n",
            "    true_depression       0.23      0.15      0.18        75\n",
            "\n",
            "           accuracy                           0.67      1325\n",
            "          macro avg       0.45      0.43      0.44      1325\n",
            "       weighted avg       0.69      0.67      0.68      1325\n",
            "\n",
            "max_features: 3000 n_gram: (1, 1)  solver: saga  tol: 0.3  C: 3  f1: 0.43536061907987617\n"
          ]
        },
        {
          "output_type": "stream",
          "name": "stderr",
          "text": [
            "/usr/local/lib/python3.10/dist-packages/sklearn/utils/validation.py:1183: DataConversionWarning: A column-vector y was passed when a 1d array was expected. Please change the shape of y to (n_samples, ), for example using ravel().\n",
            "  y = column_or_1d(y, warn=True)\n"
          ]
        },
        {
          "output_type": "stream",
          "name": "stdout",
          "text": [
            "                     precision    recall  f1-score   support\n",
            "\n",
            "      no_depression       0.84      0.72      0.77      1000\n",
            "possible_depression       0.30      0.50      0.37       250\n",
            "    true_depression       0.24      0.13      0.17        75\n",
            "\n",
            "           accuracy                           0.65      1325\n",
            "          macro avg       0.46      0.45      0.44      1325\n",
            "       weighted avg       0.70      0.65      0.66      1325\n",
            "\n",
            "max_features: 3000 n_gram: (1, 1)  solver: saga  tol: 0.3  C: 10  f1: 0.4389138398071768\n"
          ]
        },
        {
          "output_type": "stream",
          "name": "stderr",
          "text": [
            "/usr/local/lib/python3.10/dist-packages/sklearn/utils/validation.py:1183: DataConversionWarning: A column-vector y was passed when a 1d array was expected. Please change the shape of y to (n_samples, ), for example using ravel().\n",
            "  y = column_or_1d(y, warn=True)\n"
          ]
        },
        {
          "output_type": "stream",
          "name": "stdout",
          "text": [
            "                     precision    recall  f1-score   support\n",
            "\n",
            "      no_depression       0.80      0.87      0.83      1000\n",
            "possible_depression       0.30      0.06      0.11       250\n",
            "    true_depression       0.18      0.44      0.26        75\n",
            "\n",
            "           accuracy                           0.69      1325\n",
            "          macro avg       0.43      0.46      0.40      1325\n",
            "       weighted avg       0.67      0.69      0.66      1325\n",
            "\n",
            "max_features: 3000 n_gram: (1, 1)  solver: saga  tol: 3  C: 0.1  f1: 0.3984060097608006\n"
          ]
        },
        {
          "output_type": "stream",
          "name": "stderr",
          "text": [
            "/usr/local/lib/python3.10/dist-packages/sklearn/utils/validation.py:1183: DataConversionWarning: A column-vector y was passed when a 1d array was expected. Please change the shape of y to (n_samples, ), for example using ravel().\n",
            "  y = column_or_1d(y, warn=True)\n"
          ]
        },
        {
          "output_type": "stream",
          "name": "stdout",
          "text": [
            "                     precision    recall  f1-score   support\n",
            "\n",
            "      no_depression       0.82      0.77      0.80      1000\n",
            "possible_depression       0.29      0.42      0.34       250\n",
            "    true_depression       0.33      0.08      0.13        75\n",
            "\n",
            "           accuracy                           0.67      1325\n",
            "          macro avg       0.48      0.42      0.42      1325\n",
            "       weighted avg       0.69      0.67      0.67      1325\n",
            "\n",
            "max_features: 3000 n_gram: (1, 1)  solver: saga  tol: 3  C: 0.3  f1: 0.4212048642669733\n"
          ]
        },
        {
          "output_type": "stream",
          "name": "stderr",
          "text": [
            "/usr/local/lib/python3.10/dist-packages/sklearn/utils/validation.py:1183: DataConversionWarning: A column-vector y was passed when a 1d array was expected. Please change the shape of y to (n_samples, ), for example using ravel().\n",
            "  y = column_or_1d(y, warn=True)\n"
          ]
        },
        {
          "output_type": "stream",
          "name": "stdout",
          "text": [
            "                     precision    recall  f1-score   support\n",
            "\n",
            "      no_depression       0.85      0.61      0.71      1000\n",
            "possible_depression       0.26      0.59      0.36       250\n",
            "    true_depression       0.18      0.12      0.14        75\n",
            "\n",
            "           accuracy                           0.58      1325\n",
            "          macro avg       0.43      0.44      0.41      1325\n",
            "       weighted avg       0.70      0.58      0.61      1325\n",
            "\n",
            "max_features: 3000 n_gram: (1, 1)  solver: saga  tol: 3  C: 3  f1: 0.4057587263943405\n"
          ]
        },
        {
          "output_type": "stream",
          "name": "stderr",
          "text": [
            "/usr/local/lib/python3.10/dist-packages/sklearn/utils/validation.py:1183: DataConversionWarning: A column-vector y was passed when a 1d array was expected. Please change the shape of y to (n_samples, ), for example using ravel().\n",
            "  y = column_or_1d(y, warn=True)\n"
          ]
        },
        {
          "output_type": "stream",
          "name": "stdout",
          "text": [
            "                     precision    recall  f1-score   support\n",
            "\n",
            "      no_depression       0.85      0.68      0.76      1000\n",
            "possible_depression       0.30      0.58      0.39       250\n",
            "    true_depression       0.21      0.11      0.14        75\n",
            "\n",
            "           accuracy                           0.63      1325\n",
            "          macro avg       0.45      0.46      0.43      1325\n",
            "       weighted avg       0.71      0.63      0.65      1325\n",
            "\n",
            "max_features: 3000 n_gram: (1, 1)  solver: saga  tol: 3  C: 10  f1: 0.43038251699177676\n"
          ]
        },
        {
          "output_type": "stream",
          "name": "stderr",
          "text": [
            "/usr/local/lib/python3.10/dist-packages/sklearn/utils/validation.py:1183: DataConversionWarning: A column-vector y was passed when a 1d array was expected. Please change the shape of y to (n_samples, ), for example using ravel().\n",
            "  y = column_or_1d(y, warn=True)\n"
          ]
        },
        {
          "output_type": "stream",
          "name": "stdout",
          "text": [
            "                     precision    recall  f1-score   support\n",
            "\n",
            "      no_depression       0.83      0.78      0.80      1000\n",
            "possible_depression       0.31      0.37      0.34       250\n",
            "    true_depression       0.21      0.25      0.23        75\n",
            "\n",
            "           accuracy                           0.67      1325\n",
            "          macro avg       0.45      0.47      0.46      1325\n",
            "       weighted avg       0.70      0.67      0.68      1325\n",
            "\n",
            "max_features: 3000 n_gram: (1, 2)  solver: lbfgs  tol: 5  C: 0.1  f1: 0.4555116493396834\n"
          ]
        },
        {
          "output_type": "stream",
          "name": "stderr",
          "text": [
            "/usr/local/lib/python3.10/dist-packages/sklearn/utils/validation.py:1183: DataConversionWarning: A column-vector y was passed when a 1d array was expected. Please change the shape of y to (n_samples, ), for example using ravel().\n",
            "  y = column_or_1d(y, warn=True)\n"
          ]
        },
        {
          "output_type": "stream",
          "name": "stdout",
          "text": [
            "                     precision    recall  f1-score   support\n",
            "\n",
            "      no_depression       0.82      0.79      0.81      1000\n",
            "possible_depression       0.30      0.34      0.32       250\n",
            "    true_depression       0.19      0.19      0.19        75\n",
            "\n",
            "           accuracy                           0.67      1325\n",
            "          macro avg       0.44      0.44      0.44      1325\n",
            "       weighted avg       0.69      0.67      0.68      1325\n",
            "\n",
            "max_features: 3000 n_gram: (1, 2)  solver: lbfgs  tol: 5  C: 0.3  f1: 0.4377230803890717\n"
          ]
        },
        {
          "output_type": "stream",
          "name": "stderr",
          "text": [
            "/usr/local/lib/python3.10/dist-packages/sklearn/utils/validation.py:1183: DataConversionWarning: A column-vector y was passed when a 1d array was expected. Please change the shape of y to (n_samples, ), for example using ravel().\n",
            "  y = column_or_1d(y, warn=True)\n"
          ]
        },
        {
          "output_type": "stream",
          "name": "stdout",
          "text": [
            "                     precision    recall  f1-score   support\n",
            "\n",
            "      no_depression       0.82      0.80      0.81      1000\n",
            "possible_depression       0.32      0.38      0.34       250\n",
            "    true_depression       0.20      0.13      0.16        75\n",
            "\n",
            "           accuracy                           0.68      1325\n",
            "          macro avg       0.44      0.44      0.44      1325\n",
            "       weighted avg       0.69      0.68      0.69      1325\n",
            "\n",
            "max_features: 3000 n_gram: (1, 2)  solver: lbfgs  tol: 5  C: 3  f1: 0.43818296286602093\n"
          ]
        },
        {
          "output_type": "stream",
          "name": "stderr",
          "text": [
            "/usr/local/lib/python3.10/dist-packages/sklearn/utils/validation.py:1183: DataConversionWarning: A column-vector y was passed when a 1d array was expected. Please change the shape of y to (n_samples, ), for example using ravel().\n",
            "  y = column_or_1d(y, warn=True)\n"
          ]
        },
        {
          "output_type": "stream",
          "name": "stdout",
          "text": [
            "                     precision    recall  f1-score   support\n",
            "\n",
            "      no_depression       0.82      0.81      0.82      1000\n",
            "possible_depression       0.32      0.37      0.34       250\n",
            "    true_depression       0.17      0.11      0.13        75\n",
            "\n",
            "           accuracy                           0.69      1325\n",
            "          macro avg       0.44      0.43      0.43      1325\n",
            "       weighted avg       0.69      0.69      0.69      1325\n",
            "\n",
            "max_features: 3000 n_gram: (1, 2)  solver: lbfgs  tol: 5  C: 10  f1: 0.4297918797827778\n"
          ]
        },
        {
          "output_type": "stream",
          "name": "stderr",
          "text": [
            "/usr/local/lib/python3.10/dist-packages/sklearn/utils/validation.py:1183: DataConversionWarning: A column-vector y was passed when a 1d array was expected. Please change the shape of y to (n_samples, ), for example using ravel().\n",
            "  y = column_or_1d(y, warn=True)\n"
          ]
        },
        {
          "output_type": "stream",
          "name": "stdout",
          "text": [
            "                     precision    recall  f1-score   support\n",
            "\n",
            "      no_depression       0.83      0.78      0.80      1000\n",
            "possible_depression       0.31      0.36      0.33       250\n",
            "    true_depression       0.20      0.24      0.22        75\n",
            "\n",
            "           accuracy                           0.67      1325\n",
            "          macro avg       0.44      0.46      0.45      1325\n",
            "       weighted avg       0.69      0.67      0.68      1325\n",
            "\n",
            "max_features: 3000 n_gram: (1, 2)  solver: lbfgs  tol: 0.3  C: 0.1  f1: 0.45057712012959045\n"
          ]
        },
        {
          "output_type": "stream",
          "name": "stderr",
          "text": [
            "/usr/local/lib/python3.10/dist-packages/sklearn/utils/validation.py:1183: DataConversionWarning: A column-vector y was passed when a 1d array was expected. Please change the shape of y to (n_samples, ), for example using ravel().\n",
            "  y = column_or_1d(y, warn=True)\n"
          ]
        },
        {
          "output_type": "stream",
          "name": "stdout",
          "text": [
            "                     precision    recall  f1-score   support\n",
            "\n",
            "      no_depression       0.82      0.79      0.81      1000\n",
            "possible_depression       0.29      0.35      0.32       250\n",
            "    true_depression       0.19      0.19      0.19        75\n",
            "\n",
            "           accuracy                           0.67      1325\n",
            "          macro avg       0.44      0.44      0.44      1325\n",
            "       weighted avg       0.69      0.67      0.68      1325\n",
            "\n",
            "max_features: 3000 n_gram: (1, 2)  solver: lbfgs  tol: 0.3  C: 0.3  f1: 0.4370159370755349\n"
          ]
        },
        {
          "output_type": "stream",
          "name": "stderr",
          "text": [
            "/usr/local/lib/python3.10/dist-packages/sklearn/utils/validation.py:1183: DataConversionWarning: A column-vector y was passed when a 1d array was expected. Please change the shape of y to (n_samples, ), for example using ravel().\n",
            "  y = column_or_1d(y, warn=True)\n"
          ]
        },
        {
          "output_type": "stream",
          "name": "stdout",
          "text": [
            "                     precision    recall  f1-score   support\n",
            "\n",
            "      no_depression       0.82      0.81      0.81      1000\n",
            "possible_depression       0.32      0.38      0.34       250\n",
            "    true_depression       0.21      0.13      0.16        75\n",
            "\n",
            "           accuracy                           0.69      1325\n",
            "          macro avg       0.45      0.44      0.44      1325\n",
            "       weighted avg       0.69      0.69      0.69      1325\n",
            "\n",
            "max_features: 3000 n_gram: (1, 2)  solver: lbfgs  tol: 0.3  C: 3  f1: 0.44073551338612643\n"
          ]
        },
        {
          "output_type": "stream",
          "name": "stderr",
          "text": [
            "/usr/local/lib/python3.10/dist-packages/sklearn/utils/validation.py:1183: DataConversionWarning: A column-vector y was passed when a 1d array was expected. Please change the shape of y to (n_samples, ), for example using ravel().\n",
            "  y = column_or_1d(y, warn=True)\n"
          ]
        },
        {
          "output_type": "stream",
          "name": "stdout",
          "text": [
            "                     precision    recall  f1-score   support\n",
            "\n",
            "      no_depression       0.82      0.80      0.81      1000\n",
            "possible_depression       0.31      0.38      0.34       250\n",
            "    true_depression       0.22      0.13      0.17        75\n",
            "\n",
            "           accuracy                           0.68      1325\n",
            "          macro avg       0.45      0.44      0.44      1325\n",
            "       weighted avg       0.69      0.68      0.69      1325\n",
            "\n",
            "max_features: 3000 n_gram: (1, 2)  solver: lbfgs  tol: 0.3  C: 10  f1: 0.4393783740230441\n"
          ]
        },
        {
          "output_type": "stream",
          "name": "stderr",
          "text": [
            "/usr/local/lib/python3.10/dist-packages/sklearn/utils/validation.py:1183: DataConversionWarning: A column-vector y was passed when a 1d array was expected. Please change the shape of y to (n_samples, ), for example using ravel().\n",
            "  y = column_or_1d(y, warn=True)\n"
          ]
        },
        {
          "output_type": "stream",
          "name": "stdout",
          "text": [
            "                     precision    recall  f1-score   support\n",
            "\n",
            "      no_depression       0.83      0.78      0.80      1000\n",
            "possible_depression       0.31      0.37      0.34       250\n",
            "    true_depression       0.21      0.25      0.23        75\n",
            "\n",
            "           accuracy                           0.67      1325\n",
            "          macro avg       0.45      0.47      0.46      1325\n",
            "       weighted avg       0.70      0.67      0.68      1325\n",
            "\n",
            "max_features: 3000 n_gram: (1, 2)  solver: lbfgs  tol: 3  C: 0.1  f1: 0.4555116493396834\n"
          ]
        },
        {
          "output_type": "stream",
          "name": "stderr",
          "text": [
            "/usr/local/lib/python3.10/dist-packages/sklearn/utils/validation.py:1183: DataConversionWarning: A column-vector y was passed when a 1d array was expected. Please change the shape of y to (n_samples, ), for example using ravel().\n",
            "  y = column_or_1d(y, warn=True)\n"
          ]
        },
        {
          "output_type": "stream",
          "name": "stdout",
          "text": [
            "                     precision    recall  f1-score   support\n",
            "\n",
            "      no_depression       0.82      0.79      0.81      1000\n",
            "possible_depression       0.29      0.35      0.32       250\n",
            "    true_depression       0.19      0.19      0.19        75\n",
            "\n",
            "           accuracy                           0.67      1325\n",
            "          macro avg       0.44      0.44      0.44      1325\n",
            "       weighted avg       0.69      0.67      0.68      1325\n",
            "\n",
            "max_features: 3000 n_gram: (1, 2)  solver: lbfgs  tol: 3  C: 0.3  f1: 0.4372386237608778\n"
          ]
        },
        {
          "output_type": "stream",
          "name": "stderr",
          "text": [
            "/usr/local/lib/python3.10/dist-packages/sklearn/utils/validation.py:1183: DataConversionWarning: A column-vector y was passed when a 1d array was expected. Please change the shape of y to (n_samples, ), for example using ravel().\n",
            "  y = column_or_1d(y, warn=True)\n"
          ]
        },
        {
          "output_type": "stream",
          "name": "stdout",
          "text": [
            "                     precision    recall  f1-score   support\n",
            "\n",
            "      no_depression       0.82      0.81      0.82      1000\n",
            "possible_depression       0.32      0.38      0.35       250\n",
            "    true_depression       0.20      0.13      0.16        75\n",
            "\n",
            "           accuracy                           0.69      1325\n",
            "          macro avg       0.45      0.44      0.44      1325\n",
            "       weighted avg       0.69      0.69      0.69      1325\n",
            "\n",
            "max_features: 3000 n_gram: (1, 2)  solver: lbfgs  tol: 3  C: 3  f1: 0.44078248260434916\n"
          ]
        },
        {
          "output_type": "stream",
          "name": "stderr",
          "text": [
            "/usr/local/lib/python3.10/dist-packages/sklearn/utils/validation.py:1183: DataConversionWarning: A column-vector y was passed when a 1d array was expected. Please change the shape of y to (n_samples, ), for example using ravel().\n",
            "  y = column_or_1d(y, warn=True)\n"
          ]
        },
        {
          "output_type": "stream",
          "name": "stdout",
          "text": [
            "                     precision    recall  f1-score   support\n",
            "\n",
            "      no_depression       0.82      0.81      0.81      1000\n",
            "possible_depression       0.31      0.38      0.34       250\n",
            "    true_depression       0.23      0.12      0.16        75\n",
            "\n",
            "           accuracy                           0.69      1325\n",
            "          macro avg       0.45      0.44      0.44      1325\n",
            "       weighted avg       0.69      0.69      0.69      1325\n",
            "\n",
            "max_features: 3000 n_gram: (1, 2)  solver: lbfgs  tol: 3  C: 10  f1: 0.43712957701426775\n"
          ]
        },
        {
          "output_type": "stream",
          "name": "stderr",
          "text": [
            "/usr/local/lib/python3.10/dist-packages/sklearn/utils/validation.py:1183: DataConversionWarning: A column-vector y was passed when a 1d array was expected. Please change the shape of y to (n_samples, ), for example using ravel().\n",
            "  y = column_or_1d(y, warn=True)\n",
            "/usr/local/lib/python3.10/dist-packages/sklearn/metrics/_classification.py:1471: UndefinedMetricWarning: Precision and F-score are ill-defined and being set to 0.0 in labels with no predicted samples. Use `zero_division` parameter to control this behavior.\n",
            "  _warn_prf(average, modifier, msg_start, len(result))\n",
            "/usr/local/lib/python3.10/dist-packages/sklearn/metrics/_classification.py:1471: UndefinedMetricWarning: Precision and F-score are ill-defined and being set to 0.0 in labels with no predicted samples. Use `zero_division` parameter to control this behavior.\n",
            "  _warn_prf(average, modifier, msg_start, len(result))\n",
            "/usr/local/lib/python3.10/dist-packages/sklearn/metrics/_classification.py:1471: UndefinedMetricWarning: Precision and F-score are ill-defined and being set to 0.0 in labels with no predicted samples. Use `zero_division` parameter to control this behavior.\n",
            "  _warn_prf(average, modifier, msg_start, len(result))\n"
          ]
        },
        {
          "output_type": "stream",
          "name": "stdout",
          "text": [
            "                     precision    recall  f1-score   support\n",
            "\n",
            "      no_depression       0.75      1.00      0.86      1000\n",
            "possible_depression       0.00      0.00      0.00       250\n",
            "    true_depression       0.00      0.00      0.00        75\n",
            "\n",
            "           accuracy                           0.75      1325\n",
            "          macro avg       0.25      0.33      0.29      1325\n",
            "       weighted avg       0.57      0.75      0.65      1325\n",
            "\n",
            "max_features: 3000 n_gram: (1, 2)  solver: liblinear  tol: 5  C: 0.1  f1: 0.2867383512544803\n"
          ]
        },
        {
          "output_type": "stream",
          "name": "stderr",
          "text": [
            "/usr/local/lib/python3.10/dist-packages/sklearn/utils/validation.py:1183: DataConversionWarning: A column-vector y was passed when a 1d array was expected. Please change the shape of y to (n_samples, ), for example using ravel().\n",
            "  y = column_or_1d(y, warn=True)\n",
            "/usr/local/lib/python3.10/dist-packages/sklearn/metrics/_classification.py:1471: UndefinedMetricWarning: Precision and F-score are ill-defined and being set to 0.0 in labels with no predicted samples. Use `zero_division` parameter to control this behavior.\n",
            "  _warn_prf(average, modifier, msg_start, len(result))\n",
            "/usr/local/lib/python3.10/dist-packages/sklearn/metrics/_classification.py:1471: UndefinedMetricWarning: Precision and F-score are ill-defined and being set to 0.0 in labels with no predicted samples. Use `zero_division` parameter to control this behavior.\n",
            "  _warn_prf(average, modifier, msg_start, len(result))\n",
            "/usr/local/lib/python3.10/dist-packages/sklearn/metrics/_classification.py:1471: UndefinedMetricWarning: Precision and F-score are ill-defined and being set to 0.0 in labels with no predicted samples. Use `zero_division` parameter to control this behavior.\n",
            "  _warn_prf(average, modifier, msg_start, len(result))\n"
          ]
        },
        {
          "output_type": "stream",
          "name": "stdout",
          "text": [
            "                     precision    recall  f1-score   support\n",
            "\n",
            "      no_depression       0.75      1.00      0.86      1000\n",
            "possible_depression       0.00      0.00      0.00       250\n",
            "    true_depression       0.00      0.00      0.00        75\n",
            "\n",
            "           accuracy                           0.75      1325\n",
            "          macro avg       0.25      0.33      0.29      1325\n",
            "       weighted avg       0.57      0.75      0.65      1325\n",
            "\n",
            "max_features: 3000 n_gram: (1, 2)  solver: liblinear  tol: 5  C: 0.3  f1: 0.2867383512544803\n"
          ]
        },
        {
          "output_type": "stream",
          "name": "stderr",
          "text": [
            "/usr/local/lib/python3.10/dist-packages/sklearn/utils/validation.py:1183: DataConversionWarning: A column-vector y was passed when a 1d array was expected. Please change the shape of y to (n_samples, ), for example using ravel().\n",
            "  y = column_or_1d(y, warn=True)\n",
            "/usr/local/lib/python3.10/dist-packages/sklearn/metrics/_classification.py:1471: UndefinedMetricWarning: Precision and F-score are ill-defined and being set to 0.0 in labels with no predicted samples. Use `zero_division` parameter to control this behavior.\n",
            "  _warn_prf(average, modifier, msg_start, len(result))\n",
            "/usr/local/lib/python3.10/dist-packages/sklearn/metrics/_classification.py:1471: UndefinedMetricWarning: Precision and F-score are ill-defined and being set to 0.0 in labels with no predicted samples. Use `zero_division` parameter to control this behavior.\n",
            "  _warn_prf(average, modifier, msg_start, len(result))\n",
            "/usr/local/lib/python3.10/dist-packages/sklearn/metrics/_classification.py:1471: UndefinedMetricWarning: Precision and F-score are ill-defined and being set to 0.0 in labels with no predicted samples. Use `zero_division` parameter to control this behavior.\n",
            "  _warn_prf(average, modifier, msg_start, len(result))\n"
          ]
        },
        {
          "output_type": "stream",
          "name": "stdout",
          "text": [
            "                     precision    recall  f1-score   support\n",
            "\n",
            "      no_depression       0.75      1.00      0.86      1000\n",
            "possible_depression       0.00      0.00      0.00       250\n",
            "    true_depression       0.00      0.00      0.00        75\n",
            "\n",
            "           accuracy                           0.75      1325\n",
            "          macro avg       0.25      0.33      0.29      1325\n",
            "       weighted avg       0.57      0.75      0.65      1325\n",
            "\n",
            "max_features: 3000 n_gram: (1, 2)  solver: liblinear  tol: 5  C: 3  f1: 0.2867383512544803\n"
          ]
        },
        {
          "output_type": "stream",
          "name": "stderr",
          "text": [
            "/usr/local/lib/python3.10/dist-packages/sklearn/utils/validation.py:1183: DataConversionWarning: A column-vector y was passed when a 1d array was expected. Please change the shape of y to (n_samples, ), for example using ravel().\n",
            "  y = column_or_1d(y, warn=True)\n",
            "/usr/local/lib/python3.10/dist-packages/sklearn/metrics/_classification.py:1471: UndefinedMetricWarning: Precision and F-score are ill-defined and being set to 0.0 in labels with no predicted samples. Use `zero_division` parameter to control this behavior.\n",
            "  _warn_prf(average, modifier, msg_start, len(result))\n",
            "/usr/local/lib/python3.10/dist-packages/sklearn/metrics/_classification.py:1471: UndefinedMetricWarning: Precision and F-score are ill-defined and being set to 0.0 in labels with no predicted samples. Use `zero_division` parameter to control this behavior.\n",
            "  _warn_prf(average, modifier, msg_start, len(result))\n",
            "/usr/local/lib/python3.10/dist-packages/sklearn/metrics/_classification.py:1471: UndefinedMetricWarning: Precision and F-score are ill-defined and being set to 0.0 in labels with no predicted samples. Use `zero_division` parameter to control this behavior.\n",
            "  _warn_prf(average, modifier, msg_start, len(result))\n"
          ]
        },
        {
          "output_type": "stream",
          "name": "stdout",
          "text": [
            "                     precision    recall  f1-score   support\n",
            "\n",
            "      no_depression       0.75      1.00      0.86      1000\n",
            "possible_depression       0.00      0.00      0.00       250\n",
            "    true_depression       0.00      0.00      0.00        75\n",
            "\n",
            "           accuracy                           0.75      1325\n",
            "          macro avg       0.25      0.33      0.29      1325\n",
            "       weighted avg       0.57      0.75      0.65      1325\n",
            "\n",
            "max_features: 3000 n_gram: (1, 2)  solver: liblinear  tol: 5  C: 10  f1: 0.2867383512544803\n"
          ]
        },
        {
          "output_type": "stream",
          "name": "stderr",
          "text": [
            "/usr/local/lib/python3.10/dist-packages/sklearn/utils/validation.py:1183: DataConversionWarning: A column-vector y was passed when a 1d array was expected. Please change the shape of y to (n_samples, ), for example using ravel().\n",
            "  y = column_or_1d(y, warn=True)\n"
          ]
        },
        {
          "output_type": "stream",
          "name": "stdout",
          "text": [
            "                     precision    recall  f1-score   support\n",
            "\n",
            "      no_depression       0.84      0.75      0.79      1000\n",
            "possible_depression       0.31      0.40      0.35       250\n",
            "    true_depression       0.20      0.28      0.24        75\n",
            "\n",
            "           accuracy                           0.66      1325\n",
            "          macro avg       0.45      0.48      0.46      1325\n",
            "       weighted avg       0.70      0.66      0.68      1325\n",
            "\n",
            "max_features: 3000 n_gram: (1, 2)  solver: liblinear  tol: 0.3  C: 0.1  f1: 0.45976320545214683\n"
          ]
        },
        {
          "output_type": "stream",
          "name": "stderr",
          "text": [
            "/usr/local/lib/python3.10/dist-packages/sklearn/utils/validation.py:1183: DataConversionWarning: A column-vector y was passed when a 1d array was expected. Please change the shape of y to (n_samples, ), for example using ravel().\n",
            "  y = column_or_1d(y, warn=True)\n"
          ]
        },
        {
          "output_type": "stream",
          "name": "stdout",
          "text": [
            "                     precision    recall  f1-score   support\n",
            "\n",
            "      no_depression       0.83      0.78      0.80      1000\n",
            "possible_depression       0.31      0.35      0.33       250\n",
            "    true_depression       0.20      0.25      0.22        75\n",
            "\n",
            "           accuracy                           0.67      1325\n",
            "          macro avg       0.45      0.46      0.45      1325\n",
            "       weighted avg       0.69      0.67      0.68      1325\n",
            "\n",
            "max_features: 3000 n_gram: (1, 2)  solver: liblinear  tol: 0.3  C: 0.3  f1: 0.4530560357923295\n"
          ]
        },
        {
          "output_type": "stream",
          "name": "stderr",
          "text": [
            "/usr/local/lib/python3.10/dist-packages/sklearn/utils/validation.py:1183: DataConversionWarning: A column-vector y was passed when a 1d array was expected. Please change the shape of y to (n_samples, ), for example using ravel().\n",
            "  y = column_or_1d(y, warn=True)\n"
          ]
        },
        {
          "output_type": "stream",
          "name": "stdout",
          "text": [
            "                     precision    recall  f1-score   support\n",
            "\n",
            "      no_depression       0.83      0.75      0.79      1000\n",
            "possible_depression       0.31      0.42      0.36       250\n",
            "    true_depression       0.17      0.19      0.18        75\n",
            "\n",
            "           accuracy                           0.66      1325\n",
            "          macro avg       0.44      0.45      0.44      1325\n",
            "       weighted avg       0.70      0.66      0.67      1325\n",
            "\n",
            "max_features: 3000 n_gram: (1, 2)  solver: liblinear  tol: 0.3  C: 3  f1: 0.44249277812855237\n"
          ]
        },
        {
          "output_type": "stream",
          "name": "stderr",
          "text": [
            "/usr/local/lib/python3.10/dist-packages/sklearn/utils/validation.py:1183: DataConversionWarning: A column-vector y was passed when a 1d array was expected. Please change the shape of y to (n_samples, ), for example using ravel().\n",
            "  y = column_or_1d(y, warn=True)\n"
          ]
        },
        {
          "output_type": "stream",
          "name": "stdout",
          "text": [
            "                     precision    recall  f1-score   support\n",
            "\n",
            "      no_depression       0.83      0.76      0.80      1000\n",
            "possible_depression       0.31      0.43      0.36       250\n",
            "    true_depression       0.18      0.15      0.16        75\n",
            "\n",
            "           accuracy                           0.66      1325\n",
            "          macro avg       0.44      0.45      0.44      1325\n",
            "       weighted avg       0.70      0.66      0.68      1325\n",
            "\n",
            "max_features: 3000 n_gram: (1, 2)  solver: liblinear  tol: 0.3  C: 10  f1: 0.4386227483694207\n"
          ]
        },
        {
          "output_type": "stream",
          "name": "stderr",
          "text": [
            "/usr/local/lib/python3.10/dist-packages/sklearn/utils/validation.py:1183: DataConversionWarning: A column-vector y was passed when a 1d array was expected. Please change the shape of y to (n_samples, ), for example using ravel().\n",
            "  y = column_or_1d(y, warn=True)\n",
            "/usr/local/lib/python3.10/dist-packages/sklearn/metrics/_classification.py:1471: UndefinedMetricWarning: Precision and F-score are ill-defined and being set to 0.0 in labels with no predicted samples. Use `zero_division` parameter to control this behavior.\n",
            "  _warn_prf(average, modifier, msg_start, len(result))\n",
            "/usr/local/lib/python3.10/dist-packages/sklearn/metrics/_classification.py:1471: UndefinedMetricWarning: Precision and F-score are ill-defined and being set to 0.0 in labels with no predicted samples. Use `zero_division` parameter to control this behavior.\n",
            "  _warn_prf(average, modifier, msg_start, len(result))\n",
            "/usr/local/lib/python3.10/dist-packages/sklearn/metrics/_classification.py:1471: UndefinedMetricWarning: Precision and F-score are ill-defined and being set to 0.0 in labels with no predicted samples. Use `zero_division` parameter to control this behavior.\n",
            "  _warn_prf(average, modifier, msg_start, len(result))\n"
          ]
        },
        {
          "output_type": "stream",
          "name": "stdout",
          "text": [
            "                     precision    recall  f1-score   support\n",
            "\n",
            "      no_depression       0.75      1.00      0.86      1000\n",
            "possible_depression       0.00      0.00      0.00       250\n",
            "    true_depression       0.00      0.00      0.00        75\n",
            "\n",
            "           accuracy                           0.75      1325\n",
            "          macro avg       0.25      0.33      0.29      1325\n",
            "       weighted avg       0.57      0.75      0.65      1325\n",
            "\n",
            "max_features: 3000 n_gram: (1, 2)  solver: liblinear  tol: 3  C: 0.1  f1: 0.2867383512544803\n"
          ]
        },
        {
          "output_type": "stream",
          "name": "stderr",
          "text": [
            "/usr/local/lib/python3.10/dist-packages/sklearn/utils/validation.py:1183: DataConversionWarning: A column-vector y was passed when a 1d array was expected. Please change the shape of y to (n_samples, ), for example using ravel().\n",
            "  y = column_or_1d(y, warn=True)\n",
            "/usr/local/lib/python3.10/dist-packages/sklearn/metrics/_classification.py:1471: UndefinedMetricWarning: Precision and F-score are ill-defined and being set to 0.0 in labels with no predicted samples. Use `zero_division` parameter to control this behavior.\n",
            "  _warn_prf(average, modifier, msg_start, len(result))\n",
            "/usr/local/lib/python3.10/dist-packages/sklearn/metrics/_classification.py:1471: UndefinedMetricWarning: Precision and F-score are ill-defined and being set to 0.0 in labels with no predicted samples. Use `zero_division` parameter to control this behavior.\n",
            "  _warn_prf(average, modifier, msg_start, len(result))\n",
            "/usr/local/lib/python3.10/dist-packages/sklearn/metrics/_classification.py:1471: UndefinedMetricWarning: Precision and F-score are ill-defined and being set to 0.0 in labels with no predicted samples. Use `zero_division` parameter to control this behavior.\n",
            "  _warn_prf(average, modifier, msg_start, len(result))\n"
          ]
        },
        {
          "output_type": "stream",
          "name": "stdout",
          "text": [
            "                     precision    recall  f1-score   support\n",
            "\n",
            "      no_depression       0.75      1.00      0.86      1000\n",
            "possible_depression       0.00      0.00      0.00       250\n",
            "    true_depression       0.00      0.00      0.00        75\n",
            "\n",
            "           accuracy                           0.75      1325\n",
            "          macro avg       0.25      0.33      0.29      1325\n",
            "       weighted avg       0.57      0.75      0.65      1325\n",
            "\n",
            "max_features: 3000 n_gram: (1, 2)  solver: liblinear  tol: 3  C: 0.3  f1: 0.2867383512544803\n"
          ]
        },
        {
          "output_type": "stream",
          "name": "stderr",
          "text": [
            "/usr/local/lib/python3.10/dist-packages/sklearn/utils/validation.py:1183: DataConversionWarning: A column-vector y was passed when a 1d array was expected. Please change the shape of y to (n_samples, ), for example using ravel().\n",
            "  y = column_or_1d(y, warn=True)\n",
            "/usr/local/lib/python3.10/dist-packages/sklearn/metrics/_classification.py:1471: UndefinedMetricWarning: Precision and F-score are ill-defined and being set to 0.0 in labels with no predicted samples. Use `zero_division` parameter to control this behavior.\n",
            "  _warn_prf(average, modifier, msg_start, len(result))\n",
            "/usr/local/lib/python3.10/dist-packages/sklearn/metrics/_classification.py:1471: UndefinedMetricWarning: Precision and F-score are ill-defined and being set to 0.0 in labels with no predicted samples. Use `zero_division` parameter to control this behavior.\n",
            "  _warn_prf(average, modifier, msg_start, len(result))\n",
            "/usr/local/lib/python3.10/dist-packages/sklearn/metrics/_classification.py:1471: UndefinedMetricWarning: Precision and F-score are ill-defined and being set to 0.0 in labels with no predicted samples. Use `zero_division` parameter to control this behavior.\n",
            "  _warn_prf(average, modifier, msg_start, len(result))\n"
          ]
        },
        {
          "output_type": "stream",
          "name": "stdout",
          "text": [
            "                     precision    recall  f1-score   support\n",
            "\n",
            "      no_depression       0.75      1.00      0.86      1000\n",
            "possible_depression       0.00      0.00      0.00       250\n",
            "    true_depression       0.00      0.00      0.00        75\n",
            "\n",
            "           accuracy                           0.75      1325\n",
            "          macro avg       0.25      0.33      0.29      1325\n",
            "       weighted avg       0.57      0.75      0.65      1325\n",
            "\n",
            "max_features: 3000 n_gram: (1, 2)  solver: liblinear  tol: 3  C: 3  f1: 0.2867383512544803\n"
          ]
        },
        {
          "output_type": "stream",
          "name": "stderr",
          "text": [
            "/usr/local/lib/python3.10/dist-packages/sklearn/utils/validation.py:1183: DataConversionWarning: A column-vector y was passed when a 1d array was expected. Please change the shape of y to (n_samples, ), for example using ravel().\n",
            "  y = column_or_1d(y, warn=True)\n",
            "/usr/local/lib/python3.10/dist-packages/sklearn/metrics/_classification.py:1471: UndefinedMetricWarning: Precision and F-score are ill-defined and being set to 0.0 in labels with no predicted samples. Use `zero_division` parameter to control this behavior.\n",
            "  _warn_prf(average, modifier, msg_start, len(result))\n",
            "/usr/local/lib/python3.10/dist-packages/sklearn/metrics/_classification.py:1471: UndefinedMetricWarning: Precision and F-score are ill-defined and being set to 0.0 in labels with no predicted samples. Use `zero_division` parameter to control this behavior.\n",
            "  _warn_prf(average, modifier, msg_start, len(result))\n",
            "/usr/local/lib/python3.10/dist-packages/sklearn/metrics/_classification.py:1471: UndefinedMetricWarning: Precision and F-score are ill-defined and being set to 0.0 in labels with no predicted samples. Use `zero_division` parameter to control this behavior.\n",
            "  _warn_prf(average, modifier, msg_start, len(result))\n"
          ]
        },
        {
          "output_type": "stream",
          "name": "stdout",
          "text": [
            "                     precision    recall  f1-score   support\n",
            "\n",
            "      no_depression       0.75      1.00      0.86      1000\n",
            "possible_depression       0.00      0.00      0.00       250\n",
            "    true_depression       0.00      0.00      0.00        75\n",
            "\n",
            "           accuracy                           0.75      1325\n",
            "          macro avg       0.25      0.33      0.29      1325\n",
            "       weighted avg       0.57      0.75      0.65      1325\n",
            "\n",
            "max_features: 3000 n_gram: (1, 2)  solver: liblinear  tol: 3  C: 10  f1: 0.2867383512544803\n"
          ]
        },
        {
          "output_type": "stream",
          "name": "stderr",
          "text": [
            "/usr/local/lib/python3.10/dist-packages/sklearn/utils/validation.py:1183: DataConversionWarning: A column-vector y was passed when a 1d array was expected. Please change the shape of y to (n_samples, ), for example using ravel().\n",
            "  y = column_or_1d(y, warn=True)\n"
          ]
        },
        {
          "output_type": "stream",
          "name": "stdout",
          "text": [
            "                     precision    recall  f1-score   support\n",
            "\n",
            "      no_depression       0.83      0.77      0.80      1000\n",
            "possible_depression       0.31      0.39      0.35       250\n",
            "    true_depression       0.20      0.25      0.23        75\n",
            "\n",
            "           accuracy                           0.67      1325\n",
            "          macro avg       0.45      0.47      0.46      1325\n",
            "       weighted avg       0.70      0.67      0.68      1325\n",
            "\n",
            "max_features: 3000 n_gram: (1, 2)  solver: newton-cg  tol: 5  C: 0.1  f1: 0.45762053041857315\n"
          ]
        },
        {
          "output_type": "stream",
          "name": "stderr",
          "text": [
            "/usr/local/lib/python3.10/dist-packages/sklearn/utils/validation.py:1183: DataConversionWarning: A column-vector y was passed when a 1d array was expected. Please change the shape of y to (n_samples, ), for example using ravel().\n",
            "  y = column_or_1d(y, warn=True)\n"
          ]
        },
        {
          "output_type": "stream",
          "name": "stdout",
          "text": [
            "                     precision    recall  f1-score   support\n",
            "\n",
            "      no_depression       0.82      0.78      0.80      1000\n",
            "possible_depression       0.30      0.36      0.32       250\n",
            "    true_depression       0.19      0.19      0.19        75\n",
            "\n",
            "           accuracy                           0.67      1325\n",
            "          macro avg       0.44      0.44      0.44      1325\n",
            "       weighted avg       0.69      0.67      0.68      1325\n",
            "\n",
            "max_features: 3000 n_gram: (1, 2)  solver: newton-cg  tol: 5  C: 0.3  f1: 0.4380151293263512\n"
          ]
        },
        {
          "output_type": "stream",
          "name": "stderr",
          "text": [
            "/usr/local/lib/python3.10/dist-packages/sklearn/utils/validation.py:1183: DataConversionWarning: A column-vector y was passed when a 1d array was expected. Please change the shape of y to (n_samples, ), for example using ravel().\n",
            "  y = column_or_1d(y, warn=True)\n"
          ]
        },
        {
          "output_type": "stream",
          "name": "stdout",
          "text": [
            "                     precision    recall  f1-score   support\n",
            "\n",
            "      no_depression       0.83      0.80      0.81      1000\n",
            "possible_depression       0.31      0.38      0.34       250\n",
            "    true_depression       0.22      0.15      0.18        75\n",
            "\n",
            "           accuracy                           0.69      1325\n",
            "          macro avg       0.45      0.44      0.44      1325\n",
            "       weighted avg       0.69      0.69      0.69      1325\n",
            "\n",
            "max_features: 3000 n_gram: (1, 2)  solver: newton-cg  tol: 5  C: 3  f1: 0.4447305826728467\n"
          ]
        },
        {
          "output_type": "stream",
          "name": "stderr",
          "text": [
            "/usr/local/lib/python3.10/dist-packages/sklearn/utils/validation.py:1183: DataConversionWarning: A column-vector y was passed when a 1d array was expected. Please change the shape of y to (n_samples, ), for example using ravel().\n",
            "  y = column_or_1d(y, warn=True)\n"
          ]
        },
        {
          "output_type": "stream",
          "name": "stdout",
          "text": [
            "                     precision    recall  f1-score   support\n",
            "\n",
            "      no_depression       0.82      0.81      0.81      1000\n",
            "possible_depression       0.31      0.38      0.34       250\n",
            "    true_depression       0.21      0.11      0.14        75\n",
            "\n",
            "           accuracy                           0.69      1325\n",
            "          macro avg       0.45      0.43      0.43      1325\n",
            "       weighted avg       0.69      0.69      0.69      1325\n",
            "\n",
            "max_features: 3000 n_gram: (1, 2)  solver: newton-cg  tol: 5  C: 10  f1: 0.43200559585475623\n"
          ]
        },
        {
          "output_type": "stream",
          "name": "stderr",
          "text": [
            "/usr/local/lib/python3.10/dist-packages/sklearn/utils/validation.py:1183: DataConversionWarning: A column-vector y was passed when a 1d array was expected. Please change the shape of y to (n_samples, ), for example using ravel().\n",
            "  y = column_or_1d(y, warn=True)\n"
          ]
        },
        {
          "output_type": "stream",
          "name": "stdout",
          "text": [
            "                     precision    recall  f1-score   support\n",
            "\n",
            "      no_depression       0.83      0.78      0.80      1000\n",
            "possible_depression       0.31      0.36      0.33       250\n",
            "    true_depression       0.20      0.24      0.22        75\n",
            "\n",
            "           accuracy                           0.67      1325\n",
            "          macro avg       0.44      0.46      0.45      1325\n",
            "       weighted avg       0.69      0.67      0.68      1325\n",
            "\n",
            "max_features: 3000 n_gram: (1, 2)  solver: newton-cg  tol: 0.3  C: 0.1  f1: 0.45057712012959045\n"
          ]
        },
        {
          "output_type": "stream",
          "name": "stderr",
          "text": [
            "/usr/local/lib/python3.10/dist-packages/sklearn/utils/validation.py:1183: DataConversionWarning: A column-vector y was passed when a 1d array was expected. Please change the shape of y to (n_samples, ), for example using ravel().\n",
            "  y = column_or_1d(y, warn=True)\n"
          ]
        },
        {
          "output_type": "stream",
          "name": "stdout",
          "text": [
            "                     precision    recall  f1-score   support\n",
            "\n",
            "      no_depression       0.82      0.79      0.81      1000\n",
            "possible_depression       0.30      0.35      0.32       250\n",
            "    true_depression       0.19      0.19      0.19        75\n",
            "\n",
            "           accuracy                           0.67      1325\n",
            "          macro avg       0.44      0.44      0.44      1325\n",
            "       weighted avg       0.69      0.67      0.68      1325\n",
            "\n",
            "max_features: 3000 n_gram: (1, 2)  solver: newton-cg  tol: 0.3  C: 0.3  f1: 0.43817937095316833\n"
          ]
        },
        {
          "output_type": "stream",
          "name": "stderr",
          "text": [
            "/usr/local/lib/python3.10/dist-packages/sklearn/utils/validation.py:1183: DataConversionWarning: A column-vector y was passed when a 1d array was expected. Please change the shape of y to (n_samples, ), for example using ravel().\n",
            "  y = column_or_1d(y, warn=True)\n"
          ]
        },
        {
          "output_type": "stream",
          "name": "stdout",
          "text": [
            "                     precision    recall  f1-score   support\n",
            "\n",
            "      no_depression       0.83      0.81      0.82      1000\n",
            "possible_depression       0.32      0.38      0.35       250\n",
            "    true_depression       0.22      0.15      0.17        75\n",
            "\n",
            "           accuracy                           0.69      1325\n",
            "          macro avg       0.45      0.44      0.45      1325\n",
            "       weighted avg       0.70      0.69      0.69      1325\n",
            "\n",
            "max_features: 3000 n_gram: (1, 2)  solver: newton-cg  tol: 0.3  C: 3  f1: 0.4460400408345088\n"
          ]
        },
        {
          "output_type": "stream",
          "name": "stderr",
          "text": [
            "/usr/local/lib/python3.10/dist-packages/sklearn/utils/validation.py:1183: DataConversionWarning: A column-vector y was passed when a 1d array was expected. Please change the shape of y to (n_samples, ), for example using ravel().\n",
            "  y = column_or_1d(y, warn=True)\n"
          ]
        },
        {
          "output_type": "stream",
          "name": "stdout",
          "text": [
            "                     precision    recall  f1-score   support\n",
            "\n",
            "      no_depression       0.82      0.80      0.81      1000\n",
            "possible_depression       0.31      0.38      0.34       250\n",
            "    true_depression       0.22      0.13      0.17        75\n",
            "\n",
            "           accuracy                           0.68      1325\n",
            "          macro avg       0.45      0.44      0.44      1325\n",
            "       weighted avg       0.69      0.68      0.69      1325\n",
            "\n",
            "max_features: 3000 n_gram: (1, 2)  solver: newton-cg  tol: 0.3  C: 10  f1: 0.43897569185114377\n"
          ]
        },
        {
          "output_type": "stream",
          "name": "stderr",
          "text": [
            "/usr/local/lib/python3.10/dist-packages/sklearn/utils/validation.py:1183: DataConversionWarning: A column-vector y was passed when a 1d array was expected. Please change the shape of y to (n_samples, ), for example using ravel().\n",
            "  y = column_or_1d(y, warn=True)\n"
          ]
        },
        {
          "output_type": "stream",
          "name": "stdout",
          "text": [
            "                     precision    recall  f1-score   support\n",
            "\n",
            "      no_depression       0.83      0.78      0.80      1000\n",
            "possible_depression       0.31      0.36      0.33       250\n",
            "    true_depression       0.20      0.24      0.22        75\n",
            "\n",
            "           accuracy                           0.67      1325\n",
            "          macro avg       0.45      0.46      0.45      1325\n",
            "       weighted avg       0.69      0.67      0.68      1325\n",
            "\n",
            "max_features: 3000 n_gram: (1, 2)  solver: newton-cg  tol: 3  C: 0.1  f1: 0.451129422610925\n"
          ]
        },
        {
          "output_type": "stream",
          "name": "stderr",
          "text": [
            "/usr/local/lib/python3.10/dist-packages/sklearn/utils/validation.py:1183: DataConversionWarning: A column-vector y was passed when a 1d array was expected. Please change the shape of y to (n_samples, ), for example using ravel().\n",
            "  y = column_or_1d(y, warn=True)\n"
          ]
        },
        {
          "output_type": "stream",
          "name": "stdout",
          "text": [
            "                     precision    recall  f1-score   support\n",
            "\n",
            "      no_depression       0.82      0.78      0.80      1000\n",
            "possible_depression       0.30      0.36      0.32       250\n",
            "    true_depression       0.19      0.19      0.19        75\n",
            "\n",
            "           accuracy                           0.67      1325\n",
            "          macro avg       0.44      0.44      0.44      1325\n",
            "       weighted avg       0.69      0.67      0.68      1325\n",
            "\n",
            "max_features: 3000 n_gram: (1, 2)  solver: newton-cg  tol: 3  C: 0.3  f1: 0.4380151293263512\n"
          ]
        },
        {
          "output_type": "stream",
          "name": "stderr",
          "text": [
            "/usr/local/lib/python3.10/dist-packages/sklearn/utils/validation.py:1183: DataConversionWarning: A column-vector y was passed when a 1d array was expected. Please change the shape of y to (n_samples, ), for example using ravel().\n",
            "  y = column_or_1d(y, warn=True)\n"
          ]
        },
        {
          "output_type": "stream",
          "name": "stdout",
          "text": [
            "                     precision    recall  f1-score   support\n",
            "\n",
            "      no_depression       0.83      0.80      0.81      1000\n",
            "possible_depression       0.31      0.38      0.34       250\n",
            "    true_depression       0.22      0.15      0.18        75\n",
            "\n",
            "           accuracy                           0.69      1325\n",
            "          macro avg       0.45      0.44      0.44      1325\n",
            "       weighted avg       0.69      0.69      0.69      1325\n",
            "\n",
            "max_features: 3000 n_gram: (1, 2)  solver: newton-cg  tol: 3  C: 3  f1: 0.4447305826728467\n"
          ]
        },
        {
          "output_type": "stream",
          "name": "stderr",
          "text": [
            "/usr/local/lib/python3.10/dist-packages/sklearn/utils/validation.py:1183: DataConversionWarning: A column-vector y was passed when a 1d array was expected. Please change the shape of y to (n_samples, ), for example using ravel().\n",
            "  y = column_or_1d(y, warn=True)\n"
          ]
        },
        {
          "output_type": "stream",
          "name": "stdout",
          "text": [
            "                     precision    recall  f1-score   support\n",
            "\n",
            "      no_depression       0.82      0.81      0.81      1000\n",
            "possible_depression       0.31      0.38      0.34       250\n",
            "    true_depression       0.21      0.11      0.14        75\n",
            "\n",
            "           accuracy                           0.69      1325\n",
            "          macro avg       0.45      0.43      0.43      1325\n",
            "       weighted avg       0.69      0.69      0.69      1325\n",
            "\n",
            "max_features: 3000 n_gram: (1, 2)  solver: newton-cg  tol: 3  C: 10  f1: 0.43200559585475623\n"
          ]
        },
        {
          "output_type": "stream",
          "name": "stderr",
          "text": [
            "/usr/local/lib/python3.10/dist-packages/sklearn/utils/validation.py:1183: DataConversionWarning: A column-vector y was passed when a 1d array was expected. Please change the shape of y to (n_samples, ), for example using ravel().\n",
            "  y = column_or_1d(y, warn=True)\n"
          ]
        },
        {
          "output_type": "stream",
          "name": "stdout",
          "text": [
            "                     precision    recall  f1-score   support\n",
            "\n",
            "      no_depression       0.82      0.80      0.81      1000\n",
            "possible_depression       0.30      0.30      0.30       250\n",
            "    true_depression       0.21      0.29      0.24        75\n",
            "\n",
            "           accuracy                           0.67      1325\n",
            "          macro avg       0.44      0.46      0.45      1325\n",
            "       weighted avg       0.69      0.67      0.68      1325\n",
            "\n",
            "max_features: 3000 n_gram: (1, 2)  solver: newton-cholesky  tol: 5  C: 0.1  f1: 0.44945802522854356\n"
          ]
        },
        {
          "output_type": "stream",
          "name": "stderr",
          "text": [
            "/usr/local/lib/python3.10/dist-packages/sklearn/utils/validation.py:1183: DataConversionWarning: A column-vector y was passed when a 1d array was expected. Please change the shape of y to (n_samples, ), for example using ravel().\n",
            "  y = column_or_1d(y, warn=True)\n"
          ]
        },
        {
          "output_type": "stream",
          "name": "stdout",
          "text": [
            "                     precision    recall  f1-score   support\n",
            "\n",
            "      no_depression       0.82      0.79      0.81      1000\n",
            "possible_depression       0.31      0.33      0.32       250\n",
            "    true_depression       0.21      0.25      0.23        75\n",
            "\n",
            "           accuracy                           0.68      1325\n",
            "          macro avg       0.45      0.46      0.45      1325\n",
            "       weighted avg       0.69      0.68      0.68      1325\n",
            "\n",
            "max_features: 3000 n_gram: (1, 2)  solver: newton-cholesky  tol: 5  C: 0.3  f1: 0.4527563171317271\n"
          ]
        },
        {
          "output_type": "stream",
          "name": "stderr",
          "text": [
            "/usr/local/lib/python3.10/dist-packages/sklearn/utils/validation.py:1183: DataConversionWarning: A column-vector y was passed when a 1d array was expected. Please change the shape of y to (n_samples, ), for example using ravel().\n",
            "  y = column_or_1d(y, warn=True)\n"
          ]
        },
        {
          "output_type": "stream",
          "name": "stdout",
          "text": [
            "                     precision    recall  f1-score   support\n",
            "\n",
            "      no_depression       0.83      0.80      0.81      1000\n",
            "possible_depression       0.31      0.39      0.35       250\n",
            "    true_depression       0.22      0.16      0.19        75\n",
            "\n",
            "           accuracy                           0.68      1325\n",
            "          macro avg       0.45      0.45      0.45      1325\n",
            "       weighted avg       0.70      0.68      0.69      1325\n",
            "\n",
            "max_features: 3000 n_gram: (1, 2)  solver: newton-cholesky  tol: 5  C: 3  f1: 0.4481705778910814\n"
          ]
        },
        {
          "output_type": "stream",
          "name": "stderr",
          "text": [
            "/usr/local/lib/python3.10/dist-packages/sklearn/utils/validation.py:1183: DataConversionWarning: A column-vector y was passed when a 1d array was expected. Please change the shape of y to (n_samples, ), for example using ravel().\n",
            "  y = column_or_1d(y, warn=True)\n"
          ]
        },
        {
          "output_type": "stream",
          "name": "stdout",
          "text": [
            "                     precision    recall  f1-score   support\n",
            "\n",
            "      no_depression       0.82      0.77      0.80      1000\n",
            "possible_depression       0.30      0.40      0.34       250\n",
            "    true_depression       0.22      0.15      0.18        75\n",
            "\n",
            "           accuracy                           0.67      1325\n",
            "          macro avg       0.45      0.44      0.44      1325\n",
            "       weighted avg       0.69      0.67      0.68      1325\n",
            "\n",
            "max_features: 3000 n_gram: (1, 2)  solver: newton-cholesky  tol: 5  C: 10  f1: 0.4386642671127014\n"
          ]
        },
        {
          "output_type": "stream",
          "name": "stderr",
          "text": [
            "/usr/local/lib/python3.10/dist-packages/sklearn/utils/validation.py:1183: DataConversionWarning: A column-vector y was passed when a 1d array was expected. Please change the shape of y to (n_samples, ), for example using ravel().\n",
            "  y = column_or_1d(y, warn=True)\n"
          ]
        },
        {
          "output_type": "stream",
          "name": "stdout",
          "text": [
            "                     precision    recall  f1-score   support\n",
            "\n",
            "      no_depression       0.82      0.80      0.81      1000\n",
            "possible_depression       0.30      0.30      0.30       250\n",
            "    true_depression       0.21      0.29      0.24        75\n",
            "\n",
            "           accuracy                           0.67      1325\n",
            "          macro avg       0.44      0.46      0.45      1325\n",
            "       weighted avg       0.69      0.67      0.68      1325\n",
            "\n",
            "max_features: 3000 n_gram: (1, 2)  solver: newton-cholesky  tol: 0.3  C: 0.1  f1: 0.44945802522854356\n"
          ]
        },
        {
          "output_type": "stream",
          "name": "stderr",
          "text": [
            "/usr/local/lib/python3.10/dist-packages/sklearn/utils/validation.py:1183: DataConversionWarning: A column-vector y was passed when a 1d array was expected. Please change the shape of y to (n_samples, ), for example using ravel().\n",
            "  y = column_or_1d(y, warn=True)\n"
          ]
        },
        {
          "output_type": "stream",
          "name": "stdout",
          "text": [
            "                     precision    recall  f1-score   support\n",
            "\n",
            "      no_depression       0.82      0.79      0.81      1000\n",
            "possible_depression       0.31      0.33      0.32       250\n",
            "    true_depression       0.21      0.25      0.23        75\n",
            "\n",
            "           accuracy                           0.68      1325\n",
            "          macro avg       0.45      0.46      0.45      1325\n",
            "       weighted avg       0.69      0.68      0.68      1325\n",
            "\n",
            "max_features: 3000 n_gram: (1, 2)  solver: newton-cholesky  tol: 0.3  C: 0.3  f1: 0.4527563171317271\n"
          ]
        },
        {
          "output_type": "stream",
          "name": "stderr",
          "text": [
            "/usr/local/lib/python3.10/dist-packages/sklearn/utils/validation.py:1183: DataConversionWarning: A column-vector y was passed when a 1d array was expected. Please change the shape of y to (n_samples, ), for example using ravel().\n",
            "  y = column_or_1d(y, warn=True)\n"
          ]
        },
        {
          "output_type": "stream",
          "name": "stdout",
          "text": [
            "                     precision    recall  f1-score   support\n",
            "\n",
            "      no_depression       0.83      0.80      0.81      1000\n",
            "possible_depression       0.31      0.37      0.34       250\n",
            "    true_depression       0.21      0.17      0.19        75\n",
            "\n",
            "           accuracy                           0.68      1325\n",
            "          macro avg       0.45      0.45      0.45      1325\n",
            "       weighted avg       0.69      0.68      0.69      1325\n",
            "\n",
            "max_features: 3000 n_gram: (1, 2)  solver: newton-cholesky  tol: 0.3  C: 3  f1: 0.446055086416673\n"
          ]
        },
        {
          "output_type": "stream",
          "name": "stderr",
          "text": [
            "/usr/local/lib/python3.10/dist-packages/sklearn/utils/validation.py:1183: DataConversionWarning: A column-vector y was passed when a 1d array was expected. Please change the shape of y to (n_samples, ), for example using ravel().\n",
            "  y = column_or_1d(y, warn=True)\n"
          ]
        },
        {
          "output_type": "stream",
          "name": "stdout",
          "text": [
            "                     precision    recall  f1-score   support\n",
            "\n",
            "      no_depression       0.82      0.80      0.81      1000\n",
            "possible_depression       0.31      0.39      0.35       250\n",
            "    true_depression       0.23      0.15      0.18        75\n",
            "\n",
            "           accuracy                           0.68      1325\n",
            "          macro avg       0.46      0.44      0.45      1325\n",
            "       weighted avg       0.69      0.68      0.69      1325\n",
            "\n",
            "max_features: 3000 n_gram: (1, 2)  solver: newton-cholesky  tol: 0.3  C: 10  f1: 0.4459106833457093\n"
          ]
        },
        {
          "output_type": "stream",
          "name": "stderr",
          "text": [
            "/usr/local/lib/python3.10/dist-packages/sklearn/utils/validation.py:1183: DataConversionWarning: A column-vector y was passed when a 1d array was expected. Please change the shape of y to (n_samples, ), for example using ravel().\n",
            "  y = column_or_1d(y, warn=True)\n"
          ]
        },
        {
          "output_type": "stream",
          "name": "stdout",
          "text": [
            "                     precision    recall  f1-score   support\n",
            "\n",
            "      no_depression       0.82      0.80      0.81      1000\n",
            "possible_depression       0.30      0.30      0.30       250\n",
            "    true_depression       0.21      0.29      0.24        75\n",
            "\n",
            "           accuracy                           0.67      1325\n",
            "          macro avg       0.44      0.46      0.45      1325\n",
            "       weighted avg       0.69      0.67      0.68      1325\n",
            "\n",
            "max_features: 3000 n_gram: (1, 2)  solver: newton-cholesky  tol: 3  C: 0.1  f1: 0.44945802522854356\n"
          ]
        },
        {
          "output_type": "stream",
          "name": "stderr",
          "text": [
            "/usr/local/lib/python3.10/dist-packages/sklearn/utils/validation.py:1183: DataConversionWarning: A column-vector y was passed when a 1d array was expected. Please change the shape of y to (n_samples, ), for example using ravel().\n",
            "  y = column_or_1d(y, warn=True)\n"
          ]
        },
        {
          "output_type": "stream",
          "name": "stdout",
          "text": [
            "                     precision    recall  f1-score   support\n",
            "\n",
            "      no_depression       0.82      0.79      0.81      1000\n",
            "possible_depression       0.31      0.33      0.32       250\n",
            "    true_depression       0.21      0.25      0.23        75\n",
            "\n",
            "           accuracy                           0.68      1325\n",
            "          macro avg       0.45      0.46      0.45      1325\n",
            "       weighted avg       0.69      0.68      0.68      1325\n",
            "\n",
            "max_features: 3000 n_gram: (1, 2)  solver: newton-cholesky  tol: 3  C: 0.3  f1: 0.4527563171317271\n"
          ]
        },
        {
          "output_type": "stream",
          "name": "stderr",
          "text": [
            "/usr/local/lib/python3.10/dist-packages/sklearn/utils/validation.py:1183: DataConversionWarning: A column-vector y was passed when a 1d array was expected. Please change the shape of y to (n_samples, ), for example using ravel().\n",
            "  y = column_or_1d(y, warn=True)\n"
          ]
        },
        {
          "output_type": "stream",
          "name": "stdout",
          "text": [
            "                     precision    recall  f1-score   support\n",
            "\n",
            "      no_depression       0.83      0.80      0.81      1000\n",
            "possible_depression       0.31      0.39      0.35       250\n",
            "    true_depression       0.22      0.16      0.19        75\n",
            "\n",
            "           accuracy                           0.68      1325\n",
            "          macro avg       0.45      0.45      0.45      1325\n",
            "       weighted avg       0.70      0.68      0.69      1325\n",
            "\n",
            "max_features: 3000 n_gram: (1, 2)  solver: newton-cholesky  tol: 3  C: 3  f1: 0.4481705778910814\n"
          ]
        },
        {
          "output_type": "stream",
          "name": "stderr",
          "text": [
            "/usr/local/lib/python3.10/dist-packages/sklearn/utils/validation.py:1183: DataConversionWarning: A column-vector y was passed when a 1d array was expected. Please change the shape of y to (n_samples, ), for example using ravel().\n",
            "  y = column_or_1d(y, warn=True)\n"
          ]
        },
        {
          "output_type": "stream",
          "name": "stdout",
          "text": [
            "                     precision    recall  f1-score   support\n",
            "\n",
            "      no_depression       0.82      0.77      0.80      1000\n",
            "possible_depression       0.30      0.40      0.34       250\n",
            "    true_depression       0.22      0.15      0.18        75\n",
            "\n",
            "           accuracy                           0.67      1325\n",
            "          macro avg       0.45      0.44      0.44      1325\n",
            "       weighted avg       0.69      0.67      0.68      1325\n",
            "\n",
            "max_features: 3000 n_gram: (1, 2)  solver: newton-cholesky  tol: 3  C: 10  f1: 0.4386642671127014\n"
          ]
        },
        {
          "output_type": "stream",
          "name": "stderr",
          "text": [
            "/usr/local/lib/python3.10/dist-packages/sklearn/utils/validation.py:1183: DataConversionWarning: A column-vector y was passed when a 1d array was expected. Please change the shape of y to (n_samples, ), for example using ravel().\n",
            "  y = column_or_1d(y, warn=True)\n"
          ]
        },
        {
          "output_type": "stream",
          "name": "stdout",
          "text": [
            "                     precision    recall  f1-score   support\n",
            "\n",
            "      no_depression       0.81      0.79      0.80      1000\n",
            "possible_depression       0.29      0.30      0.29       250\n",
            "    true_depression       0.22      0.25      0.24        75\n",
            "\n",
            "           accuracy                           0.67      1325\n",
            "          macro avg       0.44      0.45      0.44      1325\n",
            "       weighted avg       0.68      0.67      0.68      1325\n",
            "\n",
            "max_features: 3000 n_gram: (1, 2)  solver: sag  tol: 5  C: 0.1  f1: 0.44402207674518895\n"
          ]
        },
        {
          "output_type": "stream",
          "name": "stderr",
          "text": [
            "/usr/local/lib/python3.10/dist-packages/sklearn/utils/validation.py:1183: DataConversionWarning: A column-vector y was passed when a 1d array was expected. Please change the shape of y to (n_samples, ), for example using ravel().\n",
            "  y = column_or_1d(y, warn=True)\n"
          ]
        },
        {
          "output_type": "stream",
          "name": "stdout",
          "text": [
            "                     precision    recall  f1-score   support\n",
            "\n",
            "      no_depression       0.82      0.78      0.80      1000\n",
            "possible_depression       0.29      0.35      0.32       250\n",
            "    true_depression       0.21      0.20      0.20        75\n",
            "\n",
            "           accuracy                           0.67      1325\n",
            "          macro avg       0.44      0.44      0.44      1325\n",
            "       weighted avg       0.69      0.67      0.68      1325\n",
            "\n",
            "max_features: 3000 n_gram: (1, 2)  solver: sag  tol: 5  C: 0.3  f1: 0.4413107369664746\n"
          ]
        },
        {
          "output_type": "stream",
          "name": "stderr",
          "text": [
            "/usr/local/lib/python3.10/dist-packages/sklearn/utils/validation.py:1183: DataConversionWarning: A column-vector y was passed when a 1d array was expected. Please change the shape of y to (n_samples, ), for example using ravel().\n",
            "  y = column_or_1d(y, warn=True)\n"
          ]
        },
        {
          "output_type": "stream",
          "name": "stdout",
          "text": [
            "                     precision    recall  f1-score   support\n",
            "\n",
            "      no_depression       0.82      0.76      0.79      1000\n",
            "possible_depression       0.29      0.39      0.33       250\n",
            "    true_depression       0.23      0.20      0.22        75\n",
            "\n",
            "           accuracy                           0.66      1325\n",
            "          macro avg       0.45      0.45      0.44      1325\n",
            "       weighted avg       0.69      0.66      0.67      1325\n",
            "\n",
            "max_features: 3000 n_gram: (1, 2)  solver: sag  tol: 5  C: 3  f1: 0.4449895413618344\n"
          ]
        },
        {
          "output_type": "stream",
          "name": "stderr",
          "text": [
            "/usr/local/lib/python3.10/dist-packages/sklearn/utils/validation.py:1183: DataConversionWarning: A column-vector y was passed when a 1d array was expected. Please change the shape of y to (n_samples, ), for example using ravel().\n",
            "  y = column_or_1d(y, warn=True)\n"
          ]
        },
        {
          "output_type": "stream",
          "name": "stdout",
          "text": [
            "                     precision    recall  f1-score   support\n",
            "\n",
            "      no_depression       0.82      0.78      0.80      1000\n",
            "possible_depression       0.28      0.36      0.32       250\n",
            "    true_depression       0.24      0.15      0.18        75\n",
            "\n",
            "           accuracy                           0.67      1325\n",
            "          macro avg       0.45      0.43      0.43      1325\n",
            "       weighted avg       0.68      0.67      0.67      1325\n",
            "\n",
            "max_features: 3000 n_gram: (1, 2)  solver: sag  tol: 5  C: 10  f1: 0.4326030122193805\n"
          ]
        },
        {
          "output_type": "stream",
          "name": "stderr",
          "text": [
            "/usr/local/lib/python3.10/dist-packages/sklearn/utils/validation.py:1183: DataConversionWarning: A column-vector y was passed when a 1d array was expected. Please change the shape of y to (n_samples, ), for example using ravel().\n",
            "  y = column_or_1d(y, warn=True)\n"
          ]
        },
        {
          "output_type": "stream",
          "name": "stdout",
          "text": [
            "                     precision    recall  f1-score   support\n",
            "\n",
            "      no_depression       0.83      0.78      0.80      1000\n",
            "possible_depression       0.31      0.36      0.34       250\n",
            "    true_depression       0.22      0.28      0.25        75\n",
            "\n",
            "           accuracy                           0.67      1325\n",
            "          macro avg       0.46      0.47      0.46      1325\n",
            "       weighted avg       0.70      0.67      0.68      1325\n",
            "\n",
            "max_features: 3000 n_gram: (1, 2)  solver: sag  tol: 0.3  C: 0.1  f1: 0.46274559284110267\n"
          ]
        },
        {
          "output_type": "stream",
          "name": "stderr",
          "text": [
            "/usr/local/lib/python3.10/dist-packages/sklearn/utils/validation.py:1183: DataConversionWarning: A column-vector y was passed when a 1d array was expected. Please change the shape of y to (n_samples, ), for example using ravel().\n",
            "  y = column_or_1d(y, warn=True)\n"
          ]
        },
        {
          "output_type": "stream",
          "name": "stdout",
          "text": [
            "                     precision    recall  f1-score   support\n",
            "\n",
            "      no_depression       0.83      0.78      0.80      1000\n",
            "possible_depression       0.31      0.40      0.35       250\n",
            "    true_depression       0.18      0.15      0.16        75\n",
            "\n",
            "           accuracy                           0.67      1325\n",
            "          macro avg       0.44      0.44      0.44      1325\n",
            "       weighted avg       0.70      0.67      0.68      1325\n",
            "\n",
            "max_features: 3000 n_gram: (1, 2)  solver: sag  tol: 0.3  C: 0.3  f1: 0.43819690769008096\n"
          ]
        },
        {
          "output_type": "stream",
          "name": "stderr",
          "text": [
            "/usr/local/lib/python3.10/dist-packages/sklearn/utils/validation.py:1183: DataConversionWarning: A column-vector y was passed when a 1d array was expected. Please change the shape of y to (n_samples, ), for example using ravel().\n",
            "  y = column_or_1d(y, warn=True)\n"
          ]
        },
        {
          "output_type": "stream",
          "name": "stdout",
          "text": [
            "                     precision    recall  f1-score   support\n",
            "\n",
            "      no_depression       0.83      0.82      0.83      1000\n",
            "possible_depression       0.33      0.38      0.35       250\n",
            "    true_depression       0.17      0.11      0.13        75\n",
            "\n",
            "           accuracy                           0.70      1325\n",
            "          macro avg       0.44      0.44      0.44      1325\n",
            "       weighted avg       0.70      0.70      0.70      1325\n",
            "\n",
            "max_features: 3000 n_gram: (1, 2)  solver: sag  tol: 0.3  C: 3  f1: 0.4371369163544942\n"
          ]
        },
        {
          "output_type": "stream",
          "name": "stderr",
          "text": [
            "/usr/local/lib/python3.10/dist-packages/sklearn/utils/validation.py:1183: DataConversionWarning: A column-vector y was passed when a 1d array was expected. Please change the shape of y to (n_samples, ), for example using ravel().\n",
            "  y = column_or_1d(y, warn=True)\n"
          ]
        },
        {
          "output_type": "stream",
          "name": "stdout",
          "text": [
            "                     precision    recall  f1-score   support\n",
            "\n",
            "      no_depression       0.82      0.79      0.81      1000\n",
            "possible_depression       0.31      0.39      0.35       250\n",
            "    true_depression       0.17      0.11      0.13        75\n",
            "\n",
            "           accuracy                           0.68      1325\n",
            "          macro avg       0.43      0.43      0.43      1325\n",
            "       weighted avg       0.69      0.68      0.68      1325\n",
            "\n",
            "max_features: 3000 n_gram: (1, 2)  solver: sag  tol: 0.3  C: 10  f1: 0.42810780174051644\n"
          ]
        },
        {
          "output_type": "stream",
          "name": "stderr",
          "text": [
            "/usr/local/lib/python3.10/dist-packages/sklearn/utils/validation.py:1183: DataConversionWarning: A column-vector y was passed when a 1d array was expected. Please change the shape of y to (n_samples, ), for example using ravel().\n",
            "  y = column_or_1d(y, warn=True)\n"
          ]
        },
        {
          "output_type": "stream",
          "name": "stdout",
          "text": [
            "                     precision    recall  f1-score   support\n",
            "\n",
            "      no_depression       0.81      0.77      0.79      1000\n",
            "possible_depression       0.27      0.28      0.27       250\n",
            "    true_depression       0.21      0.32      0.25        75\n",
            "\n",
            "           accuracy                           0.65      1325\n",
            "          macro avg       0.43      0.46      0.44      1325\n",
            "       weighted avg       0.68      0.65      0.66      1325\n",
            "\n",
            "max_features: 3000 n_gram: (1, 2)  solver: sag  tol: 3  C: 0.1  f1: 0.4386313516144242\n"
          ]
        },
        {
          "output_type": "stream",
          "name": "stderr",
          "text": [
            "/usr/local/lib/python3.10/dist-packages/sklearn/utils/validation.py:1183: DataConversionWarning: A column-vector y was passed when a 1d array was expected. Please change the shape of y to (n_samples, ), for example using ravel().\n",
            "  y = column_or_1d(y, warn=True)\n"
          ]
        },
        {
          "output_type": "stream",
          "name": "stdout",
          "text": [
            "                     precision    recall  f1-score   support\n",
            "\n",
            "      no_depression       0.82      0.79      0.81      1000\n",
            "possible_depression       0.30      0.34      0.32       250\n",
            "    true_depression       0.24      0.27      0.25        75\n",
            "\n",
            "           accuracy                           0.68      1325\n",
            "          macro avg       0.46      0.47      0.46      1325\n",
            "       weighted avg       0.69      0.68      0.68      1325\n",
            "\n",
            "max_features: 3000 n_gram: (1, 2)  solver: sag  tol: 3  C: 0.3  f1: 0.460012437997751\n"
          ]
        },
        {
          "output_type": "stream",
          "name": "stderr",
          "text": [
            "/usr/local/lib/python3.10/dist-packages/sklearn/utils/validation.py:1183: DataConversionWarning: A column-vector y was passed when a 1d array was expected. Please change the shape of y to (n_samples, ), for example using ravel().\n",
            "  y = column_or_1d(y, warn=True)\n"
          ]
        },
        {
          "output_type": "stream",
          "name": "stdout",
          "text": [
            "                     precision    recall  f1-score   support\n",
            "\n",
            "      no_depression       0.81      0.80      0.81      1000\n",
            "possible_depression       0.31      0.36      0.33       250\n",
            "    true_depression       0.25      0.17      0.20        75\n",
            "\n",
            "           accuracy                           0.68      1325\n",
            "          macro avg       0.46      0.44      0.45      1325\n",
            "       weighted avg       0.69      0.68      0.69      1325\n",
            "\n",
            "max_features: 3000 n_gram: (1, 2)  solver: sag  tol: 3  C: 3  f1: 0.448691384310235\n"
          ]
        },
        {
          "output_type": "stream",
          "name": "stderr",
          "text": [
            "/usr/local/lib/python3.10/dist-packages/sklearn/utils/validation.py:1183: DataConversionWarning: A column-vector y was passed when a 1d array was expected. Please change the shape of y to (n_samples, ), for example using ravel().\n",
            "  y = column_or_1d(y, warn=True)\n"
          ]
        },
        {
          "output_type": "stream",
          "name": "stdout",
          "text": [
            "                     precision    recall  f1-score   support\n",
            "\n",
            "      no_depression       0.82      0.81      0.81      1000\n",
            "possible_depression       0.31      0.34      0.33       250\n",
            "    true_depression       0.23      0.17      0.20        75\n",
            "\n",
            "           accuracy                           0.69      1325\n",
            "          macro avg       0.45      0.44      0.45      1325\n",
            "       weighted avg       0.69      0.69      0.69      1325\n",
            "\n",
            "max_features: 3000 n_gram: (1, 2)  solver: sag  tol: 3  C: 10  f1: 0.4450166931901862\n"
          ]
        },
        {
          "output_type": "stream",
          "name": "stderr",
          "text": [
            "/usr/local/lib/python3.10/dist-packages/sklearn/utils/validation.py:1183: DataConversionWarning: A column-vector y was passed when a 1d array was expected. Please change the shape of y to (n_samples, ), for example using ravel().\n",
            "  y = column_or_1d(y, warn=True)\n"
          ]
        },
        {
          "output_type": "stream",
          "name": "stdout",
          "text": [
            "                     precision    recall  f1-score   support\n",
            "\n",
            "      no_depression       0.91      0.47      0.62      1000\n",
            "possible_depression       0.26      0.76      0.38       250\n",
            "    true_depression       0.18      0.20      0.19        75\n",
            "\n",
            "           accuracy                           0.50      1325\n",
            "          macro avg       0.45      0.47      0.40      1325\n",
            "       weighted avg       0.75      0.50      0.55      1325\n",
            "\n",
            "max_features: 3000 n_gram: (1, 2)  solver: saga  tol: 5  C: 0.1  f1: 0.39689872478696514\n"
          ]
        },
        {
          "output_type": "stream",
          "name": "stderr",
          "text": [
            "/usr/local/lib/python3.10/dist-packages/sklearn/utils/validation.py:1183: DataConversionWarning: A column-vector y was passed when a 1d array was expected. Please change the shape of y to (n_samples, ), for example using ravel().\n",
            "  y = column_or_1d(y, warn=True)\n"
          ]
        },
        {
          "output_type": "stream",
          "name": "stdout",
          "text": [
            "                     precision    recall  f1-score   support\n",
            "\n",
            "      no_depression       0.95      0.34      0.50      1000\n",
            "possible_depression       0.25      0.86      0.38       250\n",
            "    true_depression       0.15      0.20      0.17        75\n",
            "\n",
            "           accuracy                           0.43      1325\n",
            "          macro avg       0.45      0.46      0.35      1325\n",
            "       weighted avg       0.77      0.43      0.46      1325\n",
            "\n",
            "max_features: 3000 n_gram: (1, 2)  solver: saga  tol: 5  C: 0.3  f1: 0.35080424936297155\n"
          ]
        },
        {
          "output_type": "stream",
          "name": "stderr",
          "text": [
            "/usr/local/lib/python3.10/dist-packages/sklearn/utils/validation.py:1183: DataConversionWarning: A column-vector y was passed when a 1d array was expected. Please change the shape of y to (n_samples, ), for example using ravel().\n",
            "  y = column_or_1d(y, warn=True)\n"
          ]
        },
        {
          "output_type": "stream",
          "name": "stdout",
          "text": [
            "                     precision    recall  f1-score   support\n",
            "\n",
            "      no_depression       0.79      0.92      0.85      1000\n",
            "possible_depression       0.32      0.14      0.20       250\n",
            "    true_depression       0.22      0.16      0.19        75\n",
            "\n",
            "           accuracy                           0.73      1325\n",
            "          macro avg       0.45      0.41      0.41      1325\n",
            "       weighted avg       0.67      0.73      0.69      1325\n",
            "\n",
            "max_features: 3000 n_gram: (1, 2)  solver: saga  tol: 5  C: 3  f1: 0.4120871982778347\n"
          ]
        },
        {
          "output_type": "stream",
          "name": "stderr",
          "text": [
            "/usr/local/lib/python3.10/dist-packages/sklearn/utils/validation.py:1183: DataConversionWarning: A column-vector y was passed when a 1d array was expected. Please change the shape of y to (n_samples, ), for example using ravel().\n",
            "  y = column_or_1d(y, warn=True)\n"
          ]
        },
        {
          "output_type": "stream",
          "name": "stdout",
          "text": [
            "                     precision    recall  f1-score   support\n",
            "\n",
            "      no_depression       0.82      0.81      0.81      1000\n",
            "possible_depression       0.30      0.31      0.31       250\n",
            "    true_depression       0.21      0.24      0.22        75\n",
            "\n",
            "           accuracy                           0.68      1325\n",
            "          macro avg       0.44      0.45      0.45      1325\n",
            "       weighted avg       0.69      0.68      0.68      1325\n",
            "\n",
            "max_features: 3000 n_gram: (1, 2)  solver: saga  tol: 5  C: 10  f1: 0.4470767595389953\n"
          ]
        },
        {
          "output_type": "stream",
          "name": "stderr",
          "text": [
            "/usr/local/lib/python3.10/dist-packages/sklearn/utils/validation.py:1183: DataConversionWarning: A column-vector y was passed when a 1d array was expected. Please change the shape of y to (n_samples, ), for example using ravel().\n",
            "  y = column_or_1d(y, warn=True)\n"
          ]
        },
        {
          "output_type": "stream",
          "name": "stdout",
          "text": [
            "                     precision    recall  f1-score   support\n",
            "\n",
            "      no_depression       0.80      0.88      0.84      1000\n",
            "possible_depression       0.31      0.10      0.15       250\n",
            "    true_depression       0.20      0.36      0.25        75\n",
            "\n",
            "           accuracy                           0.71      1325\n",
            "          macro avg       0.43      0.45      0.41      1325\n",
            "       weighted avg       0.67      0.71      0.67      1325\n",
            "\n",
            "max_features: 3000 n_gram: (1, 2)  solver: saga  tol: 0.3  C: 0.1  f1: 0.41300791201687015\n"
          ]
        },
        {
          "output_type": "stream",
          "name": "stderr",
          "text": [
            "/usr/local/lib/python3.10/dist-packages/sklearn/utils/validation.py:1183: DataConversionWarning: A column-vector y was passed when a 1d array was expected. Please change the shape of y to (n_samples, ), for example using ravel().\n",
            "  y = column_or_1d(y, warn=True)\n"
          ]
        },
        {
          "output_type": "stream",
          "name": "stdout",
          "text": [
            "                     precision    recall  f1-score   support\n",
            "\n",
            "      no_depression       0.82      0.80      0.81      1000\n",
            "possible_depression       0.30      0.34      0.32       250\n",
            "    true_depression       0.21      0.20      0.20        75\n",
            "\n",
            "           accuracy                           0.68      1325\n",
            "          macro avg       0.44      0.45      0.44      1325\n",
            "       weighted avg       0.69      0.68      0.68      1325\n",
            "\n",
            "max_features: 3000 n_gram: (1, 2)  solver: saga  tol: 0.3  C: 0.3  f1: 0.4430561839609393\n"
          ]
        },
        {
          "output_type": "stream",
          "name": "stderr",
          "text": [
            "/usr/local/lib/python3.10/dist-packages/sklearn/utils/validation.py:1183: DataConversionWarning: A column-vector y was passed when a 1d array was expected. Please change the shape of y to (n_samples, ), for example using ravel().\n",
            "  y = column_or_1d(y, warn=True)\n"
          ]
        },
        {
          "output_type": "stream",
          "name": "stdout",
          "text": [
            "                     precision    recall  f1-score   support\n",
            "\n",
            "      no_depression       0.84      0.71      0.77      1000\n",
            "possible_depression       0.29      0.48      0.36       250\n",
            "    true_depression       0.19      0.17      0.18        75\n",
            "\n",
            "           accuracy                           0.64      1325\n",
            "          macro avg       0.44      0.45      0.44      1325\n",
            "       weighted avg       0.70      0.64      0.66      1325\n",
            "\n",
            "max_features: 3000 n_gram: (1, 2)  solver: saga  tol: 0.3  C: 3  f1: 0.4376220932046027\n"
          ]
        },
        {
          "output_type": "stream",
          "name": "stderr",
          "text": [
            "/usr/local/lib/python3.10/dist-packages/sklearn/utils/validation.py:1183: DataConversionWarning: A column-vector y was passed when a 1d array was expected. Please change the shape of y to (n_samples, ), for example using ravel().\n",
            "  y = column_or_1d(y, warn=True)\n"
          ]
        },
        {
          "output_type": "stream",
          "name": "stdout",
          "text": [
            "                     precision    recall  f1-score   support\n",
            "\n",
            "      no_depression       0.80      0.87      0.84      1000\n",
            "possible_depression       0.31      0.25      0.28       250\n",
            "    true_depression       0.23      0.12      0.16        75\n",
            "\n",
            "           accuracy                           0.71      1325\n",
            "          macro avg       0.45      0.41      0.42      1325\n",
            "       weighted avg       0.68      0.71      0.69      1325\n",
            "\n",
            "max_features: 3000 n_gram: (1, 2)  solver: saga  tol: 0.3  C: 10  f1: 0.42387662863986514\n"
          ]
        },
        {
          "output_type": "stream",
          "name": "stderr",
          "text": [
            "/usr/local/lib/python3.10/dist-packages/sklearn/utils/validation.py:1183: DataConversionWarning: A column-vector y was passed when a 1d array was expected. Please change the shape of y to (n_samples, ), for example using ravel().\n",
            "  y = column_or_1d(y, warn=True)\n"
          ]
        },
        {
          "output_type": "stream",
          "name": "stdout",
          "text": [
            "                     precision    recall  f1-score   support\n",
            "\n",
            "      no_depression       0.84      0.70      0.76      1000\n",
            "possible_depression       0.28      0.45      0.34       250\n",
            "    true_depression       0.20      0.23      0.21        75\n",
            "\n",
            "           accuracy                           0.62      1325\n",
            "          macro avg       0.44      0.46      0.44      1325\n",
            "       weighted avg       0.70      0.62      0.65      1325\n",
            "\n",
            "max_features: 3000 n_gram: (1, 2)  solver: saga  tol: 3  C: 0.1  f1: 0.4385266600430535\n"
          ]
        },
        {
          "output_type": "stream",
          "name": "stderr",
          "text": [
            "/usr/local/lib/python3.10/dist-packages/sklearn/utils/validation.py:1183: DataConversionWarning: A column-vector y was passed when a 1d array was expected. Please change the shape of y to (n_samples, ), for example using ravel().\n",
            "  y = column_or_1d(y, warn=True)\n"
          ]
        },
        {
          "output_type": "stream",
          "name": "stdout",
          "text": [
            "                     precision    recall  f1-score   support\n",
            "\n",
            "      no_depression       0.88      0.50      0.64      1000\n",
            "possible_depression       0.26      0.51      0.35       250\n",
            "    true_depression       0.14      0.48      0.21        75\n",
            "\n",
            "           accuracy                           0.50      1325\n",
            "          macro avg       0.42      0.50      0.40      1325\n",
            "       weighted avg       0.72      0.50      0.56      1325\n",
            "\n",
            "max_features: 3000 n_gram: (1, 2)  solver: saga  tol: 3  C: 0.3  f1: 0.39906424711206284\n"
          ]
        },
        {
          "output_type": "stream",
          "name": "stderr",
          "text": [
            "/usr/local/lib/python3.10/dist-packages/sklearn/utils/validation.py:1183: DataConversionWarning: A column-vector y was passed when a 1d array was expected. Please change the shape of y to (n_samples, ), for example using ravel().\n",
            "  y = column_or_1d(y, warn=True)\n"
          ]
        },
        {
          "output_type": "stream",
          "name": "stdout",
          "text": [
            "                     precision    recall  f1-score   support\n",
            "\n",
            "      no_depression       0.83      0.74      0.78      1000\n",
            "possible_depression       0.28      0.40      0.33       250\n",
            "    true_depression       0.16      0.13      0.15        75\n",
            "\n",
            "           accuracy                           0.65      1325\n",
            "          macro avg       0.42      0.43      0.42      1325\n",
            "       weighted avg       0.68      0.65      0.66      1325\n",
            "\n",
            "max_features: 3000 n_gram: (1, 2)  solver: saga  tol: 3  C: 3  f1: 0.4189428350337381\n"
          ]
        },
        {
          "output_type": "stream",
          "name": "stderr",
          "text": [
            "/usr/local/lib/python3.10/dist-packages/sklearn/utils/validation.py:1183: DataConversionWarning: A column-vector y was passed when a 1d array was expected. Please change the shape of y to (n_samples, ), for example using ravel().\n",
            "  y = column_or_1d(y, warn=True)\n"
          ]
        },
        {
          "output_type": "stream",
          "name": "stdout",
          "text": [
            "                     precision    recall  f1-score   support\n",
            "\n",
            "      no_depression       0.84      0.65      0.73      1000\n",
            "possible_depression       0.26      0.51      0.34       250\n",
            "    true_depression       0.18      0.15      0.16        75\n",
            "\n",
            "           accuracy                           0.59      1325\n",
            "          macro avg       0.43      0.43      0.41      1325\n",
            "       weighted avg       0.69      0.59      0.63      1325\n",
            "\n",
            "max_features: 3000 n_gram: (1, 2)  solver: saga  tol: 3  C: 10  f1: 0.4125088439815549\n"
          ]
        },
        {
          "output_type": "stream",
          "name": "stderr",
          "text": [
            "/usr/local/lib/python3.10/dist-packages/sklearn/utils/validation.py:1183: DataConversionWarning: A column-vector y was passed when a 1d array was expected. Please change the shape of y to (n_samples, ), for example using ravel().\n",
            "  y = column_or_1d(y, warn=True)\n"
          ]
        },
        {
          "output_type": "stream",
          "name": "stdout",
          "text": [
            "                     precision    recall  f1-score   support\n",
            "\n",
            "      no_depression       0.83      0.77      0.80      1000\n",
            "possible_depression       0.30      0.36      0.33       250\n",
            "    true_depression       0.22      0.27      0.24        75\n",
            "\n",
            "           accuracy                           0.67      1325\n",
            "          macro avg       0.45      0.47      0.46      1325\n",
            "       weighted avg       0.69      0.67      0.68      1325\n",
            "\n",
            "max_features: 3000 n_gram: (1, 3)  solver: lbfgs  tol: 5  C: 0.1  f1: 0.45612182814187685\n"
          ]
        },
        {
          "output_type": "stream",
          "name": "stderr",
          "text": [
            "/usr/local/lib/python3.10/dist-packages/sklearn/utils/validation.py:1183: DataConversionWarning: A column-vector y was passed when a 1d array was expected. Please change the shape of y to (n_samples, ), for example using ravel().\n",
            "  y = column_or_1d(y, warn=True)\n"
          ]
        },
        {
          "output_type": "stream",
          "name": "stdout",
          "text": [
            "                     precision    recall  f1-score   support\n",
            "\n",
            "      no_depression       0.82      0.79      0.80      1000\n",
            "possible_depression       0.29      0.34      0.31       250\n",
            "    true_depression       0.20      0.20      0.20        75\n",
            "\n",
            "           accuracy                           0.67      1325\n",
            "          macro avg       0.44      0.44      0.44      1325\n",
            "       weighted avg       0.69      0.67      0.68      1325\n",
            "\n",
            "max_features: 3000 n_gram: (1, 3)  solver: lbfgs  tol: 5  C: 0.3  f1: 0.439433100023849\n"
          ]
        },
        {
          "output_type": "stream",
          "name": "stderr",
          "text": [
            "/usr/local/lib/python3.10/dist-packages/sklearn/utils/validation.py:1183: DataConversionWarning: A column-vector y was passed when a 1d array was expected. Please change the shape of y to (n_samples, ), for example using ravel().\n",
            "  y = column_or_1d(y, warn=True)\n"
          ]
        },
        {
          "output_type": "stream",
          "name": "stdout",
          "text": [
            "                     precision    recall  f1-score   support\n",
            "\n",
            "      no_depression       0.82      0.80      0.81      1000\n",
            "possible_depression       0.31      0.37      0.34       250\n",
            "    true_depression       0.22      0.16      0.19        75\n",
            "\n",
            "           accuracy                           0.69      1325\n",
            "          macro avg       0.45      0.44      0.45      1325\n",
            "       weighted avg       0.69      0.69      0.69      1325\n",
            "\n",
            "max_features: 3000 n_gram: (1, 3)  solver: lbfgs  tol: 5  C: 3  f1: 0.44594902428866084\n"
          ]
        },
        {
          "output_type": "stream",
          "name": "stderr",
          "text": [
            "/usr/local/lib/python3.10/dist-packages/sklearn/utils/validation.py:1183: DataConversionWarning: A column-vector y was passed when a 1d array was expected. Please change the shape of y to (n_samples, ), for example using ravel().\n",
            "  y = column_or_1d(y, warn=True)\n"
          ]
        },
        {
          "output_type": "stream",
          "name": "stdout",
          "text": [
            "                     precision    recall  f1-score   support\n",
            "\n",
            "      no_depression       0.83      0.81      0.82      1000\n",
            "possible_depression       0.32      0.39      0.35       250\n",
            "    true_depression       0.21      0.12      0.15        75\n",
            "\n",
            "           accuracy                           0.69      1325\n",
            "          macro avg       0.45      0.44      0.44      1325\n",
            "       weighted avg       0.69      0.69      0.69      1325\n",
            "\n",
            "max_features: 3000 n_gram: (1, 3)  solver: lbfgs  tol: 5  C: 10  f1: 0.43867556025648485\n"
          ]
        },
        {
          "output_type": "stream",
          "name": "stderr",
          "text": [
            "/usr/local/lib/python3.10/dist-packages/sklearn/utils/validation.py:1183: DataConversionWarning: A column-vector y was passed when a 1d array was expected. Please change the shape of y to (n_samples, ), for example using ravel().\n",
            "  y = column_or_1d(y, warn=True)\n"
          ]
        },
        {
          "output_type": "stream",
          "name": "stdout",
          "text": [
            "                     precision    recall  f1-score   support\n",
            "\n",
            "      no_depression       0.83      0.78      0.80      1000\n",
            "possible_depression       0.31      0.36      0.33       250\n",
            "    true_depression       0.22      0.27      0.24        75\n",
            "\n",
            "           accuracy                           0.67      1325\n",
            "          macro avg       0.45      0.47      0.46      1325\n",
            "       weighted avg       0.70      0.67      0.68      1325\n",
            "\n",
            "max_features: 3000 n_gram: (1, 3)  solver: lbfgs  tol: 0.3  C: 0.1  f1: 0.4580311069480382\n"
          ]
        },
        {
          "output_type": "stream",
          "name": "stderr",
          "text": [
            "/usr/local/lib/python3.10/dist-packages/sklearn/utils/validation.py:1183: DataConversionWarning: A column-vector y was passed when a 1d array was expected. Please change the shape of y to (n_samples, ), for example using ravel().\n",
            "  y = column_or_1d(y, warn=True)\n"
          ]
        },
        {
          "output_type": "stream",
          "name": "stdout",
          "text": [
            "                     precision    recall  f1-score   support\n",
            "\n",
            "      no_depression       0.82      0.79      0.81      1000\n",
            "possible_depression       0.30      0.35      0.32       250\n",
            "    true_depression       0.20      0.20      0.20        75\n",
            "\n",
            "           accuracy                           0.67      1325\n",
            "          macro avg       0.44      0.45      0.44      1325\n",
            "       weighted avg       0.69      0.67      0.68      1325\n",
            "\n",
            "max_features: 3000 n_gram: (1, 3)  solver: lbfgs  tol: 0.3  C: 0.3  f1: 0.4418596375155379\n"
          ]
        },
        {
          "output_type": "stream",
          "name": "stderr",
          "text": [
            "/usr/local/lib/python3.10/dist-packages/sklearn/utils/validation.py:1183: DataConversionWarning: A column-vector y was passed when a 1d array was expected. Please change the shape of y to (n_samples, ), for example using ravel().\n",
            "  y = column_or_1d(y, warn=True)\n"
          ]
        },
        {
          "output_type": "stream",
          "name": "stdout",
          "text": [
            "                     precision    recall  f1-score   support\n",
            "\n",
            "      no_depression       0.83      0.81      0.82      1000\n",
            "possible_depression       0.32      0.39      0.35       250\n",
            "    true_depression       0.20      0.13      0.16        75\n",
            "\n",
            "           accuracy                           0.69      1325\n",
            "          macro avg       0.45      0.44      0.44      1325\n",
            "       weighted avg       0.70      0.69      0.69      1325\n",
            "\n",
            "max_features: 3000 n_gram: (1, 3)  solver: lbfgs  tol: 0.3  C: 3  f1: 0.44248849810607455\n"
          ]
        },
        {
          "output_type": "stream",
          "name": "stderr",
          "text": [
            "/usr/local/lib/python3.10/dist-packages/sklearn/utils/validation.py:1183: DataConversionWarning: A column-vector y was passed when a 1d array was expected. Please change the shape of y to (n_samples, ), for example using ravel().\n",
            "  y = column_or_1d(y, warn=True)\n"
          ]
        },
        {
          "output_type": "stream",
          "name": "stdout",
          "text": [
            "                     precision    recall  f1-score   support\n",
            "\n",
            "      no_depression       0.82      0.80      0.81      1000\n",
            "possible_depression       0.30      0.37      0.33       250\n",
            "    true_depression       0.24      0.13      0.17        75\n",
            "\n",
            "           accuracy                           0.68      1325\n",
            "          macro avg       0.45      0.43      0.44      1325\n",
            "       weighted avg       0.69      0.68      0.68      1325\n",
            "\n",
            "max_features: 3000 n_gram: (1, 3)  solver: lbfgs  tol: 0.3  C: 10  f1: 0.4364783333758458\n"
          ]
        },
        {
          "output_type": "stream",
          "name": "stderr",
          "text": [
            "/usr/local/lib/python3.10/dist-packages/sklearn/utils/validation.py:1183: DataConversionWarning: A column-vector y was passed when a 1d array was expected. Please change the shape of y to (n_samples, ), for example using ravel().\n",
            "  y = column_or_1d(y, warn=True)\n"
          ]
        },
        {
          "output_type": "stream",
          "name": "stdout",
          "text": [
            "                     precision    recall  f1-score   support\n",
            "\n",
            "      no_depression       0.83      0.77      0.80      1000\n",
            "possible_depression       0.30      0.36      0.33       250\n",
            "    true_depression       0.22      0.27      0.24        75\n",
            "\n",
            "           accuracy                           0.67      1325\n",
            "          macro avg       0.45      0.47      0.46      1325\n",
            "       weighted avg       0.69      0.67      0.68      1325\n",
            "\n",
            "max_features: 3000 n_gram: (1, 3)  solver: lbfgs  tol: 3  C: 0.1  f1: 0.45612182814187685\n"
          ]
        },
        {
          "output_type": "stream",
          "name": "stderr",
          "text": [
            "/usr/local/lib/python3.10/dist-packages/sklearn/utils/validation.py:1183: DataConversionWarning: A column-vector y was passed when a 1d array was expected. Please change the shape of y to (n_samples, ), for example using ravel().\n",
            "  y = column_or_1d(y, warn=True)\n"
          ]
        },
        {
          "output_type": "stream",
          "name": "stdout",
          "text": [
            "                     precision    recall  f1-score   support\n",
            "\n",
            "      no_depression       0.82      0.79      0.80      1000\n",
            "possible_depression       0.29      0.34      0.31       250\n",
            "    true_depression       0.20      0.20      0.20        75\n",
            "\n",
            "           accuracy                           0.67      1325\n",
            "          macro avg       0.44      0.44      0.44      1325\n",
            "       weighted avg       0.69      0.67      0.68      1325\n",
            "\n",
            "max_features: 3000 n_gram: (1, 3)  solver: lbfgs  tol: 3  C: 0.3  f1: 0.439433100023849\n"
          ]
        },
        {
          "output_type": "stream",
          "name": "stderr",
          "text": [
            "/usr/local/lib/python3.10/dist-packages/sklearn/utils/validation.py:1183: DataConversionWarning: A column-vector y was passed when a 1d array was expected. Please change the shape of y to (n_samples, ), for example using ravel().\n",
            "  y = column_or_1d(y, warn=True)\n"
          ]
        },
        {
          "output_type": "stream",
          "name": "stdout",
          "text": [
            "                     precision    recall  f1-score   support\n",
            "\n",
            "      no_depression       0.82      0.80      0.81      1000\n",
            "possible_depression       0.31      0.37      0.34       250\n",
            "    true_depression       0.22      0.16      0.19        75\n",
            "\n",
            "           accuracy                           0.69      1325\n",
            "          macro avg       0.45      0.44      0.45      1325\n",
            "       weighted avg       0.69      0.69      0.69      1325\n",
            "\n",
            "max_features: 3000 n_gram: (1, 3)  solver: lbfgs  tol: 3  C: 3  f1: 0.44594902428866084\n"
          ]
        },
        {
          "output_type": "stream",
          "name": "stderr",
          "text": [
            "/usr/local/lib/python3.10/dist-packages/sklearn/utils/validation.py:1183: DataConversionWarning: A column-vector y was passed when a 1d array was expected. Please change the shape of y to (n_samples, ), for example using ravel().\n",
            "  y = column_or_1d(y, warn=True)\n"
          ]
        },
        {
          "output_type": "stream",
          "name": "stdout",
          "text": [
            "                     precision    recall  f1-score   support\n",
            "\n",
            "      no_depression       0.82      0.80      0.81      1000\n",
            "possible_depression       0.31      0.38      0.34       250\n",
            "    true_depression       0.23      0.12      0.16        75\n",
            "\n",
            "           accuracy                           0.68      1325\n",
            "          macro avg       0.45      0.44      0.44      1325\n",
            "       weighted avg       0.69      0.68      0.69      1325\n",
            "\n",
            "max_features: 3000 n_gram: (1, 3)  solver: lbfgs  tol: 3  C: 10  f1: 0.43677262680364387\n"
          ]
        },
        {
          "output_type": "stream",
          "name": "stderr",
          "text": [
            "/usr/local/lib/python3.10/dist-packages/sklearn/utils/validation.py:1183: DataConversionWarning: A column-vector y was passed when a 1d array was expected. Please change the shape of y to (n_samples, ), for example using ravel().\n",
            "  y = column_or_1d(y, warn=True)\n",
            "/usr/local/lib/python3.10/dist-packages/sklearn/metrics/_classification.py:1471: UndefinedMetricWarning: Precision and F-score are ill-defined and being set to 0.0 in labels with no predicted samples. Use `zero_division` parameter to control this behavior.\n",
            "  _warn_prf(average, modifier, msg_start, len(result))\n",
            "/usr/local/lib/python3.10/dist-packages/sklearn/metrics/_classification.py:1471: UndefinedMetricWarning: Precision and F-score are ill-defined and being set to 0.0 in labels with no predicted samples. Use `zero_division` parameter to control this behavior.\n",
            "  _warn_prf(average, modifier, msg_start, len(result))\n",
            "/usr/local/lib/python3.10/dist-packages/sklearn/metrics/_classification.py:1471: UndefinedMetricWarning: Precision and F-score are ill-defined and being set to 0.0 in labels with no predicted samples. Use `zero_division` parameter to control this behavior.\n",
            "  _warn_prf(average, modifier, msg_start, len(result))\n"
          ]
        },
        {
          "output_type": "stream",
          "name": "stdout",
          "text": [
            "                     precision    recall  f1-score   support\n",
            "\n",
            "      no_depression       0.75      1.00      0.86      1000\n",
            "possible_depression       0.00      0.00      0.00       250\n",
            "    true_depression       0.00      0.00      0.00        75\n",
            "\n",
            "           accuracy                           0.75      1325\n",
            "          macro avg       0.25      0.33      0.29      1325\n",
            "       weighted avg       0.57      0.75      0.65      1325\n",
            "\n",
            "max_features: 3000 n_gram: (1, 3)  solver: liblinear  tol: 5  C: 0.1  f1: 0.2867383512544803\n"
          ]
        },
        {
          "output_type": "stream",
          "name": "stderr",
          "text": [
            "/usr/local/lib/python3.10/dist-packages/sklearn/utils/validation.py:1183: DataConversionWarning: A column-vector y was passed when a 1d array was expected. Please change the shape of y to (n_samples, ), for example using ravel().\n",
            "  y = column_or_1d(y, warn=True)\n",
            "/usr/local/lib/python3.10/dist-packages/sklearn/metrics/_classification.py:1471: UndefinedMetricWarning: Precision and F-score are ill-defined and being set to 0.0 in labels with no predicted samples. Use `zero_division` parameter to control this behavior.\n",
            "  _warn_prf(average, modifier, msg_start, len(result))\n",
            "/usr/local/lib/python3.10/dist-packages/sklearn/metrics/_classification.py:1471: UndefinedMetricWarning: Precision and F-score are ill-defined and being set to 0.0 in labels with no predicted samples. Use `zero_division` parameter to control this behavior.\n",
            "  _warn_prf(average, modifier, msg_start, len(result))\n",
            "/usr/local/lib/python3.10/dist-packages/sklearn/metrics/_classification.py:1471: UndefinedMetricWarning: Precision and F-score are ill-defined and being set to 0.0 in labels with no predicted samples. Use `zero_division` parameter to control this behavior.\n",
            "  _warn_prf(average, modifier, msg_start, len(result))\n"
          ]
        },
        {
          "output_type": "stream",
          "name": "stdout",
          "text": [
            "                     precision    recall  f1-score   support\n",
            "\n",
            "      no_depression       0.75      1.00      0.86      1000\n",
            "possible_depression       0.00      0.00      0.00       250\n",
            "    true_depression       0.00      0.00      0.00        75\n",
            "\n",
            "           accuracy                           0.75      1325\n",
            "          macro avg       0.25      0.33      0.29      1325\n",
            "       weighted avg       0.57      0.75      0.65      1325\n",
            "\n",
            "max_features: 3000 n_gram: (1, 3)  solver: liblinear  tol: 5  C: 0.3  f1: 0.2867383512544803\n"
          ]
        },
        {
          "output_type": "stream",
          "name": "stderr",
          "text": [
            "/usr/local/lib/python3.10/dist-packages/sklearn/utils/validation.py:1183: DataConversionWarning: A column-vector y was passed when a 1d array was expected. Please change the shape of y to (n_samples, ), for example using ravel().\n",
            "  y = column_or_1d(y, warn=True)\n",
            "/usr/local/lib/python3.10/dist-packages/sklearn/metrics/_classification.py:1471: UndefinedMetricWarning: Precision and F-score are ill-defined and being set to 0.0 in labels with no predicted samples. Use `zero_division` parameter to control this behavior.\n",
            "  _warn_prf(average, modifier, msg_start, len(result))\n",
            "/usr/local/lib/python3.10/dist-packages/sklearn/metrics/_classification.py:1471: UndefinedMetricWarning: Precision and F-score are ill-defined and being set to 0.0 in labels with no predicted samples. Use `zero_division` parameter to control this behavior.\n",
            "  _warn_prf(average, modifier, msg_start, len(result))\n",
            "/usr/local/lib/python3.10/dist-packages/sklearn/metrics/_classification.py:1471: UndefinedMetricWarning: Precision and F-score are ill-defined and being set to 0.0 in labels with no predicted samples. Use `zero_division` parameter to control this behavior.\n",
            "  _warn_prf(average, modifier, msg_start, len(result))\n"
          ]
        },
        {
          "output_type": "stream",
          "name": "stdout",
          "text": [
            "                     precision    recall  f1-score   support\n",
            "\n",
            "      no_depression       0.75      1.00      0.86      1000\n",
            "possible_depression       0.00      0.00      0.00       250\n",
            "    true_depression       0.00      0.00      0.00        75\n",
            "\n",
            "           accuracy                           0.75      1325\n",
            "          macro avg       0.25      0.33      0.29      1325\n",
            "       weighted avg       0.57      0.75      0.65      1325\n",
            "\n",
            "max_features: 3000 n_gram: (1, 3)  solver: liblinear  tol: 5  C: 3  f1: 0.2867383512544803\n"
          ]
        },
        {
          "output_type": "stream",
          "name": "stderr",
          "text": [
            "/usr/local/lib/python3.10/dist-packages/sklearn/utils/validation.py:1183: DataConversionWarning: A column-vector y was passed when a 1d array was expected. Please change the shape of y to (n_samples, ), for example using ravel().\n",
            "  y = column_or_1d(y, warn=True)\n",
            "/usr/local/lib/python3.10/dist-packages/sklearn/metrics/_classification.py:1471: UndefinedMetricWarning: Precision and F-score are ill-defined and being set to 0.0 in labels with no predicted samples. Use `zero_division` parameter to control this behavior.\n",
            "  _warn_prf(average, modifier, msg_start, len(result))\n",
            "/usr/local/lib/python3.10/dist-packages/sklearn/metrics/_classification.py:1471: UndefinedMetricWarning: Precision and F-score are ill-defined and being set to 0.0 in labels with no predicted samples. Use `zero_division` parameter to control this behavior.\n",
            "  _warn_prf(average, modifier, msg_start, len(result))\n",
            "/usr/local/lib/python3.10/dist-packages/sklearn/metrics/_classification.py:1471: UndefinedMetricWarning: Precision and F-score are ill-defined and being set to 0.0 in labels with no predicted samples. Use `zero_division` parameter to control this behavior.\n",
            "  _warn_prf(average, modifier, msg_start, len(result))\n"
          ]
        },
        {
          "output_type": "stream",
          "name": "stdout",
          "text": [
            "                     precision    recall  f1-score   support\n",
            "\n",
            "      no_depression       0.75      1.00      0.86      1000\n",
            "possible_depression       0.00      0.00      0.00       250\n",
            "    true_depression       0.00      0.00      0.00        75\n",
            "\n",
            "           accuracy                           0.75      1325\n",
            "          macro avg       0.25      0.33      0.29      1325\n",
            "       weighted avg       0.57      0.75      0.65      1325\n",
            "\n",
            "max_features: 3000 n_gram: (1, 3)  solver: liblinear  tol: 5  C: 10  f1: 0.2867383512544803\n"
          ]
        },
        {
          "output_type": "stream",
          "name": "stderr",
          "text": [
            "/usr/local/lib/python3.10/dist-packages/sklearn/utils/validation.py:1183: DataConversionWarning: A column-vector y was passed when a 1d array was expected. Please change the shape of y to (n_samples, ), for example using ravel().\n",
            "  y = column_or_1d(y, warn=True)\n"
          ]
        },
        {
          "output_type": "stream",
          "name": "stdout",
          "text": [
            "                     precision    recall  f1-score   support\n",
            "\n",
            "      no_depression       0.83      0.75      0.79      1000\n",
            "possible_depression       0.31      0.40      0.35       250\n",
            "    true_depression       0.21      0.28      0.24        75\n",
            "\n",
            "           accuracy                           0.66      1325\n",
            "          macro avg       0.45      0.48      0.46      1325\n",
            "       weighted avg       0.70      0.66      0.68      1325\n",
            "\n",
            "max_features: 3000 n_gram: (1, 3)  solver: liblinear  tol: 0.3  C: 0.1  f1: 0.4596130164269418\n"
          ]
        },
        {
          "output_type": "stream",
          "name": "stderr",
          "text": [
            "/usr/local/lib/python3.10/dist-packages/sklearn/utils/validation.py:1183: DataConversionWarning: A column-vector y was passed when a 1d array was expected. Please change the shape of y to (n_samples, ), for example using ravel().\n",
            "  y = column_or_1d(y, warn=True)\n"
          ]
        },
        {
          "output_type": "stream",
          "name": "stdout",
          "text": [
            "                     precision    recall  f1-score   support\n",
            "\n",
            "      no_depression       0.83      0.79      0.81      1000\n",
            "possible_depression       0.32      0.36      0.34       250\n",
            "    true_depression       0.21      0.25      0.23        75\n",
            "\n",
            "           accuracy                           0.68      1325\n",
            "          macro avg       0.45      0.47      0.46      1325\n",
            "       weighted avg       0.70      0.68      0.69      1325\n",
            "\n",
            "max_features: 3000 n_gram: (1, 3)  solver: liblinear  tol: 0.3  C: 0.3  f1: 0.45685983580955186\n"
          ]
        },
        {
          "output_type": "stream",
          "name": "stderr",
          "text": [
            "/usr/local/lib/python3.10/dist-packages/sklearn/utils/validation.py:1183: DataConversionWarning: A column-vector y was passed when a 1d array was expected. Please change the shape of y to (n_samples, ), for example using ravel().\n",
            "  y = column_or_1d(y, warn=True)\n"
          ]
        },
        {
          "output_type": "stream",
          "name": "stdout",
          "text": [
            "                     precision    recall  f1-score   support\n",
            "\n",
            "      no_depression       0.83      0.76      0.79      1000\n",
            "possible_depression       0.30      0.40      0.35       250\n",
            "    true_depression       0.18      0.20      0.19        75\n",
            "\n",
            "           accuracy                           0.66      1325\n",
            "          macro avg       0.44      0.45      0.44      1325\n",
            "       weighted avg       0.69      0.66      0.67      1325\n",
            "\n",
            "max_features: 3000 n_gram: (1, 3)  solver: liblinear  tol: 0.3  C: 3  f1: 0.44189272021797743\n"
          ]
        },
        {
          "output_type": "stream",
          "name": "stderr",
          "text": [
            "/usr/local/lib/python3.10/dist-packages/sklearn/utils/validation.py:1183: DataConversionWarning: A column-vector y was passed when a 1d array was expected. Please change the shape of y to (n_samples, ), for example using ravel().\n",
            "  y = column_or_1d(y, warn=True)\n"
          ]
        },
        {
          "output_type": "stream",
          "name": "stdout",
          "text": [
            "                     precision    recall  f1-score   support\n",
            "\n",
            "      no_depression       0.83      0.76      0.79      1000\n",
            "possible_depression       0.31      0.42      0.35       250\n",
            "    true_depression       0.18      0.16      0.17        75\n",
            "\n",
            "           accuracy                           0.66      1325\n",
            "          macro avg       0.44      0.45      0.44      1325\n",
            "       weighted avg       0.69      0.66      0.68      1325\n",
            "\n",
            "max_features: 3000 n_gram: (1, 3)  solver: liblinear  tol: 0.3  C: 10  f1: 0.4389729219092691\n"
          ]
        },
        {
          "output_type": "stream",
          "name": "stderr",
          "text": [
            "/usr/local/lib/python3.10/dist-packages/sklearn/utils/validation.py:1183: DataConversionWarning: A column-vector y was passed when a 1d array was expected. Please change the shape of y to (n_samples, ), for example using ravel().\n",
            "  y = column_or_1d(y, warn=True)\n",
            "/usr/local/lib/python3.10/dist-packages/sklearn/metrics/_classification.py:1471: UndefinedMetricWarning: Precision and F-score are ill-defined and being set to 0.0 in labels with no predicted samples. Use `zero_division` parameter to control this behavior.\n",
            "  _warn_prf(average, modifier, msg_start, len(result))\n",
            "/usr/local/lib/python3.10/dist-packages/sklearn/metrics/_classification.py:1471: UndefinedMetricWarning: Precision and F-score are ill-defined and being set to 0.0 in labels with no predicted samples. Use `zero_division` parameter to control this behavior.\n",
            "  _warn_prf(average, modifier, msg_start, len(result))\n",
            "/usr/local/lib/python3.10/dist-packages/sklearn/metrics/_classification.py:1471: UndefinedMetricWarning: Precision and F-score are ill-defined and being set to 0.0 in labels with no predicted samples. Use `zero_division` parameter to control this behavior.\n",
            "  _warn_prf(average, modifier, msg_start, len(result))\n"
          ]
        },
        {
          "output_type": "stream",
          "name": "stdout",
          "text": [
            "                     precision    recall  f1-score   support\n",
            "\n",
            "      no_depression       0.75      1.00      0.86      1000\n",
            "possible_depression       0.00      0.00      0.00       250\n",
            "    true_depression       0.00      0.00      0.00        75\n",
            "\n",
            "           accuracy                           0.75      1325\n",
            "          macro avg       0.25      0.33      0.29      1325\n",
            "       weighted avg       0.57      0.75      0.65      1325\n",
            "\n",
            "max_features: 3000 n_gram: (1, 3)  solver: liblinear  tol: 3  C: 0.1  f1: 0.2867383512544803\n"
          ]
        },
        {
          "output_type": "stream",
          "name": "stderr",
          "text": [
            "/usr/local/lib/python3.10/dist-packages/sklearn/utils/validation.py:1183: DataConversionWarning: A column-vector y was passed when a 1d array was expected. Please change the shape of y to (n_samples, ), for example using ravel().\n",
            "  y = column_or_1d(y, warn=True)\n",
            "/usr/local/lib/python3.10/dist-packages/sklearn/metrics/_classification.py:1471: UndefinedMetricWarning: Precision and F-score are ill-defined and being set to 0.0 in labels with no predicted samples. Use `zero_division` parameter to control this behavior.\n",
            "  _warn_prf(average, modifier, msg_start, len(result))\n",
            "/usr/local/lib/python3.10/dist-packages/sklearn/metrics/_classification.py:1471: UndefinedMetricWarning: Precision and F-score are ill-defined and being set to 0.0 in labels with no predicted samples. Use `zero_division` parameter to control this behavior.\n",
            "  _warn_prf(average, modifier, msg_start, len(result))\n",
            "/usr/local/lib/python3.10/dist-packages/sklearn/metrics/_classification.py:1471: UndefinedMetricWarning: Precision and F-score are ill-defined and being set to 0.0 in labels with no predicted samples. Use `zero_division` parameter to control this behavior.\n",
            "  _warn_prf(average, modifier, msg_start, len(result))\n"
          ]
        },
        {
          "output_type": "stream",
          "name": "stdout",
          "text": [
            "                     precision    recall  f1-score   support\n",
            "\n",
            "      no_depression       0.75      1.00      0.86      1000\n",
            "possible_depression       0.00      0.00      0.00       250\n",
            "    true_depression       0.00      0.00      0.00        75\n",
            "\n",
            "           accuracy                           0.75      1325\n",
            "          macro avg       0.25      0.33      0.29      1325\n",
            "       weighted avg       0.57      0.75      0.65      1325\n",
            "\n",
            "max_features: 3000 n_gram: (1, 3)  solver: liblinear  tol: 3  C: 0.3  f1: 0.2867383512544803\n"
          ]
        },
        {
          "output_type": "stream",
          "name": "stderr",
          "text": [
            "/usr/local/lib/python3.10/dist-packages/sklearn/utils/validation.py:1183: DataConversionWarning: A column-vector y was passed when a 1d array was expected. Please change the shape of y to (n_samples, ), for example using ravel().\n",
            "  y = column_or_1d(y, warn=True)\n",
            "/usr/local/lib/python3.10/dist-packages/sklearn/metrics/_classification.py:1471: UndefinedMetricWarning: Precision and F-score are ill-defined and being set to 0.0 in labels with no predicted samples. Use `zero_division` parameter to control this behavior.\n",
            "  _warn_prf(average, modifier, msg_start, len(result))\n",
            "/usr/local/lib/python3.10/dist-packages/sklearn/metrics/_classification.py:1471: UndefinedMetricWarning: Precision and F-score are ill-defined and being set to 0.0 in labels with no predicted samples. Use `zero_division` parameter to control this behavior.\n",
            "  _warn_prf(average, modifier, msg_start, len(result))\n",
            "/usr/local/lib/python3.10/dist-packages/sklearn/metrics/_classification.py:1471: UndefinedMetricWarning: Precision and F-score are ill-defined and being set to 0.0 in labels with no predicted samples. Use `zero_division` parameter to control this behavior.\n",
            "  _warn_prf(average, modifier, msg_start, len(result))\n"
          ]
        },
        {
          "output_type": "stream",
          "name": "stdout",
          "text": [
            "                     precision    recall  f1-score   support\n",
            "\n",
            "      no_depression       0.75      1.00      0.86      1000\n",
            "possible_depression       0.00      0.00      0.00       250\n",
            "    true_depression       0.00      0.00      0.00        75\n",
            "\n",
            "           accuracy                           0.75      1325\n",
            "          macro avg       0.25      0.33      0.29      1325\n",
            "       weighted avg       0.57      0.75      0.65      1325\n",
            "\n",
            "max_features: 3000 n_gram: (1, 3)  solver: liblinear  tol: 3  C: 3  f1: 0.2867383512544803\n"
          ]
        },
        {
          "output_type": "stream",
          "name": "stderr",
          "text": [
            "/usr/local/lib/python3.10/dist-packages/sklearn/utils/validation.py:1183: DataConversionWarning: A column-vector y was passed when a 1d array was expected. Please change the shape of y to (n_samples, ), for example using ravel().\n",
            "  y = column_or_1d(y, warn=True)\n",
            "/usr/local/lib/python3.10/dist-packages/sklearn/metrics/_classification.py:1471: UndefinedMetricWarning: Precision and F-score are ill-defined and being set to 0.0 in labels with no predicted samples. Use `zero_division` parameter to control this behavior.\n",
            "  _warn_prf(average, modifier, msg_start, len(result))\n",
            "/usr/local/lib/python3.10/dist-packages/sklearn/metrics/_classification.py:1471: UndefinedMetricWarning: Precision and F-score are ill-defined and being set to 0.0 in labels with no predicted samples. Use `zero_division` parameter to control this behavior.\n",
            "  _warn_prf(average, modifier, msg_start, len(result))\n",
            "/usr/local/lib/python3.10/dist-packages/sklearn/metrics/_classification.py:1471: UndefinedMetricWarning: Precision and F-score are ill-defined and being set to 0.0 in labels with no predicted samples. Use `zero_division` parameter to control this behavior.\n",
            "  _warn_prf(average, modifier, msg_start, len(result))\n"
          ]
        },
        {
          "output_type": "stream",
          "name": "stdout",
          "text": [
            "                     precision    recall  f1-score   support\n",
            "\n",
            "      no_depression       0.75      1.00      0.86      1000\n",
            "possible_depression       0.00      0.00      0.00       250\n",
            "    true_depression       0.00      0.00      0.00        75\n",
            "\n",
            "           accuracy                           0.75      1325\n",
            "          macro avg       0.25      0.33      0.29      1325\n",
            "       weighted avg       0.57      0.75      0.65      1325\n",
            "\n",
            "max_features: 3000 n_gram: (1, 3)  solver: liblinear  tol: 3  C: 10  f1: 0.2867383512544803\n"
          ]
        },
        {
          "output_type": "stream",
          "name": "stderr",
          "text": [
            "/usr/local/lib/python3.10/dist-packages/sklearn/utils/validation.py:1183: DataConversionWarning: A column-vector y was passed when a 1d array was expected. Please change the shape of y to (n_samples, ), for example using ravel().\n",
            "  y = column_or_1d(y, warn=True)\n"
          ]
        },
        {
          "output_type": "stream",
          "name": "stdout",
          "text": [
            "                     precision    recall  f1-score   support\n",
            "\n",
            "      no_depression       0.83      0.76      0.79      1000\n",
            "possible_depression       0.30      0.37      0.33       250\n",
            "    true_depression       0.21      0.25      0.23        75\n",
            "\n",
            "           accuracy                           0.66      1325\n",
            "          macro avg       0.44      0.46      0.45      1325\n",
            "       weighted avg       0.69      0.66      0.67      1325\n",
            "\n",
            "max_features: 3000 n_gram: (1, 3)  solver: newton-cg  tol: 5  C: 0.1  f1: 0.4510201108353277\n"
          ]
        },
        {
          "output_type": "stream",
          "name": "stderr",
          "text": [
            "/usr/local/lib/python3.10/dist-packages/sklearn/utils/validation.py:1183: DataConversionWarning: A column-vector y was passed when a 1d array was expected. Please change the shape of y to (n_samples, ), for example using ravel().\n",
            "  y = column_or_1d(y, warn=True)\n"
          ]
        },
        {
          "output_type": "stream",
          "name": "stdout",
          "text": [
            "                     precision    recall  f1-score   support\n",
            "\n",
            "      no_depression       0.82      0.78      0.80      1000\n",
            "possible_depression       0.29      0.34      0.31       250\n",
            "    true_depression       0.20      0.20      0.20        75\n",
            "\n",
            "           accuracy                           0.67      1325\n",
            "          macro avg       0.44      0.44      0.44      1325\n",
            "       weighted avg       0.69      0.67      0.67      1325\n",
            "\n",
            "max_features: 3000 n_gram: (1, 3)  solver: newton-cg  tol: 5  C: 0.3  f1: 0.4379706575520408\n"
          ]
        },
        {
          "output_type": "stream",
          "name": "stderr",
          "text": [
            "/usr/local/lib/python3.10/dist-packages/sklearn/utils/validation.py:1183: DataConversionWarning: A column-vector y was passed when a 1d array was expected. Please change the shape of y to (n_samples, ), for example using ravel().\n",
            "  y = column_or_1d(y, warn=True)\n"
          ]
        },
        {
          "output_type": "stream",
          "name": "stdout",
          "text": [
            "                     precision    recall  f1-score   support\n",
            "\n",
            "      no_depression       0.82      0.80      0.81      1000\n",
            "possible_depression       0.31      0.38      0.34       250\n",
            "    true_depression       0.19      0.12      0.15        75\n",
            "\n",
            "           accuracy                           0.68      1325\n",
            "          macro avg       0.44      0.43      0.43      1325\n",
            "       weighted avg       0.69      0.68      0.68      1325\n",
            "\n",
            "max_features: 3000 n_gram: (1, 3)  solver: newton-cg  tol: 5  C: 3  f1: 0.43348630477570976\n"
          ]
        },
        {
          "output_type": "stream",
          "name": "stderr",
          "text": [
            "/usr/local/lib/python3.10/dist-packages/sklearn/utils/validation.py:1183: DataConversionWarning: A column-vector y was passed when a 1d array was expected. Please change the shape of y to (n_samples, ), for example using ravel().\n",
            "  y = column_or_1d(y, warn=True)\n"
          ]
        },
        {
          "output_type": "stream",
          "name": "stdout",
          "text": [
            "                     precision    recall  f1-score   support\n",
            "\n",
            "      no_depression       0.82      0.81      0.81      1000\n",
            "possible_depression       0.31      0.38      0.34       250\n",
            "    true_depression       0.19      0.09      0.13        75\n",
            "\n",
            "           accuracy                           0.69      1325\n",
            "          macro avg       0.44      0.43      0.43      1325\n",
            "       weighted avg       0.69      0.69      0.69      1325\n",
            "\n",
            "max_features: 3000 n_gram: (1, 3)  solver: newton-cg  tol: 5  C: 10  f1: 0.4271893975655115\n"
          ]
        },
        {
          "output_type": "stream",
          "name": "stderr",
          "text": [
            "/usr/local/lib/python3.10/dist-packages/sklearn/utils/validation.py:1183: DataConversionWarning: A column-vector y was passed when a 1d array was expected. Please change the shape of y to (n_samples, ), for example using ravel().\n",
            "  y = column_or_1d(y, warn=True)\n"
          ]
        },
        {
          "output_type": "stream",
          "name": "stdout",
          "text": [
            "                     precision    recall  f1-score   support\n",
            "\n",
            "      no_depression       0.83      0.77      0.80      1000\n",
            "possible_depression       0.31      0.36      0.33       250\n",
            "    true_depression       0.22      0.27      0.24        75\n",
            "\n",
            "           accuracy                           0.67      1325\n",
            "          macro avg       0.45      0.47      0.46      1325\n",
            "       weighted avg       0.69      0.67      0.68      1325\n",
            "\n",
            "max_features: 3000 n_gram: (1, 3)  solver: newton-cg  tol: 0.3  C: 0.1  f1: 0.4572125821350001\n"
          ]
        },
        {
          "output_type": "stream",
          "name": "stderr",
          "text": [
            "/usr/local/lib/python3.10/dist-packages/sklearn/utils/validation.py:1183: DataConversionWarning: A column-vector y was passed when a 1d array was expected. Please change the shape of y to (n_samples, ), for example using ravel().\n",
            "  y = column_or_1d(y, warn=True)\n"
          ]
        },
        {
          "output_type": "stream",
          "name": "stdout",
          "text": [
            "                     precision    recall  f1-score   support\n",
            "\n",
            "      no_depression       0.82      0.79      0.81      1000\n",
            "possible_depression       0.30      0.35      0.32       250\n",
            "    true_depression       0.20      0.20      0.20        75\n",
            "\n",
            "           accuracy                           0.67      1325\n",
            "          macro avg       0.44      0.45      0.44      1325\n",
            "       weighted avg       0.69      0.67      0.68      1325\n",
            "\n",
            "max_features: 3000 n_gram: (1, 3)  solver: newton-cg  tol: 0.3  C: 0.3  f1: 0.4421698265235798\n"
          ]
        },
        {
          "output_type": "stream",
          "name": "stderr",
          "text": [
            "/usr/local/lib/python3.10/dist-packages/sklearn/utils/validation.py:1183: DataConversionWarning: A column-vector y was passed when a 1d array was expected. Please change the shape of y to (n_samples, ), for example using ravel().\n",
            "  y = column_or_1d(y, warn=True)\n"
          ]
        },
        {
          "output_type": "stream",
          "name": "stdout",
          "text": [
            "                     precision    recall  f1-score   support\n",
            "\n",
            "      no_depression       0.83      0.80      0.81      1000\n",
            "possible_depression       0.32      0.38      0.35       250\n",
            "    true_depression       0.20      0.13      0.16        75\n",
            "\n",
            "           accuracy                           0.69      1325\n",
            "          macro avg       0.45      0.44      0.44      1325\n",
            "       weighted avg       0.69      0.69      0.69      1325\n",
            "\n",
            "max_features: 3000 n_gram: (1, 3)  solver: newton-cg  tol: 0.3  C: 3  f1: 0.4401234995277492\n"
          ]
        },
        {
          "output_type": "stream",
          "name": "stderr",
          "text": [
            "/usr/local/lib/python3.10/dist-packages/sklearn/utils/validation.py:1183: DataConversionWarning: A column-vector y was passed when a 1d array was expected. Please change the shape of y to (n_samples, ), for example using ravel().\n",
            "  y = column_or_1d(y, warn=True)\n"
          ]
        },
        {
          "output_type": "stream",
          "name": "stdout",
          "text": [
            "                     precision    recall  f1-score   support\n",
            "\n",
            "      no_depression       0.82      0.79      0.81      1000\n",
            "possible_depression       0.30      0.38      0.34       250\n",
            "    true_depression       0.24      0.13      0.17        75\n",
            "\n",
            "           accuracy                           0.68      1325\n",
            "          macro avg       0.45      0.44      0.44      1325\n",
            "       weighted avg       0.69      0.68      0.68      1325\n",
            "\n",
            "max_features: 3000 n_gram: (1, 3)  solver: newton-cg  tol: 0.3  C: 10  f1: 0.4379228690294588\n"
          ]
        },
        {
          "output_type": "stream",
          "name": "stderr",
          "text": [
            "/usr/local/lib/python3.10/dist-packages/sklearn/utils/validation.py:1183: DataConversionWarning: A column-vector y was passed when a 1d array was expected. Please change the shape of y to (n_samples, ), for example using ravel().\n",
            "  y = column_or_1d(y, warn=True)\n"
          ]
        },
        {
          "output_type": "stream",
          "name": "stdout",
          "text": [
            "                     precision    recall  f1-score   support\n",
            "\n",
            "      no_depression       0.83      0.78      0.80      1000\n",
            "possible_depression       0.31      0.36      0.33       250\n",
            "    true_depression       0.21      0.25      0.23        75\n",
            "\n",
            "           accuracy                           0.67      1325\n",
            "          macro avg       0.45      0.46      0.45      1325\n",
            "       weighted avg       0.69      0.67      0.68      1325\n",
            "\n",
            "max_features: 3000 n_gram: (1, 3)  solver: newton-cg  tol: 3  C: 0.1  f1: 0.45483833135260504\n"
          ]
        },
        {
          "output_type": "stream",
          "name": "stderr",
          "text": [
            "/usr/local/lib/python3.10/dist-packages/sklearn/utils/validation.py:1183: DataConversionWarning: A column-vector y was passed when a 1d array was expected. Please change the shape of y to (n_samples, ), for example using ravel().\n",
            "  y = column_or_1d(y, warn=True)\n"
          ]
        },
        {
          "output_type": "stream",
          "name": "stdout",
          "text": [
            "                     precision    recall  f1-score   support\n",
            "\n",
            "      no_depression       0.82      0.78      0.80      1000\n",
            "possible_depression       0.29      0.34      0.31       250\n",
            "    true_depression       0.20      0.20      0.20        75\n",
            "\n",
            "           accuracy                           0.67      1325\n",
            "          macro avg       0.44      0.44      0.44      1325\n",
            "       weighted avg       0.69      0.67      0.67      1325\n",
            "\n",
            "max_features: 3000 n_gram: (1, 3)  solver: newton-cg  tol: 3  C: 0.3  f1: 0.4379706575520408\n"
          ]
        },
        {
          "output_type": "stream",
          "name": "stderr",
          "text": [
            "/usr/local/lib/python3.10/dist-packages/sklearn/utils/validation.py:1183: DataConversionWarning: A column-vector y was passed when a 1d array was expected. Please change the shape of y to (n_samples, ), for example using ravel().\n",
            "  y = column_or_1d(y, warn=True)\n"
          ]
        },
        {
          "output_type": "stream",
          "name": "stdout",
          "text": [
            "                     precision    recall  f1-score   support\n",
            "\n",
            "      no_depression       0.83      0.80      0.81      1000\n",
            "possible_depression       0.31      0.38      0.35       250\n",
            "    true_depression       0.20      0.13      0.16        75\n",
            "\n",
            "           accuracy                           0.68      1325\n",
            "          macro avg       0.45      0.44      0.44      1325\n",
            "       weighted avg       0.69      0.68      0.69      1325\n",
            "\n",
            "max_features: 3000 n_gram: (1, 3)  solver: newton-cg  tol: 3  C: 3  f1: 0.4397146384963644\n"
          ]
        },
        {
          "output_type": "stream",
          "name": "stderr",
          "text": [
            "/usr/local/lib/python3.10/dist-packages/sklearn/utils/validation.py:1183: DataConversionWarning: A column-vector y was passed when a 1d array was expected. Please change the shape of y to (n_samples, ), for example using ravel().\n",
            "  y = column_or_1d(y, warn=True)\n"
          ]
        },
        {
          "output_type": "stream",
          "name": "stdout",
          "text": [
            "                     precision    recall  f1-score   support\n",
            "\n",
            "      no_depression       0.82      0.81      0.81      1000\n",
            "possible_depression       0.31      0.38      0.34       250\n",
            "    true_depression       0.19      0.09      0.13        75\n",
            "\n",
            "           accuracy                           0.69      1325\n",
            "          macro avg       0.44      0.43      0.43      1325\n",
            "       weighted avg       0.69      0.69      0.69      1325\n",
            "\n",
            "max_features: 3000 n_gram: (1, 3)  solver: newton-cg  tol: 3  C: 10  f1: 0.4271893975655115\n"
          ]
        },
        {
          "output_type": "stream",
          "name": "stderr",
          "text": [
            "/usr/local/lib/python3.10/dist-packages/sklearn/utils/validation.py:1183: DataConversionWarning: A column-vector y was passed when a 1d array was expected. Please change the shape of y to (n_samples, ), for example using ravel().\n",
            "  y = column_or_1d(y, warn=True)\n"
          ]
        },
        {
          "output_type": "stream",
          "name": "stdout",
          "text": [
            "                     precision    recall  f1-score   support\n",
            "\n",
            "      no_depression       0.82      0.80      0.81      1000\n",
            "possible_depression       0.30      0.30      0.30       250\n",
            "    true_depression       0.20      0.29      0.24        75\n",
            "\n",
            "           accuracy                           0.67      1325\n",
            "          macro avg       0.44      0.46      0.45      1325\n",
            "       weighted avg       0.69      0.67      0.68      1325\n",
            "\n",
            "max_features: 3000 n_gram: (1, 3)  solver: newton-cholesky  tol: 5  C: 0.1  f1: 0.44985120712520876\n"
          ]
        },
        {
          "output_type": "stream",
          "name": "stderr",
          "text": [
            "/usr/local/lib/python3.10/dist-packages/sklearn/utils/validation.py:1183: DataConversionWarning: A column-vector y was passed when a 1d array was expected. Please change the shape of y to (n_samples, ), for example using ravel().\n",
            "  y = column_or_1d(y, warn=True)\n"
          ]
        },
        {
          "output_type": "stream",
          "name": "stdout",
          "text": [
            "                     precision    recall  f1-score   support\n",
            "\n",
            "      no_depression       0.82      0.79      0.80      1000\n",
            "possible_depression       0.29      0.32      0.31       250\n",
            "    true_depression       0.20      0.24      0.22        75\n",
            "\n",
            "           accuracy                           0.67      1325\n",
            "          macro avg       0.44      0.45      0.44      1325\n",
            "       weighted avg       0.69      0.67      0.68      1325\n",
            "\n",
            "max_features: 3000 n_gram: (1, 3)  solver: newton-cholesky  tol: 5  C: 0.3  f1: 0.4427968353345939\n"
          ]
        },
        {
          "output_type": "stream",
          "name": "stderr",
          "text": [
            "/usr/local/lib/python3.10/dist-packages/sklearn/utils/validation.py:1183: DataConversionWarning: A column-vector y was passed when a 1d array was expected. Please change the shape of y to (n_samples, ), for example using ravel().\n",
            "  y = column_or_1d(y, warn=True)\n"
          ]
        },
        {
          "output_type": "stream",
          "name": "stdout",
          "text": [
            "                     precision    recall  f1-score   support\n",
            "\n",
            "      no_depression       0.82      0.79      0.81      1000\n",
            "possible_depression       0.30      0.37      0.33       250\n",
            "    true_depression       0.22      0.17      0.19        75\n",
            "\n",
            "           accuracy                           0.67      1325\n",
            "          macro avg       0.45      0.44      0.44      1325\n",
            "       weighted avg       0.69      0.67      0.68      1325\n",
            "\n",
            "max_features: 3000 n_gram: (1, 3)  solver: newton-cholesky  tol: 5  C: 3  f1: 0.4428926418190213\n"
          ]
        },
        {
          "output_type": "stream",
          "name": "stderr",
          "text": [
            "/usr/local/lib/python3.10/dist-packages/sklearn/utils/validation.py:1183: DataConversionWarning: A column-vector y was passed when a 1d array was expected. Please change the shape of y to (n_samples, ), for example using ravel().\n",
            "  y = column_or_1d(y, warn=True)\n"
          ]
        },
        {
          "output_type": "stream",
          "name": "stdout",
          "text": [
            "                     precision    recall  f1-score   support\n",
            "\n",
            "      no_depression       0.82      0.77      0.79      1000\n",
            "possible_depression       0.28      0.38      0.32       250\n",
            "    true_depression       0.20      0.13      0.16        75\n",
            "\n",
            "           accuracy                           0.66      1325\n",
            "          macro avg       0.43      0.43      0.43      1325\n",
            "       weighted avg       0.68      0.66      0.67      1325\n",
            "\n",
            "max_features: 3000 n_gram: (1, 3)  solver: newton-cholesky  tol: 5  C: 10  f1: 0.4255473904325982\n"
          ]
        },
        {
          "output_type": "stream",
          "name": "stderr",
          "text": [
            "/usr/local/lib/python3.10/dist-packages/sklearn/utils/validation.py:1183: DataConversionWarning: A column-vector y was passed when a 1d array was expected. Please change the shape of y to (n_samples, ), for example using ravel().\n",
            "  y = column_or_1d(y, warn=True)\n"
          ]
        },
        {
          "output_type": "stream",
          "name": "stdout",
          "text": [
            "                     precision    recall  f1-score   support\n",
            "\n",
            "      no_depression       0.82      0.80      0.81      1000\n",
            "possible_depression       0.30      0.30      0.30       250\n",
            "    true_depression       0.20      0.29      0.24        75\n",
            "\n",
            "           accuracy                           0.67      1325\n",
            "          macro avg       0.44      0.46      0.45      1325\n",
            "       weighted avg       0.69      0.67      0.68      1325\n",
            "\n",
            "max_features: 3000 n_gram: (1, 3)  solver: newton-cholesky  tol: 0.3  C: 0.1  f1: 0.44985120712520876\n"
          ]
        },
        {
          "output_type": "stream",
          "name": "stderr",
          "text": [
            "/usr/local/lib/python3.10/dist-packages/sklearn/utils/validation.py:1183: DataConversionWarning: A column-vector y was passed when a 1d array was expected. Please change the shape of y to (n_samples, ), for example using ravel().\n",
            "  y = column_or_1d(y, warn=True)\n"
          ]
        },
        {
          "output_type": "stream",
          "name": "stdout",
          "text": [
            "                     precision    recall  f1-score   support\n",
            "\n",
            "      no_depression       0.82      0.79      0.80      1000\n",
            "possible_depression       0.29      0.32      0.31       250\n",
            "    true_depression       0.20      0.24      0.22        75\n",
            "\n",
            "           accuracy                           0.67      1325\n",
            "          macro avg       0.44      0.45      0.44      1325\n",
            "       weighted avg       0.69      0.67      0.68      1325\n",
            "\n",
            "max_features: 3000 n_gram: (1, 3)  solver: newton-cholesky  tol: 0.3  C: 0.3  f1: 0.4427968353345939\n"
          ]
        },
        {
          "output_type": "stream",
          "name": "stderr",
          "text": [
            "/usr/local/lib/python3.10/dist-packages/sklearn/utils/validation.py:1183: DataConversionWarning: A column-vector y was passed when a 1d array was expected. Please change the shape of y to (n_samples, ), for example using ravel().\n",
            "  y = column_or_1d(y, warn=True)\n"
          ]
        },
        {
          "output_type": "stream",
          "name": "stdout",
          "text": [
            "                     precision    recall  f1-score   support\n",
            "\n",
            "      no_depression       0.82      0.80      0.81      1000\n",
            "possible_depression       0.31      0.37      0.34       250\n",
            "    true_depression       0.20      0.16      0.18        75\n",
            "\n",
            "           accuracy                           0.68      1325\n",
            "          macro avg       0.44      0.44      0.44      1325\n",
            "       weighted avg       0.69      0.68      0.68      1325\n",
            "\n",
            "max_features: 3000 n_gram: (1, 3)  solver: newton-cholesky  tol: 0.3  C: 3  f1: 0.4417747734559769\n"
          ]
        },
        {
          "output_type": "stream",
          "name": "stderr",
          "text": [
            "/usr/local/lib/python3.10/dist-packages/sklearn/utils/validation.py:1183: DataConversionWarning: A column-vector y was passed when a 1d array was expected. Please change the shape of y to (n_samples, ), for example using ravel().\n",
            "  y = column_or_1d(y, warn=True)\n"
          ]
        },
        {
          "output_type": "stream",
          "name": "stdout",
          "text": [
            "                     precision    recall  f1-score   support\n",
            "\n",
            "      no_depression       0.82      0.79      0.81      1000\n",
            "possible_depression       0.30      0.37      0.33       250\n",
            "    true_depression       0.23      0.15      0.18        75\n",
            "\n",
            "           accuracy                           0.68      1325\n",
            "          macro avg       0.45      0.44      0.44      1325\n",
            "       weighted avg       0.69      0.68      0.68      1325\n",
            "\n",
            "max_features: 3000 n_gram: (1, 3)  solver: newton-cholesky  tol: 0.3  C: 10  f1: 0.4386431709798069\n"
          ]
        },
        {
          "output_type": "stream",
          "name": "stderr",
          "text": [
            "/usr/local/lib/python3.10/dist-packages/sklearn/utils/validation.py:1183: DataConversionWarning: A column-vector y was passed when a 1d array was expected. Please change the shape of y to (n_samples, ), for example using ravel().\n",
            "  y = column_or_1d(y, warn=True)\n"
          ]
        },
        {
          "output_type": "stream",
          "name": "stdout",
          "text": [
            "                     precision    recall  f1-score   support\n",
            "\n",
            "      no_depression       0.82      0.80      0.81      1000\n",
            "possible_depression       0.30      0.30      0.30       250\n",
            "    true_depression       0.20      0.29      0.24        75\n",
            "\n",
            "           accuracy                           0.67      1325\n",
            "          macro avg       0.44      0.46      0.45      1325\n",
            "       weighted avg       0.69      0.67      0.68      1325\n",
            "\n",
            "max_features: 3000 n_gram: (1, 3)  solver: newton-cholesky  tol: 3  C: 0.1  f1: 0.44985120712520876\n"
          ]
        },
        {
          "output_type": "stream",
          "name": "stderr",
          "text": [
            "/usr/local/lib/python3.10/dist-packages/sklearn/utils/validation.py:1183: DataConversionWarning: A column-vector y was passed when a 1d array was expected. Please change the shape of y to (n_samples, ), for example using ravel().\n",
            "  y = column_or_1d(y, warn=True)\n"
          ]
        },
        {
          "output_type": "stream",
          "name": "stdout",
          "text": [
            "                     precision    recall  f1-score   support\n",
            "\n",
            "      no_depression       0.82      0.79      0.80      1000\n",
            "possible_depression       0.29      0.32      0.31       250\n",
            "    true_depression       0.20      0.24      0.22        75\n",
            "\n",
            "           accuracy                           0.67      1325\n",
            "          macro avg       0.44      0.45      0.44      1325\n",
            "       weighted avg       0.69      0.67      0.68      1325\n",
            "\n",
            "max_features: 3000 n_gram: (1, 3)  solver: newton-cholesky  tol: 3  C: 0.3  f1: 0.4427968353345939\n"
          ]
        },
        {
          "output_type": "stream",
          "name": "stderr",
          "text": [
            "/usr/local/lib/python3.10/dist-packages/sklearn/utils/validation.py:1183: DataConversionWarning: A column-vector y was passed when a 1d array was expected. Please change the shape of y to (n_samples, ), for example using ravel().\n",
            "  y = column_or_1d(y, warn=True)\n"
          ]
        },
        {
          "output_type": "stream",
          "name": "stdout",
          "text": [
            "                     precision    recall  f1-score   support\n",
            "\n",
            "      no_depression       0.82      0.79      0.81      1000\n",
            "possible_depression       0.30      0.37      0.33       250\n",
            "    true_depression       0.22      0.17      0.19        75\n",
            "\n",
            "           accuracy                           0.67      1325\n",
            "          macro avg       0.45      0.44      0.44      1325\n",
            "       weighted avg       0.69      0.67      0.68      1325\n",
            "\n",
            "max_features: 3000 n_gram: (1, 3)  solver: newton-cholesky  tol: 3  C: 3  f1: 0.4428926418190213\n"
          ]
        },
        {
          "output_type": "stream",
          "name": "stderr",
          "text": [
            "/usr/local/lib/python3.10/dist-packages/sklearn/utils/validation.py:1183: DataConversionWarning: A column-vector y was passed when a 1d array was expected. Please change the shape of y to (n_samples, ), for example using ravel().\n",
            "  y = column_or_1d(y, warn=True)\n"
          ]
        },
        {
          "output_type": "stream",
          "name": "stdout",
          "text": [
            "                     precision    recall  f1-score   support\n",
            "\n",
            "      no_depression       0.82      0.77      0.79      1000\n",
            "possible_depression       0.28      0.38      0.32       250\n",
            "    true_depression       0.20      0.13      0.16        75\n",
            "\n",
            "           accuracy                           0.66      1325\n",
            "          macro avg       0.43      0.43      0.43      1325\n",
            "       weighted avg       0.68      0.66      0.67      1325\n",
            "\n",
            "max_features: 3000 n_gram: (1, 3)  solver: newton-cholesky  tol: 3  C: 10  f1: 0.4255473904325982\n"
          ]
        },
        {
          "output_type": "stream",
          "name": "stderr",
          "text": [
            "/usr/local/lib/python3.10/dist-packages/sklearn/utils/validation.py:1183: DataConversionWarning: A column-vector y was passed when a 1d array was expected. Please change the shape of y to (n_samples, ), for example using ravel().\n",
            "  y = column_or_1d(y, warn=True)\n"
          ]
        },
        {
          "output_type": "stream",
          "name": "stdout",
          "text": [
            "                     precision    recall  f1-score   support\n",
            "\n",
            "      no_depression       0.82      0.77      0.79      1000\n",
            "possible_depression       0.29      0.35      0.32       250\n",
            "    true_depression       0.20      0.27      0.23        75\n",
            "\n",
            "           accuracy                           0.66      1325\n",
            "          macro avg       0.44      0.46      0.45      1325\n",
            "       weighted avg       0.69      0.66      0.67      1325\n",
            "\n",
            "max_features: 3000 n_gram: (1, 3)  solver: sag  tol: 5  C: 0.1  f1: 0.4478527185000154\n"
          ]
        },
        {
          "output_type": "stream",
          "name": "stderr",
          "text": [
            "/usr/local/lib/python3.10/dist-packages/sklearn/utils/validation.py:1183: DataConversionWarning: A column-vector y was passed when a 1d array was expected. Please change the shape of y to (n_samples, ), for example using ravel().\n",
            "  y = column_or_1d(y, warn=True)\n"
          ]
        },
        {
          "output_type": "stream",
          "name": "stdout",
          "text": [
            "                     precision    recall  f1-score   support\n",
            "\n",
            "      no_depression       0.82      0.78      0.80      1000\n",
            "possible_depression       0.28      0.36      0.32       250\n",
            "    true_depression       0.22      0.15      0.17        75\n",
            "\n",
            "           accuracy                           0.67      1325\n",
            "          macro avg       0.44      0.43      0.43      1325\n",
            "       weighted avg       0.68      0.67      0.67      1325\n",
            "\n",
            "max_features: 3000 n_gram: (1, 3)  solver: sag  tol: 5  C: 0.3  f1: 0.429974873557414\n"
          ]
        },
        {
          "output_type": "stream",
          "name": "stderr",
          "text": [
            "/usr/local/lib/python3.10/dist-packages/sklearn/utils/validation.py:1183: DataConversionWarning: A column-vector y was passed when a 1d array was expected. Please change the shape of y to (n_samples, ), for example using ravel().\n",
            "  y = column_or_1d(y, warn=True)\n"
          ]
        },
        {
          "output_type": "stream",
          "name": "stdout",
          "text": [
            "                     precision    recall  f1-score   support\n",
            "\n",
            "      no_depression       0.84      0.76      0.80      1000\n",
            "possible_depression       0.31      0.47      0.38       250\n",
            "    true_depression       0.20      0.12      0.15        75\n",
            "\n",
            "           accuracy                           0.67      1325\n",
            "          macro avg       0.45      0.45      0.44      1325\n",
            "       weighted avg       0.70      0.67      0.68      1325\n",
            "\n",
            "max_features: 3000 n_gram: (1, 3)  solver: sag  tol: 5  C: 3  f1: 0.44101080780423646\n"
          ]
        },
        {
          "output_type": "stream",
          "name": "stderr",
          "text": [
            "/usr/local/lib/python3.10/dist-packages/sklearn/utils/validation.py:1183: DataConversionWarning: A column-vector y was passed when a 1d array was expected. Please change the shape of y to (n_samples, ), for example using ravel().\n",
            "  y = column_or_1d(y, warn=True)\n"
          ]
        },
        {
          "output_type": "stream",
          "name": "stdout",
          "text": [
            "                     precision    recall  f1-score   support\n",
            "\n",
            "      no_depression       0.84      0.75      0.79      1000\n",
            "possible_depression       0.30      0.47      0.36       250\n",
            "    true_depression       0.22      0.11      0.14        75\n",
            "\n",
            "           accuracy                           0.66      1325\n",
            "          macro avg       0.45      0.44      0.43      1325\n",
            "       weighted avg       0.70      0.66      0.67      1325\n",
            "\n",
            "max_features: 3000 n_gram: (1, 3)  solver: sag  tol: 5  C: 10  f1: 0.4335050427359024\n"
          ]
        },
        {
          "output_type": "stream",
          "name": "stderr",
          "text": [
            "/usr/local/lib/python3.10/dist-packages/sklearn/utils/validation.py:1183: DataConversionWarning: A column-vector y was passed when a 1d array was expected. Please change the shape of y to (n_samples, ), for example using ravel().\n",
            "  y = column_or_1d(y, warn=True)\n"
          ]
        },
        {
          "output_type": "stream",
          "name": "stdout",
          "text": [
            "                     precision    recall  f1-score   support\n",
            "\n",
            "      no_depression       0.83      0.76      0.79      1000\n",
            "possible_depression       0.30      0.38      0.33       250\n",
            "    true_depression       0.21      0.28      0.24        75\n",
            "\n",
            "           accuracy                           0.66      1325\n",
            "          macro avg       0.45      0.47      0.46      1325\n",
            "       weighted avg       0.70      0.66      0.68      1325\n",
            "\n",
            "max_features: 3000 n_gram: (1, 3)  solver: sag  tol: 0.3  C: 0.1  f1: 0.4566611448222965\n"
          ]
        },
        {
          "output_type": "stream",
          "name": "stderr",
          "text": [
            "/usr/local/lib/python3.10/dist-packages/sklearn/utils/validation.py:1183: DataConversionWarning: A column-vector y was passed when a 1d array was expected. Please change the shape of y to (n_samples, ), for example using ravel().\n",
            "  y = column_or_1d(y, warn=True)\n"
          ]
        },
        {
          "output_type": "stream",
          "name": "stdout",
          "text": [
            "                     precision    recall  f1-score   support\n",
            "\n",
            "      no_depression       0.82      0.78      0.80      1000\n",
            "possible_depression       0.30      0.36      0.33       250\n",
            "    true_depression       0.21      0.23      0.22        75\n",
            "\n",
            "           accuracy                           0.67      1325\n",
            "          macro avg       0.44      0.45      0.45      1325\n",
            "       weighted avg       0.69      0.67      0.68      1325\n",
            "\n",
            "max_features: 3000 n_gram: (1, 3)  solver: sag  tol: 0.3  C: 0.3  f1: 0.44854432261839666\n"
          ]
        },
        {
          "output_type": "stream",
          "name": "stderr",
          "text": [
            "/usr/local/lib/python3.10/dist-packages/sklearn/utils/validation.py:1183: DataConversionWarning: A column-vector y was passed when a 1d array was expected. Please change the shape of y to (n_samples, ), for example using ravel().\n",
            "  y = column_or_1d(y, warn=True)\n"
          ]
        },
        {
          "output_type": "stream",
          "name": "stdout",
          "text": [
            "                     precision    recall  f1-score   support\n",
            "\n",
            "      no_depression       0.83      0.81      0.82      1000\n",
            "possible_depression       0.32      0.38      0.35       250\n",
            "    true_depression       0.19      0.13      0.16        75\n",
            "\n",
            "           accuracy                           0.69      1325\n",
            "          macro avg       0.44      0.44      0.44      1325\n",
            "       weighted avg       0.69      0.69      0.69      1325\n",
            "\n",
            "max_features: 3000 n_gram: (1, 3)  solver: sag  tol: 0.3  C: 3  f1: 0.43927132278593944\n"
          ]
        },
        {
          "output_type": "stream",
          "name": "stderr",
          "text": [
            "/usr/local/lib/python3.10/dist-packages/sklearn/utils/validation.py:1183: DataConversionWarning: A column-vector y was passed when a 1d array was expected. Please change the shape of y to (n_samples, ), for example using ravel().\n",
            "  y = column_or_1d(y, warn=True)\n"
          ]
        },
        {
          "output_type": "stream",
          "name": "stdout",
          "text": [
            "                     precision    recall  f1-score   support\n",
            "\n",
            "      no_depression       0.82      0.80      0.81      1000\n",
            "possible_depression       0.29      0.36      0.32       250\n",
            "    true_depression       0.30      0.17      0.22        75\n",
            "\n",
            "           accuracy                           0.68      1325\n",
            "          macro avg       0.47      0.44      0.45      1325\n",
            "       weighted avg       0.69      0.68      0.68      1325\n",
            "\n",
            "max_features: 3000 n_gram: (1, 3)  solver: sag  tol: 0.3  C: 10  f1: 0.45013903176135767\n"
          ]
        },
        {
          "output_type": "stream",
          "name": "stderr",
          "text": [
            "/usr/local/lib/python3.10/dist-packages/sklearn/utils/validation.py:1183: DataConversionWarning: A column-vector y was passed when a 1d array was expected. Please change the shape of y to (n_samples, ), for example using ravel().\n",
            "  y = column_or_1d(y, warn=True)\n"
          ]
        },
        {
          "output_type": "stream",
          "name": "stdout",
          "text": [
            "                     precision    recall  f1-score   support\n",
            "\n",
            "      no_depression       0.82      0.80      0.81      1000\n",
            "possible_depression       0.31      0.33      0.32       250\n",
            "    true_depression       0.21      0.23      0.22        75\n",
            "\n",
            "           accuracy                           0.68      1325\n",
            "          macro avg       0.45      0.45      0.45      1325\n",
            "       weighted avg       0.69      0.68      0.68      1325\n",
            "\n",
            "max_features: 3000 n_gram: (1, 3)  solver: sag  tol: 3  C: 0.1  f1: 0.4493711854130867\n"
          ]
        },
        {
          "output_type": "stream",
          "name": "stderr",
          "text": [
            "/usr/local/lib/python3.10/dist-packages/sklearn/utils/validation.py:1183: DataConversionWarning: A column-vector y was passed when a 1d array was expected. Please change the shape of y to (n_samples, ), for example using ravel().\n",
            "  y = column_or_1d(y, warn=True)\n"
          ]
        },
        {
          "output_type": "stream",
          "name": "stdout",
          "text": [
            "                     precision    recall  f1-score   support\n",
            "\n",
            "      no_depression       0.80      0.83      0.81      1000\n",
            "possible_depression       0.27      0.24      0.26       250\n",
            "    true_depression       0.23      0.23      0.23        75\n",
            "\n",
            "           accuracy                           0.68      1325\n",
            "          macro avg       0.44      0.43      0.43      1325\n",
            "       weighted avg       0.67      0.68      0.68      1325\n",
            "\n",
            "max_features: 3000 n_gram: (1, 3)  solver: sag  tol: 3  C: 0.3  f1: 0.4339506774834064\n"
          ]
        },
        {
          "output_type": "stream",
          "name": "stderr",
          "text": [
            "/usr/local/lib/python3.10/dist-packages/sklearn/utils/validation.py:1183: DataConversionWarning: A column-vector y was passed when a 1d array was expected. Please change the shape of y to (n_samples, ), for example using ravel().\n",
            "  y = column_or_1d(y, warn=True)\n"
          ]
        },
        {
          "output_type": "stream",
          "name": "stdout",
          "text": [
            "                     precision    recall  f1-score   support\n",
            "\n",
            "      no_depression       0.82      0.75      0.78      1000\n",
            "possible_depression       0.28      0.41      0.33       250\n",
            "    true_depression       0.13      0.09      0.11        75\n",
            "\n",
            "           accuracy                           0.65      1325\n",
            "          macro avg       0.41      0.42      0.41      1325\n",
            "       weighted avg       0.68      0.65      0.66      1325\n",
            "\n",
            "max_features: 3000 n_gram: (1, 3)  solver: sag  tol: 3  C: 3  f1: 0.409499636721234\n"
          ]
        },
        {
          "output_type": "stream",
          "name": "stderr",
          "text": [
            "/usr/local/lib/python3.10/dist-packages/sklearn/utils/validation.py:1183: DataConversionWarning: A column-vector y was passed when a 1d array was expected. Please change the shape of y to (n_samples, ), for example using ravel().\n",
            "  y = column_or_1d(y, warn=True)\n"
          ]
        },
        {
          "output_type": "stream",
          "name": "stdout",
          "text": [
            "                     precision    recall  f1-score   support\n",
            "\n",
            "      no_depression       0.82      0.79      0.80      1000\n",
            "possible_depression       0.29      0.37      0.33       250\n",
            "    true_depression       0.19      0.12      0.15        75\n",
            "\n",
            "           accuracy                           0.67      1325\n",
            "          macro avg       0.43      0.42      0.42      1325\n",
            "       weighted avg       0.68      0.67      0.67      1325\n",
            "\n",
            "max_features: 3000 n_gram: (1, 3)  solver: sag  tol: 3  C: 10  f1: 0.42472981677796345\n"
          ]
        },
        {
          "output_type": "stream",
          "name": "stderr",
          "text": [
            "/usr/local/lib/python3.10/dist-packages/sklearn/utils/validation.py:1183: DataConversionWarning: A column-vector y was passed when a 1d array was expected. Please change the shape of y to (n_samples, ), for example using ravel().\n",
            "  y = column_or_1d(y, warn=True)\n"
          ]
        },
        {
          "output_type": "stream",
          "name": "stdout",
          "text": [
            "                     precision    recall  f1-score   support\n",
            "\n",
            "      no_depression       0.85      0.64      0.73      1000\n",
            "possible_depression       0.28      0.63      0.39       250\n",
            "    true_depression       0.40      0.03      0.05        75\n",
            "\n",
            "           accuracy                           0.60      1325\n",
            "          macro avg       0.51      0.43      0.39      1325\n",
            "       weighted avg       0.72      0.60      0.63      1325\n",
            "\n",
            "max_features: 3000 n_gram: (1, 3)  solver: saga  tol: 5  C: 0.1  f1: 0.38858670775139276\n"
          ]
        },
        {
          "output_type": "stream",
          "name": "stderr",
          "text": [
            "/usr/local/lib/python3.10/dist-packages/sklearn/utils/validation.py:1183: DataConversionWarning: A column-vector y was passed when a 1d array was expected. Please change the shape of y to (n_samples, ), for example using ravel().\n",
            "  y = column_or_1d(y, warn=True)\n"
          ]
        },
        {
          "output_type": "stream",
          "name": "stdout",
          "text": [
            "                     precision    recall  f1-score   support\n",
            "\n",
            "      no_depression       0.86      0.62      0.72      1000\n",
            "possible_depression       0.29      0.60      0.39       250\n",
            "    true_depression       0.18      0.19      0.18        75\n",
            "\n",
            "           accuracy                           0.59      1325\n",
            "          macro avg       0.44      0.47      0.43      1325\n",
            "       weighted avg       0.71      0.59      0.63      1325\n",
            "\n",
            "max_features: 3000 n_gram: (1, 3)  solver: saga  tol: 5  C: 0.3  f1: 0.43068707912457915\n"
          ]
        },
        {
          "output_type": "stream",
          "name": "stderr",
          "text": [
            "/usr/local/lib/python3.10/dist-packages/sklearn/utils/validation.py:1183: DataConversionWarning: A column-vector y was passed when a 1d array was expected. Please change the shape of y to (n_samples, ), for example using ravel().\n",
            "  y = column_or_1d(y, warn=True)\n"
          ]
        },
        {
          "output_type": "stream",
          "name": "stdout",
          "text": [
            "                     precision    recall  f1-score   support\n",
            "\n",
            "      no_depression       0.82      0.73      0.77      1000\n",
            "possible_depression       0.29      0.45      0.35       250\n",
            "    true_depression       0.20      0.13      0.16        75\n",
            "\n",
            "           accuracy                           0.64      1325\n",
            "          macro avg       0.44      0.44      0.43      1325\n",
            "       weighted avg       0.69      0.64      0.66      1325\n",
            "\n",
            "max_features: 3000 n_gram: (1, 3)  solver: saga  tol: 5  C: 3  f1: 0.42866732425993875\n"
          ]
        },
        {
          "output_type": "stream",
          "name": "stderr",
          "text": [
            "/usr/local/lib/python3.10/dist-packages/sklearn/utils/validation.py:1183: DataConversionWarning: A column-vector y was passed when a 1d array was expected. Please change the shape of y to (n_samples, ), for example using ravel().\n",
            "  y = column_or_1d(y, warn=True)\n"
          ]
        },
        {
          "output_type": "stream",
          "name": "stdout",
          "text": [
            "                     precision    recall  f1-score   support\n",
            "\n",
            "      no_depression       0.83      0.71      0.77      1000\n",
            "possible_depression       0.28      0.45      0.34       250\n",
            "    true_depression       0.21      0.15      0.17        75\n",
            "\n",
            "           accuracy                           0.63      1325\n",
            "          macro avg       0.44      0.44      0.43      1325\n",
            "       weighted avg       0.69      0.63      0.65      1325\n",
            "\n",
            "max_features: 3000 n_gram: (1, 3)  solver: saga  tol: 5  C: 10  f1: 0.4278164747403266\n"
          ]
        },
        {
          "output_type": "stream",
          "name": "stderr",
          "text": [
            "/usr/local/lib/python3.10/dist-packages/sklearn/utils/validation.py:1183: DataConversionWarning: A column-vector y was passed when a 1d array was expected. Please change the shape of y to (n_samples, ), for example using ravel().\n",
            "  y = column_or_1d(y, warn=True)\n"
          ]
        },
        {
          "output_type": "stream",
          "name": "stdout",
          "text": [
            "                     precision    recall  f1-score   support\n",
            "\n",
            "      no_depression       0.83      0.74      0.78      1000\n",
            "possible_depression       0.32      0.33      0.32       250\n",
            "    true_depression       0.17      0.39      0.24        75\n",
            "\n",
            "           accuracy                           0.64      1325\n",
            "          macro avg       0.44      0.49      0.45      1325\n",
            "       weighted avg       0.70      0.64      0.67      1325\n",
            "\n",
            "max_features: 3000 n_gram: (1, 3)  solver: saga  tol: 0.3  C: 0.1  f1: 0.44749072892129577\n"
          ]
        },
        {
          "output_type": "stream",
          "name": "stderr",
          "text": [
            "/usr/local/lib/python3.10/dist-packages/sklearn/utils/validation.py:1183: DataConversionWarning: A column-vector y was passed when a 1d array was expected. Please change the shape of y to (n_samples, ), for example using ravel().\n",
            "  y = column_or_1d(y, warn=True)\n"
          ]
        },
        {
          "output_type": "stream",
          "name": "stdout",
          "text": [
            "                     precision    recall  f1-score   support\n",
            "\n",
            "      no_depression       0.83      0.78      0.80      1000\n",
            "possible_depression       0.30      0.36      0.32       250\n",
            "    true_depression       0.21      0.23      0.22        75\n",
            "\n",
            "           accuracy                           0.67      1325\n",
            "          macro avg       0.44      0.45      0.45      1325\n",
            "       weighted avg       0.69      0.67      0.68      1325\n",
            "\n",
            "max_features: 3000 n_gram: (1, 3)  solver: saga  tol: 0.3  C: 0.3  f1: 0.44849704611405367\n"
          ]
        },
        {
          "output_type": "stream",
          "name": "stderr",
          "text": [
            "/usr/local/lib/python3.10/dist-packages/sklearn/utils/validation.py:1183: DataConversionWarning: A column-vector y was passed when a 1d array was expected. Please change the shape of y to (n_samples, ), for example using ravel().\n",
            "  y = column_or_1d(y, warn=True)\n"
          ]
        },
        {
          "output_type": "stream",
          "name": "stdout",
          "text": [
            "                     precision    recall  f1-score   support\n",
            "\n",
            "      no_depression       0.81      0.82      0.82      1000\n",
            "possible_depression       0.31      0.36      0.34       250\n",
            "    true_depression       0.32      0.11      0.16        75\n",
            "\n",
            "           accuracy                           0.69      1325\n",
            "          macro avg       0.48      0.43      0.44      1325\n",
            "       weighted avg       0.69      0.69      0.69      1325\n",
            "\n",
            "max_features: 3000 n_gram: (1, 3)  solver: saga  tol: 0.3  C: 3  f1: 0.43784081386630597\n"
          ]
        },
        {
          "output_type": "stream",
          "name": "stderr",
          "text": [
            "/usr/local/lib/python3.10/dist-packages/sklearn/utils/validation.py:1183: DataConversionWarning: A column-vector y was passed when a 1d array was expected. Please change the shape of y to (n_samples, ), for example using ravel().\n",
            "  y = column_or_1d(y, warn=True)\n"
          ]
        },
        {
          "output_type": "stream",
          "name": "stdout",
          "text": [
            "                     precision    recall  f1-score   support\n",
            "\n",
            "      no_depression       0.81      0.84      0.83      1000\n",
            "possible_depression       0.31      0.30      0.30       250\n",
            "    true_depression       0.23      0.12      0.16        75\n",
            "\n",
            "           accuracy                           0.70      1325\n",
            "          macro avg       0.45      0.42      0.43      1325\n",
            "       weighted avg       0.68      0.70      0.69      1325\n",
            "\n",
            "max_features: 3000 n_gram: (1, 3)  solver: saga  tol: 0.3  C: 10  f1: 0.42907034324195337\n"
          ]
        },
        {
          "output_type": "stream",
          "name": "stderr",
          "text": [
            "/usr/local/lib/python3.10/dist-packages/sklearn/utils/validation.py:1183: DataConversionWarning: A column-vector y was passed when a 1d array was expected. Please change the shape of y to (n_samples, ), for example using ravel().\n",
            "  y = column_or_1d(y, warn=True)\n"
          ]
        },
        {
          "output_type": "stream",
          "name": "stdout",
          "text": [
            "                     precision    recall  f1-score   support\n",
            "\n",
            "      no_depression       0.83      0.73      0.78      1000\n",
            "possible_depression       0.29      0.36      0.32       250\n",
            "    true_depression       0.19      0.32      0.24        75\n",
            "\n",
            "           accuracy                           0.64      1325\n",
            "          macro avg       0.44      0.47      0.45      1325\n",
            "       weighted avg       0.69      0.64      0.66      1325\n",
            "\n",
            "max_features: 3000 n_gram: (1, 3)  solver: saga  tol: 3  C: 0.1  f1: 0.4458499311163337\n"
          ]
        },
        {
          "output_type": "stream",
          "name": "stderr",
          "text": [
            "/usr/local/lib/python3.10/dist-packages/sklearn/utils/validation.py:1183: DataConversionWarning: A column-vector y was passed when a 1d array was expected. Please change the shape of y to (n_samples, ), for example using ravel().\n",
            "  y = column_or_1d(y, warn=True)\n"
          ]
        },
        {
          "output_type": "stream",
          "name": "stdout",
          "text": [
            "                     precision    recall  f1-score   support\n",
            "\n",
            "      no_depression       0.93      0.37      0.53      1000\n",
            "possible_depression       0.25      0.86      0.38       250\n",
            "    true_depression       0.21      0.16      0.18        75\n",
            "\n",
            "           accuracy                           0.45      1325\n",
            "          macro avg       0.46      0.46      0.37      1325\n",
            "       weighted avg       0.76      0.45      0.48      1325\n",
            "\n",
            "max_features: 3000 n_gram: (1, 3)  solver: saga  tol: 3  C: 0.3  f1: 0.36580924363355\n"
          ]
        },
        {
          "output_type": "stream",
          "name": "stderr",
          "text": [
            "/usr/local/lib/python3.10/dist-packages/sklearn/utils/validation.py:1183: DataConversionWarning: A column-vector y was passed when a 1d array was expected. Please change the shape of y to (n_samples, ), for example using ravel().\n",
            "  y = column_or_1d(y, warn=True)\n"
          ]
        },
        {
          "output_type": "stream",
          "name": "stdout",
          "text": [
            "                     precision    recall  f1-score   support\n",
            "\n",
            "      no_depression       0.82      0.84      0.83      1000\n",
            "possible_depression       0.31      0.28      0.29       250\n",
            "    true_depression       0.22      0.20      0.21        75\n",
            "\n",
            "           accuracy                           0.70      1325\n",
            "          macro avg       0.45      0.44      0.44      1325\n",
            "       weighted avg       0.69      0.70      0.69      1325\n",
            "\n",
            "max_features: 3000 n_gram: (1, 3)  solver: saga  tol: 3  C: 3  f1: 0.4434627131309203\n"
          ]
        },
        {
          "output_type": "stream",
          "name": "stderr",
          "text": [
            "/usr/local/lib/python3.10/dist-packages/sklearn/utils/validation.py:1183: DataConversionWarning: A column-vector y was passed when a 1d array was expected. Please change the shape of y to (n_samples, ), for example using ravel().\n",
            "  y = column_or_1d(y, warn=True)\n"
          ]
        },
        {
          "output_type": "stream",
          "name": "stdout",
          "text": [
            "                     precision    recall  f1-score   support\n",
            "\n",
            "      no_depression       0.80      0.84      0.82      1000\n",
            "possible_depression       0.28      0.30      0.29       250\n",
            "    true_depression       0.30      0.04      0.07        75\n",
            "\n",
            "           accuracy                           0.69      1325\n",
            "          macro avg       0.46      0.40      0.40      1325\n",
            "       weighted avg       0.68      0.69      0.68      1325\n",
            "\n",
            "max_features: 3000 n_gram: (1, 3)  solver: saga  tol: 3  C: 10  f1: 0.3951299383774574\n"
          ]
        },
        {
          "output_type": "stream",
          "name": "stderr",
          "text": [
            "/usr/local/lib/python3.10/dist-packages/sklearn/utils/validation.py:1183: DataConversionWarning: A column-vector y was passed when a 1d array was expected. Please change the shape of y to (n_samples, ), for example using ravel().\n",
            "  y = column_or_1d(y, warn=True)\n"
          ]
        },
        {
          "output_type": "stream",
          "name": "stdout",
          "text": [
            "                     precision    recall  f1-score   support\n",
            "\n",
            "      no_depression       0.83      0.79      0.81      1000\n",
            "possible_depression       0.31      0.36      0.34       250\n",
            "    true_depression       0.21      0.21      0.21        75\n",
            "\n",
            "           accuracy                           0.68      1325\n",
            "          macro avg       0.45      0.46      0.45      1325\n",
            "       weighted avg       0.69      0.68      0.68      1325\n",
            "\n",
            "max_features: 5000 n_gram: (1, 1)  solver: lbfgs  tol: 5  C: 0.1  f1: 0.45162214830200104\n"
          ]
        },
        {
          "output_type": "stream",
          "name": "stderr",
          "text": [
            "/usr/local/lib/python3.10/dist-packages/sklearn/utils/validation.py:1183: DataConversionWarning: A column-vector y was passed when a 1d array was expected. Please change the shape of y to (n_samples, ), for example using ravel().\n",
            "  y = column_or_1d(y, warn=True)\n"
          ]
        },
        {
          "output_type": "stream",
          "name": "stdout",
          "text": [
            "                     precision    recall  f1-score   support\n",
            "\n",
            "      no_depression       0.82      0.81      0.81      1000\n",
            "possible_depression       0.30      0.34      0.32       250\n",
            "    true_depression       0.23      0.19      0.21        75\n",
            "\n",
            "           accuracy                           0.68      1325\n",
            "          macro avg       0.45      0.45      0.45      1325\n",
            "       weighted avg       0.69      0.68      0.69      1325\n",
            "\n",
            "max_features: 5000 n_gram: (1, 1)  solver: lbfgs  tol: 5  C: 0.3  f1: 0.44703701478321434\n"
          ]
        },
        {
          "output_type": "stream",
          "name": "stderr",
          "text": [
            "/usr/local/lib/python3.10/dist-packages/sklearn/utils/validation.py:1183: DataConversionWarning: A column-vector y was passed when a 1d array was expected. Please change the shape of y to (n_samples, ), for example using ravel().\n",
            "  y = column_or_1d(y, warn=True)\n"
          ]
        },
        {
          "output_type": "stream",
          "name": "stdout",
          "text": [
            "                     precision    recall  f1-score   support\n",
            "\n",
            "      no_depression       0.82      0.83      0.83      1000\n",
            "possible_depression       0.32      0.35      0.33       250\n",
            "    true_depression       0.22      0.11      0.14        75\n",
            "\n",
            "           accuracy                           0.70      1325\n",
            "          macro avg       0.45      0.43      0.43      1325\n",
            "       weighted avg       0.69      0.70      0.69      1325\n",
            "\n",
            "max_features: 5000 n_gram: (1, 1)  solver: lbfgs  tol: 5  C: 3  f1: 0.4341931216931217\n"
          ]
        },
        {
          "output_type": "stream",
          "name": "stderr",
          "text": [
            "/usr/local/lib/python3.10/dist-packages/sklearn/utils/validation.py:1183: DataConversionWarning: A column-vector y was passed when a 1d array was expected. Please change the shape of y to (n_samples, ), for example using ravel().\n",
            "  y = column_or_1d(y, warn=True)\n"
          ]
        },
        {
          "output_type": "stream",
          "name": "stdout",
          "text": [
            "                     precision    recall  f1-score   support\n",
            "\n",
            "      no_depression       0.82      0.82      0.82      1000\n",
            "possible_depression       0.31      0.34      0.32       250\n",
            "    true_depression       0.22      0.09      0.13        75\n",
            "\n",
            "           accuracy                           0.69      1325\n",
            "          macro avg       0.45      0.42      0.42      1325\n",
            "       weighted avg       0.69      0.69      0.69      1325\n",
            "\n",
            "max_features: 5000 n_gram: (1, 1)  solver: lbfgs  tol: 5  C: 10  f1: 0.42494592727820324\n"
          ]
        },
        {
          "output_type": "stream",
          "name": "stderr",
          "text": [
            "/usr/local/lib/python3.10/dist-packages/sklearn/utils/validation.py:1183: DataConversionWarning: A column-vector y was passed when a 1d array was expected. Please change the shape of y to (n_samples, ), for example using ravel().\n",
            "  y = column_or_1d(y, warn=True)\n"
          ]
        },
        {
          "output_type": "stream",
          "name": "stdout",
          "text": [
            "                     precision    recall  f1-score   support\n",
            "\n",
            "      no_depression       0.83      0.79      0.81      1000\n",
            "possible_depression       0.31      0.36      0.33       250\n",
            "    true_depression       0.21      0.21      0.21        75\n",
            "\n",
            "           accuracy                           0.68      1325\n",
            "          macro avg       0.45      0.46      0.45      1325\n",
            "       weighted avg       0.69      0.68      0.68      1325\n",
            "\n",
            "max_features: 5000 n_gram: (1, 1)  solver: lbfgs  tol: 0.3  C: 0.1  f1: 0.451479804260489\n"
          ]
        },
        {
          "output_type": "stream",
          "name": "stderr",
          "text": [
            "/usr/local/lib/python3.10/dist-packages/sklearn/utils/validation.py:1183: DataConversionWarning: A column-vector y was passed when a 1d array was expected. Please change the shape of y to (n_samples, ), for example using ravel().\n",
            "  y = column_or_1d(y, warn=True)\n"
          ]
        },
        {
          "output_type": "stream",
          "name": "stdout",
          "text": [
            "                     precision    recall  f1-score   support\n",
            "\n",
            "      no_depression       0.82      0.80      0.81      1000\n",
            "possible_depression       0.30      0.34      0.32       250\n",
            "    true_depression       0.23      0.20      0.22        75\n",
            "\n",
            "           accuracy                           0.68      1325\n",
            "          macro avg       0.45      0.45      0.45      1325\n",
            "       weighted avg       0.69      0.68      0.69      1325\n",
            "\n",
            "max_features: 5000 n_gram: (1, 1)  solver: lbfgs  tol: 0.3  C: 0.3  f1: 0.4505557301376868\n"
          ]
        },
        {
          "output_type": "stream",
          "name": "stderr",
          "text": [
            "/usr/local/lib/python3.10/dist-packages/sklearn/utils/validation.py:1183: DataConversionWarning: A column-vector y was passed when a 1d array was expected. Please change the shape of y to (n_samples, ), for example using ravel().\n",
            "  y = column_or_1d(y, warn=True)\n"
          ]
        },
        {
          "output_type": "stream",
          "name": "stdout",
          "text": [
            "                     precision    recall  f1-score   support\n",
            "\n",
            "      no_depression       0.82      0.83      0.83      1000\n",
            "possible_depression       0.33      0.38      0.35       250\n",
            "    true_depression       0.23      0.11      0.15        75\n",
            "\n",
            "           accuracy                           0.70      1325\n",
            "          macro avg       0.46      0.44      0.44      1325\n",
            "       weighted avg       0.70      0.70      0.70      1325\n",
            "\n",
            "max_features: 5000 n_gram: (1, 1)  solver: lbfgs  tol: 0.3  C: 3  f1: 0.4414278718555214\n"
          ]
        },
        {
          "output_type": "stream",
          "name": "stderr",
          "text": [
            "/usr/local/lib/python3.10/dist-packages/sklearn/utils/validation.py:1183: DataConversionWarning: A column-vector y was passed when a 1d array was expected. Please change the shape of y to (n_samples, ), for example using ravel().\n",
            "  y = column_or_1d(y, warn=True)\n"
          ]
        },
        {
          "output_type": "stream",
          "name": "stdout",
          "text": [
            "                     precision    recall  f1-score   support\n",
            "\n",
            "      no_depression       0.82      0.82      0.82      1000\n",
            "possible_depression       0.31      0.36      0.34       250\n",
            "    true_depression       0.24      0.09      0.13        75\n",
            "\n",
            "           accuracy                           0.70      1325\n",
            "          macro avg       0.46      0.43      0.43      1325\n",
            "       weighted avg       0.69      0.70      0.69      1325\n",
            "\n",
            "max_features: 5000 n_gram: (1, 1)  solver: lbfgs  tol: 0.3  C: 10  f1: 0.4314667644264057\n"
          ]
        },
        {
          "output_type": "stream",
          "name": "stderr",
          "text": [
            "/usr/local/lib/python3.10/dist-packages/sklearn/utils/validation.py:1183: DataConversionWarning: A column-vector y was passed when a 1d array was expected. Please change the shape of y to (n_samples, ), for example using ravel().\n",
            "  y = column_or_1d(y, warn=True)\n"
          ]
        },
        {
          "output_type": "stream",
          "name": "stdout",
          "text": [
            "                     precision    recall  f1-score   support\n",
            "\n",
            "      no_depression       0.83      0.79      0.81      1000\n",
            "possible_depression       0.31      0.36      0.34       250\n",
            "    true_depression       0.23      0.24      0.24        75\n",
            "\n",
            "           accuracy                           0.68      1325\n",
            "          macro avg       0.46      0.46      0.46      1325\n",
            "       weighted avg       0.70      0.68      0.69      1325\n",
            "\n",
            "max_features: 5000 n_gram: (1, 1)  solver: lbfgs  tol: 3  C: 0.1  f1: 0.4594162003001105\n"
          ]
        },
        {
          "output_type": "stream",
          "name": "stderr",
          "text": [
            "/usr/local/lib/python3.10/dist-packages/sklearn/utils/validation.py:1183: DataConversionWarning: A column-vector y was passed when a 1d array was expected. Please change the shape of y to (n_samples, ), for example using ravel().\n",
            "  y = column_or_1d(y, warn=True)\n"
          ]
        },
        {
          "output_type": "stream",
          "name": "stdout",
          "text": [
            "                     precision    recall  f1-score   support\n",
            "\n",
            "      no_depression       0.82      0.80      0.81      1000\n",
            "possible_depression       0.30      0.34      0.32       250\n",
            "    true_depression       0.24      0.20      0.22        75\n",
            "\n",
            "           accuracy                           0.68      1325\n",
            "          macro avg       0.45      0.45      0.45      1325\n",
            "       weighted avg       0.69      0.68      0.69      1325\n",
            "\n",
            "max_features: 5000 n_gram: (1, 1)  solver: lbfgs  tol: 3  C: 0.3  f1: 0.4504733087684884\n"
          ]
        },
        {
          "output_type": "stream",
          "name": "stderr",
          "text": [
            "/usr/local/lib/python3.10/dist-packages/sklearn/utils/validation.py:1183: DataConversionWarning: A column-vector y was passed when a 1d array was expected. Please change the shape of y to (n_samples, ), for example using ravel().\n",
            "  y = column_or_1d(y, warn=True)\n"
          ]
        },
        {
          "output_type": "stream",
          "name": "stdout",
          "text": [
            "                     precision    recall  f1-score   support\n",
            "\n",
            "      no_depression       0.82      0.83      0.83      1000\n",
            "possible_depression       0.33      0.37      0.35       250\n",
            "    true_depression       0.26      0.12      0.16        75\n",
            "\n",
            "           accuracy                           0.70      1325\n",
            "          macro avg       0.47      0.44      0.45      1325\n",
            "       weighted avg       0.70      0.70      0.70      1325\n",
            "\n",
            "max_features: 5000 n_gram: (1, 1)  solver: lbfgs  tol: 3  C: 3  f1: 0.4450660788152924\n"
          ]
        },
        {
          "output_type": "stream",
          "name": "stderr",
          "text": [
            "/usr/local/lib/python3.10/dist-packages/sklearn/utils/validation.py:1183: DataConversionWarning: A column-vector y was passed when a 1d array was expected. Please change the shape of y to (n_samples, ), for example using ravel().\n",
            "  y = column_or_1d(y, warn=True)\n"
          ]
        },
        {
          "output_type": "stream",
          "name": "stdout",
          "text": [
            "                     precision    recall  f1-score   support\n",
            "\n",
            "      no_depression       0.82      0.83      0.83      1000\n",
            "possible_depression       0.32      0.36      0.34       250\n",
            "    true_depression       0.23      0.09      0.13        75\n",
            "\n",
            "           accuracy                           0.70      1325\n",
            "          macro avg       0.46      0.43      0.43      1325\n",
            "       weighted avg       0.69      0.70      0.70      1325\n",
            "\n",
            "max_features: 5000 n_gram: (1, 1)  solver: lbfgs  tol: 3  C: 10  f1: 0.43365964533261314\n"
          ]
        },
        {
          "output_type": "stream",
          "name": "stderr",
          "text": [
            "/usr/local/lib/python3.10/dist-packages/sklearn/utils/validation.py:1183: DataConversionWarning: A column-vector y was passed when a 1d array was expected. Please change the shape of y to (n_samples, ), for example using ravel().\n",
            "  y = column_or_1d(y, warn=True)\n",
            "/usr/local/lib/python3.10/dist-packages/sklearn/metrics/_classification.py:1471: UndefinedMetricWarning: Precision and F-score are ill-defined and being set to 0.0 in labels with no predicted samples. Use `zero_division` parameter to control this behavior.\n",
            "  _warn_prf(average, modifier, msg_start, len(result))\n",
            "/usr/local/lib/python3.10/dist-packages/sklearn/metrics/_classification.py:1471: UndefinedMetricWarning: Precision and F-score are ill-defined and being set to 0.0 in labels with no predicted samples. Use `zero_division` parameter to control this behavior.\n",
            "  _warn_prf(average, modifier, msg_start, len(result))\n",
            "/usr/local/lib/python3.10/dist-packages/sklearn/metrics/_classification.py:1471: UndefinedMetricWarning: Precision and F-score are ill-defined and being set to 0.0 in labels with no predicted samples. Use `zero_division` parameter to control this behavior.\n",
            "  _warn_prf(average, modifier, msg_start, len(result))\n"
          ]
        },
        {
          "output_type": "stream",
          "name": "stdout",
          "text": [
            "                     precision    recall  f1-score   support\n",
            "\n",
            "      no_depression       0.75      1.00      0.86      1000\n",
            "possible_depression       0.00      0.00      0.00       250\n",
            "    true_depression       0.00      0.00      0.00        75\n",
            "\n",
            "           accuracy                           0.75      1325\n",
            "          macro avg       0.25      0.33      0.29      1325\n",
            "       weighted avg       0.57      0.75      0.65      1325\n",
            "\n",
            "max_features: 5000 n_gram: (1, 1)  solver: liblinear  tol: 5  C: 0.1  f1: 0.2867383512544803\n"
          ]
        },
        {
          "output_type": "stream",
          "name": "stderr",
          "text": [
            "/usr/local/lib/python3.10/dist-packages/sklearn/utils/validation.py:1183: DataConversionWarning: A column-vector y was passed when a 1d array was expected. Please change the shape of y to (n_samples, ), for example using ravel().\n",
            "  y = column_or_1d(y, warn=True)\n",
            "/usr/local/lib/python3.10/dist-packages/sklearn/metrics/_classification.py:1471: UndefinedMetricWarning: Precision and F-score are ill-defined and being set to 0.0 in labels with no predicted samples. Use `zero_division` parameter to control this behavior.\n",
            "  _warn_prf(average, modifier, msg_start, len(result))\n",
            "/usr/local/lib/python3.10/dist-packages/sklearn/metrics/_classification.py:1471: UndefinedMetricWarning: Precision and F-score are ill-defined and being set to 0.0 in labels with no predicted samples. Use `zero_division` parameter to control this behavior.\n",
            "  _warn_prf(average, modifier, msg_start, len(result))\n",
            "/usr/local/lib/python3.10/dist-packages/sklearn/metrics/_classification.py:1471: UndefinedMetricWarning: Precision and F-score are ill-defined and being set to 0.0 in labels with no predicted samples. Use `zero_division` parameter to control this behavior.\n",
            "  _warn_prf(average, modifier, msg_start, len(result))\n"
          ]
        },
        {
          "output_type": "stream",
          "name": "stdout",
          "text": [
            "                     precision    recall  f1-score   support\n",
            "\n",
            "      no_depression       0.75      1.00      0.86      1000\n",
            "possible_depression       0.00      0.00      0.00       250\n",
            "    true_depression       0.00      0.00      0.00        75\n",
            "\n",
            "           accuracy                           0.75      1325\n",
            "          macro avg       0.25      0.33      0.29      1325\n",
            "       weighted avg       0.57      0.75      0.65      1325\n",
            "\n",
            "max_features: 5000 n_gram: (1, 1)  solver: liblinear  tol: 5  C: 0.3  f1: 0.2867383512544803\n"
          ]
        },
        {
          "output_type": "stream",
          "name": "stderr",
          "text": [
            "/usr/local/lib/python3.10/dist-packages/sklearn/utils/validation.py:1183: DataConversionWarning: A column-vector y was passed when a 1d array was expected. Please change the shape of y to (n_samples, ), for example using ravel().\n",
            "  y = column_or_1d(y, warn=True)\n",
            "/usr/local/lib/python3.10/dist-packages/sklearn/metrics/_classification.py:1471: UndefinedMetricWarning: Precision and F-score are ill-defined and being set to 0.0 in labels with no predicted samples. Use `zero_division` parameter to control this behavior.\n",
            "  _warn_prf(average, modifier, msg_start, len(result))\n",
            "/usr/local/lib/python3.10/dist-packages/sklearn/metrics/_classification.py:1471: UndefinedMetricWarning: Precision and F-score are ill-defined and being set to 0.0 in labels with no predicted samples. Use `zero_division` parameter to control this behavior.\n",
            "  _warn_prf(average, modifier, msg_start, len(result))\n",
            "/usr/local/lib/python3.10/dist-packages/sklearn/metrics/_classification.py:1471: UndefinedMetricWarning: Precision and F-score are ill-defined and being set to 0.0 in labels with no predicted samples. Use `zero_division` parameter to control this behavior.\n",
            "  _warn_prf(average, modifier, msg_start, len(result))\n"
          ]
        },
        {
          "output_type": "stream",
          "name": "stdout",
          "text": [
            "                     precision    recall  f1-score   support\n",
            "\n",
            "      no_depression       0.75      1.00      0.86      1000\n",
            "possible_depression       0.00      0.00      0.00       250\n",
            "    true_depression       0.00      0.00      0.00        75\n",
            "\n",
            "           accuracy                           0.75      1325\n",
            "          macro avg       0.25      0.33      0.29      1325\n",
            "       weighted avg       0.57      0.75      0.65      1325\n",
            "\n",
            "max_features: 5000 n_gram: (1, 1)  solver: liblinear  tol: 5  C: 3  f1: 0.2867383512544803\n"
          ]
        },
        {
          "output_type": "stream",
          "name": "stderr",
          "text": [
            "/usr/local/lib/python3.10/dist-packages/sklearn/utils/validation.py:1183: DataConversionWarning: A column-vector y was passed when a 1d array was expected. Please change the shape of y to (n_samples, ), for example using ravel().\n",
            "  y = column_or_1d(y, warn=True)\n",
            "/usr/local/lib/python3.10/dist-packages/sklearn/metrics/_classification.py:1471: UndefinedMetricWarning: Precision and F-score are ill-defined and being set to 0.0 in labels with no predicted samples. Use `zero_division` parameter to control this behavior.\n",
            "  _warn_prf(average, modifier, msg_start, len(result))\n",
            "/usr/local/lib/python3.10/dist-packages/sklearn/metrics/_classification.py:1471: UndefinedMetricWarning: Precision and F-score are ill-defined and being set to 0.0 in labels with no predicted samples. Use `zero_division` parameter to control this behavior.\n",
            "  _warn_prf(average, modifier, msg_start, len(result))\n",
            "/usr/local/lib/python3.10/dist-packages/sklearn/metrics/_classification.py:1471: UndefinedMetricWarning: Precision and F-score are ill-defined and being set to 0.0 in labels with no predicted samples. Use `zero_division` parameter to control this behavior.\n",
            "  _warn_prf(average, modifier, msg_start, len(result))\n"
          ]
        },
        {
          "output_type": "stream",
          "name": "stdout",
          "text": [
            "                     precision    recall  f1-score   support\n",
            "\n",
            "      no_depression       0.75      1.00      0.86      1000\n",
            "possible_depression       0.00      0.00      0.00       250\n",
            "    true_depression       0.00      0.00      0.00        75\n",
            "\n",
            "           accuracy                           0.75      1325\n",
            "          macro avg       0.25      0.33      0.29      1325\n",
            "       weighted avg       0.57      0.75      0.65      1325\n",
            "\n",
            "max_features: 5000 n_gram: (1, 1)  solver: liblinear  tol: 5  C: 10  f1: 0.2867383512544803\n"
          ]
        },
        {
          "output_type": "stream",
          "name": "stderr",
          "text": [
            "/usr/local/lib/python3.10/dist-packages/sklearn/utils/validation.py:1183: DataConversionWarning: A column-vector y was passed when a 1d array was expected. Please change the shape of y to (n_samples, ), for example using ravel().\n",
            "  y = column_or_1d(y, warn=True)\n"
          ]
        },
        {
          "output_type": "stream",
          "name": "stdout",
          "text": [
            "                     precision    recall  f1-score   support\n",
            "\n",
            "      no_depression       0.83      0.76      0.79      1000\n",
            "possible_depression       0.29      0.35      0.32       250\n",
            "    true_depression       0.22      0.29      0.25        75\n",
            "\n",
            "           accuracy                           0.66      1325\n",
            "          macro avg       0.44      0.47      0.45      1325\n",
            "       weighted avg       0.69      0.66      0.67      1325\n",
            "\n",
            "max_features: 5000 n_gram: (1, 1)  solver: liblinear  tol: 0.3  C: 0.1  f1: 0.452952151309619\n"
          ]
        },
        {
          "output_type": "stream",
          "name": "stderr",
          "text": [
            "/usr/local/lib/python3.10/dist-packages/sklearn/utils/validation.py:1183: DataConversionWarning: A column-vector y was passed when a 1d array was expected. Please change the shape of y to (n_samples, ), for example using ravel().\n",
            "  y = column_or_1d(y, warn=True)\n"
          ]
        },
        {
          "output_type": "stream",
          "name": "stdout",
          "text": [
            "                     precision    recall  f1-score   support\n",
            "\n",
            "      no_depression       0.83      0.81      0.82      1000\n",
            "possible_depression       0.33      0.35      0.34       250\n",
            "    true_depression       0.25      0.29      0.27        75\n",
            "\n",
            "           accuracy                           0.69      1325\n",
            "          macro avg       0.47      0.48      0.48      1325\n",
            "       weighted avg       0.70      0.69      0.70      1325\n",
            "\n",
            "max_features: 5000 n_gram: (1, 1)  solver: liblinear  tol: 0.3  C: 0.3  f1: 0.47595605437545124\n"
          ]
        },
        {
          "output_type": "stream",
          "name": "stderr",
          "text": [
            "/usr/local/lib/python3.10/dist-packages/sklearn/utils/validation.py:1183: DataConversionWarning: A column-vector y was passed when a 1d array was expected. Please change the shape of y to (n_samples, ), for example using ravel().\n",
            "  y = column_or_1d(y, warn=True)\n"
          ]
        },
        {
          "output_type": "stream",
          "name": "stdout",
          "text": [
            "                     precision    recall  f1-score   support\n",
            "\n",
            "      no_depression       0.84      0.78      0.80      1000\n",
            "possible_depression       0.32      0.42      0.36       250\n",
            "    true_depression       0.20      0.19      0.19        75\n",
            "\n",
            "           accuracy                           0.68      1325\n",
            "          macro avg       0.45      0.46      0.45      1325\n",
            "       weighted avg       0.70      0.68      0.69      1325\n",
            "\n",
            "max_features: 5000 n_gram: (1, 1)  solver: liblinear  tol: 0.3  C: 3  f1: 0.4540113915082702\n"
          ]
        },
        {
          "output_type": "stream",
          "name": "stderr",
          "text": [
            "/usr/local/lib/python3.10/dist-packages/sklearn/utils/validation.py:1183: DataConversionWarning: A column-vector y was passed when a 1d array was expected. Please change the shape of y to (n_samples, ), for example using ravel().\n",
            "  y = column_or_1d(y, warn=True)\n"
          ]
        },
        {
          "output_type": "stream",
          "name": "stdout",
          "text": [
            "                     precision    recall  f1-score   support\n",
            "\n",
            "      no_depression       0.83      0.77      0.80      1000\n",
            "possible_depression       0.31      0.43      0.36       250\n",
            "    true_depression       0.21      0.16      0.18        75\n",
            "\n",
            "           accuracy                           0.67      1325\n",
            "          macro avg       0.45      0.45      0.45      1325\n",
            "       weighted avg       0.70      0.67      0.68      1325\n",
            "\n",
            "max_features: 5000 n_gram: (1, 1)  solver: liblinear  tol: 0.3  C: 10  f1: 0.4488823724566877\n"
          ]
        },
        {
          "output_type": "stream",
          "name": "stderr",
          "text": [
            "/usr/local/lib/python3.10/dist-packages/sklearn/utils/validation.py:1183: DataConversionWarning: A column-vector y was passed when a 1d array was expected. Please change the shape of y to (n_samples, ), for example using ravel().\n",
            "  y = column_or_1d(y, warn=True)\n",
            "/usr/local/lib/python3.10/dist-packages/sklearn/metrics/_classification.py:1471: UndefinedMetricWarning: Precision and F-score are ill-defined and being set to 0.0 in labels with no predicted samples. Use `zero_division` parameter to control this behavior.\n",
            "  _warn_prf(average, modifier, msg_start, len(result))\n",
            "/usr/local/lib/python3.10/dist-packages/sklearn/metrics/_classification.py:1471: UndefinedMetricWarning: Precision and F-score are ill-defined and being set to 0.0 in labels with no predicted samples. Use `zero_division` parameter to control this behavior.\n",
            "  _warn_prf(average, modifier, msg_start, len(result))\n",
            "/usr/local/lib/python3.10/dist-packages/sklearn/metrics/_classification.py:1471: UndefinedMetricWarning: Precision and F-score are ill-defined and being set to 0.0 in labels with no predicted samples. Use `zero_division` parameter to control this behavior.\n",
            "  _warn_prf(average, modifier, msg_start, len(result))\n"
          ]
        },
        {
          "output_type": "stream",
          "name": "stdout",
          "text": [
            "                     precision    recall  f1-score   support\n",
            "\n",
            "      no_depression       0.75      1.00      0.86      1000\n",
            "possible_depression       0.00      0.00      0.00       250\n",
            "    true_depression       0.00      0.00      0.00        75\n",
            "\n",
            "           accuracy                           0.75      1325\n",
            "          macro avg       0.25      0.33      0.29      1325\n",
            "       weighted avg       0.57      0.75      0.65      1325\n",
            "\n",
            "max_features: 5000 n_gram: (1, 1)  solver: liblinear  tol: 3  C: 0.1  f1: 0.2867383512544803\n"
          ]
        },
        {
          "output_type": "stream",
          "name": "stderr",
          "text": [
            "/usr/local/lib/python3.10/dist-packages/sklearn/utils/validation.py:1183: DataConversionWarning: A column-vector y was passed when a 1d array was expected. Please change the shape of y to (n_samples, ), for example using ravel().\n",
            "  y = column_or_1d(y, warn=True)\n",
            "/usr/local/lib/python3.10/dist-packages/sklearn/metrics/_classification.py:1471: UndefinedMetricWarning: Precision and F-score are ill-defined and being set to 0.0 in labels with no predicted samples. Use `zero_division` parameter to control this behavior.\n",
            "  _warn_prf(average, modifier, msg_start, len(result))\n",
            "/usr/local/lib/python3.10/dist-packages/sklearn/metrics/_classification.py:1471: UndefinedMetricWarning: Precision and F-score are ill-defined and being set to 0.0 in labels with no predicted samples. Use `zero_division` parameter to control this behavior.\n",
            "  _warn_prf(average, modifier, msg_start, len(result))\n",
            "/usr/local/lib/python3.10/dist-packages/sklearn/metrics/_classification.py:1471: UndefinedMetricWarning: Precision and F-score are ill-defined and being set to 0.0 in labels with no predicted samples. Use `zero_division` parameter to control this behavior.\n",
            "  _warn_prf(average, modifier, msg_start, len(result))\n"
          ]
        },
        {
          "output_type": "stream",
          "name": "stdout",
          "text": [
            "                     precision    recall  f1-score   support\n",
            "\n",
            "      no_depression       0.75      1.00      0.86      1000\n",
            "possible_depression       0.00      0.00      0.00       250\n",
            "    true_depression       0.00      0.00      0.00        75\n",
            "\n",
            "           accuracy                           0.75      1325\n",
            "          macro avg       0.25      0.33      0.29      1325\n",
            "       weighted avg       0.57      0.75      0.65      1325\n",
            "\n",
            "max_features: 5000 n_gram: (1, 1)  solver: liblinear  tol: 3  C: 0.3  f1: 0.2867383512544803\n"
          ]
        },
        {
          "output_type": "stream",
          "name": "stderr",
          "text": [
            "/usr/local/lib/python3.10/dist-packages/sklearn/utils/validation.py:1183: DataConversionWarning: A column-vector y was passed when a 1d array was expected. Please change the shape of y to (n_samples, ), for example using ravel().\n",
            "  y = column_or_1d(y, warn=True)\n",
            "/usr/local/lib/python3.10/dist-packages/sklearn/metrics/_classification.py:1471: UndefinedMetricWarning: Precision and F-score are ill-defined and being set to 0.0 in labels with no predicted samples. Use `zero_division` parameter to control this behavior.\n",
            "  _warn_prf(average, modifier, msg_start, len(result))\n",
            "/usr/local/lib/python3.10/dist-packages/sklearn/metrics/_classification.py:1471: UndefinedMetricWarning: Precision and F-score are ill-defined and being set to 0.0 in labels with no predicted samples. Use `zero_division` parameter to control this behavior.\n",
            "  _warn_prf(average, modifier, msg_start, len(result))\n",
            "/usr/local/lib/python3.10/dist-packages/sklearn/metrics/_classification.py:1471: UndefinedMetricWarning: Precision and F-score are ill-defined and being set to 0.0 in labels with no predicted samples. Use `zero_division` parameter to control this behavior.\n",
            "  _warn_prf(average, modifier, msg_start, len(result))\n"
          ]
        },
        {
          "output_type": "stream",
          "name": "stdout",
          "text": [
            "                     precision    recall  f1-score   support\n",
            "\n",
            "      no_depression       0.75      1.00      0.86      1000\n",
            "possible_depression       0.00      0.00      0.00       250\n",
            "    true_depression       0.00      0.00      0.00        75\n",
            "\n",
            "           accuracy                           0.75      1325\n",
            "          macro avg       0.25      0.33      0.29      1325\n",
            "       weighted avg       0.57      0.75      0.65      1325\n",
            "\n",
            "max_features: 5000 n_gram: (1, 1)  solver: liblinear  tol: 3  C: 3  f1: 0.2867383512544803\n"
          ]
        },
        {
          "output_type": "stream",
          "name": "stderr",
          "text": [
            "/usr/local/lib/python3.10/dist-packages/sklearn/utils/validation.py:1183: DataConversionWarning: A column-vector y was passed when a 1d array was expected. Please change the shape of y to (n_samples, ), for example using ravel().\n",
            "  y = column_or_1d(y, warn=True)\n",
            "/usr/local/lib/python3.10/dist-packages/sklearn/metrics/_classification.py:1471: UndefinedMetricWarning: Precision and F-score are ill-defined and being set to 0.0 in labels with no predicted samples. Use `zero_division` parameter to control this behavior.\n",
            "  _warn_prf(average, modifier, msg_start, len(result))\n",
            "/usr/local/lib/python3.10/dist-packages/sklearn/metrics/_classification.py:1471: UndefinedMetricWarning: Precision and F-score are ill-defined and being set to 0.0 in labels with no predicted samples. Use `zero_division` parameter to control this behavior.\n",
            "  _warn_prf(average, modifier, msg_start, len(result))\n",
            "/usr/local/lib/python3.10/dist-packages/sklearn/metrics/_classification.py:1471: UndefinedMetricWarning: Precision and F-score are ill-defined and being set to 0.0 in labels with no predicted samples. Use `zero_division` parameter to control this behavior.\n",
            "  _warn_prf(average, modifier, msg_start, len(result))\n"
          ]
        },
        {
          "output_type": "stream",
          "name": "stdout",
          "text": [
            "                     precision    recall  f1-score   support\n",
            "\n",
            "      no_depression       0.75      1.00      0.86      1000\n",
            "possible_depression       0.00      0.00      0.00       250\n",
            "    true_depression       0.00      0.00      0.00        75\n",
            "\n",
            "           accuracy                           0.75      1325\n",
            "          macro avg       0.25      0.33      0.29      1325\n",
            "       weighted avg       0.57      0.75      0.65      1325\n",
            "\n",
            "max_features: 5000 n_gram: (1, 1)  solver: liblinear  tol: 3  C: 10  f1: 0.2867383512544803\n"
          ]
        },
        {
          "output_type": "stream",
          "name": "stderr",
          "text": [
            "/usr/local/lib/python3.10/dist-packages/sklearn/utils/validation.py:1183: DataConversionWarning: A column-vector y was passed when a 1d array was expected. Please change the shape of y to (n_samples, ), for example using ravel().\n",
            "  y = column_or_1d(y, warn=True)\n"
          ]
        },
        {
          "output_type": "stream",
          "name": "stdout",
          "text": [
            "                     precision    recall  f1-score   support\n",
            "\n",
            "      no_depression       0.82      0.79      0.81      1000\n",
            "possible_depression       0.30      0.34      0.32       250\n",
            "    true_depression       0.23      0.24      0.24        75\n",
            "\n",
            "           accuracy                           0.68      1325\n",
            "          macro avg       0.45      0.46      0.45      1325\n",
            "       weighted avg       0.69      0.68      0.68      1325\n",
            "\n",
            "max_features: 5000 n_gram: (1, 1)  solver: newton-cg  tol: 5  C: 0.1  f1: 0.454306966532189\n"
          ]
        },
        {
          "output_type": "stream",
          "name": "stderr",
          "text": [
            "/usr/local/lib/python3.10/dist-packages/sklearn/utils/validation.py:1183: DataConversionWarning: A column-vector y was passed when a 1d array was expected. Please change the shape of y to (n_samples, ), for example using ravel().\n",
            "  y = column_or_1d(y, warn=True)\n"
          ]
        },
        {
          "output_type": "stream",
          "name": "stdout",
          "text": [
            "                     precision    recall  f1-score   support\n",
            "\n",
            "      no_depression       0.82      0.80      0.81      1000\n",
            "possible_depression       0.31      0.35      0.33       250\n",
            "    true_depression       0.23      0.20      0.21        75\n",
            "\n",
            "           accuracy                           0.68      1325\n",
            "          macro avg       0.45      0.45      0.45      1325\n",
            "       weighted avg       0.69      0.68      0.69      1325\n",
            "\n",
            "max_features: 5000 n_gram: (1, 1)  solver: newton-cg  tol: 5  C: 0.3  f1: 0.450187641836081\n"
          ]
        },
        {
          "output_type": "stream",
          "name": "stderr",
          "text": [
            "/usr/local/lib/python3.10/dist-packages/sklearn/utils/validation.py:1183: DataConversionWarning: A column-vector y was passed when a 1d array was expected. Please change the shape of y to (n_samples, ), for example using ravel().\n",
            "  y = column_or_1d(y, warn=True)\n"
          ]
        },
        {
          "output_type": "stream",
          "name": "stdout",
          "text": [
            "                     precision    recall  f1-score   support\n",
            "\n",
            "      no_depression       0.82      0.83      0.83      1000\n",
            "possible_depression       0.33      0.37      0.35       250\n",
            "    true_depression       0.21      0.09      0.13        75\n",
            "\n",
            "           accuracy                           0.70      1325\n",
            "          macro avg       0.45      0.43      0.43      1325\n",
            "       weighted avg       0.69      0.70      0.70      1325\n",
            "\n",
            "max_features: 5000 n_gram: (1, 1)  solver: newton-cg  tol: 5  C: 3  f1: 0.43486449987145087\n"
          ]
        },
        {
          "output_type": "stream",
          "name": "stderr",
          "text": [
            "/usr/local/lib/python3.10/dist-packages/sklearn/utils/validation.py:1183: DataConversionWarning: A column-vector y was passed when a 1d array was expected. Please change the shape of y to (n_samples, ), for example using ravel().\n",
            "  y = column_or_1d(y, warn=True)\n"
          ]
        },
        {
          "output_type": "stream",
          "name": "stdout",
          "text": [
            "                     precision    recall  f1-score   support\n",
            "\n",
            "      no_depression       0.82      0.83      0.83      1000\n",
            "possible_depression       0.32      0.37      0.34       250\n",
            "    true_depression       0.23      0.09      0.13        75\n",
            "\n",
            "           accuracy                           0.70      1325\n",
            "          macro avg       0.46      0.43      0.43      1325\n",
            "       weighted avg       0.69      0.70      0.69      1325\n",
            "\n",
            "max_features: 5000 n_gram: (1, 1)  solver: newton-cg  tol: 5  C: 10  f1: 0.4334842919669632\n"
          ]
        },
        {
          "output_type": "stream",
          "name": "stderr",
          "text": [
            "/usr/local/lib/python3.10/dist-packages/sklearn/utils/validation.py:1183: DataConversionWarning: A column-vector y was passed when a 1d array was expected. Please change the shape of y to (n_samples, ), for example using ravel().\n",
            "  y = column_or_1d(y, warn=True)\n"
          ]
        },
        {
          "output_type": "stream",
          "name": "stdout",
          "text": [
            "                     precision    recall  f1-score   support\n",
            "\n",
            "      no_depression       0.83      0.79      0.81      1000\n",
            "possible_depression       0.31      0.36      0.33       250\n",
            "    true_depression       0.21      0.21      0.21        75\n",
            "\n",
            "           accuracy                           0.68      1325\n",
            "          macro avg       0.45      0.45      0.45      1325\n",
            "       weighted avg       0.69      0.68      0.68      1325\n",
            "\n",
            "max_features: 5000 n_gram: (1, 1)  solver: newton-cg  tol: 0.3  C: 0.1  f1: 0.45005356958872517\n"
          ]
        },
        {
          "output_type": "stream",
          "name": "stderr",
          "text": [
            "/usr/local/lib/python3.10/dist-packages/sklearn/utils/validation.py:1183: DataConversionWarning: A column-vector y was passed when a 1d array was expected. Please change the shape of y to (n_samples, ), for example using ravel().\n",
            "  y = column_or_1d(y, warn=True)\n"
          ]
        },
        {
          "output_type": "stream",
          "name": "stdout",
          "text": [
            "                     precision    recall  f1-score   support\n",
            "\n",
            "      no_depression       0.82      0.80      0.81      1000\n",
            "possible_depression       0.30      0.34      0.32       250\n",
            "    true_depression       0.23      0.20      0.22        75\n",
            "\n",
            "           accuracy                           0.68      1325\n",
            "          macro avg       0.45      0.45      0.45      1325\n",
            "       weighted avg       0.69      0.68      0.69      1325\n",
            "\n",
            "max_features: 5000 n_gram: (1, 1)  solver: newton-cg  tol: 0.3  C: 0.3  f1: 0.4505557301376868\n"
          ]
        },
        {
          "output_type": "stream",
          "name": "stderr",
          "text": [
            "/usr/local/lib/python3.10/dist-packages/sklearn/utils/validation.py:1183: DataConversionWarning: A column-vector y was passed when a 1d array was expected. Please change the shape of y to (n_samples, ), for example using ravel().\n",
            "  y = column_or_1d(y, warn=True)\n"
          ]
        },
        {
          "output_type": "stream",
          "name": "stdout",
          "text": [
            "                     precision    recall  f1-score   support\n",
            "\n",
            "      no_depression       0.82      0.83      0.83      1000\n",
            "possible_depression       0.33      0.37      0.35       250\n",
            "    true_depression       0.22      0.11      0.14        75\n",
            "\n",
            "           accuracy                           0.70      1325\n",
            "          macro avg       0.46      0.44      0.44      1325\n",
            "       weighted avg       0.70      0.70      0.70      1325\n",
            "\n",
            "max_features: 5000 n_gram: (1, 1)  solver: newton-cg  tol: 0.3  C: 3  f1: 0.4396267706392795\n"
          ]
        },
        {
          "output_type": "stream",
          "name": "stderr",
          "text": [
            "/usr/local/lib/python3.10/dist-packages/sklearn/utils/validation.py:1183: DataConversionWarning: A column-vector y was passed when a 1d array was expected. Please change the shape of y to (n_samples, ), for example using ravel().\n",
            "  y = column_or_1d(y, warn=True)\n"
          ]
        },
        {
          "output_type": "stream",
          "name": "stdout",
          "text": [
            "                     precision    recall  f1-score   support\n",
            "\n",
            "      no_depression       0.82      0.83      0.82      1000\n",
            "possible_depression       0.32      0.37      0.34       250\n",
            "    true_depression       0.24      0.09      0.13        75\n",
            "\n",
            "           accuracy                           0.70      1325\n",
            "          macro avg       0.46      0.43      0.43      1325\n",
            "       weighted avg       0.69      0.70      0.69      1325\n",
            "\n",
            "max_features: 5000 n_gram: (1, 1)  solver: newton-cg  tol: 0.3  C: 10  f1: 0.43296184570694374\n"
          ]
        },
        {
          "output_type": "stream",
          "name": "stderr",
          "text": [
            "/usr/local/lib/python3.10/dist-packages/sklearn/utils/validation.py:1183: DataConversionWarning: A column-vector y was passed when a 1d array was expected. Please change the shape of y to (n_samples, ), for example using ravel().\n",
            "  y = column_or_1d(y, warn=True)\n"
          ]
        },
        {
          "output_type": "stream",
          "name": "stdout",
          "text": [
            "                     precision    recall  f1-score   support\n",
            "\n",
            "      no_depression       0.83      0.79      0.81      1000\n",
            "possible_depression       0.31      0.36      0.33       250\n",
            "    true_depression       0.21      0.21      0.21        75\n",
            "\n",
            "           accuracy                           0.68      1325\n",
            "          macro avg       0.45      0.45      0.45      1325\n",
            "       weighted avg       0.69      0.68      0.68      1325\n",
            "\n",
            "max_features: 5000 n_gram: (1, 1)  solver: newton-cg  tol: 3  C: 0.1  f1: 0.45005356958872517\n"
          ]
        },
        {
          "output_type": "stream",
          "name": "stderr",
          "text": [
            "/usr/local/lib/python3.10/dist-packages/sklearn/utils/validation.py:1183: DataConversionWarning: A column-vector y was passed when a 1d array was expected. Please change the shape of y to (n_samples, ), for example using ravel().\n",
            "  y = column_or_1d(y, warn=True)\n"
          ]
        },
        {
          "output_type": "stream",
          "name": "stdout",
          "text": [
            "                     precision    recall  f1-score   support\n",
            "\n",
            "      no_depression       0.82      0.80      0.81      1000\n",
            "possible_depression       0.31      0.35      0.33       250\n",
            "    true_depression       0.23      0.20      0.21        75\n",
            "\n",
            "           accuracy                           0.68      1325\n",
            "          macro avg       0.45      0.45      0.45      1325\n",
            "       weighted avg       0.69      0.68      0.69      1325\n",
            "\n",
            "max_features: 5000 n_gram: (1, 1)  solver: newton-cg  tol: 3  C: 0.3  f1: 0.450187641836081\n"
          ]
        },
        {
          "output_type": "stream",
          "name": "stderr",
          "text": [
            "/usr/local/lib/python3.10/dist-packages/sklearn/utils/validation.py:1183: DataConversionWarning: A column-vector y was passed when a 1d array was expected. Please change the shape of y to (n_samples, ), for example using ravel().\n",
            "  y = column_or_1d(y, warn=True)\n"
          ]
        },
        {
          "output_type": "stream",
          "name": "stdout",
          "text": [
            "                     precision    recall  f1-score   support\n",
            "\n",
            "      no_depression       0.82      0.83      0.83      1000\n",
            "possible_depression       0.33      0.37      0.35       250\n",
            "    true_depression       0.21      0.09      0.13        75\n",
            "\n",
            "           accuracy                           0.70      1325\n",
            "          macro avg       0.45      0.43      0.43      1325\n",
            "       weighted avg       0.69      0.70      0.70      1325\n",
            "\n",
            "max_features: 5000 n_gram: (1, 1)  solver: newton-cg  tol: 3  C: 3  f1: 0.43486449987145087\n"
          ]
        },
        {
          "output_type": "stream",
          "name": "stderr",
          "text": [
            "/usr/local/lib/python3.10/dist-packages/sklearn/utils/validation.py:1183: DataConversionWarning: A column-vector y was passed when a 1d array was expected. Please change the shape of y to (n_samples, ), for example using ravel().\n",
            "  y = column_or_1d(y, warn=True)\n"
          ]
        },
        {
          "output_type": "stream",
          "name": "stdout",
          "text": [
            "                     precision    recall  f1-score   support\n",
            "\n",
            "      no_depression       0.82      0.83      0.83      1000\n",
            "possible_depression       0.32      0.37      0.34       250\n",
            "    true_depression       0.23      0.09      0.13        75\n",
            "\n",
            "           accuracy                           0.70      1325\n",
            "          macro avg       0.46      0.43      0.43      1325\n",
            "       weighted avg       0.69      0.70      0.69      1325\n",
            "\n",
            "max_features: 5000 n_gram: (1, 1)  solver: newton-cg  tol: 3  C: 10  f1: 0.4334842919669632\n"
          ]
        },
        {
          "output_type": "stream",
          "name": "stderr",
          "text": [
            "/usr/local/lib/python3.10/dist-packages/sklearn/utils/validation.py:1183: DataConversionWarning: A column-vector y was passed when a 1d array was expected. Please change the shape of y to (n_samples, ), for example using ravel().\n",
            "  y = column_or_1d(y, warn=True)\n"
          ]
        },
        {
          "output_type": "stream",
          "name": "stdout",
          "text": [
            "                     precision    recall  f1-score   support\n",
            "\n",
            "      no_depression       0.82      0.81      0.81      1000\n",
            "possible_depression       0.31      0.29      0.30       250\n",
            "    true_depression       0.23      0.31      0.26        75\n",
            "\n",
            "           accuracy                           0.68      1325\n",
            "          macro avg       0.45      0.47      0.46      1325\n",
            "       weighted avg       0.69      0.68      0.69      1325\n",
            "\n",
            "max_features: 5000 n_gram: (1, 1)  solver: newton-cholesky  tol: 5  C: 0.1  f1: 0.45841562822519694\n"
          ]
        },
        {
          "output_type": "stream",
          "name": "stderr",
          "text": [
            "/usr/local/lib/python3.10/dist-packages/sklearn/utils/validation.py:1183: DataConversionWarning: A column-vector y was passed when a 1d array was expected. Please change the shape of y to (n_samples, ), for example using ravel().\n",
            "  y = column_or_1d(y, warn=True)\n"
          ]
        },
        {
          "output_type": "stream",
          "name": "stdout",
          "text": [
            "                     precision    recall  f1-score   support\n",
            "\n",
            "      no_depression       0.82      0.81      0.82      1000\n",
            "possible_depression       0.31      0.32      0.32       250\n",
            "    true_depression       0.25      0.28      0.27        75\n",
            "\n",
            "           accuracy                           0.69      1325\n",
            "          macro avg       0.46      0.47      0.47      1325\n",
            "       weighted avg       0.70      0.69      0.69      1325\n",
            "\n",
            "max_features: 5000 n_gram: (1, 1)  solver: newton-cholesky  tol: 5  C: 0.3  f1: 0.46694201649544337\n"
          ]
        },
        {
          "output_type": "stream",
          "name": "stderr",
          "text": [
            "/usr/local/lib/python3.10/dist-packages/sklearn/utils/validation.py:1183: DataConversionWarning: A column-vector y was passed when a 1d array was expected. Please change the shape of y to (n_samples, ), for example using ravel().\n",
            "  y = column_or_1d(y, warn=True)\n"
          ]
        },
        {
          "output_type": "stream",
          "name": "stdout",
          "text": [
            "                     precision    recall  f1-score   support\n",
            "\n",
            "      no_depression       0.83      0.82      0.82      1000\n",
            "possible_depression       0.32      0.37      0.35       250\n",
            "    true_depression       0.27      0.16      0.20        75\n",
            "\n",
            "           accuracy                           0.70      1325\n",
            "          macro avg       0.47      0.45      0.46      1325\n",
            "       weighted avg       0.70      0.70      0.70      1325\n",
            "\n",
            "max_features: 5000 n_gram: (1, 1)  solver: newton-cholesky  tol: 5  C: 3  f1: 0.4566857776334338\n"
          ]
        },
        {
          "output_type": "stream",
          "name": "stderr",
          "text": [
            "/usr/local/lib/python3.10/dist-packages/sklearn/utils/validation.py:1183: DataConversionWarning: A column-vector y was passed when a 1d array was expected. Please change the shape of y to (n_samples, ), for example using ravel().\n",
            "  y = column_or_1d(y, warn=True)\n"
          ]
        },
        {
          "output_type": "stream",
          "name": "stdout",
          "text": [
            "                     precision    recall  f1-score   support\n",
            "\n",
            "      no_depression       0.83      0.82      0.82      1000\n",
            "possible_depression       0.32      0.38      0.35       250\n",
            "    true_depression       0.21      0.08      0.12        75\n",
            "\n",
            "           accuracy                           0.70      1325\n",
            "          macro avg       0.45      0.43      0.43      1325\n",
            "       weighted avg       0.69      0.70      0.69      1325\n",
            "\n",
            "max_features: 5000 n_gram: (1, 1)  solver: newton-cholesky  tol: 5  C: 10  f1: 0.42808138970767823\n"
          ]
        },
        {
          "output_type": "stream",
          "name": "stderr",
          "text": [
            "/usr/local/lib/python3.10/dist-packages/sklearn/utils/validation.py:1183: DataConversionWarning: A column-vector y was passed when a 1d array was expected. Please change the shape of y to (n_samples, ), for example using ravel().\n",
            "  y = column_or_1d(y, warn=True)\n"
          ]
        },
        {
          "output_type": "stream",
          "name": "stdout",
          "text": [
            "                     precision    recall  f1-score   support\n",
            "\n",
            "      no_depression       0.82      0.81      0.81      1000\n",
            "possible_depression       0.31      0.29      0.30       250\n",
            "    true_depression       0.23      0.31      0.26        75\n",
            "\n",
            "           accuracy                           0.68      1325\n",
            "          macro avg       0.45      0.47      0.46      1325\n",
            "       weighted avg       0.69      0.68      0.69      1325\n",
            "\n",
            "max_features: 5000 n_gram: (1, 1)  solver: newton-cholesky  tol: 0.3  C: 0.1  f1: 0.45841562822519694\n"
          ]
        },
        {
          "output_type": "stream",
          "name": "stderr",
          "text": [
            "/usr/local/lib/python3.10/dist-packages/sklearn/utils/validation.py:1183: DataConversionWarning: A column-vector y was passed when a 1d array was expected. Please change the shape of y to (n_samples, ), for example using ravel().\n",
            "  y = column_or_1d(y, warn=True)\n"
          ]
        },
        {
          "output_type": "stream",
          "name": "stdout",
          "text": [
            "                     precision    recall  f1-score   support\n",
            "\n",
            "      no_depression       0.82      0.81      0.82      1000\n",
            "possible_depression       0.31      0.32      0.32       250\n",
            "    true_depression       0.25      0.28      0.27        75\n",
            "\n",
            "           accuracy                           0.69      1325\n",
            "          macro avg       0.46      0.47      0.47      1325\n",
            "       weighted avg       0.70      0.69      0.69      1325\n",
            "\n",
            "max_features: 5000 n_gram: (1, 1)  solver: newton-cholesky  tol: 0.3  C: 0.3  f1: 0.46694201649544337\n"
          ]
        },
        {
          "output_type": "stream",
          "name": "stderr",
          "text": [
            "/usr/local/lib/python3.10/dist-packages/sklearn/utils/validation.py:1183: DataConversionWarning: A column-vector y was passed when a 1d array was expected. Please change the shape of y to (n_samples, ), for example using ravel().\n",
            "  y = column_or_1d(y, warn=True)\n"
          ]
        },
        {
          "output_type": "stream",
          "name": "stdout",
          "text": [
            "                     precision    recall  f1-score   support\n",
            "\n",
            "      no_depression       0.82      0.82      0.82      1000\n",
            "possible_depression       0.32      0.36      0.34       250\n",
            "    true_depression       0.27      0.16      0.20        75\n",
            "\n",
            "           accuracy                           0.70      1325\n",
            "          macro avg       0.47      0.45      0.45      1325\n",
            "       weighted avg       0.70      0.70      0.70      1325\n",
            "\n",
            "max_features: 5000 n_gram: (1, 1)  solver: newton-cholesky  tol: 0.3  C: 3  f1: 0.4545408805031446\n"
          ]
        },
        {
          "output_type": "stream",
          "name": "stderr",
          "text": [
            "/usr/local/lib/python3.10/dist-packages/sklearn/utils/validation.py:1183: DataConversionWarning: A column-vector y was passed when a 1d array was expected. Please change the shape of y to (n_samples, ), for example using ravel().\n",
            "  y = column_or_1d(y, warn=True)\n"
          ]
        },
        {
          "output_type": "stream",
          "name": "stdout",
          "text": [
            "                     precision    recall  f1-score   support\n",
            "\n",
            "      no_depression       0.82      0.82      0.82      1000\n",
            "possible_depression       0.32      0.37      0.34       250\n",
            "    true_depression       0.24      0.11      0.15        75\n",
            "\n",
            "           accuracy                           0.70      1325\n",
            "          macro avg       0.46      0.43      0.44      1325\n",
            "       weighted avg       0.69      0.70      0.69      1325\n",
            "\n",
            "max_features: 5000 n_gram: (1, 1)  solver: newton-cholesky  tol: 0.3  C: 10  f1: 0.4365722270228531\n"
          ]
        },
        {
          "output_type": "stream",
          "name": "stderr",
          "text": [
            "/usr/local/lib/python3.10/dist-packages/sklearn/utils/validation.py:1183: DataConversionWarning: A column-vector y was passed when a 1d array was expected. Please change the shape of y to (n_samples, ), for example using ravel().\n",
            "  y = column_or_1d(y, warn=True)\n"
          ]
        },
        {
          "output_type": "stream",
          "name": "stdout",
          "text": [
            "                     precision    recall  f1-score   support\n",
            "\n",
            "      no_depression       0.82      0.81      0.81      1000\n",
            "possible_depression       0.31      0.29      0.30       250\n",
            "    true_depression       0.23      0.31      0.26        75\n",
            "\n",
            "           accuracy                           0.68      1325\n",
            "          macro avg       0.45      0.47      0.46      1325\n",
            "       weighted avg       0.69      0.68      0.69      1325\n",
            "\n",
            "max_features: 5000 n_gram: (1, 1)  solver: newton-cholesky  tol: 3  C: 0.1  f1: 0.45841562822519694\n"
          ]
        },
        {
          "output_type": "stream",
          "name": "stderr",
          "text": [
            "/usr/local/lib/python3.10/dist-packages/sklearn/utils/validation.py:1183: DataConversionWarning: A column-vector y was passed when a 1d array was expected. Please change the shape of y to (n_samples, ), for example using ravel().\n",
            "  y = column_or_1d(y, warn=True)\n"
          ]
        },
        {
          "output_type": "stream",
          "name": "stdout",
          "text": [
            "                     precision    recall  f1-score   support\n",
            "\n",
            "      no_depression       0.82      0.81      0.82      1000\n",
            "possible_depression       0.31      0.32      0.32       250\n",
            "    true_depression       0.25      0.28      0.27        75\n",
            "\n",
            "           accuracy                           0.69      1325\n",
            "          macro avg       0.46      0.47      0.47      1325\n",
            "       weighted avg       0.70      0.69      0.69      1325\n",
            "\n",
            "max_features: 5000 n_gram: (1, 1)  solver: newton-cholesky  tol: 3  C: 0.3  f1: 0.46694201649544337\n"
          ]
        },
        {
          "output_type": "stream",
          "name": "stderr",
          "text": [
            "/usr/local/lib/python3.10/dist-packages/sklearn/utils/validation.py:1183: DataConversionWarning: A column-vector y was passed when a 1d array was expected. Please change the shape of y to (n_samples, ), for example using ravel().\n",
            "  y = column_or_1d(y, warn=True)\n"
          ]
        },
        {
          "output_type": "stream",
          "name": "stdout",
          "text": [
            "                     precision    recall  f1-score   support\n",
            "\n",
            "      no_depression       0.83      0.82      0.82      1000\n",
            "possible_depression       0.32      0.37      0.35       250\n",
            "    true_depression       0.27      0.16      0.20        75\n",
            "\n",
            "           accuracy                           0.70      1325\n",
            "          macro avg       0.47      0.45      0.46      1325\n",
            "       weighted avg       0.70      0.70      0.70      1325\n",
            "\n",
            "max_features: 5000 n_gram: (1, 1)  solver: newton-cholesky  tol: 3  C: 3  f1: 0.4566857776334338\n"
          ]
        },
        {
          "output_type": "stream",
          "name": "stderr",
          "text": [
            "/usr/local/lib/python3.10/dist-packages/sklearn/utils/validation.py:1183: DataConversionWarning: A column-vector y was passed when a 1d array was expected. Please change the shape of y to (n_samples, ), for example using ravel().\n",
            "  y = column_or_1d(y, warn=True)\n"
          ]
        },
        {
          "output_type": "stream",
          "name": "stdout",
          "text": [
            "                     precision    recall  f1-score   support\n",
            "\n",
            "      no_depression       0.83      0.82      0.82      1000\n",
            "possible_depression       0.32      0.38      0.35       250\n",
            "    true_depression       0.21      0.08      0.12        75\n",
            "\n",
            "           accuracy                           0.70      1325\n",
            "          macro avg       0.45      0.43      0.43      1325\n",
            "       weighted avg       0.69      0.70      0.69      1325\n",
            "\n",
            "max_features: 5000 n_gram: (1, 1)  solver: newton-cholesky  tol: 3  C: 10  f1: 0.42808138970767823\n"
          ]
        },
        {
          "output_type": "stream",
          "name": "stderr",
          "text": [
            "/usr/local/lib/python3.10/dist-packages/sklearn/utils/validation.py:1183: DataConversionWarning: A column-vector y was passed when a 1d array was expected. Please change the shape of y to (n_samples, ), for example using ravel().\n",
            "  y = column_or_1d(y, warn=True)\n"
          ]
        },
        {
          "output_type": "stream",
          "name": "stdout",
          "text": [
            "                     precision    recall  f1-score   support\n",
            "\n",
            "      no_depression       0.83      0.76      0.79      1000\n",
            "possible_depression       0.29      0.37      0.32       250\n",
            "    true_depression       0.24      0.28      0.26        75\n",
            "\n",
            "           accuracy                           0.66      1325\n",
            "          macro avg       0.45      0.47      0.46      1325\n",
            "       weighted avg       0.69      0.66      0.68      1325\n",
            "\n",
            "max_features: 5000 n_gram: (1, 1)  solver: sag  tol: 5  C: 0.1  f1: 0.4592800698834186\n"
          ]
        },
        {
          "output_type": "stream",
          "name": "stderr",
          "text": [
            "/usr/local/lib/python3.10/dist-packages/sklearn/utils/validation.py:1183: DataConversionWarning: A column-vector y was passed when a 1d array was expected. Please change the shape of y to (n_samples, ), for example using ravel().\n",
            "  y = column_or_1d(y, warn=True)\n"
          ]
        },
        {
          "output_type": "stream",
          "name": "stdout",
          "text": [
            "                     precision    recall  f1-score   support\n",
            "\n",
            "      no_depression       0.81      0.85      0.83      1000\n",
            "possible_depression       0.32      0.27      0.29       250\n",
            "    true_depression       0.24      0.19      0.21        75\n",
            "\n",
            "           accuracy                           0.70      1325\n",
            "          macro avg       0.45      0.44      0.44      1325\n",
            "       weighted avg       0.68      0.70      0.69      1325\n",
            "\n",
            "max_features: 5000 n_gram: (1, 1)  solver: sag  tol: 5  C: 0.3  f1: 0.443181350757806\n"
          ]
        },
        {
          "output_type": "stream",
          "name": "stderr",
          "text": [
            "/usr/local/lib/python3.10/dist-packages/sklearn/utils/validation.py:1183: DataConversionWarning: A column-vector y was passed when a 1d array was expected. Please change the shape of y to (n_samples, ), for example using ravel().\n",
            "  y = column_or_1d(y, warn=True)\n"
          ]
        },
        {
          "output_type": "stream",
          "name": "stdout",
          "text": [
            "                     precision    recall  f1-score   support\n",
            "\n",
            "      no_depression       0.82      0.80      0.81      1000\n",
            "possible_depression       0.33      0.39      0.35       250\n",
            "    true_depression       0.23      0.16      0.19        75\n",
            "\n",
            "           accuracy                           0.69      1325\n",
            "          macro avg       0.46      0.45      0.45      1325\n",
            "       weighted avg       0.70      0.69      0.69      1325\n",
            "\n",
            "max_features: 5000 n_gram: (1, 1)  solver: sag  tol: 5  C: 3  f1: 0.4517142917423598\n"
          ]
        },
        {
          "output_type": "stream",
          "name": "stderr",
          "text": [
            "/usr/local/lib/python3.10/dist-packages/sklearn/utils/validation.py:1183: DataConversionWarning: A column-vector y was passed when a 1d array was expected. Please change the shape of y to (n_samples, ), for example using ravel().\n",
            "  y = column_or_1d(y, warn=True)\n"
          ]
        },
        {
          "output_type": "stream",
          "name": "stdout",
          "text": [
            "                     precision    recall  f1-score   support\n",
            "\n",
            "      no_depression       0.83      0.70      0.76      1000\n",
            "possible_depression       0.28      0.50      0.36       250\n",
            "    true_depression       0.22      0.08      0.12        75\n",
            "\n",
            "           accuracy                           0.63      1325\n",
            "          macro avg       0.44      0.43      0.41      1325\n",
            "       weighted avg       0.69      0.63      0.65      1325\n",
            "\n",
            "max_features: 5000 n_gram: (1, 1)  solver: sag  tol: 5  C: 10  f1: 0.41336196018899934\n"
          ]
        },
        {
          "output_type": "stream",
          "name": "stderr",
          "text": [
            "/usr/local/lib/python3.10/dist-packages/sklearn/utils/validation.py:1183: DataConversionWarning: A column-vector y was passed when a 1d array was expected. Please change the shape of y to (n_samples, ), for example using ravel().\n",
            "  y = column_or_1d(y, warn=True)\n"
          ]
        },
        {
          "output_type": "stream",
          "name": "stdout",
          "text": [
            "                     precision    recall  f1-score   support\n",
            "\n",
            "      no_depression       0.83      0.77      0.80      1000\n",
            "possible_depression       0.32      0.40      0.36       250\n",
            "    true_depression       0.23      0.24      0.23        75\n",
            "\n",
            "           accuracy                           0.67      1325\n",
            "          macro avg       0.46      0.47      0.46      1325\n",
            "       weighted avg       0.70      0.67      0.69      1325\n",
            "\n",
            "max_features: 5000 n_gram: (1, 1)  solver: sag  tol: 0.3  C: 0.1  f1: 0.462976108807007\n"
          ]
        },
        {
          "output_type": "stream",
          "name": "stderr",
          "text": [
            "/usr/local/lib/python3.10/dist-packages/sklearn/utils/validation.py:1183: DataConversionWarning: A column-vector y was passed when a 1d array was expected. Please change the shape of y to (n_samples, ), for example using ravel().\n",
            "  y = column_or_1d(y, warn=True)\n"
          ]
        },
        {
          "output_type": "stream",
          "name": "stdout",
          "text": [
            "                     precision    recall  f1-score   support\n",
            "\n",
            "      no_depression       0.83      0.77      0.80      1000\n",
            "possible_depression       0.29      0.37      0.33       250\n",
            "    true_depression       0.20      0.17      0.19        75\n",
            "\n",
            "           accuracy                           0.66      1325\n",
            "          macro avg       0.44      0.44      0.44      1325\n",
            "       weighted avg       0.69      0.66      0.67      1325\n",
            "\n",
            "max_features: 5000 n_gram: (1, 1)  solver: sag  tol: 0.3  C: 0.3  f1: 0.4365502402654106\n"
          ]
        },
        {
          "output_type": "stream",
          "name": "stderr",
          "text": [
            "/usr/local/lib/python3.10/dist-packages/sklearn/utils/validation.py:1183: DataConversionWarning: A column-vector y was passed when a 1d array was expected. Please change the shape of y to (n_samples, ), for example using ravel().\n",
            "  y = column_or_1d(y, warn=True)\n"
          ]
        },
        {
          "output_type": "stream",
          "name": "stdout",
          "text": [
            "                     precision    recall  f1-score   support\n",
            "\n",
            "      no_depression       0.82      0.83      0.83      1000\n",
            "possible_depression       0.33      0.35      0.34       250\n",
            "    true_depression       0.27      0.15      0.19        75\n",
            "\n",
            "           accuracy                           0.70      1325\n",
            "          macro avg       0.47      0.44      0.45      1325\n",
            "       weighted avg       0.70      0.70      0.70      1325\n",
            "\n",
            "max_features: 5000 n_gram: (1, 1)  solver: sag  tol: 0.3  C: 3  f1: 0.4511133822745643\n"
          ]
        },
        {
          "output_type": "stream",
          "name": "stderr",
          "text": [
            "/usr/local/lib/python3.10/dist-packages/sklearn/utils/validation.py:1183: DataConversionWarning: A column-vector y was passed when a 1d array was expected. Please change the shape of y to (n_samples, ), for example using ravel().\n",
            "  y = column_or_1d(y, warn=True)\n"
          ]
        },
        {
          "output_type": "stream",
          "name": "stdout",
          "text": [
            "                     precision    recall  f1-score   support\n",
            "\n",
            "      no_depression       0.82      0.82      0.82      1000\n",
            "possible_depression       0.32      0.38      0.35       250\n",
            "    true_depression       0.13      0.04      0.06        75\n",
            "\n",
            "           accuracy                           0.69      1325\n",
            "          macro avg       0.42      0.41      0.41      1325\n",
            "       weighted avg       0.69      0.69      0.69      1325\n",
            "\n",
            "max_features: 5000 n_gram: (1, 1)  solver: sag  tol: 0.3  C: 10  f1: 0.4089436003629991\n"
          ]
        },
        {
          "output_type": "stream",
          "name": "stderr",
          "text": [
            "/usr/local/lib/python3.10/dist-packages/sklearn/utils/validation.py:1183: DataConversionWarning: A column-vector y was passed when a 1d array was expected. Please change the shape of y to (n_samples, ), for example using ravel().\n",
            "  y = column_or_1d(y, warn=True)\n"
          ]
        },
        {
          "output_type": "stream",
          "name": "stdout",
          "text": [
            "                     precision    recall  f1-score   support\n",
            "\n",
            "      no_depression       0.83      0.75      0.79      1000\n",
            "possible_depression       0.29      0.40      0.34       250\n",
            "    true_depression       0.23      0.24      0.24        75\n",
            "\n",
            "           accuracy                           0.66      1325\n",
            "          macro avg       0.45      0.46      0.45      1325\n",
            "       weighted avg       0.70      0.66      0.67      1325\n",
            "\n",
            "max_features: 5000 n_gram: (1, 1)  solver: sag  tol: 3  C: 0.1  f1: 0.4546664150181862\n"
          ]
        },
        {
          "output_type": "stream",
          "name": "stderr",
          "text": [
            "/usr/local/lib/python3.10/dist-packages/sklearn/utils/validation.py:1183: DataConversionWarning: A column-vector y was passed when a 1d array was expected. Please change the shape of y to (n_samples, ), for example using ravel().\n",
            "  y = column_or_1d(y, warn=True)\n"
          ]
        },
        {
          "output_type": "stream",
          "name": "stdout",
          "text": [
            "                     precision    recall  f1-score   support\n",
            "\n",
            "      no_depression       0.82      0.78      0.80      1000\n",
            "possible_depression       0.30      0.39      0.34       250\n",
            "    true_depression       0.19      0.13      0.16        75\n",
            "\n",
            "           accuracy                           0.67      1325\n",
            "          macro avg       0.44      0.43      0.43      1325\n",
            "       weighted avg       0.69      0.67      0.68      1325\n",
            "\n",
            "max_features: 5000 n_gram: (1, 1)  solver: sag  tol: 3  C: 0.3  f1: 0.4305573731373518\n"
          ]
        },
        {
          "output_type": "stream",
          "name": "stderr",
          "text": [
            "/usr/local/lib/python3.10/dist-packages/sklearn/utils/validation.py:1183: DataConversionWarning: A column-vector y was passed when a 1d array was expected. Please change the shape of y to (n_samples, ), for example using ravel().\n",
            "  y = column_or_1d(y, warn=True)\n"
          ]
        },
        {
          "output_type": "stream",
          "name": "stdout",
          "text": [
            "                     precision    recall  f1-score   support\n",
            "\n",
            "      no_depression       0.82      0.81      0.82      1000\n",
            "possible_depression       0.32      0.40      0.35       250\n",
            "    true_depression       0.25      0.07      0.11        75\n",
            "\n",
            "           accuracy                           0.69      1325\n",
            "          macro avg       0.46      0.43      0.43      1325\n",
            "       weighted avg       0.70      0.69      0.69      1325\n",
            "\n",
            "max_features: 5000 n_gram: (1, 1)  solver: sag  tol: 3  C: 3  f1: 0.4257072693441104\n"
          ]
        },
        {
          "output_type": "stream",
          "name": "stderr",
          "text": [
            "/usr/local/lib/python3.10/dist-packages/sklearn/utils/validation.py:1183: DataConversionWarning: A column-vector y was passed when a 1d array was expected. Please change the shape of y to (n_samples, ), for example using ravel().\n",
            "  y = column_or_1d(y, warn=True)\n"
          ]
        },
        {
          "output_type": "stream",
          "name": "stdout",
          "text": [
            "                     precision    recall  f1-score   support\n",
            "\n",
            "      no_depression       0.82      0.79      0.80      1000\n",
            "possible_depression       0.29      0.34      0.31       250\n",
            "    true_depression       0.25      0.19      0.21        75\n",
            "\n",
            "           accuracy                           0.67      1325\n",
            "          macro avg       0.45      0.44      0.44      1325\n",
            "       weighted avg       0.68      0.67      0.68      1325\n",
            "\n",
            "max_features: 5000 n_gram: (1, 1)  solver: sag  tol: 3  C: 10  f1: 0.442957215097521\n"
          ]
        },
        {
          "output_type": "stream",
          "name": "stderr",
          "text": [
            "/usr/local/lib/python3.10/dist-packages/sklearn/utils/validation.py:1183: DataConversionWarning: A column-vector y was passed when a 1d array was expected. Please change the shape of y to (n_samples, ), for example using ravel().\n",
            "  y = column_or_1d(y, warn=True)\n"
          ]
        },
        {
          "output_type": "stream",
          "name": "stdout",
          "text": [
            "                     precision    recall  f1-score   support\n",
            "\n",
            "      no_depression       0.77      0.97      0.86      1000\n",
            "possible_depression       1.00      0.01      0.02       250\n",
            "    true_depression       0.20      0.16      0.18        75\n",
            "\n",
            "           accuracy                           0.75      1325\n",
            "          macro avg       0.66      0.38      0.35      1325\n",
            "       weighted avg       0.78      0.75      0.66      1325\n",
            "\n",
            "max_features: 5000 n_gram: (1, 1)  solver: saga  tol: 5  C: 0.1  f1: 0.3518005072511692\n"
          ]
        },
        {
          "output_type": "stream",
          "name": "stderr",
          "text": [
            "/usr/local/lib/python3.10/dist-packages/sklearn/utils/validation.py:1183: DataConversionWarning: A column-vector y was passed when a 1d array was expected. Please change the shape of y to (n_samples, ), for example using ravel().\n",
            "  y = column_or_1d(y, warn=True)\n"
          ]
        },
        {
          "output_type": "stream",
          "name": "stdout",
          "text": [
            "                     precision    recall  f1-score   support\n",
            "\n",
            "      no_depression       0.80      0.89      0.84      1000\n",
            "possible_depression       0.31      0.23      0.26       250\n",
            "    true_depression       0.21      0.07      0.10        75\n",
            "\n",
            "           accuracy                           0.72      1325\n",
            "          macro avg       0.44      0.39      0.40      1325\n",
            "       weighted avg       0.67      0.72      0.69      1325\n",
            "\n",
            "max_features: 5000 n_gram: (1, 1)  solver: saga  tol: 5  C: 0.3  f1: 0.40079951240892503\n"
          ]
        },
        {
          "output_type": "stream",
          "name": "stderr",
          "text": [
            "/usr/local/lib/python3.10/dist-packages/sklearn/utils/validation.py:1183: DataConversionWarning: A column-vector y was passed when a 1d array was expected. Please change the shape of y to (n_samples, ), for example using ravel().\n",
            "  y = column_or_1d(y, warn=True)\n"
          ]
        },
        {
          "output_type": "stream",
          "name": "stdout",
          "text": [
            "                     precision    recall  f1-score   support\n",
            "\n",
            "      no_depression       0.81      0.85      0.83      1000\n",
            "possible_depression       0.32      0.25      0.28       250\n",
            "    true_depression       0.23      0.24      0.24        75\n",
            "\n",
            "           accuracy                           0.71      1325\n",
            "          macro avg       0.46      0.45      0.45      1325\n",
            "       weighted avg       0.69      0.71      0.70      1325\n",
            "\n",
            "max_features: 5000 n_gram: (1, 1)  solver: saga  tol: 5  C: 3  f1: 0.4504952683378281\n"
          ]
        },
        {
          "output_type": "stream",
          "name": "stderr",
          "text": [
            "/usr/local/lib/python3.10/dist-packages/sklearn/utils/validation.py:1183: DataConversionWarning: A column-vector y was passed when a 1d array was expected. Please change the shape of y to (n_samples, ), for example using ravel().\n",
            "  y = column_or_1d(y, warn=True)\n"
          ]
        },
        {
          "output_type": "stream",
          "name": "stdout",
          "text": [
            "                     precision    recall  f1-score   support\n",
            "\n",
            "      no_depression       0.78      0.94      0.85      1000\n",
            "possible_depression       0.27      0.11      0.16       250\n",
            "    true_depression       0.32      0.11      0.16        75\n",
            "\n",
            "           accuracy                           0.73      1325\n",
            "          macro avg       0.46      0.38      0.39      1325\n",
            "       weighted avg       0.66      0.73      0.68      1325\n",
            "\n",
            "max_features: 5000 n_gram: (1, 1)  solver: saga  tol: 5  C: 10  f1: 0.39025808586318145\n"
          ]
        },
        {
          "output_type": "stream",
          "name": "stderr",
          "text": [
            "/usr/local/lib/python3.10/dist-packages/sklearn/utils/validation.py:1183: DataConversionWarning: A column-vector y was passed when a 1d array was expected. Please change the shape of y to (n_samples, ), for example using ravel().\n",
            "  y = column_or_1d(y, warn=True)\n"
          ]
        },
        {
          "output_type": "stream",
          "name": "stdout",
          "text": [
            "                     precision    recall  f1-score   support\n",
            "\n",
            "      no_depression       0.83      0.74      0.78      1000\n",
            "possible_depression       0.29      0.43      0.35       250\n",
            "    true_depression       0.18      0.16      0.17        75\n",
            "\n",
            "           accuracy                           0.65      1325\n",
            "          macro avg       0.44      0.44      0.43      1325\n",
            "       weighted avg       0.69      0.65      0.67      1325\n",
            "\n",
            "max_features: 5000 n_gram: (1, 1)  solver: saga  tol: 0.3  C: 0.1  f1: 0.4340206894282306\n"
          ]
        },
        {
          "output_type": "stream",
          "name": "stderr",
          "text": [
            "/usr/local/lib/python3.10/dist-packages/sklearn/utils/validation.py:1183: DataConversionWarning: A column-vector y was passed when a 1d array was expected. Please change the shape of y to (n_samples, ), for example using ravel().\n",
            "  y = column_or_1d(y, warn=True)\n"
          ]
        },
        {
          "output_type": "stream",
          "name": "stdout",
          "text": [
            "                     precision    recall  f1-score   support\n",
            "\n",
            "      no_depression       0.86      0.61      0.71      1000\n",
            "possible_depression       0.27      0.62      0.38       250\n",
            "    true_depression       0.20      0.12      0.15        75\n",
            "\n",
            "           accuracy                           0.58      1325\n",
            "          macro avg       0.44      0.45      0.41      1325\n",
            "       weighted avg       0.71      0.58      0.62      1325\n",
            "\n",
            "max_features: 5000 n_gram: (1, 1)  solver: saga  tol: 0.3  C: 0.3  f1: 0.41369082707422605\n"
          ]
        },
        {
          "output_type": "stream",
          "name": "stderr",
          "text": [
            "/usr/local/lib/python3.10/dist-packages/sklearn/utils/validation.py:1183: DataConversionWarning: A column-vector y was passed when a 1d array was expected. Please change the shape of y to (n_samples, ), for example using ravel().\n",
            "  y = column_or_1d(y, warn=True)\n"
          ]
        },
        {
          "output_type": "stream",
          "name": "stdout",
          "text": [
            "                     precision    recall  f1-score   support\n",
            "\n",
            "      no_depression       0.85      0.68      0.76      1000\n",
            "possible_depression       0.29      0.54      0.38       250\n",
            "    true_depression       0.20      0.12      0.15        75\n",
            "\n",
            "           accuracy                           0.62      1325\n",
            "          macro avg       0.44      0.45      0.43      1325\n",
            "       weighted avg       0.70      0.62      0.65      1325\n",
            "\n",
            "max_features: 5000 n_gram: (1, 1)  solver: saga  tol: 0.3  C: 3  f1: 0.4273864406719119\n"
          ]
        },
        {
          "output_type": "stream",
          "name": "stderr",
          "text": [
            "/usr/local/lib/python3.10/dist-packages/sklearn/utils/validation.py:1183: DataConversionWarning: A column-vector y was passed when a 1d array was expected. Please change the shape of y to (n_samples, ), for example using ravel().\n",
            "  y = column_or_1d(y, warn=True)\n"
          ]
        },
        {
          "output_type": "stream",
          "name": "stdout",
          "text": [
            "                     precision    recall  f1-score   support\n",
            "\n",
            "      no_depression       0.80      0.88      0.84      1000\n",
            "possible_depression       0.32      0.24      0.27       250\n",
            "    true_depression       0.22      0.12      0.16        75\n",
            "\n",
            "           accuracy                           0.72      1325\n",
            "          macro avg       0.45      0.41      0.42      1325\n",
            "       weighted avg       0.68      0.72      0.70      1325\n",
            "\n",
            "max_features: 5000 n_gram: (1, 1)  solver: saga  tol: 0.3  C: 10  f1: 0.42319035082901085\n"
          ]
        },
        {
          "output_type": "stream",
          "name": "stderr",
          "text": [
            "/usr/local/lib/python3.10/dist-packages/sklearn/utils/validation.py:1183: DataConversionWarning: A column-vector y was passed when a 1d array was expected. Please change the shape of y to (n_samples, ), for example using ravel().\n",
            "  y = column_or_1d(y, warn=True)\n"
          ]
        },
        {
          "output_type": "stream",
          "name": "stdout",
          "text": [
            "                     precision    recall  f1-score   support\n",
            "\n",
            "      no_depression       0.78      0.93      0.85      1000\n",
            "possible_depression       0.32      0.10      0.15       250\n",
            "    true_depression       0.25      0.19      0.21        75\n",
            "\n",
            "           accuracy                           0.73      1325\n",
            "          macro avg       0.45      0.41      0.41      1325\n",
            "       weighted avg       0.67      0.73      0.68      1325\n",
            "\n",
            "max_features: 5000 n_gram: (1, 1)  solver: saga  tol: 3  C: 0.1  f1: 0.40597434301826646\n"
          ]
        },
        {
          "output_type": "stream",
          "name": "stderr",
          "text": [
            "/usr/local/lib/python3.10/dist-packages/sklearn/utils/validation.py:1183: DataConversionWarning: A column-vector y was passed when a 1d array was expected. Please change the shape of y to (n_samples, ), for example using ravel().\n",
            "  y = column_or_1d(y, warn=True)\n"
          ]
        },
        {
          "output_type": "stream",
          "name": "stdout",
          "text": [
            "                     precision    recall  f1-score   support\n",
            "\n",
            "      no_depression       0.86      0.61      0.72      1000\n",
            "possible_depression       0.28      0.66      0.39       250\n",
            "    true_depression       0.23      0.08      0.12        75\n",
            "\n",
            "           accuracy                           0.59      1325\n",
            "          macro avg       0.46      0.45      0.41      1325\n",
            "       weighted avg       0.72      0.59      0.62      1325\n",
            "\n",
            "max_features: 5000 n_gram: (1, 1)  solver: saga  tol: 3  C: 0.3  f1: 0.40930964596189706\n"
          ]
        },
        {
          "output_type": "stream",
          "name": "stderr",
          "text": [
            "/usr/local/lib/python3.10/dist-packages/sklearn/utils/validation.py:1183: DataConversionWarning: A column-vector y was passed when a 1d array was expected. Please change the shape of y to (n_samples, ), for example using ravel().\n",
            "  y = column_or_1d(y, warn=True)\n"
          ]
        },
        {
          "output_type": "stream",
          "name": "stdout",
          "text": [
            "                     precision    recall  f1-score   support\n",
            "\n",
            "      no_depression       0.87      0.61      0.71      1000\n",
            "possible_depression       0.28      0.66      0.40       250\n",
            "    true_depression       0.15      0.08      0.10        75\n",
            "\n",
            "           accuracy                           0.59      1325\n",
            "          macro avg       0.43      0.45      0.40      1325\n",
            "       weighted avg       0.72      0.59      0.62      1325\n",
            "\n",
            "max_features: 5000 n_gram: (1, 1)  solver: saga  tol: 3  C: 3  f1: 0.4048932150629208\n"
          ]
        },
        {
          "output_type": "stream",
          "name": "stderr",
          "text": [
            "/usr/local/lib/python3.10/dist-packages/sklearn/utils/validation.py:1183: DataConversionWarning: A column-vector y was passed when a 1d array was expected. Please change the shape of y to (n_samples, ), for example using ravel().\n",
            "  y = column_or_1d(y, warn=True)\n"
          ]
        },
        {
          "output_type": "stream",
          "name": "stdout",
          "text": [
            "                     precision    recall  f1-score   support\n",
            "\n",
            "      no_depression       0.77      0.96      0.86      1000\n",
            "possible_depression       0.37      0.10      0.16       250\n",
            "    true_depression       0.31      0.07      0.11        75\n",
            "\n",
            "           accuracy                           0.75      1325\n",
            "          macro avg       0.49      0.38      0.38      1325\n",
            "       weighted avg       0.67      0.75      0.68      1325\n",
            "\n",
            "max_features: 5000 n_gram: (1, 1)  solver: saga  tol: 3  C: 10  f1: 0.3766385969992491\n"
          ]
        },
        {
          "output_type": "stream",
          "name": "stderr",
          "text": [
            "/usr/local/lib/python3.10/dist-packages/sklearn/utils/validation.py:1183: DataConversionWarning: A column-vector y was passed when a 1d array was expected. Please change the shape of y to (n_samples, ), for example using ravel().\n",
            "  y = column_or_1d(y, warn=True)\n"
          ]
        },
        {
          "output_type": "stream",
          "name": "stdout",
          "text": [
            "                     precision    recall  f1-score   support\n",
            "\n",
            "      no_depression       0.83      0.79      0.81      1000\n",
            "possible_depression       0.33      0.39      0.36       250\n",
            "    true_depression       0.21      0.23      0.22        75\n",
            "\n",
            "           accuracy                           0.68      1325\n",
            "          macro avg       0.46      0.47      0.46      1325\n",
            "       weighted avg       0.70      0.68      0.69      1325\n",
            "\n",
            "max_features: 5000 n_gram: (1, 2)  solver: lbfgs  tol: 5  C: 0.1  f1: 0.4627940990948371\n"
          ]
        },
        {
          "output_type": "stream",
          "name": "stderr",
          "text": [
            "/usr/local/lib/python3.10/dist-packages/sklearn/utils/validation.py:1183: DataConversionWarning: A column-vector y was passed when a 1d array was expected. Please change the shape of y to (n_samples, ), for example using ravel().\n",
            "  y = column_or_1d(y, warn=True)\n"
          ]
        },
        {
          "output_type": "stream",
          "name": "stdout",
          "text": [
            "                     precision    recall  f1-score   support\n",
            "\n",
            "      no_depression       0.83      0.81      0.82      1000\n",
            "possible_depression       0.32      0.36      0.34       250\n",
            "    true_depression       0.20      0.17      0.19        75\n",
            "\n",
            "           accuracy                           0.69      1325\n",
            "          macro avg       0.45      0.45      0.45      1325\n",
            "       weighted avg       0.69      0.69      0.69      1325\n",
            "\n",
            "max_features: 5000 n_gram: (1, 2)  solver: lbfgs  tol: 5  C: 0.3  f1: 0.4466786278132135\n"
          ]
        },
        {
          "output_type": "stream",
          "name": "stderr",
          "text": [
            "/usr/local/lib/python3.10/dist-packages/sklearn/utils/validation.py:1183: DataConversionWarning: A column-vector y was passed when a 1d array was expected. Please change the shape of y to (n_samples, ), for example using ravel().\n",
            "  y = column_or_1d(y, warn=True)\n"
          ]
        },
        {
          "output_type": "stream",
          "name": "stdout",
          "text": [
            "                     precision    recall  f1-score   support\n",
            "\n",
            "      no_depression       0.82      0.81      0.82      1000\n",
            "possible_depression       0.31      0.35      0.33       250\n",
            "    true_depression       0.18      0.12      0.15        75\n",
            "\n",
            "           accuracy                           0.69      1325\n",
            "          macro avg       0.44      0.43      0.43      1325\n",
            "       weighted avg       0.69      0.69      0.69      1325\n",
            "\n",
            "max_features: 5000 n_gram: (1, 2)  solver: lbfgs  tol: 5  C: 3  f1: 0.42868848417012323\n"
          ]
        },
        {
          "output_type": "stream",
          "name": "stderr",
          "text": [
            "/usr/local/lib/python3.10/dist-packages/sklearn/utils/validation.py:1183: DataConversionWarning: A column-vector y was passed when a 1d array was expected. Please change the shape of y to (n_samples, ), for example using ravel().\n",
            "  y = column_or_1d(y, warn=True)\n"
          ]
        },
        {
          "output_type": "stream",
          "name": "stdout",
          "text": [
            "                     precision    recall  f1-score   support\n",
            "\n",
            "      no_depression       0.81      0.83      0.82      1000\n",
            "possible_depression       0.31      0.33      0.32       250\n",
            "    true_depression       0.23      0.11      0.15        75\n",
            "\n",
            "           accuracy                           0.70      1325\n",
            "          macro avg       0.45      0.42      0.43      1325\n",
            "       weighted avg       0.69      0.70      0.69      1325\n",
            "\n",
            "max_features: 5000 n_gram: (1, 2)  solver: lbfgs  tol: 5  C: 10  f1: 0.43042354791596454\n"
          ]
        },
        {
          "output_type": "stream",
          "name": "stderr",
          "text": [
            "/usr/local/lib/python3.10/dist-packages/sklearn/utils/validation.py:1183: DataConversionWarning: A column-vector y was passed when a 1d array was expected. Please change the shape of y to (n_samples, ), for example using ravel().\n",
            "  y = column_or_1d(y, warn=True)\n"
          ]
        },
        {
          "output_type": "stream",
          "name": "stdout",
          "text": [
            "                     precision    recall  f1-score   support\n",
            "\n",
            "      no_depression       0.83      0.79      0.81      1000\n",
            "possible_depression       0.34      0.40      0.36       250\n",
            "    true_depression       0.21      0.23      0.22        75\n",
            "\n",
            "           accuracy                           0.69      1325\n",
            "          macro avg       0.46      0.47      0.47      1325\n",
            "       weighted avg       0.71      0.69      0.70      1325\n",
            "\n",
            "max_features: 5000 n_gram: (1, 2)  solver: lbfgs  tol: 0.3  C: 0.1  f1: 0.46584010428383743\n"
          ]
        },
        {
          "output_type": "stream",
          "name": "stderr",
          "text": [
            "/usr/local/lib/python3.10/dist-packages/sklearn/utils/validation.py:1183: DataConversionWarning: A column-vector y was passed when a 1d array was expected. Please change the shape of y to (n_samples, ), for example using ravel().\n",
            "  y = column_or_1d(y, warn=True)\n"
          ]
        },
        {
          "output_type": "stream",
          "name": "stdout",
          "text": [
            "                     precision    recall  f1-score   support\n",
            "\n",
            "      no_depression       0.83      0.81      0.82      1000\n",
            "possible_depression       0.32      0.36      0.34       250\n",
            "    true_depression       0.20      0.17      0.18        75\n",
            "\n",
            "           accuracy                           0.69      1325\n",
            "          macro avg       0.45      0.45      0.45      1325\n",
            "       weighted avg       0.69      0.69      0.69      1325\n",
            "\n",
            "max_features: 5000 n_gram: (1, 2)  solver: lbfgs  tol: 0.3  C: 0.3  f1: 0.4460176040797849\n"
          ]
        },
        {
          "output_type": "stream",
          "name": "stderr",
          "text": [
            "/usr/local/lib/python3.10/dist-packages/sklearn/utils/validation.py:1183: DataConversionWarning: A column-vector y was passed when a 1d array was expected. Please change the shape of y to (n_samples, ), for example using ravel().\n",
            "  y = column_or_1d(y, warn=True)\n"
          ]
        },
        {
          "output_type": "stream",
          "name": "stdout",
          "text": [
            "                     precision    recall  f1-score   support\n",
            "\n",
            "      no_depression       0.82      0.83      0.82      1000\n",
            "possible_depression       0.31      0.34      0.33       250\n",
            "    true_depression       0.26      0.13      0.18        75\n",
            "\n",
            "           accuracy                           0.70      1325\n",
            "          macro avg       0.46      0.44      0.44      1325\n",
            "       weighted avg       0.69      0.70      0.69      1325\n",
            "\n",
            "max_features: 5000 n_gram: (1, 2)  solver: lbfgs  tol: 0.3  C: 3  f1: 0.44262939411020824\n"
          ]
        },
        {
          "output_type": "stream",
          "name": "stderr",
          "text": [
            "/usr/local/lib/python3.10/dist-packages/sklearn/utils/validation.py:1183: DataConversionWarning: A column-vector y was passed when a 1d array was expected. Please change the shape of y to (n_samples, ), for example using ravel().\n",
            "  y = column_or_1d(y, warn=True)\n"
          ]
        },
        {
          "output_type": "stream",
          "name": "stdout",
          "text": [
            "                     precision    recall  f1-score   support\n",
            "\n",
            "      no_depression       0.81      0.82      0.82      1000\n",
            "possible_depression       0.31      0.34      0.33       250\n",
            "    true_depression       0.26      0.12      0.17        75\n",
            "\n",
            "           accuracy                           0.69      1325\n",
            "          macro avg       0.46      0.43      0.44      1325\n",
            "       weighted avg       0.69      0.69      0.69      1325\n",
            "\n",
            "max_features: 5000 n_gram: (1, 2)  solver: lbfgs  tol: 0.3  C: 10  f1: 0.4364549595646839\n"
          ]
        },
        {
          "output_type": "stream",
          "name": "stderr",
          "text": [
            "/usr/local/lib/python3.10/dist-packages/sklearn/utils/validation.py:1183: DataConversionWarning: A column-vector y was passed when a 1d array was expected. Please change the shape of y to (n_samples, ), for example using ravel().\n",
            "  y = column_or_1d(y, warn=True)\n"
          ]
        },
        {
          "output_type": "stream",
          "name": "stdout",
          "text": [
            "                     precision    recall  f1-score   support\n",
            "\n",
            "      no_depression       0.83      0.80      0.81      1000\n",
            "possible_depression       0.33      0.38      0.36       250\n",
            "    true_depression       0.21      0.23      0.22        75\n",
            "\n",
            "           accuracy                           0.69      1325\n",
            "          macro avg       0.46      0.47      0.46      1325\n",
            "       weighted avg       0.70      0.69      0.69      1325\n",
            "\n",
            "max_features: 5000 n_gram: (1, 2)  solver: lbfgs  tol: 3  C: 0.1  f1: 0.46291065727971326\n"
          ]
        },
        {
          "output_type": "stream",
          "name": "stderr",
          "text": [
            "/usr/local/lib/python3.10/dist-packages/sklearn/utils/validation.py:1183: DataConversionWarning: A column-vector y was passed when a 1d array was expected. Please change the shape of y to (n_samples, ), for example using ravel().\n",
            "  y = column_or_1d(y, warn=True)\n"
          ]
        },
        {
          "output_type": "stream",
          "name": "stdout",
          "text": [
            "                     precision    recall  f1-score   support\n",
            "\n",
            "      no_depression       0.83      0.81      0.82      1000\n",
            "possible_depression       0.32      0.36      0.34       250\n",
            "    true_depression       0.20      0.17      0.18        75\n",
            "\n",
            "           accuracy                           0.69      1325\n",
            "          macro avg       0.45      0.45      0.45      1325\n",
            "       weighted avg       0.69      0.69      0.69      1325\n",
            "\n",
            "max_features: 5000 n_gram: (1, 2)  solver: lbfgs  tol: 3  C: 0.3  f1: 0.44519648956299207\n"
          ]
        },
        {
          "output_type": "stream",
          "name": "stderr",
          "text": [
            "/usr/local/lib/python3.10/dist-packages/sklearn/utils/validation.py:1183: DataConversionWarning: A column-vector y was passed when a 1d array was expected. Please change the shape of y to (n_samples, ), for example using ravel().\n",
            "  y = column_or_1d(y, warn=True)\n"
          ]
        },
        {
          "output_type": "stream",
          "name": "stdout",
          "text": [
            "                     precision    recall  f1-score   support\n",
            "\n",
            "      no_depression       0.82      0.83      0.82      1000\n",
            "possible_depression       0.31      0.34      0.32       250\n",
            "    true_depression       0.24      0.13      0.17        75\n",
            "\n",
            "           accuracy                           0.70      1325\n",
            "          macro avg       0.46      0.43      0.44      1325\n",
            "       weighted avg       0.69      0.70      0.69      1325\n",
            "\n",
            "max_features: 5000 n_gram: (1, 2)  solver: lbfgs  tol: 3  C: 3  f1: 0.438843274008288\n"
          ]
        },
        {
          "output_type": "stream",
          "name": "stderr",
          "text": [
            "/usr/local/lib/python3.10/dist-packages/sklearn/utils/validation.py:1183: DataConversionWarning: A column-vector y was passed when a 1d array was expected. Please change the shape of y to (n_samples, ), for example using ravel().\n",
            "  y = column_or_1d(y, warn=True)\n"
          ]
        },
        {
          "output_type": "stream",
          "name": "stdout",
          "text": [
            "                     precision    recall  f1-score   support\n",
            "\n",
            "      no_depression       0.81      0.83      0.82      1000\n",
            "possible_depression       0.31      0.33      0.32       250\n",
            "    true_depression       0.23      0.11      0.15        75\n",
            "\n",
            "           accuracy                           0.70      1325\n",
            "          macro avg       0.45      0.42      0.43      1325\n",
            "       weighted avg       0.69      0.70      0.69      1325\n",
            "\n",
            "max_features: 5000 n_gram: (1, 2)  solver: lbfgs  tol: 3  C: 10  f1: 0.43042354791596454\n"
          ]
        },
        {
          "output_type": "stream",
          "name": "stderr",
          "text": [
            "/usr/local/lib/python3.10/dist-packages/sklearn/utils/validation.py:1183: DataConversionWarning: A column-vector y was passed when a 1d array was expected. Please change the shape of y to (n_samples, ), for example using ravel().\n",
            "  y = column_or_1d(y, warn=True)\n",
            "/usr/local/lib/python3.10/dist-packages/sklearn/metrics/_classification.py:1471: UndefinedMetricWarning: Precision and F-score are ill-defined and being set to 0.0 in labels with no predicted samples. Use `zero_division` parameter to control this behavior.\n",
            "  _warn_prf(average, modifier, msg_start, len(result))\n",
            "/usr/local/lib/python3.10/dist-packages/sklearn/metrics/_classification.py:1471: UndefinedMetricWarning: Precision and F-score are ill-defined and being set to 0.0 in labels with no predicted samples. Use `zero_division` parameter to control this behavior.\n",
            "  _warn_prf(average, modifier, msg_start, len(result))\n",
            "/usr/local/lib/python3.10/dist-packages/sklearn/metrics/_classification.py:1471: UndefinedMetricWarning: Precision and F-score are ill-defined and being set to 0.0 in labels with no predicted samples. Use `zero_division` parameter to control this behavior.\n",
            "  _warn_prf(average, modifier, msg_start, len(result))\n"
          ]
        },
        {
          "output_type": "stream",
          "name": "stdout",
          "text": [
            "                     precision    recall  f1-score   support\n",
            "\n",
            "      no_depression       0.75      1.00      0.86      1000\n",
            "possible_depression       0.00      0.00      0.00       250\n",
            "    true_depression       0.00      0.00      0.00        75\n",
            "\n",
            "           accuracy                           0.75      1325\n",
            "          macro avg       0.25      0.33      0.29      1325\n",
            "       weighted avg       0.57      0.75      0.65      1325\n",
            "\n",
            "max_features: 5000 n_gram: (1, 2)  solver: liblinear  tol: 5  C: 0.1  f1: 0.2867383512544803\n"
          ]
        },
        {
          "output_type": "stream",
          "name": "stderr",
          "text": [
            "/usr/local/lib/python3.10/dist-packages/sklearn/utils/validation.py:1183: DataConversionWarning: A column-vector y was passed when a 1d array was expected. Please change the shape of y to (n_samples, ), for example using ravel().\n",
            "  y = column_or_1d(y, warn=True)\n",
            "/usr/local/lib/python3.10/dist-packages/sklearn/metrics/_classification.py:1471: UndefinedMetricWarning: Precision and F-score are ill-defined and being set to 0.0 in labels with no predicted samples. Use `zero_division` parameter to control this behavior.\n",
            "  _warn_prf(average, modifier, msg_start, len(result))\n",
            "/usr/local/lib/python3.10/dist-packages/sklearn/metrics/_classification.py:1471: UndefinedMetricWarning: Precision and F-score are ill-defined and being set to 0.0 in labels with no predicted samples. Use `zero_division` parameter to control this behavior.\n",
            "  _warn_prf(average, modifier, msg_start, len(result))\n",
            "/usr/local/lib/python3.10/dist-packages/sklearn/metrics/_classification.py:1471: UndefinedMetricWarning: Precision and F-score are ill-defined and being set to 0.0 in labels with no predicted samples. Use `zero_division` parameter to control this behavior.\n",
            "  _warn_prf(average, modifier, msg_start, len(result))\n"
          ]
        },
        {
          "output_type": "stream",
          "name": "stdout",
          "text": [
            "                     precision    recall  f1-score   support\n",
            "\n",
            "      no_depression       0.75      1.00      0.86      1000\n",
            "possible_depression       0.00      0.00      0.00       250\n",
            "    true_depression       0.00      0.00      0.00        75\n",
            "\n",
            "           accuracy                           0.75      1325\n",
            "          macro avg       0.25      0.33      0.29      1325\n",
            "       weighted avg       0.57      0.75      0.65      1325\n",
            "\n",
            "max_features: 5000 n_gram: (1, 2)  solver: liblinear  tol: 5  C: 0.3  f1: 0.2867383512544803\n"
          ]
        },
        {
          "output_type": "stream",
          "name": "stderr",
          "text": [
            "/usr/local/lib/python3.10/dist-packages/sklearn/utils/validation.py:1183: DataConversionWarning: A column-vector y was passed when a 1d array was expected. Please change the shape of y to (n_samples, ), for example using ravel().\n",
            "  y = column_or_1d(y, warn=True)\n",
            "/usr/local/lib/python3.10/dist-packages/sklearn/metrics/_classification.py:1471: UndefinedMetricWarning: Precision and F-score are ill-defined and being set to 0.0 in labels with no predicted samples. Use `zero_division` parameter to control this behavior.\n",
            "  _warn_prf(average, modifier, msg_start, len(result))\n",
            "/usr/local/lib/python3.10/dist-packages/sklearn/metrics/_classification.py:1471: UndefinedMetricWarning: Precision and F-score are ill-defined and being set to 0.0 in labels with no predicted samples. Use `zero_division` parameter to control this behavior.\n",
            "  _warn_prf(average, modifier, msg_start, len(result))\n",
            "/usr/local/lib/python3.10/dist-packages/sklearn/metrics/_classification.py:1471: UndefinedMetricWarning: Precision and F-score are ill-defined and being set to 0.0 in labels with no predicted samples. Use `zero_division` parameter to control this behavior.\n",
            "  _warn_prf(average, modifier, msg_start, len(result))\n"
          ]
        },
        {
          "output_type": "stream",
          "name": "stdout",
          "text": [
            "                     precision    recall  f1-score   support\n",
            "\n",
            "      no_depression       0.75      1.00      0.86      1000\n",
            "possible_depression       0.00      0.00      0.00       250\n",
            "    true_depression       0.00      0.00      0.00        75\n",
            "\n",
            "           accuracy                           0.75      1325\n",
            "          macro avg       0.25      0.33      0.29      1325\n",
            "       weighted avg       0.57      0.75      0.65      1325\n",
            "\n",
            "max_features: 5000 n_gram: (1, 2)  solver: liblinear  tol: 5  C: 3  f1: 0.2867383512544803\n"
          ]
        },
        {
          "output_type": "stream",
          "name": "stderr",
          "text": [
            "/usr/local/lib/python3.10/dist-packages/sklearn/utils/validation.py:1183: DataConversionWarning: A column-vector y was passed when a 1d array was expected. Please change the shape of y to (n_samples, ), for example using ravel().\n",
            "  y = column_or_1d(y, warn=True)\n",
            "/usr/local/lib/python3.10/dist-packages/sklearn/metrics/_classification.py:1471: UndefinedMetricWarning: Precision and F-score are ill-defined and being set to 0.0 in labels with no predicted samples. Use `zero_division` parameter to control this behavior.\n",
            "  _warn_prf(average, modifier, msg_start, len(result))\n",
            "/usr/local/lib/python3.10/dist-packages/sklearn/metrics/_classification.py:1471: UndefinedMetricWarning: Precision and F-score are ill-defined and being set to 0.0 in labels with no predicted samples. Use `zero_division` parameter to control this behavior.\n",
            "  _warn_prf(average, modifier, msg_start, len(result))\n",
            "/usr/local/lib/python3.10/dist-packages/sklearn/metrics/_classification.py:1471: UndefinedMetricWarning: Precision and F-score are ill-defined and being set to 0.0 in labels with no predicted samples. Use `zero_division` parameter to control this behavior.\n",
            "  _warn_prf(average, modifier, msg_start, len(result))\n"
          ]
        },
        {
          "output_type": "stream",
          "name": "stdout",
          "text": [
            "                     precision    recall  f1-score   support\n",
            "\n",
            "      no_depression       0.75      1.00      0.86      1000\n",
            "possible_depression       0.00      0.00      0.00       250\n",
            "    true_depression       0.00      0.00      0.00        75\n",
            "\n",
            "           accuracy                           0.75      1325\n",
            "          macro avg       0.25      0.33      0.29      1325\n",
            "       weighted avg       0.57      0.75      0.65      1325\n",
            "\n",
            "max_features: 5000 n_gram: (1, 2)  solver: liblinear  tol: 5  C: 10  f1: 0.2867383512544803\n"
          ]
        },
        {
          "output_type": "stream",
          "name": "stderr",
          "text": [
            "/usr/local/lib/python3.10/dist-packages/sklearn/utils/validation.py:1183: DataConversionWarning: A column-vector y was passed when a 1d array was expected. Please change the shape of y to (n_samples, ), for example using ravel().\n",
            "  y = column_or_1d(y, warn=True)\n"
          ]
        },
        {
          "output_type": "stream",
          "name": "stdout",
          "text": [
            "                     precision    recall  f1-score   support\n",
            "\n",
            "      no_depression       0.83      0.77      0.80      1000\n",
            "possible_depression       0.32      0.39      0.35       250\n",
            "    true_depression       0.21      0.27      0.24        75\n",
            "\n",
            "           accuracy                           0.67      1325\n",
            "          macro avg       0.45      0.47      0.46      1325\n",
            "       weighted avg       0.70      0.67      0.68      1325\n",
            "\n",
            "max_features: 5000 n_gram: (1, 2)  solver: liblinear  tol: 0.3  C: 0.1  f1: 0.4613263904270692\n"
          ]
        },
        {
          "output_type": "stream",
          "name": "stderr",
          "text": [
            "/usr/local/lib/python3.10/dist-packages/sklearn/utils/validation.py:1183: DataConversionWarning: A column-vector y was passed when a 1d array was expected. Please change the shape of y to (n_samples, ), for example using ravel().\n",
            "  y = column_or_1d(y, warn=True)\n"
          ]
        },
        {
          "output_type": "stream",
          "name": "stdout",
          "text": [
            "                     precision    recall  f1-score   support\n",
            "\n",
            "      no_depression       0.83      0.80      0.81      1000\n",
            "possible_depression       0.33      0.35      0.34       250\n",
            "    true_depression       0.22      0.25      0.23        75\n",
            "\n",
            "           accuracy                           0.69      1325\n",
            "          macro avg       0.46      0.47      0.46      1325\n",
            "       weighted avg       0.70      0.69      0.69      1325\n",
            "\n",
            "max_features: 5000 n_gram: (1, 2)  solver: liblinear  tol: 0.3  C: 0.3  f1: 0.46267140238166404\n"
          ]
        },
        {
          "output_type": "stream",
          "name": "stderr",
          "text": [
            "/usr/local/lib/python3.10/dist-packages/sklearn/utils/validation.py:1183: DataConversionWarning: A column-vector y was passed when a 1d array was expected. Please change the shape of y to (n_samples, ), for example using ravel().\n",
            "  y = column_or_1d(y, warn=True)\n"
          ]
        },
        {
          "output_type": "stream",
          "name": "stdout",
          "text": [
            "                     precision    recall  f1-score   support\n",
            "\n",
            "      no_depression       0.84      0.78      0.81      1000\n",
            "possible_depression       0.34      0.44      0.38       250\n",
            "    true_depression       0.20      0.20      0.20        75\n",
            "\n",
            "           accuracy                           0.68      1325\n",
            "          macro avg       0.46      0.47      0.46      1325\n",
            "       weighted avg       0.71      0.68      0.69      1325\n",
            "\n",
            "max_features: 5000 n_gram: (1, 2)  solver: liblinear  tol: 0.3  C: 3  f1: 0.46459442991493755\n"
          ]
        },
        {
          "output_type": "stream",
          "name": "stderr",
          "text": [
            "/usr/local/lib/python3.10/dist-packages/sklearn/utils/validation.py:1183: DataConversionWarning: A column-vector y was passed when a 1d array was expected. Please change the shape of y to (n_samples, ), for example using ravel().\n",
            "  y = column_or_1d(y, warn=True)\n"
          ]
        },
        {
          "output_type": "stream",
          "name": "stdout",
          "text": [
            "                     precision    recall  f1-score   support\n",
            "\n",
            "      no_depression       0.84      0.78      0.81      1000\n",
            "possible_depression       0.32      0.43      0.37       250\n",
            "    true_depression       0.20      0.15      0.17        75\n",
            "\n",
            "           accuracy                           0.68      1325\n",
            "          macro avg       0.45      0.45      0.45      1325\n",
            "       weighted avg       0.70      0.68      0.69      1325\n",
            "\n",
            "max_features: 5000 n_gram: (1, 2)  solver: liblinear  tol: 0.3  C: 10  f1: 0.4485655601934672\n"
          ]
        },
        {
          "output_type": "stream",
          "name": "stderr",
          "text": [
            "/usr/local/lib/python3.10/dist-packages/sklearn/utils/validation.py:1183: DataConversionWarning: A column-vector y was passed when a 1d array was expected. Please change the shape of y to (n_samples, ), for example using ravel().\n",
            "  y = column_or_1d(y, warn=True)\n",
            "/usr/local/lib/python3.10/dist-packages/sklearn/metrics/_classification.py:1471: UndefinedMetricWarning: Precision and F-score are ill-defined and being set to 0.0 in labels with no predicted samples. Use `zero_division` parameter to control this behavior.\n",
            "  _warn_prf(average, modifier, msg_start, len(result))\n",
            "/usr/local/lib/python3.10/dist-packages/sklearn/metrics/_classification.py:1471: UndefinedMetricWarning: Precision and F-score are ill-defined and being set to 0.0 in labels with no predicted samples. Use `zero_division` parameter to control this behavior.\n",
            "  _warn_prf(average, modifier, msg_start, len(result))\n",
            "/usr/local/lib/python3.10/dist-packages/sklearn/metrics/_classification.py:1471: UndefinedMetricWarning: Precision and F-score are ill-defined and being set to 0.0 in labels with no predicted samples. Use `zero_division` parameter to control this behavior.\n",
            "  _warn_prf(average, modifier, msg_start, len(result))\n"
          ]
        },
        {
          "output_type": "stream",
          "name": "stdout",
          "text": [
            "                     precision    recall  f1-score   support\n",
            "\n",
            "      no_depression       0.75      1.00      0.86      1000\n",
            "possible_depression       0.00      0.00      0.00       250\n",
            "    true_depression       0.00      0.00      0.00        75\n",
            "\n",
            "           accuracy                           0.75      1325\n",
            "          macro avg       0.25      0.33      0.29      1325\n",
            "       weighted avg       0.57      0.75      0.65      1325\n",
            "\n",
            "max_features: 5000 n_gram: (1, 2)  solver: liblinear  tol: 3  C: 0.1  f1: 0.2867383512544803\n"
          ]
        },
        {
          "output_type": "stream",
          "name": "stderr",
          "text": [
            "/usr/local/lib/python3.10/dist-packages/sklearn/utils/validation.py:1183: DataConversionWarning: A column-vector y was passed when a 1d array was expected. Please change the shape of y to (n_samples, ), for example using ravel().\n",
            "  y = column_or_1d(y, warn=True)\n",
            "/usr/local/lib/python3.10/dist-packages/sklearn/metrics/_classification.py:1471: UndefinedMetricWarning: Precision and F-score are ill-defined and being set to 0.0 in labels with no predicted samples. Use `zero_division` parameter to control this behavior.\n",
            "  _warn_prf(average, modifier, msg_start, len(result))\n",
            "/usr/local/lib/python3.10/dist-packages/sklearn/metrics/_classification.py:1471: UndefinedMetricWarning: Precision and F-score are ill-defined and being set to 0.0 in labels with no predicted samples. Use `zero_division` parameter to control this behavior.\n",
            "  _warn_prf(average, modifier, msg_start, len(result))\n",
            "/usr/local/lib/python3.10/dist-packages/sklearn/metrics/_classification.py:1471: UndefinedMetricWarning: Precision and F-score are ill-defined and being set to 0.0 in labels with no predicted samples. Use `zero_division` parameter to control this behavior.\n",
            "  _warn_prf(average, modifier, msg_start, len(result))\n"
          ]
        },
        {
          "output_type": "stream",
          "name": "stdout",
          "text": [
            "                     precision    recall  f1-score   support\n",
            "\n",
            "      no_depression       0.75      1.00      0.86      1000\n",
            "possible_depression       0.00      0.00      0.00       250\n",
            "    true_depression       0.00      0.00      0.00        75\n",
            "\n",
            "           accuracy                           0.75      1325\n",
            "          macro avg       0.25      0.33      0.29      1325\n",
            "       weighted avg       0.57      0.75      0.65      1325\n",
            "\n",
            "max_features: 5000 n_gram: (1, 2)  solver: liblinear  tol: 3  C: 0.3  f1: 0.2867383512544803\n"
          ]
        },
        {
          "output_type": "stream",
          "name": "stderr",
          "text": [
            "/usr/local/lib/python3.10/dist-packages/sklearn/utils/validation.py:1183: DataConversionWarning: A column-vector y was passed when a 1d array was expected. Please change the shape of y to (n_samples, ), for example using ravel().\n",
            "  y = column_or_1d(y, warn=True)\n",
            "/usr/local/lib/python3.10/dist-packages/sklearn/metrics/_classification.py:1471: UndefinedMetricWarning: Precision and F-score are ill-defined and being set to 0.0 in labels with no predicted samples. Use `zero_division` parameter to control this behavior.\n",
            "  _warn_prf(average, modifier, msg_start, len(result))\n",
            "/usr/local/lib/python3.10/dist-packages/sklearn/metrics/_classification.py:1471: UndefinedMetricWarning: Precision and F-score are ill-defined and being set to 0.0 in labels with no predicted samples. Use `zero_division` parameter to control this behavior.\n",
            "  _warn_prf(average, modifier, msg_start, len(result))\n",
            "/usr/local/lib/python3.10/dist-packages/sklearn/metrics/_classification.py:1471: UndefinedMetricWarning: Precision and F-score are ill-defined and being set to 0.0 in labels with no predicted samples. Use `zero_division` parameter to control this behavior.\n",
            "  _warn_prf(average, modifier, msg_start, len(result))\n"
          ]
        },
        {
          "output_type": "stream",
          "name": "stdout",
          "text": [
            "                     precision    recall  f1-score   support\n",
            "\n",
            "      no_depression       0.75      1.00      0.86      1000\n",
            "possible_depression       0.00      0.00      0.00       250\n",
            "    true_depression       0.00      0.00      0.00        75\n",
            "\n",
            "           accuracy                           0.75      1325\n",
            "          macro avg       0.25      0.33      0.29      1325\n",
            "       weighted avg       0.57      0.75      0.65      1325\n",
            "\n",
            "max_features: 5000 n_gram: (1, 2)  solver: liblinear  tol: 3  C: 3  f1: 0.2867383512544803\n"
          ]
        },
        {
          "output_type": "stream",
          "name": "stderr",
          "text": [
            "/usr/local/lib/python3.10/dist-packages/sklearn/utils/validation.py:1183: DataConversionWarning: A column-vector y was passed when a 1d array was expected. Please change the shape of y to (n_samples, ), for example using ravel().\n",
            "  y = column_or_1d(y, warn=True)\n",
            "/usr/local/lib/python3.10/dist-packages/sklearn/metrics/_classification.py:1471: UndefinedMetricWarning: Precision and F-score are ill-defined and being set to 0.0 in labels with no predicted samples. Use `zero_division` parameter to control this behavior.\n",
            "  _warn_prf(average, modifier, msg_start, len(result))\n",
            "/usr/local/lib/python3.10/dist-packages/sklearn/metrics/_classification.py:1471: UndefinedMetricWarning: Precision and F-score are ill-defined and being set to 0.0 in labels with no predicted samples. Use `zero_division` parameter to control this behavior.\n",
            "  _warn_prf(average, modifier, msg_start, len(result))\n",
            "/usr/local/lib/python3.10/dist-packages/sklearn/metrics/_classification.py:1471: UndefinedMetricWarning: Precision and F-score are ill-defined and being set to 0.0 in labels with no predicted samples. Use `zero_division` parameter to control this behavior.\n",
            "  _warn_prf(average, modifier, msg_start, len(result))\n"
          ]
        },
        {
          "output_type": "stream",
          "name": "stdout",
          "text": [
            "                     precision    recall  f1-score   support\n",
            "\n",
            "      no_depression       0.75      1.00      0.86      1000\n",
            "possible_depression       0.00      0.00      0.00       250\n",
            "    true_depression       0.00      0.00      0.00        75\n",
            "\n",
            "           accuracy                           0.75      1325\n",
            "          macro avg       0.25      0.33      0.29      1325\n",
            "       weighted avg       0.57      0.75      0.65      1325\n",
            "\n",
            "max_features: 5000 n_gram: (1, 2)  solver: liblinear  tol: 3  C: 10  f1: 0.2867383512544803\n"
          ]
        },
        {
          "output_type": "stream",
          "name": "stderr",
          "text": [
            "/usr/local/lib/python3.10/dist-packages/sklearn/utils/validation.py:1183: DataConversionWarning: A column-vector y was passed when a 1d array was expected. Please change the shape of y to (n_samples, ), for example using ravel().\n",
            "  y = column_or_1d(y, warn=True)\n"
          ]
        },
        {
          "output_type": "stream",
          "name": "stdout",
          "text": [
            "                     precision    recall  f1-score   support\n",
            "\n",
            "      no_depression       0.83      0.79      0.81      1000\n",
            "possible_depression       0.33      0.39      0.36       250\n",
            "    true_depression       0.21      0.23      0.22        75\n",
            "\n",
            "           accuracy                           0.69      1325\n",
            "          macro avg       0.46      0.47      0.46      1325\n",
            "       weighted avg       0.70      0.69      0.69      1325\n",
            "\n",
            "max_features: 5000 n_gram: (1, 2)  solver: newton-cg  tol: 5  C: 0.1  f1: 0.4639409379250967\n"
          ]
        },
        {
          "output_type": "stream",
          "name": "stderr",
          "text": [
            "/usr/local/lib/python3.10/dist-packages/sklearn/utils/validation.py:1183: DataConversionWarning: A column-vector y was passed when a 1d array was expected. Please change the shape of y to (n_samples, ), for example using ravel().\n",
            "  y = column_or_1d(y, warn=True)\n"
          ]
        },
        {
          "output_type": "stream",
          "name": "stdout",
          "text": [
            "                     precision    recall  f1-score   support\n",
            "\n",
            "      no_depression       0.83      0.81      0.82      1000\n",
            "possible_depression       0.32      0.36      0.34       250\n",
            "    true_depression       0.19      0.16      0.17        75\n",
            "\n",
            "           accuracy                           0.69      1325\n",
            "          macro avg       0.44      0.44      0.44      1325\n",
            "       weighted avg       0.69      0.69      0.69      1325\n",
            "\n",
            "max_features: 5000 n_gram: (1, 2)  solver: newton-cg  tol: 5  C: 0.3  f1: 0.44287942002521946\n"
          ]
        },
        {
          "output_type": "stream",
          "name": "stderr",
          "text": [
            "/usr/local/lib/python3.10/dist-packages/sklearn/utils/validation.py:1183: DataConversionWarning: A column-vector y was passed when a 1d array was expected. Please change the shape of y to (n_samples, ), for example using ravel().\n",
            "  y = column_or_1d(y, warn=True)\n"
          ]
        },
        {
          "output_type": "stream",
          "name": "stdout",
          "text": [
            "                     precision    recall  f1-score   support\n",
            "\n",
            "      no_depression       0.82      0.83      0.83      1000\n",
            "possible_depression       0.32      0.34      0.33       250\n",
            "    true_depression       0.25      0.13      0.17        75\n",
            "\n",
            "           accuracy                           0.70      1325\n",
            "          macro avg       0.46      0.44      0.44      1325\n",
            "       weighted avg       0.69      0.70      0.70      1325\n",
            "\n",
            "max_features: 5000 n_gram: (1, 2)  solver: newton-cg  tol: 5  C: 3  f1: 0.44349624195346493\n"
          ]
        },
        {
          "output_type": "stream",
          "name": "stderr",
          "text": [
            "/usr/local/lib/python3.10/dist-packages/sklearn/utils/validation.py:1183: DataConversionWarning: A column-vector y was passed when a 1d array was expected. Please change the shape of y to (n_samples, ), for example using ravel().\n",
            "  y = column_or_1d(y, warn=True)\n"
          ]
        },
        {
          "output_type": "stream",
          "name": "stdout",
          "text": [
            "                     precision    recall  f1-score   support\n",
            "\n",
            "      no_depression       0.82      0.83      0.82      1000\n",
            "possible_depression       0.32      0.35      0.33       250\n",
            "    true_depression       0.27      0.12      0.17        75\n",
            "\n",
            "           accuracy                           0.70      1325\n",
            "          macro avg       0.47      0.43      0.44      1325\n",
            "       weighted avg       0.69      0.70      0.69      1325\n",
            "\n",
            "max_features: 5000 n_gram: (1, 2)  solver: newton-cg  tol: 5  C: 10  f1: 0.4412541254125413\n"
          ]
        },
        {
          "output_type": "stream",
          "name": "stderr",
          "text": [
            "/usr/local/lib/python3.10/dist-packages/sklearn/utils/validation.py:1183: DataConversionWarning: A column-vector y was passed when a 1d array was expected. Please change the shape of y to (n_samples, ), for example using ravel().\n",
            "  y = column_or_1d(y, warn=True)\n"
          ]
        },
        {
          "output_type": "stream",
          "name": "stdout",
          "text": [
            "                     precision    recall  f1-score   support\n",
            "\n",
            "      no_depression       0.83      0.79      0.81      1000\n",
            "possible_depression       0.33      0.39      0.36       250\n",
            "    true_depression       0.21      0.23      0.22        75\n",
            "\n",
            "           accuracy                           0.69      1325\n",
            "          macro avg       0.46      0.47      0.46      1325\n",
            "       weighted avg       0.70      0.69      0.69      1325\n",
            "\n",
            "max_features: 5000 n_gram: (1, 2)  solver: newton-cg  tol: 0.3  C: 0.1  f1: 0.4639409379250967\n"
          ]
        },
        {
          "output_type": "stream",
          "name": "stderr",
          "text": [
            "/usr/local/lib/python3.10/dist-packages/sklearn/utils/validation.py:1183: DataConversionWarning: A column-vector y was passed when a 1d array was expected. Please change the shape of y to (n_samples, ), for example using ravel().\n",
            "  y = column_or_1d(y, warn=True)\n"
          ]
        },
        {
          "output_type": "stream",
          "name": "stdout",
          "text": [
            "                     precision    recall  f1-score   support\n",
            "\n",
            "      no_depression       0.83      0.81      0.82      1000\n",
            "possible_depression       0.32      0.36      0.34       250\n",
            "    true_depression       0.20      0.17      0.18        75\n",
            "\n",
            "           accuracy                           0.69      1325\n",
            "          macro avg       0.45      0.45      0.45      1325\n",
            "       weighted avg       0.69      0.69      0.69      1325\n",
            "\n",
            "max_features: 5000 n_gram: (1, 2)  solver: newton-cg  tol: 0.3  C: 0.3  f1: 0.44519648956299207\n"
          ]
        },
        {
          "output_type": "stream",
          "name": "stderr",
          "text": [
            "/usr/local/lib/python3.10/dist-packages/sklearn/utils/validation.py:1183: DataConversionWarning: A column-vector y was passed when a 1d array was expected. Please change the shape of y to (n_samples, ), for example using ravel().\n",
            "  y = column_or_1d(y, warn=True)\n"
          ]
        },
        {
          "output_type": "stream",
          "name": "stdout",
          "text": [
            "                     precision    recall  f1-score   support\n",
            "\n",
            "      no_depression       0.82      0.83      0.82      1000\n",
            "possible_depression       0.31      0.34      0.33       250\n",
            "    true_depression       0.26      0.13      0.18        75\n",
            "\n",
            "           accuracy                           0.70      1325\n",
            "          macro avg       0.46      0.43      0.44      1325\n",
            "       weighted avg       0.69      0.70      0.69      1325\n",
            "\n",
            "max_features: 5000 n_gram: (1, 2)  solver: newton-cg  tol: 0.3  C: 3  f1: 0.4417524697603707\n"
          ]
        },
        {
          "output_type": "stream",
          "name": "stderr",
          "text": [
            "/usr/local/lib/python3.10/dist-packages/sklearn/utils/validation.py:1183: DataConversionWarning: A column-vector y was passed when a 1d array was expected. Please change the shape of y to (n_samples, ), for example using ravel().\n",
            "  y = column_or_1d(y, warn=True)\n"
          ]
        },
        {
          "output_type": "stream",
          "name": "stdout",
          "text": [
            "                     precision    recall  f1-score   support\n",
            "\n",
            "      no_depression       0.81      0.82      0.82      1000\n",
            "possible_depression       0.31      0.34      0.33       250\n",
            "    true_depression       0.26      0.12      0.17        75\n",
            "\n",
            "           accuracy                           0.69      1325\n",
            "          macro avg       0.46      0.43      0.44      1325\n",
            "       weighted avg       0.69      0.69      0.69      1325\n",
            "\n",
            "max_features: 5000 n_gram: (1, 2)  solver: newton-cg  tol: 0.3  C: 10  f1: 0.43685577386133856\n"
          ]
        },
        {
          "output_type": "stream",
          "name": "stderr",
          "text": [
            "/usr/local/lib/python3.10/dist-packages/sklearn/utils/validation.py:1183: DataConversionWarning: A column-vector y was passed when a 1d array was expected. Please change the shape of y to (n_samples, ), for example using ravel().\n",
            "  y = column_or_1d(y, warn=True)\n"
          ]
        },
        {
          "output_type": "stream",
          "name": "stdout",
          "text": [
            "                     precision    recall  f1-score   support\n",
            "\n",
            "      no_depression       0.83      0.79      0.81      1000\n",
            "possible_depression       0.33      0.39      0.36       250\n",
            "    true_depression       0.21      0.23      0.22        75\n",
            "\n",
            "           accuracy                           0.69      1325\n",
            "          macro avg       0.46      0.47      0.46      1325\n",
            "       weighted avg       0.70      0.69      0.69      1325\n",
            "\n",
            "max_features: 5000 n_gram: (1, 2)  solver: newton-cg  tol: 3  C: 0.1  f1: 0.4639409379250967\n"
          ]
        },
        {
          "output_type": "stream",
          "name": "stderr",
          "text": [
            "/usr/local/lib/python3.10/dist-packages/sklearn/utils/validation.py:1183: DataConversionWarning: A column-vector y was passed when a 1d array was expected. Please change the shape of y to (n_samples, ), for example using ravel().\n",
            "  y = column_or_1d(y, warn=True)\n"
          ]
        },
        {
          "output_type": "stream",
          "name": "stdout",
          "text": [
            "                     precision    recall  f1-score   support\n",
            "\n",
            "      no_depression       0.83      0.81      0.82      1000\n",
            "possible_depression       0.32      0.36      0.34       250\n",
            "    true_depression       0.19      0.16      0.17        75\n",
            "\n",
            "           accuracy                           0.69      1325\n",
            "          macro avg       0.44      0.44      0.44      1325\n",
            "       weighted avg       0.69      0.69      0.69      1325\n",
            "\n",
            "max_features: 5000 n_gram: (1, 2)  solver: newton-cg  tol: 3  C: 0.3  f1: 0.44287942002521946\n"
          ]
        },
        {
          "output_type": "stream",
          "name": "stderr",
          "text": [
            "/usr/local/lib/python3.10/dist-packages/sklearn/utils/validation.py:1183: DataConversionWarning: A column-vector y was passed when a 1d array was expected. Please change the shape of y to (n_samples, ), for example using ravel().\n",
            "  y = column_or_1d(y, warn=True)\n"
          ]
        },
        {
          "output_type": "stream",
          "name": "stdout",
          "text": [
            "                     precision    recall  f1-score   support\n",
            "\n",
            "      no_depression       0.82      0.83      0.83      1000\n",
            "possible_depression       0.32      0.35      0.33       250\n",
            "    true_depression       0.26      0.13      0.18        75\n",
            "\n",
            "           accuracy                           0.70      1325\n",
            "          macro avg       0.46      0.44      0.44      1325\n",
            "       weighted avg       0.69      0.70      0.70      1325\n",
            "\n",
            "max_features: 5000 n_gram: (1, 2)  solver: newton-cg  tol: 3  C: 3  f1: 0.4441831223275942\n"
          ]
        },
        {
          "output_type": "stream",
          "name": "stderr",
          "text": [
            "/usr/local/lib/python3.10/dist-packages/sklearn/utils/validation.py:1183: DataConversionWarning: A column-vector y was passed when a 1d array was expected. Please change the shape of y to (n_samples, ), for example using ravel().\n",
            "  y = column_or_1d(y, warn=True)\n"
          ]
        },
        {
          "output_type": "stream",
          "name": "stdout",
          "text": [
            "                     precision    recall  f1-score   support\n",
            "\n",
            "      no_depression       0.81      0.83      0.82      1000\n",
            "possible_depression       0.31      0.34      0.32       250\n",
            "    true_depression       0.26      0.12      0.17        75\n",
            "\n",
            "           accuracy                           0.70      1325\n",
            "          macro avg       0.46      0.43      0.44      1325\n",
            "       weighted avg       0.69      0.70      0.69      1325\n",
            "\n",
            "max_features: 5000 n_gram: (1, 2)  solver: newton-cg  tol: 3  C: 10  f1: 0.4364612154749768\n"
          ]
        },
        {
          "output_type": "stream",
          "name": "stderr",
          "text": [
            "/usr/local/lib/python3.10/dist-packages/sklearn/utils/validation.py:1183: DataConversionWarning: A column-vector y was passed when a 1d array was expected. Please change the shape of y to (n_samples, ), for example using ravel().\n",
            "  y = column_or_1d(y, warn=True)\n"
          ]
        },
        {
          "output_type": "stream",
          "name": "stdout",
          "text": [
            "                     precision    recall  f1-score   support\n",
            "\n",
            "      no_depression       0.82      0.81      0.81      1000\n",
            "possible_depression       0.30      0.29      0.30       250\n",
            "    true_depression       0.19      0.25      0.22        75\n",
            "\n",
            "           accuracy                           0.68      1325\n",
            "          macro avg       0.44      0.45      0.44      1325\n",
            "       weighted avg       0.68      0.68      0.68      1325\n",
            "\n",
            "max_features: 5000 n_gram: (1, 2)  solver: newton-cholesky  tol: 5  C: 0.1  f1: 0.44213211352764265\n"
          ]
        },
        {
          "output_type": "stream",
          "name": "stderr",
          "text": [
            "/usr/local/lib/python3.10/dist-packages/sklearn/utils/validation.py:1183: DataConversionWarning: A column-vector y was passed when a 1d array was expected. Please change the shape of y to (n_samples, ), for example using ravel().\n",
            "  y = column_or_1d(y, warn=True)\n"
          ]
        },
        {
          "output_type": "stream",
          "name": "stdout",
          "text": [
            "                     precision    recall  f1-score   support\n",
            "\n",
            "      no_depression       0.82      0.81      0.82      1000\n",
            "possible_depression       0.32      0.32      0.32       250\n",
            "    true_depression       0.22      0.24      0.23        75\n",
            "\n",
            "           accuracy                           0.69      1325\n",
            "          macro avg       0.45      0.46      0.46      1325\n",
            "       weighted avg       0.70      0.69      0.69      1325\n",
            "\n",
            "max_features: 5000 n_gram: (1, 2)  solver: newton-cholesky  tol: 5  C: 0.3  f1: 0.4563987299323366\n"
          ]
        },
        {
          "output_type": "stream",
          "name": "stderr",
          "text": [
            "/usr/local/lib/python3.10/dist-packages/sklearn/utils/validation.py:1183: DataConversionWarning: A column-vector y was passed when a 1d array was expected. Please change the shape of y to (n_samples, ), for example using ravel().\n",
            "  y = column_or_1d(y, warn=True)\n"
          ]
        },
        {
          "output_type": "stream",
          "name": "stdout",
          "text": [
            "                     precision    recall  f1-score   support\n",
            "\n",
            "      no_depression       0.82      0.82      0.82      1000\n",
            "possible_depression       0.32      0.35      0.33       250\n",
            "    true_depression       0.25      0.15      0.18        75\n",
            "\n",
            "           accuracy                           0.70      1325\n",
            "          macro avg       0.46      0.44      0.45      1325\n",
            "       weighted avg       0.69      0.70      0.69      1325\n",
            "\n",
            "max_features: 5000 n_gram: (1, 2)  solver: newton-cholesky  tol: 5  C: 3  f1: 0.4474724511425423\n"
          ]
        },
        {
          "output_type": "stream",
          "name": "stderr",
          "text": [
            "/usr/local/lib/python3.10/dist-packages/sklearn/utils/validation.py:1183: DataConversionWarning: A column-vector y was passed when a 1d array was expected. Please change the shape of y to (n_samples, ), for example using ravel().\n",
            "  y = column_or_1d(y, warn=True)\n"
          ]
        },
        {
          "output_type": "stream",
          "name": "stdout",
          "text": [
            "                     precision    recall  f1-score   support\n",
            "\n",
            "      no_depression       0.82      0.81      0.82      1000\n",
            "possible_depression       0.31      0.37      0.33       250\n",
            "    true_depression       0.23      0.09      0.13        75\n",
            "\n",
            "           accuracy                           0.69      1325\n",
            "          macro avg       0.45      0.42      0.43      1325\n",
            "       weighted avg       0.69      0.69      0.69      1325\n",
            "\n",
            "max_features: 5000 n_gram: (1, 2)  solver: newton-cholesky  tol: 5  C: 10  f1: 0.42735575508687296\n"
          ]
        },
        {
          "output_type": "stream",
          "name": "stderr",
          "text": [
            "/usr/local/lib/python3.10/dist-packages/sklearn/utils/validation.py:1183: DataConversionWarning: A column-vector y was passed when a 1d array was expected. Please change the shape of y to (n_samples, ), for example using ravel().\n",
            "  y = column_or_1d(y, warn=True)\n"
          ]
        },
        {
          "output_type": "stream",
          "name": "stdout",
          "text": [
            "                     precision    recall  f1-score   support\n",
            "\n",
            "      no_depression       0.82      0.81      0.81      1000\n",
            "possible_depression       0.30      0.29      0.30       250\n",
            "    true_depression       0.19      0.25      0.22        75\n",
            "\n",
            "           accuracy                           0.68      1325\n",
            "          macro avg       0.44      0.45      0.44      1325\n",
            "       weighted avg       0.68      0.68      0.68      1325\n",
            "\n",
            "max_features: 5000 n_gram: (1, 2)  solver: newton-cholesky  tol: 0.3  C: 0.1  f1: 0.44213211352764265\n"
          ]
        },
        {
          "output_type": "stream",
          "name": "stderr",
          "text": [
            "/usr/local/lib/python3.10/dist-packages/sklearn/utils/validation.py:1183: DataConversionWarning: A column-vector y was passed when a 1d array was expected. Please change the shape of y to (n_samples, ), for example using ravel().\n",
            "  y = column_or_1d(y, warn=True)\n"
          ]
        },
        {
          "output_type": "stream",
          "name": "stdout",
          "text": [
            "                     precision    recall  f1-score   support\n",
            "\n",
            "      no_depression       0.82      0.81      0.82      1000\n",
            "possible_depression       0.32      0.32      0.32       250\n",
            "    true_depression       0.22      0.24      0.23        75\n",
            "\n",
            "           accuracy                           0.69      1325\n",
            "          macro avg       0.45      0.46      0.46      1325\n",
            "       weighted avg       0.70      0.69      0.69      1325\n",
            "\n",
            "max_features: 5000 n_gram: (1, 2)  solver: newton-cholesky  tol: 0.3  C: 0.3  f1: 0.4563987299323366\n"
          ]
        },
        {
          "output_type": "stream",
          "name": "stderr",
          "text": [
            "/usr/local/lib/python3.10/dist-packages/sklearn/utils/validation.py:1183: DataConversionWarning: A column-vector y was passed when a 1d array was expected. Please change the shape of y to (n_samples, ), for example using ravel().\n",
            "  y = column_or_1d(y, warn=True)\n"
          ]
        },
        {
          "output_type": "stream",
          "name": "stdout",
          "text": [
            "                     precision    recall  f1-score   support\n",
            "\n",
            "      no_depression       0.82      0.83      0.82      1000\n",
            "possible_depression       0.32      0.34      0.33       250\n",
            "    true_depression       0.21      0.13      0.16        75\n",
            "\n",
            "           accuracy                           0.70      1325\n",
            "          macro avg       0.45      0.44      0.44      1325\n",
            "       weighted avg       0.69      0.70      0.69      1325\n",
            "\n",
            "max_features: 5000 n_gram: (1, 2)  solver: newton-cholesky  tol: 0.3  C: 3  f1: 0.4408516165956879\n"
          ]
        },
        {
          "output_type": "stream",
          "name": "stderr",
          "text": [
            "/usr/local/lib/python3.10/dist-packages/sklearn/utils/validation.py:1183: DataConversionWarning: A column-vector y was passed when a 1d array was expected. Please change the shape of y to (n_samples, ), for example using ravel().\n",
            "  y = column_or_1d(y, warn=True)\n"
          ]
        },
        {
          "output_type": "stream",
          "name": "stdout",
          "text": [
            "                     precision    recall  f1-score   support\n",
            "\n",
            "      no_depression       0.82      0.82      0.82      1000\n",
            "possible_depression       0.31      0.34      0.32       250\n",
            "    true_depression       0.19      0.09      0.12        75\n",
            "\n",
            "           accuracy                           0.69      1325\n",
            "          macro avg       0.44      0.42      0.42      1325\n",
            "       weighted avg       0.68      0.69      0.69      1325\n",
            "\n",
            "max_features: 5000 n_gram: (1, 2)  solver: newton-cholesky  tol: 0.3  C: 10  f1: 0.42275113382946206\n"
          ]
        },
        {
          "output_type": "stream",
          "name": "stderr",
          "text": [
            "/usr/local/lib/python3.10/dist-packages/sklearn/utils/validation.py:1183: DataConversionWarning: A column-vector y was passed when a 1d array was expected. Please change the shape of y to (n_samples, ), for example using ravel().\n",
            "  y = column_or_1d(y, warn=True)\n"
          ]
        },
        {
          "output_type": "stream",
          "name": "stdout",
          "text": [
            "                     precision    recall  f1-score   support\n",
            "\n",
            "      no_depression       0.82      0.81      0.81      1000\n",
            "possible_depression       0.30      0.29      0.30       250\n",
            "    true_depression       0.19      0.25      0.22        75\n",
            "\n",
            "           accuracy                           0.68      1325\n",
            "          macro avg       0.44      0.45      0.44      1325\n",
            "       weighted avg       0.68      0.68      0.68      1325\n",
            "\n",
            "max_features: 5000 n_gram: (1, 2)  solver: newton-cholesky  tol: 3  C: 0.1  f1: 0.44213211352764265\n"
          ]
        },
        {
          "output_type": "stream",
          "name": "stderr",
          "text": [
            "/usr/local/lib/python3.10/dist-packages/sklearn/utils/validation.py:1183: DataConversionWarning: A column-vector y was passed when a 1d array was expected. Please change the shape of y to (n_samples, ), for example using ravel().\n",
            "  y = column_or_1d(y, warn=True)\n"
          ]
        },
        {
          "output_type": "stream",
          "name": "stdout",
          "text": [
            "                     precision    recall  f1-score   support\n",
            "\n",
            "      no_depression       0.82      0.81      0.82      1000\n",
            "possible_depression       0.32      0.32      0.32       250\n",
            "    true_depression       0.22      0.24      0.23        75\n",
            "\n",
            "           accuracy                           0.69      1325\n",
            "          macro avg       0.45      0.46      0.46      1325\n",
            "       weighted avg       0.70      0.69      0.69      1325\n",
            "\n",
            "max_features: 5000 n_gram: (1, 2)  solver: newton-cholesky  tol: 3  C: 0.3  f1: 0.4563987299323366\n"
          ]
        },
        {
          "output_type": "stream",
          "name": "stderr",
          "text": [
            "/usr/local/lib/python3.10/dist-packages/sklearn/utils/validation.py:1183: DataConversionWarning: A column-vector y was passed when a 1d array was expected. Please change the shape of y to (n_samples, ), for example using ravel().\n",
            "  y = column_or_1d(y, warn=True)\n"
          ]
        },
        {
          "output_type": "stream",
          "name": "stdout",
          "text": [
            "                     precision    recall  f1-score   support\n",
            "\n",
            "      no_depression       0.82      0.82      0.82      1000\n",
            "possible_depression       0.32      0.35      0.33       250\n",
            "    true_depression       0.25      0.15      0.18        75\n",
            "\n",
            "           accuracy                           0.70      1325\n",
            "          macro avg       0.46      0.44      0.45      1325\n",
            "       weighted avg       0.69      0.70      0.69      1325\n",
            "\n",
            "max_features: 5000 n_gram: (1, 2)  solver: newton-cholesky  tol: 3  C: 3  f1: 0.4474724511425423\n"
          ]
        },
        {
          "output_type": "stream",
          "name": "stderr",
          "text": [
            "/usr/local/lib/python3.10/dist-packages/sklearn/utils/validation.py:1183: DataConversionWarning: A column-vector y was passed when a 1d array was expected. Please change the shape of y to (n_samples, ), for example using ravel().\n",
            "  y = column_or_1d(y, warn=True)\n"
          ]
        },
        {
          "output_type": "stream",
          "name": "stdout",
          "text": [
            "                     precision    recall  f1-score   support\n",
            "\n",
            "      no_depression       0.82      0.81      0.82      1000\n",
            "possible_depression       0.31      0.37      0.33       250\n",
            "    true_depression       0.23      0.09      0.13        75\n",
            "\n",
            "           accuracy                           0.69      1325\n",
            "          macro avg       0.45      0.42      0.43      1325\n",
            "       weighted avg       0.69      0.69      0.69      1325\n",
            "\n",
            "max_features: 5000 n_gram: (1, 2)  solver: newton-cholesky  tol: 3  C: 10  f1: 0.42735575508687296\n"
          ]
        },
        {
          "output_type": "stream",
          "name": "stderr",
          "text": [
            "/usr/local/lib/python3.10/dist-packages/sklearn/utils/validation.py:1183: DataConversionWarning: A column-vector y was passed when a 1d array was expected. Please change the shape of y to (n_samples, ), for example using ravel().\n",
            "  y = column_or_1d(y, warn=True)\n"
          ]
        },
        {
          "output_type": "stream",
          "name": "stdout",
          "text": [
            "                     precision    recall  f1-score   support\n",
            "\n",
            "      no_depression       0.82      0.80      0.81      1000\n",
            "possible_depression       0.30      0.32      0.31       250\n",
            "    true_depression       0.21      0.23      0.22        75\n",
            "\n",
            "           accuracy                           0.68      1325\n",
            "          macro avg       0.44      0.45      0.45      1325\n",
            "       weighted avg       0.69      0.68      0.68      1325\n",
            "\n",
            "max_features: 5000 n_gram: (1, 2)  solver: sag  tol: 5  C: 0.1  f1: 0.4452106239647597\n"
          ]
        },
        {
          "output_type": "stream",
          "name": "stderr",
          "text": [
            "/usr/local/lib/python3.10/dist-packages/sklearn/utils/validation.py:1183: DataConversionWarning: A column-vector y was passed when a 1d array was expected. Please change the shape of y to (n_samples, ), for example using ravel().\n",
            "  y = column_or_1d(y, warn=True)\n"
          ]
        },
        {
          "output_type": "stream",
          "name": "stdout",
          "text": [
            "                     precision    recall  f1-score   support\n",
            "\n",
            "      no_depression       0.83      0.76      0.80      1000\n",
            "possible_depression       0.31      0.44      0.36       250\n",
            "    true_depression       0.22      0.15      0.18        75\n",
            "\n",
            "           accuracy                           0.67      1325\n",
            "          macro avg       0.45      0.45      0.44      1325\n",
            "       weighted avg       0.70      0.67      0.68      1325\n",
            "\n",
            "max_features: 5000 n_gram: (1, 2)  solver: sag  tol: 5  C: 0.3  f1: 0.4441593973376707\n"
          ]
        },
        {
          "output_type": "stream",
          "name": "stderr",
          "text": [
            "/usr/local/lib/python3.10/dist-packages/sklearn/utils/validation.py:1183: DataConversionWarning: A column-vector y was passed when a 1d array was expected. Please change the shape of y to (n_samples, ), for example using ravel().\n",
            "  y = column_or_1d(y, warn=True)\n"
          ]
        },
        {
          "output_type": "stream",
          "name": "stdout",
          "text": [
            "                     precision    recall  f1-score   support\n",
            "\n",
            "      no_depression       0.81      0.81      0.81      1000\n",
            "possible_depression       0.28      0.33      0.30       250\n",
            "    true_depression       0.22      0.11      0.14        75\n",
            "\n",
            "           accuracy                           0.68      1325\n",
            "          macro avg       0.44      0.41      0.42      1325\n",
            "       weighted avg       0.68      0.68      0.68      1325\n",
            "\n",
            "max_features: 5000 n_gram: (1, 2)  solver: sag  tol: 5  C: 3  f1: 0.4187902187902188\n"
          ]
        },
        {
          "output_type": "stream",
          "name": "stderr",
          "text": [
            "/usr/local/lib/python3.10/dist-packages/sklearn/utils/validation.py:1183: DataConversionWarning: A column-vector y was passed when a 1d array was expected. Please change the shape of y to (n_samples, ), for example using ravel().\n",
            "  y = column_or_1d(y, warn=True)\n"
          ]
        },
        {
          "output_type": "stream",
          "name": "stdout",
          "text": [
            "                     precision    recall  f1-score   support\n",
            "\n",
            "      no_depression       0.83      0.76      0.79      1000\n",
            "possible_depression       0.31      0.46      0.37       250\n",
            "    true_depression       0.19      0.09      0.13        75\n",
            "\n",
            "           accuracy                           0.66      1325\n",
            "          macro avg       0.44      0.44      0.43      1325\n",
            "       weighted avg       0.70      0.66      0.67      1325\n",
            "\n",
            "max_features: 5000 n_gram: (1, 2)  solver: sag  tol: 5  C: 10  f1: 0.4293276930911813\n"
          ]
        },
        {
          "output_type": "stream",
          "name": "stderr",
          "text": [
            "/usr/local/lib/python3.10/dist-packages/sklearn/utils/validation.py:1183: DataConversionWarning: A column-vector y was passed when a 1d array was expected. Please change the shape of y to (n_samples, ), for example using ravel().\n",
            "  y = column_or_1d(y, warn=True)\n"
          ]
        },
        {
          "output_type": "stream",
          "name": "stdout",
          "text": [
            "                     precision    recall  f1-score   support\n",
            "\n",
            "      no_depression       0.83      0.76      0.80      1000\n",
            "possible_depression       0.30      0.41      0.35       250\n",
            "    true_depression       0.20      0.19      0.19        75\n",
            "\n",
            "           accuracy                           0.66      1325\n",
            "          macro avg       0.45      0.45      0.45      1325\n",
            "       weighted avg       0.70      0.66      0.68      1325\n",
            "\n",
            "max_features: 5000 n_gram: (1, 2)  solver: sag  tol: 0.3  C: 0.1  f1: 0.44601547025947447\n"
          ]
        },
        {
          "output_type": "stream",
          "name": "stderr",
          "text": [
            "/usr/local/lib/python3.10/dist-packages/sklearn/utils/validation.py:1183: DataConversionWarning: A column-vector y was passed when a 1d array was expected. Please change the shape of y to (n_samples, ), for example using ravel().\n",
            "  y = column_or_1d(y, warn=True)\n"
          ]
        },
        {
          "output_type": "stream",
          "name": "stdout",
          "text": [
            "                     precision    recall  f1-score   support\n",
            "\n",
            "      no_depression       0.83      0.77      0.80      1000\n",
            "possible_depression       0.30      0.40      0.34       250\n",
            "    true_depression       0.21      0.16      0.18        75\n",
            "\n",
            "           accuracy                           0.67      1325\n",
            "          macro avg       0.45      0.44      0.44      1325\n",
            "       weighted avg       0.69      0.67      0.68      1325\n",
            "\n",
            "max_features: 5000 n_gram: (1, 2)  solver: sag  tol: 0.3  C: 0.3  f1: 0.4413645798344659\n"
          ]
        },
        {
          "output_type": "stream",
          "name": "stderr",
          "text": [
            "/usr/local/lib/python3.10/dist-packages/sklearn/utils/validation.py:1183: DataConversionWarning: A column-vector y was passed when a 1d array was expected. Please change the shape of y to (n_samples, ), for example using ravel().\n",
            "  y = column_or_1d(y, warn=True)\n"
          ]
        },
        {
          "output_type": "stream",
          "name": "stdout",
          "text": [
            "                     precision    recall  f1-score   support\n",
            "\n",
            "      no_depression       0.82      0.82      0.82      1000\n",
            "possible_depression       0.31      0.35      0.33       250\n",
            "    true_depression       0.26      0.13      0.18        75\n",
            "\n",
            "           accuracy                           0.69      1325\n",
            "          macro avg       0.46      0.43      0.44      1325\n",
            "       weighted avg       0.69      0.69      0.69      1325\n",
            "\n",
            "max_features: 5000 n_gram: (1, 2)  solver: sag  tol: 0.3  C: 3  f1: 0.44180752794062544\n"
          ]
        },
        {
          "output_type": "stream",
          "name": "stderr",
          "text": [
            "/usr/local/lib/python3.10/dist-packages/sklearn/utils/validation.py:1183: DataConversionWarning: A column-vector y was passed when a 1d array was expected. Please change the shape of y to (n_samples, ), for example using ravel().\n",
            "  y = column_or_1d(y, warn=True)\n"
          ]
        },
        {
          "output_type": "stream",
          "name": "stdout",
          "text": [
            "                     precision    recall  f1-score   support\n",
            "\n",
            "      no_depression       0.82      0.81      0.81      1000\n",
            "possible_depression       0.30      0.35      0.32       250\n",
            "    true_depression       0.20      0.09      0.13        75\n",
            "\n",
            "           accuracy                           0.68      1325\n",
            "          macro avg       0.44      0.42      0.42      1325\n",
            "       weighted avg       0.68      0.68      0.68      1325\n",
            "\n",
            "max_features: 5000 n_gram: (1, 2)  solver: sag  tol: 0.3  C: 10  f1: 0.42101912352664606\n"
          ]
        },
        {
          "output_type": "stream",
          "name": "stderr",
          "text": [
            "/usr/local/lib/python3.10/dist-packages/sklearn/utils/validation.py:1183: DataConversionWarning: A column-vector y was passed when a 1d array was expected. Please change the shape of y to (n_samples, ), for example using ravel().\n",
            "  y = column_or_1d(y, warn=True)\n"
          ]
        },
        {
          "output_type": "stream",
          "name": "stdout",
          "text": [
            "                     precision    recall  f1-score   support\n",
            "\n",
            "      no_depression       0.82      0.79      0.80      1000\n",
            "possible_depression       0.30      0.36      0.33       250\n",
            "    true_depression       0.17      0.16      0.17        75\n",
            "\n",
            "           accuracy                           0.67      1325\n",
            "          macro avg       0.43      0.44      0.43      1325\n",
            "       weighted avg       0.69      0.67      0.68      1325\n",
            "\n",
            "max_features: 5000 n_gram: (1, 2)  solver: sag  tol: 3  C: 0.1  f1: 0.43334559405255707\n"
          ]
        },
        {
          "output_type": "stream",
          "name": "stderr",
          "text": [
            "/usr/local/lib/python3.10/dist-packages/sklearn/utils/validation.py:1183: DataConversionWarning: A column-vector y was passed when a 1d array was expected. Please change the shape of y to (n_samples, ), for example using ravel().\n",
            "  y = column_or_1d(y, warn=True)\n"
          ]
        },
        {
          "output_type": "stream",
          "name": "stdout",
          "text": [
            "                     precision    recall  f1-score   support\n",
            "\n",
            "      no_depression       0.83      0.74      0.78      1000\n",
            "possible_depression       0.30      0.43      0.35       250\n",
            "    true_depression       0.18      0.17      0.18        75\n",
            "\n",
            "           accuracy                           0.65      1325\n",
            "          macro avg       0.44      0.45      0.44      1325\n",
            "       weighted avg       0.69      0.65      0.67      1325\n",
            "\n",
            "max_features: 5000 n_gram: (1, 2)  solver: sag  tol: 3  C: 0.3  f1: 0.4371046379654158\n"
          ]
        },
        {
          "output_type": "stream",
          "name": "stderr",
          "text": [
            "/usr/local/lib/python3.10/dist-packages/sklearn/utils/validation.py:1183: DataConversionWarning: A column-vector y was passed when a 1d array was expected. Please change the shape of y to (n_samples, ), for example using ravel().\n",
            "  y = column_or_1d(y, warn=True)\n"
          ]
        },
        {
          "output_type": "stream",
          "name": "stdout",
          "text": [
            "                     precision    recall  f1-score   support\n",
            "\n",
            "      no_depression       0.82      0.76      0.79      1000\n",
            "possible_depression       0.28      0.39      0.32       250\n",
            "    true_depression       0.20      0.12      0.15        75\n",
            "\n",
            "           accuracy                           0.66      1325\n",
            "          macro avg       0.43      0.42      0.42      1325\n",
            "       weighted avg       0.68      0.66      0.67      1325\n",
            "\n",
            "max_features: 5000 n_gram: (1, 2)  solver: sag  tol: 3  C: 3  f1: 0.42176832829006733\n"
          ]
        },
        {
          "output_type": "stream",
          "name": "stderr",
          "text": [
            "/usr/local/lib/python3.10/dist-packages/sklearn/utils/validation.py:1183: DataConversionWarning: A column-vector y was passed when a 1d array was expected. Please change the shape of y to (n_samples, ), for example using ravel().\n",
            "  y = column_or_1d(y, warn=True)\n"
          ]
        },
        {
          "output_type": "stream",
          "name": "stdout",
          "text": [
            "                     precision    recall  f1-score   support\n",
            "\n",
            "      no_depression       0.83      0.80      0.81      1000\n",
            "possible_depression       0.31      0.37      0.34       250\n",
            "    true_depression       0.29      0.23      0.26        75\n",
            "\n",
            "           accuracy                           0.69      1325\n",
            "          macro avg       0.48      0.47      0.47      1325\n",
            "       weighted avg       0.70      0.69      0.69      1325\n",
            "\n",
            "max_features: 5000 n_gram: (1, 2)  solver: sag  tol: 3  C: 10  f1: 0.4692877471099412\n"
          ]
        },
        {
          "output_type": "stream",
          "name": "stderr",
          "text": [
            "/usr/local/lib/python3.10/dist-packages/sklearn/utils/validation.py:1183: DataConversionWarning: A column-vector y was passed when a 1d array was expected. Please change the shape of y to (n_samples, ), for example using ravel().\n",
            "  y = column_or_1d(y, warn=True)\n"
          ]
        },
        {
          "output_type": "stream",
          "name": "stdout",
          "text": [
            "                     precision    recall  f1-score   support\n",
            "\n",
            "      no_depression       0.86      0.65      0.74      1000\n",
            "possible_depression       0.30      0.46      0.36       250\n",
            "    true_depression       0.18      0.44      0.25        75\n",
            "\n",
            "           accuracy                           0.60      1325\n",
            "          macro avg       0.44      0.51      0.45      1325\n",
            "       weighted avg       0.71      0.60      0.64      1325\n",
            "\n",
            "max_features: 5000 n_gram: (1, 2)  solver: saga  tol: 5  C: 0.1  f1: 0.45059278644184303\n"
          ]
        },
        {
          "output_type": "stream",
          "name": "stderr",
          "text": [
            "/usr/local/lib/python3.10/dist-packages/sklearn/utils/validation.py:1183: DataConversionWarning: A column-vector y was passed when a 1d array was expected. Please change the shape of y to (n_samples, ), for example using ravel().\n",
            "  y = column_or_1d(y, warn=True)\n"
          ]
        },
        {
          "output_type": "stream",
          "name": "stdout",
          "text": [
            "                     precision    recall  f1-score   support\n",
            "\n",
            "      no_depression       0.82      0.80      0.81      1000\n",
            "possible_depression       0.32      0.14      0.19       250\n",
            "    true_depression       0.16      0.52      0.24        75\n",
            "\n",
            "           accuracy                           0.66      1325\n",
            "          macro avg       0.43      0.48      0.41      1325\n",
            "       weighted avg       0.69      0.66      0.66      1325\n",
            "\n",
            "max_features: 5000 n_gram: (1, 2)  solver: saga  tol: 5  C: 0.3  f1: 0.413817266744096\n"
          ]
        },
        {
          "output_type": "stream",
          "name": "stderr",
          "text": [
            "/usr/local/lib/python3.10/dist-packages/sklearn/utils/validation.py:1183: DataConversionWarning: A column-vector y was passed when a 1d array was expected. Please change the shape of y to (n_samples, ), for example using ravel().\n",
            "  y = column_or_1d(y, warn=True)\n"
          ]
        },
        {
          "output_type": "stream",
          "name": "stdout",
          "text": [
            "                     precision    recall  f1-score   support\n",
            "\n",
            "      no_depression       0.85      0.66      0.74      1000\n",
            "possible_depression       0.29      0.57      0.38       250\n",
            "    true_depression       0.23      0.17      0.20        75\n",
            "\n",
            "           accuracy                           0.61      1325\n",
            "          macro avg       0.45      0.47      0.44      1325\n",
            "       weighted avg       0.71      0.61      0.64      1325\n",
            "\n",
            "max_features: 5000 n_gram: (1, 2)  solver: saga  tol: 5  C: 3  f1: 0.43932716876666594\n"
          ]
        },
        {
          "output_type": "stream",
          "name": "stderr",
          "text": [
            "/usr/local/lib/python3.10/dist-packages/sklearn/utils/validation.py:1183: DataConversionWarning: A column-vector y was passed when a 1d array was expected. Please change the shape of y to (n_samples, ), for example using ravel().\n",
            "  y = column_or_1d(y, warn=True)\n"
          ]
        },
        {
          "output_type": "stream",
          "name": "stdout",
          "text": [
            "                     precision    recall  f1-score   support\n",
            "\n",
            "      no_depression       0.81      0.88      0.84      1000\n",
            "possible_depression       0.33      0.23      0.27       250\n",
            "    true_depression       0.23      0.16      0.19        75\n",
            "\n",
            "           accuracy                           0.72      1325\n",
            "          macro avg       0.45      0.42      0.43      1325\n",
            "       weighted avg       0.68      0.72      0.70      1325\n",
            "\n",
            "max_features: 5000 n_gram: (1, 2)  solver: saga  tol: 5  C: 10  f1: 0.43411924046398837\n"
          ]
        },
        {
          "output_type": "stream",
          "name": "stderr",
          "text": [
            "/usr/local/lib/python3.10/dist-packages/sklearn/utils/validation.py:1183: DataConversionWarning: A column-vector y was passed when a 1d array was expected. Please change the shape of y to (n_samples, ), for example using ravel().\n",
            "  y = column_or_1d(y, warn=True)\n"
          ]
        },
        {
          "output_type": "stream",
          "name": "stdout",
          "text": [
            "                     precision    recall  f1-score   support\n",
            "\n",
            "      no_depression       0.84      0.71      0.77      1000\n",
            "possible_depression       0.30      0.49      0.37       250\n",
            "    true_depression       0.17      0.16      0.17        75\n",
            "\n",
            "           accuracy                           0.64      1325\n",
            "          macro avg       0.44      0.45      0.44      1325\n",
            "       weighted avg       0.70      0.64      0.66      1325\n",
            "\n",
            "max_features: 5000 n_gram: (1, 2)  solver: saga  tol: 0.3  C: 0.1  f1: 0.4355627366496932\n"
          ]
        },
        {
          "output_type": "stream",
          "name": "stderr",
          "text": [
            "/usr/local/lib/python3.10/dist-packages/sklearn/utils/validation.py:1183: DataConversionWarning: A column-vector y was passed when a 1d array was expected. Please change the shape of y to (n_samples, ), for example using ravel().\n",
            "  y = column_or_1d(y, warn=True)\n"
          ]
        },
        {
          "output_type": "stream",
          "name": "stdout",
          "text": [
            "                     precision    recall  f1-score   support\n",
            "\n",
            "      no_depression       0.82      0.81      0.82      1000\n",
            "possible_depression       0.32      0.39      0.35       250\n",
            "    true_depression       0.23      0.09      0.13        75\n",
            "\n",
            "           accuracy                           0.69      1325\n",
            "          macro avg       0.46      0.43      0.43      1325\n",
            "       weighted avg       0.69      0.69      0.69      1325\n",
            "\n",
            "max_features: 5000 n_gram: (1, 2)  solver: saga  tol: 0.3  C: 0.3  f1: 0.433086672280997\n"
          ]
        },
        {
          "output_type": "stream",
          "name": "stderr",
          "text": [
            "/usr/local/lib/python3.10/dist-packages/sklearn/utils/validation.py:1183: DataConversionWarning: A column-vector y was passed when a 1d array was expected. Please change the shape of y to (n_samples, ), for example using ravel().\n",
            "  y = column_or_1d(y, warn=True)\n"
          ]
        },
        {
          "output_type": "stream",
          "name": "stdout",
          "text": [
            "                     precision    recall  f1-score   support\n",
            "\n",
            "      no_depression       0.81      0.86      0.84      1000\n",
            "possible_depression       0.33      0.32      0.33       250\n",
            "    true_depression       0.22      0.09      0.13        75\n",
            "\n",
            "           accuracy                           0.71      1325\n",
            "          macro avg       0.46      0.42      0.43      1325\n",
            "       weighted avg       0.69      0.71      0.70      1325\n",
            "\n",
            "max_features: 5000 n_gram: (1, 2)  solver: saga  tol: 0.3  C: 3  f1: 0.43148541110421995\n"
          ]
        },
        {
          "output_type": "stream",
          "name": "stderr",
          "text": [
            "/usr/local/lib/python3.10/dist-packages/sklearn/utils/validation.py:1183: DataConversionWarning: A column-vector y was passed when a 1d array was expected. Please change the shape of y to (n_samples, ), for example using ravel().\n",
            "  y = column_or_1d(y, warn=True)\n"
          ]
        },
        {
          "output_type": "stream",
          "name": "stdout",
          "text": [
            "                     precision    recall  f1-score   support\n",
            "\n",
            "      no_depression       0.84      0.74      0.79      1000\n",
            "possible_depression       0.30      0.46      0.36       250\n",
            "    true_depression       0.21      0.17      0.19        75\n",
            "\n",
            "           accuracy                           0.65      1325\n",
            "          macro avg       0.45      0.46      0.45      1325\n",
            "       weighted avg       0.70      0.65      0.67      1325\n",
            "\n",
            "max_features: 5000 n_gram: (1, 2)  solver: saga  tol: 0.3  C: 10  f1: 0.44619832963761313\n"
          ]
        },
        {
          "output_type": "stream",
          "name": "stderr",
          "text": [
            "/usr/local/lib/python3.10/dist-packages/sklearn/utils/validation.py:1183: DataConversionWarning: A column-vector y was passed when a 1d array was expected. Please change the shape of y to (n_samples, ), for example using ravel().\n",
            "  y = column_or_1d(y, warn=True)\n"
          ]
        },
        {
          "output_type": "stream",
          "name": "stdout",
          "text": [
            "                     precision    recall  f1-score   support\n",
            "\n",
            "      no_depression       0.84      0.63      0.72      1000\n",
            "possible_depression       0.22      0.03      0.06       250\n",
            "    true_depression       0.10      0.72      0.18        75\n",
            "\n",
            "           accuracy                           0.52      1325\n",
            "          macro avg       0.39      0.46      0.32      1325\n",
            "       weighted avg       0.68      0.52      0.57      1325\n",
            "\n",
            "max_features: 5000 n_gram: (1, 2)  solver: saga  tol: 3  C: 0.1  f1: 0.31829799908837664\n"
          ]
        },
        {
          "output_type": "stream",
          "name": "stderr",
          "text": [
            "/usr/local/lib/python3.10/dist-packages/sklearn/utils/validation.py:1183: DataConversionWarning: A column-vector y was passed when a 1d array was expected. Please change the shape of y to (n_samples, ), for example using ravel().\n",
            "  y = column_or_1d(y, warn=True)\n"
          ]
        },
        {
          "output_type": "stream",
          "name": "stdout",
          "text": [
            "                     precision    recall  f1-score   support\n",
            "\n",
            "      no_depression       0.78      0.94      0.85      1000\n",
            "possible_depression       0.32      0.10      0.15       250\n",
            "    true_depression       0.22      0.11      0.14        75\n",
            "\n",
            "           accuracy                           0.74      1325\n",
            "          macro avg       0.44      0.38      0.38      1325\n",
            "       weighted avg       0.66      0.74      0.68      1325\n",
            "\n",
            "max_features: 5000 n_gram: (1, 2)  solver: saga  tol: 3  C: 0.3  f1: 0.3831969524543241\n"
          ]
        },
        {
          "output_type": "stream",
          "name": "stderr",
          "text": [
            "/usr/local/lib/python3.10/dist-packages/sklearn/utils/validation.py:1183: DataConversionWarning: A column-vector y was passed when a 1d array was expected. Please change the shape of y to (n_samples, ), for example using ravel().\n",
            "  y = column_or_1d(y, warn=True)\n"
          ]
        },
        {
          "output_type": "stream",
          "name": "stdout",
          "text": [
            "                     precision    recall  f1-score   support\n",
            "\n",
            "      no_depression       0.81      0.82      0.82      1000\n",
            "possible_depression       0.29      0.32      0.31       250\n",
            "    true_depression       0.22      0.07      0.10        75\n",
            "\n",
            "           accuracy                           0.69      1325\n",
            "          macro avg       0.44      0.40      0.41      1325\n",
            "       weighted avg       0.68      0.69      0.68      1325\n",
            "\n",
            "max_features: 5000 n_gram: (1, 2)  solver: saga  tol: 3  C: 3  f1: 0.4075786042913143\n"
          ]
        },
        {
          "output_type": "stream",
          "name": "stderr",
          "text": [
            "/usr/local/lib/python3.10/dist-packages/sklearn/utils/validation.py:1183: DataConversionWarning: A column-vector y was passed when a 1d array was expected. Please change the shape of y to (n_samples, ), for example using ravel().\n",
            "  y = column_or_1d(y, warn=True)\n"
          ]
        },
        {
          "output_type": "stream",
          "name": "stdout",
          "text": [
            "                     precision    recall  f1-score   support\n",
            "\n",
            "      no_depression       0.81      0.86      0.83      1000\n",
            "possible_depression       0.34      0.32      0.33       250\n",
            "    true_depression       0.21      0.05      0.09        75\n",
            "\n",
            "           accuracy                           0.72      1325\n",
            "          macro avg       0.45      0.41      0.42      1325\n",
            "       weighted avg       0.68      0.72      0.70      1325\n",
            "\n",
            "max_features: 5000 n_gram: (1, 2)  solver: saga  tol: 3  C: 10  f1: 0.4156813821053838\n"
          ]
        },
        {
          "output_type": "stream",
          "name": "stderr",
          "text": [
            "/usr/local/lib/python3.10/dist-packages/sklearn/utils/validation.py:1183: DataConversionWarning: A column-vector y was passed when a 1d array was expected. Please change the shape of y to (n_samples, ), for example using ravel().\n",
            "  y = column_or_1d(y, warn=True)\n"
          ]
        },
        {
          "output_type": "stream",
          "name": "stdout",
          "text": [
            "                     precision    recall  f1-score   support\n",
            "\n",
            "      no_depression       0.84      0.78      0.81      1000\n",
            "possible_depression       0.33      0.40      0.36       250\n",
            "    true_depression       0.21      0.24      0.22        75\n",
            "\n",
            "           accuracy                           0.68      1325\n",
            "          macro avg       0.46      0.47      0.46      1325\n",
            "       weighted avg       0.71      0.68      0.69      1325\n",
            "\n",
            "max_features: 5000 n_gram: (1, 3)  solver: lbfgs  tol: 5  C: 0.1  f1: 0.46390505004612725\n"
          ]
        },
        {
          "output_type": "stream",
          "name": "stderr",
          "text": [
            "/usr/local/lib/python3.10/dist-packages/sklearn/utils/validation.py:1183: DataConversionWarning: A column-vector y was passed when a 1d array was expected. Please change the shape of y to (n_samples, ), for example using ravel().\n",
            "  y = column_or_1d(y, warn=True)\n"
          ]
        },
        {
          "output_type": "stream",
          "name": "stdout",
          "text": [
            "                     precision    recall  f1-score   support\n",
            "\n",
            "      no_depression       0.82      0.81      0.81      1000\n",
            "possible_depression       0.32      0.36      0.34       250\n",
            "    true_depression       0.21      0.17      0.19        75\n",
            "\n",
            "           accuracy                           0.69      1325\n",
            "          macro avg       0.45      0.45      0.45      1325\n",
            "       weighted avg       0.69      0.69      0.69      1325\n",
            "\n",
            "max_features: 5000 n_gram: (1, 3)  solver: lbfgs  tol: 5  C: 0.3  f1: 0.44856444003736745\n"
          ]
        },
        {
          "output_type": "stream",
          "name": "stderr",
          "text": [
            "/usr/local/lib/python3.10/dist-packages/sklearn/utils/validation.py:1183: DataConversionWarning: A column-vector y was passed when a 1d array was expected. Please change the shape of y to (n_samples, ), for example using ravel().\n",
            "  y = column_or_1d(y, warn=True)\n"
          ]
        },
        {
          "output_type": "stream",
          "name": "stdout",
          "text": [
            "                     precision    recall  f1-score   support\n",
            "\n",
            "      no_depression       0.82      0.82      0.82      1000\n",
            "possible_depression       0.32      0.37      0.35       250\n",
            "    true_depression       0.23      0.13      0.17        75\n",
            "\n",
            "           accuracy                           0.70      1325\n",
            "          macro avg       0.46      0.44      0.44      1325\n",
            "       weighted avg       0.70      0.70      0.69      1325\n",
            "\n",
            "max_features: 5000 n_gram: (1, 3)  solver: lbfgs  tol: 5  C: 3  f1: 0.4448883965496286\n"
          ]
        },
        {
          "output_type": "stream",
          "name": "stderr",
          "text": [
            "/usr/local/lib/python3.10/dist-packages/sklearn/utils/validation.py:1183: DataConversionWarning: A column-vector y was passed when a 1d array was expected. Please change the shape of y to (n_samples, ), for example using ravel().\n",
            "  y = column_or_1d(y, warn=True)\n"
          ]
        },
        {
          "output_type": "stream",
          "name": "stdout",
          "text": [
            "                     precision    recall  f1-score   support\n",
            "\n",
            "      no_depression       0.82      0.83      0.82      1000\n",
            "possible_depression       0.32      0.35      0.33       250\n",
            "    true_depression       0.24      0.12      0.16        75\n",
            "\n",
            "           accuracy                           0.70      1325\n",
            "          macro avg       0.46      0.43      0.44      1325\n",
            "       weighted avg       0.69      0.70      0.69      1325\n",
            "\n",
            "max_features: 5000 n_gram: (1, 3)  solver: lbfgs  tol: 5  C: 10  f1: 0.4379340240815652\n"
          ]
        },
        {
          "output_type": "stream",
          "name": "stderr",
          "text": [
            "/usr/local/lib/python3.10/dist-packages/sklearn/utils/validation.py:1183: DataConversionWarning: A column-vector y was passed when a 1d array was expected. Please change the shape of y to (n_samples, ), for example using ravel().\n",
            "  y = column_or_1d(y, warn=True)\n"
          ]
        },
        {
          "output_type": "stream",
          "name": "stdout",
          "text": [
            "                     precision    recall  f1-score   support\n",
            "\n",
            "      no_depression       0.83      0.79      0.81      1000\n",
            "possible_depression       0.33      0.39      0.36       250\n",
            "    true_depression       0.20      0.23      0.21        75\n",
            "\n",
            "           accuracy                           0.68      1325\n",
            "          macro avg       0.45      0.47      0.46      1325\n",
            "       weighted avg       0.70      0.68      0.69      1325\n",
            "\n",
            "max_features: 5000 n_gram: (1, 3)  solver: lbfgs  tol: 0.3  C: 0.1  f1: 0.45987966728558866\n"
          ]
        },
        {
          "output_type": "stream",
          "name": "stderr",
          "text": [
            "/usr/local/lib/python3.10/dist-packages/sklearn/utils/validation.py:1183: DataConversionWarning: A column-vector y was passed when a 1d array was expected. Please change the shape of y to (n_samples, ), for example using ravel().\n",
            "  y = column_or_1d(y, warn=True)\n"
          ]
        },
        {
          "output_type": "stream",
          "name": "stdout",
          "text": [
            "                     precision    recall  f1-score   support\n",
            "\n",
            "      no_depression       0.82      0.80      0.81      1000\n",
            "possible_depression       0.31      0.36      0.33       250\n",
            "    true_depression       0.21      0.17      0.19        75\n",
            "\n",
            "           accuracy                           0.68      1325\n",
            "          macro avg       0.45      0.44      0.45      1325\n",
            "       weighted avg       0.69      0.68      0.69      1325\n",
            "\n",
            "max_features: 5000 n_gram: (1, 3)  solver: lbfgs  tol: 0.3  C: 0.3  f1: 0.4450057800081515\n"
          ]
        },
        {
          "output_type": "stream",
          "name": "stderr",
          "text": [
            "/usr/local/lib/python3.10/dist-packages/sklearn/utils/validation.py:1183: DataConversionWarning: A column-vector y was passed when a 1d array was expected. Please change the shape of y to (n_samples, ), for example using ravel().\n",
            "  y = column_or_1d(y, warn=True)\n"
          ]
        },
        {
          "output_type": "stream",
          "name": "stdout",
          "text": [
            "                     precision    recall  f1-score   support\n",
            "\n",
            "      no_depression       0.82      0.83      0.82      1000\n",
            "possible_depression       0.33      0.37      0.35       250\n",
            "    true_depression       0.26      0.15      0.19        75\n",
            "\n",
            "           accuracy                           0.70      1325\n",
            "          macro avg       0.47      0.45      0.45      1325\n",
            "       weighted avg       0.70      0.70      0.70      1325\n",
            "\n",
            "max_features: 5000 n_gram: (1, 3)  solver: lbfgs  tol: 0.3  C: 3  f1: 0.4530922746187132\n"
          ]
        },
        {
          "output_type": "stream",
          "name": "stderr",
          "text": [
            "/usr/local/lib/python3.10/dist-packages/sklearn/utils/validation.py:1183: DataConversionWarning: A column-vector y was passed when a 1d array was expected. Please change the shape of y to (n_samples, ), for example using ravel().\n",
            "  y = column_or_1d(y, warn=True)\n"
          ]
        },
        {
          "output_type": "stream",
          "name": "stdout",
          "text": [
            "                     precision    recall  f1-score   support\n",
            "\n",
            "      no_depression       0.82      0.82      0.82      1000\n",
            "possible_depression       0.32      0.36      0.34       250\n",
            "    true_depression       0.26      0.12      0.17        75\n",
            "\n",
            "           accuracy                           0.70      1325\n",
            "          macro avg       0.47      0.44      0.44      1325\n",
            "       weighted avg       0.69      0.70      0.69      1325\n",
            "\n",
            "max_features: 5000 n_gram: (1, 3)  solver: lbfgs  tol: 0.3  C: 10  f1: 0.44167206263813874\n"
          ]
        },
        {
          "output_type": "stream",
          "name": "stderr",
          "text": [
            "/usr/local/lib/python3.10/dist-packages/sklearn/utils/validation.py:1183: DataConversionWarning: A column-vector y was passed when a 1d array was expected. Please change the shape of y to (n_samples, ), for example using ravel().\n",
            "  y = column_or_1d(y, warn=True)\n"
          ]
        },
        {
          "output_type": "stream",
          "name": "stdout",
          "text": [
            "                     precision    recall  f1-score   support\n",
            "\n",
            "      no_depression       0.83      0.78      0.81      1000\n",
            "possible_depression       0.32      0.39      0.35       250\n",
            "    true_depression       0.20      0.23      0.21        75\n",
            "\n",
            "           accuracy                           0.68      1325\n",
            "          macro avg       0.45      0.47      0.46      1325\n",
            "       weighted avg       0.70      0.68      0.69      1325\n",
            "\n",
            "max_features: 5000 n_gram: (1, 3)  solver: lbfgs  tol: 3  C: 0.1  f1: 0.45790025938219364\n"
          ]
        },
        {
          "output_type": "stream",
          "name": "stderr",
          "text": [
            "/usr/local/lib/python3.10/dist-packages/sklearn/utils/validation.py:1183: DataConversionWarning: A column-vector y was passed when a 1d array was expected. Please change the shape of y to (n_samples, ), for example using ravel().\n",
            "  y = column_or_1d(y, warn=True)\n"
          ]
        },
        {
          "output_type": "stream",
          "name": "stdout",
          "text": [
            "                     precision    recall  f1-score   support\n",
            "\n",
            "      no_depression       0.82      0.81      0.81      1000\n",
            "possible_depression       0.32      0.36      0.34       250\n",
            "    true_depression       0.21      0.17      0.19        75\n",
            "\n",
            "           accuracy                           0.69      1325\n",
            "          macro avg       0.45      0.45      0.45      1325\n",
            "       weighted avg       0.69      0.69      0.69      1325\n",
            "\n",
            "max_features: 5000 n_gram: (1, 3)  solver: lbfgs  tol: 3  C: 0.3  f1: 0.44856444003736745\n"
          ]
        },
        {
          "output_type": "stream",
          "name": "stderr",
          "text": [
            "/usr/local/lib/python3.10/dist-packages/sklearn/utils/validation.py:1183: DataConversionWarning: A column-vector y was passed when a 1d array was expected. Please change the shape of y to (n_samples, ), for example using ravel().\n",
            "  y = column_or_1d(y, warn=True)\n"
          ]
        },
        {
          "output_type": "stream",
          "name": "stdout",
          "text": [
            "                     precision    recall  f1-score   support\n",
            "\n",
            "      no_depression       0.83      0.83      0.83      1000\n",
            "possible_depression       0.34      0.38      0.36       250\n",
            "    true_depression       0.25      0.15      0.18        75\n",
            "\n",
            "           accuracy                           0.71      1325\n",
            "          macro avg       0.47      0.45      0.46      1325\n",
            "       weighted avg       0.70      0.71      0.70      1325\n",
            "\n",
            "max_features: 5000 n_gram: (1, 3)  solver: lbfgs  tol: 3  C: 3  f1: 0.4582414358065934\n"
          ]
        },
        {
          "output_type": "stream",
          "name": "stderr",
          "text": [
            "/usr/local/lib/python3.10/dist-packages/sklearn/utils/validation.py:1183: DataConversionWarning: A column-vector y was passed when a 1d array was expected. Please change the shape of y to (n_samples, ), for example using ravel().\n",
            "  y = column_or_1d(y, warn=True)\n"
          ]
        },
        {
          "output_type": "stream",
          "name": "stdout",
          "text": [
            "                     precision    recall  f1-score   support\n",
            "\n",
            "      no_depression       0.82      0.83      0.82      1000\n",
            "possible_depression       0.32      0.35      0.33       250\n",
            "    true_depression       0.24      0.12      0.16        75\n",
            "\n",
            "           accuracy                           0.70      1325\n",
            "          macro avg       0.46      0.43      0.44      1325\n",
            "       weighted avg       0.69      0.70      0.69      1325\n",
            "\n",
            "max_features: 5000 n_gram: (1, 3)  solver: lbfgs  tol: 3  C: 10  f1: 0.4379340240815652\n"
          ]
        },
        {
          "output_type": "stream",
          "name": "stderr",
          "text": [
            "/usr/local/lib/python3.10/dist-packages/sklearn/utils/validation.py:1183: DataConversionWarning: A column-vector y was passed when a 1d array was expected. Please change the shape of y to (n_samples, ), for example using ravel().\n",
            "  y = column_or_1d(y, warn=True)\n",
            "/usr/local/lib/python3.10/dist-packages/sklearn/metrics/_classification.py:1471: UndefinedMetricWarning: Precision and F-score are ill-defined and being set to 0.0 in labels with no predicted samples. Use `zero_division` parameter to control this behavior.\n",
            "  _warn_prf(average, modifier, msg_start, len(result))\n",
            "/usr/local/lib/python3.10/dist-packages/sklearn/metrics/_classification.py:1471: UndefinedMetricWarning: Precision and F-score are ill-defined and being set to 0.0 in labels with no predicted samples. Use `zero_division` parameter to control this behavior.\n",
            "  _warn_prf(average, modifier, msg_start, len(result))\n",
            "/usr/local/lib/python3.10/dist-packages/sklearn/metrics/_classification.py:1471: UndefinedMetricWarning: Precision and F-score are ill-defined and being set to 0.0 in labels with no predicted samples. Use `zero_division` parameter to control this behavior.\n",
            "  _warn_prf(average, modifier, msg_start, len(result))\n"
          ]
        },
        {
          "output_type": "stream",
          "name": "stdout",
          "text": [
            "                     precision    recall  f1-score   support\n",
            "\n",
            "      no_depression       0.75      1.00      0.86      1000\n",
            "possible_depression       0.00      0.00      0.00       250\n",
            "    true_depression       0.00      0.00      0.00        75\n",
            "\n",
            "           accuracy                           0.75      1325\n",
            "          macro avg       0.25      0.33      0.29      1325\n",
            "       weighted avg       0.57      0.75      0.65      1325\n",
            "\n",
            "max_features: 5000 n_gram: (1, 3)  solver: liblinear  tol: 5  C: 0.1  f1: 0.2867383512544803\n"
          ]
        },
        {
          "output_type": "stream",
          "name": "stderr",
          "text": [
            "/usr/local/lib/python3.10/dist-packages/sklearn/utils/validation.py:1183: DataConversionWarning: A column-vector y was passed when a 1d array was expected. Please change the shape of y to (n_samples, ), for example using ravel().\n",
            "  y = column_or_1d(y, warn=True)\n",
            "/usr/local/lib/python3.10/dist-packages/sklearn/metrics/_classification.py:1471: UndefinedMetricWarning: Precision and F-score are ill-defined and being set to 0.0 in labels with no predicted samples. Use `zero_division` parameter to control this behavior.\n",
            "  _warn_prf(average, modifier, msg_start, len(result))\n",
            "/usr/local/lib/python3.10/dist-packages/sklearn/metrics/_classification.py:1471: UndefinedMetricWarning: Precision and F-score are ill-defined and being set to 0.0 in labels with no predicted samples. Use `zero_division` parameter to control this behavior.\n",
            "  _warn_prf(average, modifier, msg_start, len(result))\n",
            "/usr/local/lib/python3.10/dist-packages/sklearn/metrics/_classification.py:1471: UndefinedMetricWarning: Precision and F-score are ill-defined and being set to 0.0 in labels with no predicted samples. Use `zero_division` parameter to control this behavior.\n",
            "  _warn_prf(average, modifier, msg_start, len(result))\n"
          ]
        },
        {
          "output_type": "stream",
          "name": "stdout",
          "text": [
            "                     precision    recall  f1-score   support\n",
            "\n",
            "      no_depression       0.75      1.00      0.86      1000\n",
            "possible_depression       0.00      0.00      0.00       250\n",
            "    true_depression       0.00      0.00      0.00        75\n",
            "\n",
            "           accuracy                           0.75      1325\n",
            "          macro avg       0.25      0.33      0.29      1325\n",
            "       weighted avg       0.57      0.75      0.65      1325\n",
            "\n",
            "max_features: 5000 n_gram: (1, 3)  solver: liblinear  tol: 5  C: 0.3  f1: 0.2867383512544803\n"
          ]
        },
        {
          "output_type": "stream",
          "name": "stderr",
          "text": [
            "/usr/local/lib/python3.10/dist-packages/sklearn/utils/validation.py:1183: DataConversionWarning: A column-vector y was passed when a 1d array was expected. Please change the shape of y to (n_samples, ), for example using ravel().\n",
            "  y = column_or_1d(y, warn=True)\n",
            "/usr/local/lib/python3.10/dist-packages/sklearn/metrics/_classification.py:1471: UndefinedMetricWarning: Precision and F-score are ill-defined and being set to 0.0 in labels with no predicted samples. Use `zero_division` parameter to control this behavior.\n",
            "  _warn_prf(average, modifier, msg_start, len(result))\n",
            "/usr/local/lib/python3.10/dist-packages/sklearn/metrics/_classification.py:1471: UndefinedMetricWarning: Precision and F-score are ill-defined and being set to 0.0 in labels with no predicted samples. Use `zero_division` parameter to control this behavior.\n",
            "  _warn_prf(average, modifier, msg_start, len(result))\n",
            "/usr/local/lib/python3.10/dist-packages/sklearn/metrics/_classification.py:1471: UndefinedMetricWarning: Precision and F-score are ill-defined and being set to 0.0 in labels with no predicted samples. Use `zero_division` parameter to control this behavior.\n",
            "  _warn_prf(average, modifier, msg_start, len(result))\n"
          ]
        },
        {
          "output_type": "stream",
          "name": "stdout",
          "text": [
            "                     precision    recall  f1-score   support\n",
            "\n",
            "      no_depression       0.75      1.00      0.86      1000\n",
            "possible_depression       0.00      0.00      0.00       250\n",
            "    true_depression       0.00      0.00      0.00        75\n",
            "\n",
            "           accuracy                           0.75      1325\n",
            "          macro avg       0.25      0.33      0.29      1325\n",
            "       weighted avg       0.57      0.75      0.65      1325\n",
            "\n",
            "max_features: 5000 n_gram: (1, 3)  solver: liblinear  tol: 5  C: 3  f1: 0.2867383512544803\n"
          ]
        },
        {
          "output_type": "stream",
          "name": "stderr",
          "text": [
            "/usr/local/lib/python3.10/dist-packages/sklearn/utils/validation.py:1183: DataConversionWarning: A column-vector y was passed when a 1d array was expected. Please change the shape of y to (n_samples, ), for example using ravel().\n",
            "  y = column_or_1d(y, warn=True)\n",
            "/usr/local/lib/python3.10/dist-packages/sklearn/metrics/_classification.py:1471: UndefinedMetricWarning: Precision and F-score are ill-defined and being set to 0.0 in labels with no predicted samples. Use `zero_division` parameter to control this behavior.\n",
            "  _warn_prf(average, modifier, msg_start, len(result))\n",
            "/usr/local/lib/python3.10/dist-packages/sklearn/metrics/_classification.py:1471: UndefinedMetricWarning: Precision and F-score are ill-defined and being set to 0.0 in labels with no predicted samples. Use `zero_division` parameter to control this behavior.\n",
            "  _warn_prf(average, modifier, msg_start, len(result))\n",
            "/usr/local/lib/python3.10/dist-packages/sklearn/metrics/_classification.py:1471: UndefinedMetricWarning: Precision and F-score are ill-defined and being set to 0.0 in labels with no predicted samples. Use `zero_division` parameter to control this behavior.\n",
            "  _warn_prf(average, modifier, msg_start, len(result))\n"
          ]
        },
        {
          "output_type": "stream",
          "name": "stdout",
          "text": [
            "                     precision    recall  f1-score   support\n",
            "\n",
            "      no_depression       0.75      1.00      0.86      1000\n",
            "possible_depression       0.00      0.00      0.00       250\n",
            "    true_depression       0.00      0.00      0.00        75\n",
            "\n",
            "           accuracy                           0.75      1325\n",
            "          macro avg       0.25      0.33      0.29      1325\n",
            "       weighted avg       0.57      0.75      0.65      1325\n",
            "\n",
            "max_features: 5000 n_gram: (1, 3)  solver: liblinear  tol: 5  C: 10  f1: 0.2867383512544803\n"
          ]
        },
        {
          "output_type": "stream",
          "name": "stderr",
          "text": [
            "/usr/local/lib/python3.10/dist-packages/sklearn/utils/validation.py:1183: DataConversionWarning: A column-vector y was passed when a 1d array was expected. Please change the shape of y to (n_samples, ), for example using ravel().\n",
            "  y = column_or_1d(y, warn=True)\n"
          ]
        },
        {
          "output_type": "stream",
          "name": "stdout",
          "text": [
            "                     precision    recall  f1-score   support\n",
            "\n",
            "      no_depression       0.84      0.76      0.80      1000\n",
            "possible_depression       0.32      0.42      0.36       250\n",
            "    true_depression       0.20      0.25      0.22        75\n",
            "\n",
            "           accuracy                           0.67      1325\n",
            "          macro avg       0.45      0.48      0.46      1325\n",
            "       weighted avg       0.70      0.67      0.68      1325\n",
            "\n",
            "max_features: 5000 n_gram: (1, 3)  solver: liblinear  tol: 0.3  C: 0.1  f1: 0.4614437441643324\n"
          ]
        },
        {
          "output_type": "stream",
          "name": "stderr",
          "text": [
            "/usr/local/lib/python3.10/dist-packages/sklearn/utils/validation.py:1183: DataConversionWarning: A column-vector y was passed when a 1d array was expected. Please change the shape of y to (n_samples, ), for example using ravel().\n",
            "  y = column_or_1d(y, warn=True)\n"
          ]
        },
        {
          "output_type": "stream",
          "name": "stdout",
          "text": [
            "                     precision    recall  f1-score   support\n",
            "\n",
            "      no_depression       0.83      0.80      0.81      1000\n",
            "possible_depression       0.35      0.38      0.36       250\n",
            "    true_depression       0.20      0.24      0.22        75\n",
            "\n",
            "           accuracy                           0.69      1325\n",
            "          macro avg       0.46      0.47      0.47      1325\n",
            "       weighted avg       0.70      0.69      0.70      1325\n",
            "\n",
            "max_features: 5000 n_gram: (1, 3)  solver: liblinear  tol: 0.3  C: 0.3  f1: 0.46522253336310665\n"
          ]
        },
        {
          "output_type": "stream",
          "name": "stderr",
          "text": [
            "/usr/local/lib/python3.10/dist-packages/sklearn/utils/validation.py:1183: DataConversionWarning: A column-vector y was passed when a 1d array was expected. Please change the shape of y to (n_samples, ), for example using ravel().\n",
            "  y = column_or_1d(y, warn=True)\n"
          ]
        },
        {
          "output_type": "stream",
          "name": "stdout",
          "text": [
            "                     precision    recall  f1-score   support\n",
            "\n",
            "      no_depression       0.84      0.78      0.81      1000\n",
            "possible_depression       0.34      0.44      0.39       250\n",
            "    true_depression       0.17      0.19      0.18        75\n",
            "\n",
            "           accuracy                           0.68      1325\n",
            "          macro avg       0.45      0.47      0.46      1325\n",
            "       weighted avg       0.71      0.68      0.69      1325\n",
            "\n",
            "max_features: 5000 n_gram: (1, 3)  solver: liblinear  tol: 0.3  C: 3  f1: 0.45792472604645856\n"
          ]
        },
        {
          "output_type": "stream",
          "name": "stderr",
          "text": [
            "/usr/local/lib/python3.10/dist-packages/sklearn/utils/validation.py:1183: DataConversionWarning: A column-vector y was passed when a 1d array was expected. Please change the shape of y to (n_samples, ), for example using ravel().\n",
            "  y = column_or_1d(y, warn=True)\n"
          ]
        },
        {
          "output_type": "stream",
          "name": "stdout",
          "text": [
            "                     precision    recall  f1-score   support\n",
            "\n",
            "      no_depression       0.84      0.78      0.81      1000\n",
            "possible_depression       0.33      0.43      0.37       250\n",
            "    true_depression       0.19      0.16      0.18        75\n",
            "\n",
            "           accuracy                           0.68      1325\n",
            "          macro avg       0.45      0.46      0.45      1325\n",
            "       weighted avg       0.70      0.68      0.69      1325\n",
            "\n",
            "max_features: 5000 n_gram: (1, 3)  solver: liblinear  tol: 0.3  C: 10  f1: 0.4519640033931927\n"
          ]
        },
        {
          "output_type": "stream",
          "name": "stderr",
          "text": [
            "/usr/local/lib/python3.10/dist-packages/sklearn/utils/validation.py:1183: DataConversionWarning: A column-vector y was passed when a 1d array was expected. Please change the shape of y to (n_samples, ), for example using ravel().\n",
            "  y = column_or_1d(y, warn=True)\n",
            "/usr/local/lib/python3.10/dist-packages/sklearn/metrics/_classification.py:1471: UndefinedMetricWarning: Precision and F-score are ill-defined and being set to 0.0 in labels with no predicted samples. Use `zero_division` parameter to control this behavior.\n",
            "  _warn_prf(average, modifier, msg_start, len(result))\n",
            "/usr/local/lib/python3.10/dist-packages/sklearn/metrics/_classification.py:1471: UndefinedMetricWarning: Precision and F-score are ill-defined and being set to 0.0 in labels with no predicted samples. Use `zero_division` parameter to control this behavior.\n",
            "  _warn_prf(average, modifier, msg_start, len(result))\n",
            "/usr/local/lib/python3.10/dist-packages/sklearn/metrics/_classification.py:1471: UndefinedMetricWarning: Precision and F-score are ill-defined and being set to 0.0 in labels with no predicted samples. Use `zero_division` parameter to control this behavior.\n",
            "  _warn_prf(average, modifier, msg_start, len(result))\n"
          ]
        },
        {
          "output_type": "stream",
          "name": "stdout",
          "text": [
            "                     precision    recall  f1-score   support\n",
            "\n",
            "      no_depression       0.75      1.00      0.86      1000\n",
            "possible_depression       0.00      0.00      0.00       250\n",
            "    true_depression       0.00      0.00      0.00        75\n",
            "\n",
            "           accuracy                           0.75      1325\n",
            "          macro avg       0.25      0.33      0.29      1325\n",
            "       weighted avg       0.57      0.75      0.65      1325\n",
            "\n",
            "max_features: 5000 n_gram: (1, 3)  solver: liblinear  tol: 3  C: 0.1  f1: 0.2867383512544803\n"
          ]
        },
        {
          "output_type": "stream",
          "name": "stderr",
          "text": [
            "/usr/local/lib/python3.10/dist-packages/sklearn/utils/validation.py:1183: DataConversionWarning: A column-vector y was passed when a 1d array was expected. Please change the shape of y to (n_samples, ), for example using ravel().\n",
            "  y = column_or_1d(y, warn=True)\n",
            "/usr/local/lib/python3.10/dist-packages/sklearn/metrics/_classification.py:1471: UndefinedMetricWarning: Precision and F-score are ill-defined and being set to 0.0 in labels with no predicted samples. Use `zero_division` parameter to control this behavior.\n",
            "  _warn_prf(average, modifier, msg_start, len(result))\n",
            "/usr/local/lib/python3.10/dist-packages/sklearn/metrics/_classification.py:1471: UndefinedMetricWarning: Precision and F-score are ill-defined and being set to 0.0 in labels with no predicted samples. Use `zero_division` parameter to control this behavior.\n",
            "  _warn_prf(average, modifier, msg_start, len(result))\n",
            "/usr/local/lib/python3.10/dist-packages/sklearn/metrics/_classification.py:1471: UndefinedMetricWarning: Precision and F-score are ill-defined and being set to 0.0 in labels with no predicted samples. Use `zero_division` parameter to control this behavior.\n",
            "  _warn_prf(average, modifier, msg_start, len(result))\n"
          ]
        },
        {
          "output_type": "stream",
          "name": "stdout",
          "text": [
            "                     precision    recall  f1-score   support\n",
            "\n",
            "      no_depression       0.75      1.00      0.86      1000\n",
            "possible_depression       0.00      0.00      0.00       250\n",
            "    true_depression       0.00      0.00      0.00        75\n",
            "\n",
            "           accuracy                           0.75      1325\n",
            "          macro avg       0.25      0.33      0.29      1325\n",
            "       weighted avg       0.57      0.75      0.65      1325\n",
            "\n",
            "max_features: 5000 n_gram: (1, 3)  solver: liblinear  tol: 3  C: 0.3  f1: 0.2867383512544803\n"
          ]
        },
        {
          "output_type": "stream",
          "name": "stderr",
          "text": [
            "/usr/local/lib/python3.10/dist-packages/sklearn/utils/validation.py:1183: DataConversionWarning: A column-vector y was passed when a 1d array was expected. Please change the shape of y to (n_samples, ), for example using ravel().\n",
            "  y = column_or_1d(y, warn=True)\n",
            "/usr/local/lib/python3.10/dist-packages/sklearn/metrics/_classification.py:1471: UndefinedMetricWarning: Precision and F-score are ill-defined and being set to 0.0 in labels with no predicted samples. Use `zero_division` parameter to control this behavior.\n",
            "  _warn_prf(average, modifier, msg_start, len(result))\n",
            "/usr/local/lib/python3.10/dist-packages/sklearn/metrics/_classification.py:1471: UndefinedMetricWarning: Precision and F-score are ill-defined and being set to 0.0 in labels with no predicted samples. Use `zero_division` parameter to control this behavior.\n",
            "  _warn_prf(average, modifier, msg_start, len(result))\n",
            "/usr/local/lib/python3.10/dist-packages/sklearn/metrics/_classification.py:1471: UndefinedMetricWarning: Precision and F-score are ill-defined and being set to 0.0 in labels with no predicted samples. Use `zero_division` parameter to control this behavior.\n",
            "  _warn_prf(average, modifier, msg_start, len(result))\n"
          ]
        },
        {
          "output_type": "stream",
          "name": "stdout",
          "text": [
            "                     precision    recall  f1-score   support\n",
            "\n",
            "      no_depression       0.75      1.00      0.86      1000\n",
            "possible_depression       0.00      0.00      0.00       250\n",
            "    true_depression       0.00      0.00      0.00        75\n",
            "\n",
            "           accuracy                           0.75      1325\n",
            "          macro avg       0.25      0.33      0.29      1325\n",
            "       weighted avg       0.57      0.75      0.65      1325\n",
            "\n",
            "max_features: 5000 n_gram: (1, 3)  solver: liblinear  tol: 3  C: 3  f1: 0.2867383512544803\n"
          ]
        },
        {
          "output_type": "stream",
          "name": "stderr",
          "text": [
            "/usr/local/lib/python3.10/dist-packages/sklearn/utils/validation.py:1183: DataConversionWarning: A column-vector y was passed when a 1d array was expected. Please change the shape of y to (n_samples, ), for example using ravel().\n",
            "  y = column_or_1d(y, warn=True)\n",
            "/usr/local/lib/python3.10/dist-packages/sklearn/metrics/_classification.py:1471: UndefinedMetricWarning: Precision and F-score are ill-defined and being set to 0.0 in labels with no predicted samples. Use `zero_division` parameter to control this behavior.\n",
            "  _warn_prf(average, modifier, msg_start, len(result))\n",
            "/usr/local/lib/python3.10/dist-packages/sklearn/metrics/_classification.py:1471: UndefinedMetricWarning: Precision and F-score are ill-defined and being set to 0.0 in labels with no predicted samples. Use `zero_division` parameter to control this behavior.\n",
            "  _warn_prf(average, modifier, msg_start, len(result))\n",
            "/usr/local/lib/python3.10/dist-packages/sklearn/metrics/_classification.py:1471: UndefinedMetricWarning: Precision and F-score are ill-defined and being set to 0.0 in labels with no predicted samples. Use `zero_division` parameter to control this behavior.\n",
            "  _warn_prf(average, modifier, msg_start, len(result))\n"
          ]
        },
        {
          "output_type": "stream",
          "name": "stdout",
          "text": [
            "                     precision    recall  f1-score   support\n",
            "\n",
            "      no_depression       0.75      1.00      0.86      1000\n",
            "possible_depression       0.00      0.00      0.00       250\n",
            "    true_depression       0.00      0.00      0.00        75\n",
            "\n",
            "           accuracy                           0.75      1325\n",
            "          macro avg       0.25      0.33      0.29      1325\n",
            "       weighted avg       0.57      0.75      0.65      1325\n",
            "\n",
            "max_features: 5000 n_gram: (1, 3)  solver: liblinear  tol: 3  C: 10  f1: 0.2867383512544803\n"
          ]
        },
        {
          "output_type": "stream",
          "name": "stderr",
          "text": [
            "/usr/local/lib/python3.10/dist-packages/sklearn/utils/validation.py:1183: DataConversionWarning: A column-vector y was passed when a 1d array was expected. Please change the shape of y to (n_samples, ), for example using ravel().\n",
            "  y = column_or_1d(y, warn=True)\n"
          ]
        },
        {
          "output_type": "stream",
          "name": "stdout",
          "text": [
            "                     precision    recall  f1-score   support\n",
            "\n",
            "      no_depression       0.83      0.79      0.81      1000\n",
            "possible_depression       0.33      0.39      0.36       250\n",
            "    true_depression       0.19      0.21      0.20        75\n",
            "\n",
            "           accuracy                           0.68      1325\n",
            "          macro avg       0.45      0.46      0.46      1325\n",
            "       weighted avg       0.70      0.68      0.69      1325\n",
            "\n",
            "max_features: 5000 n_gram: (1, 3)  solver: newton-cg  tol: 5  C: 0.1  f1: 0.45569585232923976\n"
          ]
        },
        {
          "output_type": "stream",
          "name": "stderr",
          "text": [
            "/usr/local/lib/python3.10/dist-packages/sklearn/utils/validation.py:1183: DataConversionWarning: A column-vector y was passed when a 1d array was expected. Please change the shape of y to (n_samples, ), for example using ravel().\n",
            "  y = column_or_1d(y, warn=True)\n"
          ]
        },
        {
          "output_type": "stream",
          "name": "stdout",
          "text": [
            "                     precision    recall  f1-score   support\n",
            "\n",
            "      no_depression       0.82      0.80      0.81      1000\n",
            "possible_depression       0.31      0.36      0.33       250\n",
            "    true_depression       0.20      0.17      0.19        75\n",
            "\n",
            "           accuracy                           0.68      1325\n",
            "          macro avg       0.45      0.44      0.44      1325\n",
            "       weighted avg       0.69      0.68      0.69      1325\n",
            "\n",
            "max_features: 5000 n_gram: (1, 3)  solver: newton-cg  tol: 5  C: 0.3  f1: 0.4437934441268834\n"
          ]
        },
        {
          "output_type": "stream",
          "name": "stderr",
          "text": [
            "/usr/local/lib/python3.10/dist-packages/sklearn/utils/validation.py:1183: DataConversionWarning: A column-vector y was passed when a 1d array was expected. Please change the shape of y to (n_samples, ), for example using ravel().\n",
            "  y = column_or_1d(y, warn=True)\n"
          ]
        },
        {
          "output_type": "stream",
          "name": "stdout",
          "text": [
            "                     precision    recall  f1-score   support\n",
            "\n",
            "      no_depression       0.82      0.83      0.83      1000\n",
            "possible_depression       0.33      0.37      0.35       250\n",
            "    true_depression       0.26      0.15      0.19        75\n",
            "\n",
            "           accuracy                           0.70      1325\n",
            "          macro avg       0.47      0.45      0.46      1325\n",
            "       weighted avg       0.70      0.70      0.70      1325\n",
            "\n",
            "max_features: 5000 n_gram: (1, 3)  solver: newton-cg  tol: 5  C: 3  f1: 0.45532943290547173\n"
          ]
        },
        {
          "output_type": "stream",
          "name": "stderr",
          "text": [
            "/usr/local/lib/python3.10/dist-packages/sklearn/utils/validation.py:1183: DataConversionWarning: A column-vector y was passed when a 1d array was expected. Please change the shape of y to (n_samples, ), for example using ravel().\n",
            "  y = column_or_1d(y, warn=True)\n"
          ]
        },
        {
          "output_type": "stream",
          "name": "stdout",
          "text": [
            "                     precision    recall  f1-score   support\n",
            "\n",
            "      no_depression       0.82      0.83      0.82      1000\n",
            "possible_depression       0.32      0.36      0.34       250\n",
            "    true_depression       0.25      0.12      0.16        75\n",
            "\n",
            "           accuracy                           0.70      1325\n",
            "          macro avg       0.46      0.43      0.44      1325\n",
            "       weighted avg       0.69      0.70      0.69      1325\n",
            "\n",
            "max_features: 5000 n_gram: (1, 3)  solver: newton-cg  tol: 5  C: 10  f1: 0.4402550747031104\n"
          ]
        },
        {
          "output_type": "stream",
          "name": "stderr",
          "text": [
            "/usr/local/lib/python3.10/dist-packages/sklearn/utils/validation.py:1183: DataConversionWarning: A column-vector y was passed when a 1d array was expected. Please change the shape of y to (n_samples, ), for example using ravel().\n",
            "  y = column_or_1d(y, warn=True)\n"
          ]
        },
        {
          "output_type": "stream",
          "name": "stdout",
          "text": [
            "                     precision    recall  f1-score   support\n",
            "\n",
            "      no_depression       0.83      0.79      0.81      1000\n",
            "possible_depression       0.33      0.39      0.36       250\n",
            "    true_depression       0.20      0.23      0.21        75\n",
            "\n",
            "           accuracy                           0.68      1325\n",
            "          macro avg       0.45      0.47      0.46      1325\n",
            "       weighted avg       0.70      0.68      0.69      1325\n",
            "\n",
            "max_features: 5000 n_gram: (1, 3)  solver: newton-cg  tol: 0.3  C: 0.1  f1: 0.45945805403295203\n"
          ]
        },
        {
          "output_type": "stream",
          "name": "stderr",
          "text": [
            "/usr/local/lib/python3.10/dist-packages/sklearn/utils/validation.py:1183: DataConversionWarning: A column-vector y was passed when a 1d array was expected. Please change the shape of y to (n_samples, ), for example using ravel().\n",
            "  y = column_or_1d(y, warn=True)\n"
          ]
        },
        {
          "output_type": "stream",
          "name": "stdout",
          "text": [
            "                     precision    recall  f1-score   support\n",
            "\n",
            "      no_depression       0.82      0.80      0.81      1000\n",
            "possible_depression       0.31      0.36      0.33       250\n",
            "    true_depression       0.21      0.17      0.19        75\n",
            "\n",
            "           accuracy                           0.68      1325\n",
            "          macro avg       0.45      0.44      0.44      1325\n",
            "       weighted avg       0.69      0.68      0.69      1325\n",
            "\n",
            "max_features: 5000 n_gram: (1, 3)  solver: newton-cg  tol: 0.3  C: 0.3  f1: 0.44475351050883\n"
          ]
        },
        {
          "output_type": "stream",
          "name": "stderr",
          "text": [
            "/usr/local/lib/python3.10/dist-packages/sklearn/utils/validation.py:1183: DataConversionWarning: A column-vector y was passed when a 1d array was expected. Please change the shape of y to (n_samples, ), for example using ravel().\n",
            "  y = column_or_1d(y, warn=True)\n"
          ]
        },
        {
          "output_type": "stream",
          "name": "stdout",
          "text": [
            "                     precision    recall  f1-score   support\n",
            "\n",
            "      no_depression       0.82      0.82      0.82      1000\n",
            "possible_depression       0.33      0.37      0.35       250\n",
            "    true_depression       0.26      0.15      0.19        75\n",
            "\n",
            "           accuracy                           0.70      1325\n",
            "          macro avg       0.47      0.45      0.45      1325\n",
            "       weighted avg       0.70      0.70      0.70      1325\n",
            "\n",
            "max_features: 5000 n_gram: (1, 3)  solver: newton-cg  tol: 0.3  C: 3  f1: 0.4526770394641395\n"
          ]
        },
        {
          "output_type": "stream",
          "name": "stderr",
          "text": [
            "/usr/local/lib/python3.10/dist-packages/sklearn/utils/validation.py:1183: DataConversionWarning: A column-vector y was passed when a 1d array was expected. Please change the shape of y to (n_samples, ), for example using ravel().\n",
            "  y = column_or_1d(y, warn=True)\n"
          ]
        },
        {
          "output_type": "stream",
          "name": "stdout",
          "text": [
            "                     precision    recall  f1-score   support\n",
            "\n",
            "      no_depression       0.82      0.83      0.82      1000\n",
            "possible_depression       0.32      0.36      0.34       250\n",
            "    true_depression       0.26      0.12      0.17        75\n",
            "\n",
            "           accuracy                           0.70      1325\n",
            "          macro avg       0.47      0.44      0.44      1325\n",
            "       weighted avg       0.69      0.70      0.69      1325\n",
            "\n",
            "max_features: 5000 n_gram: (1, 3)  solver: newton-cg  tol: 0.3  C: 10  f1: 0.44212314687436693\n"
          ]
        },
        {
          "output_type": "stream",
          "name": "stderr",
          "text": [
            "/usr/local/lib/python3.10/dist-packages/sklearn/utils/validation.py:1183: DataConversionWarning: A column-vector y was passed when a 1d array was expected. Please change the shape of y to (n_samples, ), for example using ravel().\n",
            "  y = column_or_1d(y, warn=True)\n"
          ]
        },
        {
          "output_type": "stream",
          "name": "stdout",
          "text": [
            "                     precision    recall  f1-score   support\n",
            "\n",
            "      no_depression       0.83      0.79      0.81      1000\n",
            "possible_depression       0.33      0.39      0.36       250\n",
            "    true_depression       0.19      0.21      0.20        75\n",
            "\n",
            "           accuracy                           0.68      1325\n",
            "          macro avg       0.45      0.46      0.46      1325\n",
            "       weighted avg       0.70      0.68      0.69      1325\n",
            "\n",
            "max_features: 5000 n_gram: (1, 3)  solver: newton-cg  tol: 3  C: 0.1  f1: 0.45569585232923976\n"
          ]
        },
        {
          "output_type": "stream",
          "name": "stderr",
          "text": [
            "/usr/local/lib/python3.10/dist-packages/sklearn/utils/validation.py:1183: DataConversionWarning: A column-vector y was passed when a 1d array was expected. Please change the shape of y to (n_samples, ), for example using ravel().\n",
            "  y = column_or_1d(y, warn=True)\n"
          ]
        },
        {
          "output_type": "stream",
          "name": "stdout",
          "text": [
            "                     precision    recall  f1-score   support\n",
            "\n",
            "      no_depression       0.82      0.80      0.81      1000\n",
            "possible_depression       0.31      0.36      0.33       250\n",
            "    true_depression       0.20      0.17      0.19        75\n",
            "\n",
            "           accuracy                           0.68      1325\n",
            "          macro avg       0.45      0.44      0.44      1325\n",
            "       weighted avg       0.69      0.68      0.69      1325\n",
            "\n",
            "max_features: 5000 n_gram: (1, 3)  solver: newton-cg  tol: 3  C: 0.3  f1: 0.4437934441268834\n"
          ]
        },
        {
          "output_type": "stream",
          "name": "stderr",
          "text": [
            "/usr/local/lib/python3.10/dist-packages/sklearn/utils/validation.py:1183: DataConversionWarning: A column-vector y was passed when a 1d array was expected. Please change the shape of y to (n_samples, ), for example using ravel().\n",
            "  y = column_or_1d(y, warn=True)\n"
          ]
        },
        {
          "output_type": "stream",
          "name": "stdout",
          "text": [
            "                     precision    recall  f1-score   support\n",
            "\n",
            "      no_depression       0.83      0.83      0.83      1000\n",
            "possible_depression       0.34      0.38      0.36       250\n",
            "    true_depression       0.25      0.13      0.17        75\n",
            "\n",
            "           accuracy                           0.70      1325\n",
            "          macro avg       0.47      0.45      0.45      1325\n",
            "       weighted avg       0.70      0.70      0.70      1325\n",
            "\n",
            "max_features: 5000 n_gram: (1, 3)  solver: newton-cg  tol: 3  C: 3  f1: 0.45293051605038603\n"
          ]
        },
        {
          "output_type": "stream",
          "name": "stderr",
          "text": [
            "/usr/local/lib/python3.10/dist-packages/sklearn/utils/validation.py:1183: DataConversionWarning: A column-vector y was passed when a 1d array was expected. Please change the shape of y to (n_samples, ), for example using ravel().\n",
            "  y = column_or_1d(y, warn=True)\n"
          ]
        },
        {
          "output_type": "stream",
          "name": "stdout",
          "text": [
            "                     precision    recall  f1-score   support\n",
            "\n",
            "      no_depression       0.82      0.82      0.82      1000\n",
            "possible_depression       0.32      0.36      0.34       250\n",
            "    true_depression       0.26      0.12      0.17        75\n",
            "\n",
            "           accuracy                           0.70      1325\n",
            "          macro avg       0.47      0.43      0.44      1325\n",
            "       weighted avg       0.69      0.70      0.69      1325\n",
            "\n",
            "max_features: 5000 n_gram: (1, 3)  solver: newton-cg  tol: 3  C: 10  f1: 0.4404913303413649\n"
          ]
        },
        {
          "output_type": "stream",
          "name": "stderr",
          "text": [
            "/usr/local/lib/python3.10/dist-packages/sklearn/utils/validation.py:1183: DataConversionWarning: A column-vector y was passed when a 1d array was expected. Please change the shape of y to (n_samples, ), for example using ravel().\n",
            "  y = column_or_1d(y, warn=True)\n"
          ]
        },
        {
          "output_type": "stream",
          "name": "stdout",
          "text": [
            "                     precision    recall  f1-score   support\n",
            "\n",
            "      no_depression       0.82      0.81      0.81      1000\n",
            "possible_depression       0.32      0.31      0.32       250\n",
            "    true_depression       0.22      0.29      0.25        75\n",
            "\n",
            "           accuracy                           0.68      1325\n",
            "          macro avg       0.45      0.47      0.46      1325\n",
            "       weighted avg       0.69      0.68      0.69      1325\n",
            "\n",
            "max_features: 5000 n_gram: (1, 3)  solver: newton-cholesky  tol: 5  C: 0.1  f1: 0.4597169561135043\n"
          ]
        },
        {
          "output_type": "stream",
          "name": "stderr",
          "text": [
            "/usr/local/lib/python3.10/dist-packages/sklearn/utils/validation.py:1183: DataConversionWarning: A column-vector y was passed when a 1d array was expected. Please change the shape of y to (n_samples, ), for example using ravel().\n",
            "  y = column_or_1d(y, warn=True)\n"
          ]
        },
        {
          "output_type": "stream",
          "name": "stdout",
          "text": [
            "                     precision    recall  f1-score   support\n",
            "\n",
            "      no_depression       0.82      0.81      0.81      1000\n",
            "possible_depression       0.31      0.32      0.32       250\n",
            "    true_depression       0.22      0.25      0.23        75\n",
            "\n",
            "           accuracy                           0.68      1325\n",
            "          macro avg       0.45      0.46      0.45      1325\n",
            "       weighted avg       0.69      0.68      0.69      1325\n",
            "\n",
            "max_features: 5000 n_gram: (1, 3)  solver: newton-cholesky  tol: 5  C: 0.3  f1: 0.4549632618552313\n"
          ]
        },
        {
          "output_type": "stream",
          "name": "stderr",
          "text": [
            "/usr/local/lib/python3.10/dist-packages/sklearn/utils/validation.py:1183: DataConversionWarning: A column-vector y was passed when a 1d array was expected. Please change the shape of y to (n_samples, ), for example using ravel().\n",
            "  y = column_or_1d(y, warn=True)\n"
          ]
        },
        {
          "output_type": "stream",
          "name": "stdout",
          "text": [
            "                     precision    recall  f1-score   support\n",
            "\n",
            "      no_depression       0.82      0.82      0.82      1000\n",
            "possible_depression       0.33      0.38      0.35       250\n",
            "    true_depression       0.25      0.16      0.20        75\n",
            "\n",
            "           accuracy                           0.70      1325\n",
            "          macro avg       0.47      0.45      0.46      1325\n",
            "       weighted avg       0.70      0.70      0.70      1325\n",
            "\n",
            "max_features: 5000 n_gram: (1, 3)  solver: newton-cholesky  tol: 5  C: 3  f1: 0.45676993456918596\n"
          ]
        },
        {
          "output_type": "stream",
          "name": "stderr",
          "text": [
            "/usr/local/lib/python3.10/dist-packages/sklearn/utils/validation.py:1183: DataConversionWarning: A column-vector y was passed when a 1d array was expected. Please change the shape of y to (n_samples, ), for example using ravel().\n",
            "  y = column_or_1d(y, warn=True)\n"
          ]
        },
        {
          "output_type": "stream",
          "name": "stdout",
          "text": [
            "                     precision    recall  f1-score   support\n",
            "\n",
            "      no_depression       0.82      0.81      0.82      1000\n",
            "possible_depression       0.31      0.38      0.35       250\n",
            "    true_depression       0.26      0.13      0.18        75\n",
            "\n",
            "           accuracy                           0.69      1325\n",
            "          macro avg       0.46      0.44      0.45      1325\n",
            "       weighted avg       0.70      0.69      0.69      1325\n",
            "\n",
            "max_features: 5000 n_gram: (1, 3)  solver: newton-cholesky  tol: 5  C: 10  f1: 0.4457113879468353\n"
          ]
        },
        {
          "output_type": "stream",
          "name": "stderr",
          "text": [
            "/usr/local/lib/python3.10/dist-packages/sklearn/utils/validation.py:1183: DataConversionWarning: A column-vector y was passed when a 1d array was expected. Please change the shape of y to (n_samples, ), for example using ravel().\n",
            "  y = column_or_1d(y, warn=True)\n"
          ]
        },
        {
          "output_type": "stream",
          "name": "stdout",
          "text": [
            "                     precision    recall  f1-score   support\n",
            "\n",
            "      no_depression       0.82      0.81      0.81      1000\n",
            "possible_depression       0.32      0.31      0.32       250\n",
            "    true_depression       0.22      0.29      0.25        75\n",
            "\n",
            "           accuracy                           0.68      1325\n",
            "          macro avg       0.45      0.47      0.46      1325\n",
            "       weighted avg       0.69      0.68      0.69      1325\n",
            "\n",
            "max_features: 5000 n_gram: (1, 3)  solver: newton-cholesky  tol: 0.3  C: 0.1  f1: 0.4597169561135043\n"
          ]
        },
        {
          "output_type": "stream",
          "name": "stderr",
          "text": [
            "/usr/local/lib/python3.10/dist-packages/sklearn/utils/validation.py:1183: DataConversionWarning: A column-vector y was passed when a 1d array was expected. Please change the shape of y to (n_samples, ), for example using ravel().\n",
            "  y = column_or_1d(y, warn=True)\n"
          ]
        },
        {
          "output_type": "stream",
          "name": "stdout",
          "text": [
            "                     precision    recall  f1-score   support\n",
            "\n",
            "      no_depression       0.82      0.81      0.81      1000\n",
            "possible_depression       0.31      0.32      0.32       250\n",
            "    true_depression       0.22      0.25      0.23        75\n",
            "\n",
            "           accuracy                           0.68      1325\n",
            "          macro avg       0.45      0.46      0.45      1325\n",
            "       weighted avg       0.69      0.68      0.69      1325\n",
            "\n",
            "max_features: 5000 n_gram: (1, 3)  solver: newton-cholesky  tol: 0.3  C: 0.3  f1: 0.4549632618552313\n"
          ]
        },
        {
          "output_type": "stream",
          "name": "stderr",
          "text": [
            "/usr/local/lib/python3.10/dist-packages/sklearn/utils/validation.py:1183: DataConversionWarning: A column-vector y was passed when a 1d array was expected. Please change the shape of y to (n_samples, ), for example using ravel().\n",
            "  y = column_or_1d(y, warn=True)\n"
          ]
        },
        {
          "output_type": "stream",
          "name": "stdout",
          "text": [
            "                     precision    recall  f1-score   support\n",
            "\n",
            "      no_depression       0.82      0.82      0.82      1000\n",
            "possible_depression       0.33      0.36      0.35       250\n",
            "    true_depression       0.23      0.16      0.19        75\n",
            "\n",
            "           accuracy                           0.70      1325\n",
            "          macro avg       0.46      0.45      0.45      1325\n",
            "       weighted avg       0.70      0.70      0.70      1325\n",
            "\n",
            "max_features: 5000 n_gram: (1, 3)  solver: newton-cholesky  tol: 0.3  C: 3  f1: 0.4525503556992107\n"
          ]
        },
        {
          "output_type": "stream",
          "name": "stderr",
          "text": [
            "/usr/local/lib/python3.10/dist-packages/sklearn/utils/validation.py:1183: DataConversionWarning: A column-vector y was passed when a 1d array was expected. Please change the shape of y to (n_samples, ), for example using ravel().\n",
            "  y = column_or_1d(y, warn=True)\n"
          ]
        },
        {
          "output_type": "stream",
          "name": "stdout",
          "text": [
            "                     precision    recall  f1-score   support\n",
            "\n",
            "      no_depression       0.82      0.82      0.82      1000\n",
            "possible_depression       0.32      0.36      0.34       250\n",
            "    true_depression       0.23      0.12      0.16        75\n",
            "\n",
            "           accuracy                           0.70      1325\n",
            "          macro avg       0.46      0.44      0.44      1325\n",
            "       weighted avg       0.69      0.70      0.69      1325\n",
            "\n",
            "max_features: 5000 n_gram: (1, 3)  solver: newton-cholesky  tol: 0.3  C: 10  f1: 0.4396449715217297\n"
          ]
        },
        {
          "output_type": "stream",
          "name": "stderr",
          "text": [
            "/usr/local/lib/python3.10/dist-packages/sklearn/utils/validation.py:1183: DataConversionWarning: A column-vector y was passed when a 1d array was expected. Please change the shape of y to (n_samples, ), for example using ravel().\n",
            "  y = column_or_1d(y, warn=True)\n"
          ]
        },
        {
          "output_type": "stream",
          "name": "stdout",
          "text": [
            "                     precision    recall  f1-score   support\n",
            "\n",
            "      no_depression       0.82      0.81      0.81      1000\n",
            "possible_depression       0.32      0.31      0.32       250\n",
            "    true_depression       0.22      0.29      0.25        75\n",
            "\n",
            "           accuracy                           0.68      1325\n",
            "          macro avg       0.45      0.47      0.46      1325\n",
            "       weighted avg       0.69      0.68      0.69      1325\n",
            "\n",
            "max_features: 5000 n_gram: (1, 3)  solver: newton-cholesky  tol: 3  C: 0.1  f1: 0.4597169561135043\n"
          ]
        },
        {
          "output_type": "stream",
          "name": "stderr",
          "text": [
            "/usr/local/lib/python3.10/dist-packages/sklearn/utils/validation.py:1183: DataConversionWarning: A column-vector y was passed when a 1d array was expected. Please change the shape of y to (n_samples, ), for example using ravel().\n",
            "  y = column_or_1d(y, warn=True)\n"
          ]
        },
        {
          "output_type": "stream",
          "name": "stdout",
          "text": [
            "                     precision    recall  f1-score   support\n",
            "\n",
            "      no_depression       0.82      0.81      0.81      1000\n",
            "possible_depression       0.31      0.32      0.32       250\n",
            "    true_depression       0.22      0.25      0.23        75\n",
            "\n",
            "           accuracy                           0.68      1325\n",
            "          macro avg       0.45      0.46      0.45      1325\n",
            "       weighted avg       0.69      0.68      0.69      1325\n",
            "\n",
            "max_features: 5000 n_gram: (1, 3)  solver: newton-cholesky  tol: 3  C: 0.3  f1: 0.4549632618552313\n"
          ]
        },
        {
          "output_type": "stream",
          "name": "stderr",
          "text": [
            "/usr/local/lib/python3.10/dist-packages/sklearn/utils/validation.py:1183: DataConversionWarning: A column-vector y was passed when a 1d array was expected. Please change the shape of y to (n_samples, ), for example using ravel().\n",
            "  y = column_or_1d(y, warn=True)\n"
          ]
        },
        {
          "output_type": "stream",
          "name": "stdout",
          "text": [
            "                     precision    recall  f1-score   support\n",
            "\n",
            "      no_depression       0.82      0.82      0.82      1000\n",
            "possible_depression       0.33      0.38      0.35       250\n",
            "    true_depression       0.25      0.16      0.20        75\n",
            "\n",
            "           accuracy                           0.70      1325\n",
            "          macro avg       0.47      0.45      0.46      1325\n",
            "       weighted avg       0.70      0.70      0.70      1325\n",
            "\n",
            "max_features: 5000 n_gram: (1, 3)  solver: newton-cholesky  tol: 3  C: 3  f1: 0.45676993456918596\n"
          ]
        },
        {
          "output_type": "stream",
          "name": "stderr",
          "text": [
            "/usr/local/lib/python3.10/dist-packages/sklearn/utils/validation.py:1183: DataConversionWarning: A column-vector y was passed when a 1d array was expected. Please change the shape of y to (n_samples, ), for example using ravel().\n",
            "  y = column_or_1d(y, warn=True)\n"
          ]
        },
        {
          "output_type": "stream",
          "name": "stdout",
          "text": [
            "                     precision    recall  f1-score   support\n",
            "\n",
            "      no_depression       0.82      0.81      0.82      1000\n",
            "possible_depression       0.31      0.38      0.35       250\n",
            "    true_depression       0.26      0.13      0.18        75\n",
            "\n",
            "           accuracy                           0.69      1325\n",
            "          macro avg       0.46      0.44      0.45      1325\n",
            "       weighted avg       0.70      0.69      0.69      1325\n",
            "\n",
            "max_features: 5000 n_gram: (1, 3)  solver: newton-cholesky  tol: 3  C: 10  f1: 0.4457113879468353\n"
          ]
        },
        {
          "output_type": "stream",
          "name": "stderr",
          "text": [
            "/usr/local/lib/python3.10/dist-packages/sklearn/utils/validation.py:1183: DataConversionWarning: A column-vector y was passed when a 1d array was expected. Please change the shape of y to (n_samples, ), for example using ravel().\n",
            "  y = column_or_1d(y, warn=True)\n"
          ]
        },
        {
          "output_type": "stream",
          "name": "stdout",
          "text": [
            "                     precision    recall  f1-score   support\n",
            "\n",
            "      no_depression       0.84      0.75      0.79      1000\n",
            "possible_depression       0.32      0.46      0.38       250\n",
            "    true_depression       0.21      0.20      0.20        75\n",
            "\n",
            "           accuracy                           0.67      1325\n",
            "          macro avg       0.46      0.47      0.46      1325\n",
            "       weighted avg       0.71      0.67      0.68      1325\n",
            "\n",
            "max_features: 5000 n_gram: (1, 3)  solver: sag  tol: 5  C: 0.1  f1: 0.45916822271880026\n"
          ]
        },
        {
          "output_type": "stream",
          "name": "stderr",
          "text": [
            "/usr/local/lib/python3.10/dist-packages/sklearn/utils/validation.py:1183: DataConversionWarning: A column-vector y was passed when a 1d array was expected. Please change the shape of y to (n_samples, ), for example using ravel().\n",
            "  y = column_or_1d(y, warn=True)\n"
          ]
        },
        {
          "output_type": "stream",
          "name": "stdout",
          "text": [
            "                     precision    recall  f1-score   support\n",
            "\n",
            "      no_depression       0.82      0.84      0.83      1000\n",
            "possible_depression       0.32      0.29      0.30       250\n",
            "    true_depression       0.20      0.19      0.19        75\n",
            "\n",
            "           accuracy                           0.70      1325\n",
            "          macro avg       0.45      0.44      0.44      1325\n",
            "       weighted avg       0.69      0.70      0.70      1325\n",
            "\n",
            "max_features: 5000 n_gram: (1, 3)  solver: sag  tol: 5  C: 0.3  f1: 0.4430787026539667\n"
          ]
        },
        {
          "output_type": "stream",
          "name": "stderr",
          "text": [
            "/usr/local/lib/python3.10/dist-packages/sklearn/utils/validation.py:1183: DataConversionWarning: A column-vector y was passed when a 1d array was expected. Please change the shape of y to (n_samples, ), for example using ravel().\n",
            "  y = column_or_1d(y, warn=True)\n"
          ]
        },
        {
          "output_type": "stream",
          "name": "stdout",
          "text": [
            "                     precision    recall  f1-score   support\n",
            "\n",
            "      no_depression       0.82      0.79      0.80      1000\n",
            "possible_depression       0.29      0.39      0.33       250\n",
            "    true_depression       0.17      0.07      0.10        75\n",
            "\n",
            "           accuracy                           0.67      1325\n",
            "          macro avg       0.43      0.42      0.41      1325\n",
            "       weighted avg       0.69      0.67      0.68      1325\n",
            "\n",
            "max_features: 5000 n_gram: (1, 3)  solver: sag  tol: 5  C: 3  f1: 0.4110202374889908\n"
          ]
        },
        {
          "output_type": "stream",
          "name": "stderr",
          "text": [
            "/usr/local/lib/python3.10/dist-packages/sklearn/utils/validation.py:1183: DataConversionWarning: A column-vector y was passed when a 1d array was expected. Please change the shape of y to (n_samples, ), for example using ravel().\n",
            "  y = column_or_1d(y, warn=True)\n"
          ]
        },
        {
          "output_type": "stream",
          "name": "stdout",
          "text": [
            "                     precision    recall  f1-score   support\n",
            "\n",
            "      no_depression       0.83      0.77      0.80      1000\n",
            "possible_depression       0.30      0.44      0.35       250\n",
            "    true_depression       0.21      0.09      0.13        75\n",
            "\n",
            "           accuracy                           0.67      1325\n",
            "          macro avg       0.45      0.43      0.43      1325\n",
            "       weighted avg       0.70      0.67      0.68      1325\n",
            "\n",
            "max_features: 5000 n_gram: (1, 3)  solver: sag  tol: 5  C: 10  f1: 0.427703454962022\n"
          ]
        },
        {
          "output_type": "stream",
          "name": "stderr",
          "text": [
            "/usr/local/lib/python3.10/dist-packages/sklearn/utils/validation.py:1183: DataConversionWarning: A column-vector y was passed when a 1d array was expected. Please change the shape of y to (n_samples, ), for example using ravel().\n",
            "  y = column_or_1d(y, warn=True)\n"
          ]
        },
        {
          "output_type": "stream",
          "name": "stdout",
          "text": [
            "                     precision    recall  f1-score   support\n",
            "\n",
            "      no_depression       0.83      0.78      0.80      1000\n",
            "possible_depression       0.30      0.37      0.33       250\n",
            "    true_depression       0.18      0.20      0.19        75\n",
            "\n",
            "           accuracy                           0.67      1325\n",
            "          macro avg       0.44      0.45      0.44      1325\n",
            "       weighted avg       0.69      0.67      0.68      1325\n",
            "\n",
            "max_features: 5000 n_gram: (1, 3)  solver: sag  tol: 0.3  C: 0.1  f1: 0.4420195614614073\n"
          ]
        },
        {
          "output_type": "stream",
          "name": "stderr",
          "text": [
            "/usr/local/lib/python3.10/dist-packages/sklearn/utils/validation.py:1183: DataConversionWarning: A column-vector y was passed when a 1d array was expected. Please change the shape of y to (n_samples, ), for example using ravel().\n",
            "  y = column_or_1d(y, warn=True)\n"
          ]
        },
        {
          "output_type": "stream",
          "name": "stdout",
          "text": [
            "                     precision    recall  f1-score   support\n",
            "\n",
            "      no_depression       0.82      0.83      0.82      1000\n",
            "possible_depression       0.32      0.30      0.31       250\n",
            "    true_depression       0.21      0.20      0.20        75\n",
            "\n",
            "           accuracy                           0.69      1325\n",
            "          macro avg       0.45      0.44      0.44      1325\n",
            "       weighted avg       0.69      0.69      0.69      1325\n",
            "\n",
            "max_features: 5000 n_gram: (1, 3)  solver: sag  tol: 0.3  C: 0.3  f1: 0.4447624886508319\n"
          ]
        },
        {
          "output_type": "stream",
          "name": "stderr",
          "text": [
            "/usr/local/lib/python3.10/dist-packages/sklearn/utils/validation.py:1183: DataConversionWarning: A column-vector y was passed when a 1d array was expected. Please change the shape of y to (n_samples, ), for example using ravel().\n",
            "  y = column_or_1d(y, warn=True)\n"
          ]
        },
        {
          "output_type": "stream",
          "name": "stdout",
          "text": [
            "                     precision    recall  f1-score   support\n",
            "\n",
            "      no_depression       0.82      0.83      0.83      1000\n",
            "possible_depression       0.34      0.38      0.36       250\n",
            "    true_depression       0.22      0.11      0.14        75\n",
            "\n",
            "           accuracy                           0.71      1325\n",
            "          macro avg       0.46      0.44      0.44      1325\n",
            "       weighted avg       0.70      0.71      0.70      1325\n",
            "\n",
            "max_features: 5000 n_gram: (1, 3)  solver: sag  tol: 0.3  C: 3  f1: 0.44370196303829806\n"
          ]
        },
        {
          "output_type": "stream",
          "name": "stderr",
          "text": [
            "/usr/local/lib/python3.10/dist-packages/sklearn/utils/validation.py:1183: DataConversionWarning: A column-vector y was passed when a 1d array was expected. Please change the shape of y to (n_samples, ), for example using ravel().\n",
            "  y = column_or_1d(y, warn=True)\n"
          ]
        },
        {
          "output_type": "stream",
          "name": "stdout",
          "text": [
            "                     precision    recall  f1-score   support\n",
            "\n",
            "      no_depression       0.83      0.80      0.81      1000\n",
            "possible_depression       0.32      0.40      0.35       250\n",
            "    true_depression       0.25      0.13      0.17        75\n",
            "\n",
            "           accuracy                           0.69      1325\n",
            "          macro avg       0.46      0.44      0.45      1325\n",
            "       weighted avg       0.70      0.69      0.69      1325\n",
            "\n",
            "max_features: 5000 n_gram: (1, 3)  solver: sag  tol: 0.3  C: 10  f1: 0.4468903732630609\n"
          ]
        },
        {
          "output_type": "stream",
          "name": "stderr",
          "text": [
            "/usr/local/lib/python3.10/dist-packages/sklearn/utils/validation.py:1183: DataConversionWarning: A column-vector y was passed when a 1d array was expected. Please change the shape of y to (n_samples, ), for example using ravel().\n",
            "  y = column_or_1d(y, warn=True)\n"
          ]
        },
        {
          "output_type": "stream",
          "name": "stdout",
          "text": [
            "                     precision    recall  f1-score   support\n",
            "\n",
            "      no_depression       0.84      0.77      0.80      1000\n",
            "possible_depression       0.34      0.42      0.37       250\n",
            "    true_depression       0.21      0.27      0.24        75\n",
            "\n",
            "           accuracy                           0.68      1325\n",
            "          macro avg       0.46      0.49      0.47      1325\n",
            "       weighted avg       0.71      0.68      0.69      1325\n",
            "\n",
            "max_features: 5000 n_gram: (1, 3)  solver: sag  tol: 3  C: 0.1  f1: 0.4714833742278033\n"
          ]
        },
        {
          "output_type": "stream",
          "name": "stderr",
          "text": [
            "/usr/local/lib/python3.10/dist-packages/sklearn/utils/validation.py:1183: DataConversionWarning: A column-vector y was passed when a 1d array was expected. Please change the shape of y to (n_samples, ), for example using ravel().\n",
            "  y = column_or_1d(y, warn=True)\n"
          ]
        },
        {
          "output_type": "stream",
          "name": "stdout",
          "text": [
            "                     precision    recall  f1-score   support\n",
            "\n",
            "      no_depression       0.82      0.79      0.81      1000\n",
            "possible_depression       0.30      0.32      0.31       250\n",
            "    true_depression       0.19      0.24      0.21        75\n",
            "\n",
            "           accuracy                           0.67      1325\n",
            "          macro avg       0.44      0.45      0.44      1325\n",
            "       weighted avg       0.69      0.67      0.68      1325\n",
            "\n",
            "max_features: 5000 n_gram: (1, 3)  solver: sag  tol: 3  C: 0.3  f1: 0.44248770645126084\n"
          ]
        },
        {
          "output_type": "stream",
          "name": "stderr",
          "text": [
            "/usr/local/lib/python3.10/dist-packages/sklearn/utils/validation.py:1183: DataConversionWarning: A column-vector y was passed when a 1d array was expected. Please change the shape of y to (n_samples, ), for example using ravel().\n",
            "  y = column_or_1d(y, warn=True)\n"
          ]
        },
        {
          "output_type": "stream",
          "name": "stdout",
          "text": [
            "                     precision    recall  f1-score   support\n",
            "\n",
            "      no_depression       0.82      0.82      0.82      1000\n",
            "possible_depression       0.32      0.35      0.33       250\n",
            "    true_depression       0.22      0.13      0.17        75\n",
            "\n",
            "           accuracy                           0.70      1325\n",
            "          macro avg       0.45      0.44      0.44      1325\n",
            "       weighted avg       0.69      0.70      0.69      1325\n",
            "\n",
            "max_features: 5000 n_gram: (1, 3)  solver: sag  tol: 3  C: 3  f1: 0.4404200460535273\n"
          ]
        },
        {
          "output_type": "stream",
          "name": "stderr",
          "text": [
            "/usr/local/lib/python3.10/dist-packages/sklearn/utils/validation.py:1183: DataConversionWarning: A column-vector y was passed when a 1d array was expected. Please change the shape of y to (n_samples, ), for example using ravel().\n",
            "  y = column_or_1d(y, warn=True)\n"
          ]
        },
        {
          "output_type": "stream",
          "name": "stdout",
          "text": [
            "                     precision    recall  f1-score   support\n",
            "\n",
            "      no_depression       0.83      0.76      0.79      1000\n",
            "possible_depression       0.29      0.41      0.34       250\n",
            "    true_depression       0.23      0.15      0.18        75\n",
            "\n",
            "           accuracy                           0.66      1325\n",
            "          macro avg       0.45      0.44      0.44      1325\n",
            "       weighted avg       0.69      0.66      0.67      1325\n",
            "\n",
            "max_features: 5000 n_gram: (1, 3)  solver: sag  tol: 3  C: 10  f1: 0.43553584423817887\n"
          ]
        },
        {
          "output_type": "stream",
          "name": "stderr",
          "text": [
            "/usr/local/lib/python3.10/dist-packages/sklearn/utils/validation.py:1183: DataConversionWarning: A column-vector y was passed when a 1d array was expected. Please change the shape of y to (n_samples, ), for example using ravel().\n",
            "  y = column_or_1d(y, warn=True)\n"
          ]
        },
        {
          "output_type": "stream",
          "name": "stdout",
          "text": [
            "                     precision    recall  f1-score   support\n",
            "\n",
            "      no_depression       0.94      0.28      0.43      1000\n",
            "possible_depression       0.23      0.92      0.36       250\n",
            "    true_depression       0.27      0.04      0.07        75\n",
            "\n",
            "           accuracy                           0.39      1325\n",
            "          macro avg       0.48      0.41      0.29      1325\n",
            "       weighted avg       0.77      0.39      0.40      1325\n",
            "\n",
            "max_features: 5000 n_gram: (1, 3)  solver: saga  tol: 5  C: 0.1  f1: 0.2871852709253569\n"
          ]
        },
        {
          "output_type": "stream",
          "name": "stderr",
          "text": [
            "/usr/local/lib/python3.10/dist-packages/sklearn/utils/validation.py:1183: DataConversionWarning: A column-vector y was passed when a 1d array was expected. Please change the shape of y to (n_samples, ), for example using ravel().\n",
            "  y = column_or_1d(y, warn=True)\n"
          ]
        },
        {
          "output_type": "stream",
          "name": "stdout",
          "text": [
            "                     precision    recall  f1-score   support\n",
            "\n",
            "      no_depression       0.82      0.82      0.82      1000\n",
            "possible_depression       0.30      0.22      0.25       250\n",
            "    true_depression       0.21      0.36      0.26        75\n",
            "\n",
            "           accuracy                           0.68      1325\n",
            "          macro avg       0.44      0.47      0.45      1325\n",
            "       weighted avg       0.68      0.68      0.68      1325\n",
            "\n",
            "max_features: 5000 n_gram: (1, 3)  solver: saga  tol: 5  C: 0.3  f1: 0.44522342747526106\n"
          ]
        },
        {
          "output_type": "stream",
          "name": "stderr",
          "text": [
            "/usr/local/lib/python3.10/dist-packages/sklearn/utils/validation.py:1183: DataConversionWarning: A column-vector y was passed when a 1d array was expected. Please change the shape of y to (n_samples, ), for example using ravel().\n",
            "  y = column_or_1d(y, warn=True)\n"
          ]
        },
        {
          "output_type": "stream",
          "name": "stdout",
          "text": [
            "                     precision    recall  f1-score   support\n",
            "\n",
            "      no_depression       0.86      0.61      0.72      1000\n",
            "possible_depression       0.28      0.54      0.37       250\n",
            "    true_depression       0.19      0.33      0.24        75\n",
            "\n",
            "           accuracy                           0.58      1325\n",
            "          macro avg       0.44      0.49      0.44      1325\n",
            "       weighted avg       0.72      0.58      0.63      1325\n",
            "\n",
            "max_features: 5000 n_gram: (1, 3)  solver: saga  tol: 5  C: 3  f1: 0.44156168338411333\n"
          ]
        },
        {
          "output_type": "stream",
          "name": "stderr",
          "text": [
            "/usr/local/lib/python3.10/dist-packages/sklearn/utils/validation.py:1183: DataConversionWarning: A column-vector y was passed when a 1d array was expected. Please change the shape of y to (n_samples, ), for example using ravel().\n",
            "  y = column_or_1d(y, warn=True)\n"
          ]
        },
        {
          "output_type": "stream",
          "name": "stdout",
          "text": [
            "                     precision    recall  f1-score   support\n",
            "\n",
            "      no_depression       0.84      0.73      0.78      1000\n",
            "possible_depression       0.30      0.46      0.36       250\n",
            "    true_depression       0.22      0.23      0.22        75\n",
            "\n",
            "           accuracy                           0.65      1325\n",
            "          macro avg       0.45      0.47      0.46      1325\n",
            "       weighted avg       0.70      0.65      0.67      1325\n",
            "\n",
            "max_features: 5000 n_gram: (1, 3)  solver: saga  tol: 5  C: 10  f1: 0.4561953760407922\n"
          ]
        },
        {
          "output_type": "stream",
          "name": "stderr",
          "text": [
            "/usr/local/lib/python3.10/dist-packages/sklearn/utils/validation.py:1183: DataConversionWarning: A column-vector y was passed when a 1d array was expected. Please change the shape of y to (n_samples, ), for example using ravel().\n",
            "  y = column_or_1d(y, warn=True)\n"
          ]
        },
        {
          "output_type": "stream",
          "name": "stdout",
          "text": [
            "                     precision    recall  f1-score   support\n",
            "\n",
            "      no_depression       0.85      0.71      0.77      1000\n",
            "possible_depression       0.31      0.52      0.39       250\n",
            "    true_depression       0.21      0.17      0.19        75\n",
            "\n",
            "           accuracy                           0.64      1325\n",
            "          macro avg       0.45      0.47      0.45      1325\n",
            "       weighted avg       0.71      0.64      0.67      1325\n",
            "\n",
            "max_features: 5000 n_gram: (1, 3)  solver: saga  tol: 0.3  C: 0.1  f1: 0.4492263898494914\n"
          ]
        },
        {
          "output_type": "stream",
          "name": "stderr",
          "text": [
            "/usr/local/lib/python3.10/dist-packages/sklearn/utils/validation.py:1183: DataConversionWarning: A column-vector y was passed when a 1d array was expected. Please change the shape of y to (n_samples, ), for example using ravel().\n",
            "  y = column_or_1d(y, warn=True)\n"
          ]
        },
        {
          "output_type": "stream",
          "name": "stdout",
          "text": [
            "                     precision    recall  f1-score   support\n",
            "\n",
            "      no_depression       0.80      0.89      0.84      1000\n",
            "possible_depression       0.35      0.24      0.28       250\n",
            "    true_depression       0.21      0.15      0.17        75\n",
            "\n",
            "           accuracy                           0.72      1325\n",
            "          macro avg       0.45      0.42      0.43      1325\n",
            "       weighted avg       0.68      0.72      0.70      1325\n",
            "\n",
            "max_features: 5000 n_gram: (1, 3)  solver: saga  tol: 0.3  C: 0.3  f1: 0.4323521937817067\n"
          ]
        },
        {
          "output_type": "stream",
          "name": "stderr",
          "text": [
            "/usr/local/lib/python3.10/dist-packages/sklearn/utils/validation.py:1183: DataConversionWarning: A column-vector y was passed when a 1d array was expected. Please change the shape of y to (n_samples, ), for example using ravel().\n",
            "  y = column_or_1d(y, warn=True)\n"
          ]
        },
        {
          "output_type": "stream",
          "name": "stdout",
          "text": [
            "                     precision    recall  f1-score   support\n",
            "\n",
            "      no_depression       0.82      0.81      0.82      1000\n",
            "possible_depression       0.33      0.36      0.34       250\n",
            "    true_depression       0.19      0.16      0.17        75\n",
            "\n",
            "           accuracy                           0.69      1325\n",
            "          macro avg       0.45      0.44      0.44      1325\n",
            "       weighted avg       0.69      0.69      0.69      1325\n",
            "\n",
            "max_features: 5000 n_gram: (1, 3)  solver: saga  tol: 0.3  C: 3  f1: 0.4444143606133651\n"
          ]
        },
        {
          "output_type": "stream",
          "name": "stderr",
          "text": [
            "/usr/local/lib/python3.10/dist-packages/sklearn/utils/validation.py:1183: DataConversionWarning: A column-vector y was passed when a 1d array was expected. Please change the shape of y to (n_samples, ), for example using ravel().\n",
            "  y = column_or_1d(y, warn=True)\n"
          ]
        },
        {
          "output_type": "stream",
          "name": "stdout",
          "text": [
            "                     precision    recall  f1-score   support\n",
            "\n",
            "      no_depression       0.82      0.84      0.83      1000\n",
            "possible_depression       0.32      0.34      0.33       250\n",
            "    true_depression       0.26      0.11      0.15        75\n",
            "\n",
            "           accuracy                           0.70      1325\n",
            "          macro avg       0.46      0.43      0.44      1325\n",
            "       weighted avg       0.69      0.70      0.70      1325\n",
            "\n",
            "max_features: 5000 n_gram: (1, 3)  solver: saga  tol: 0.3  C: 10  f1: 0.43593897804584\n"
          ]
        },
        {
          "output_type": "stream",
          "name": "stderr",
          "text": [
            "/usr/local/lib/python3.10/dist-packages/sklearn/utils/validation.py:1183: DataConversionWarning: A column-vector y was passed when a 1d array was expected. Please change the shape of y to (n_samples, ), for example using ravel().\n",
            "  y = column_or_1d(y, warn=True)\n"
          ]
        },
        {
          "output_type": "stream",
          "name": "stdout",
          "text": [
            "                     precision    recall  f1-score   support\n",
            "\n",
            "      no_depression       0.80      0.87      0.84      1000\n",
            "possible_depression       0.32      0.22      0.26       250\n",
            "    true_depression       0.22      0.19      0.20        75\n",
            "\n",
            "           accuracy                           0.71      1325\n",
            "          macro avg       0.45      0.43      0.43      1325\n",
            "       weighted avg       0.68      0.71      0.69      1325\n",
            "\n",
            "max_features: 5000 n_gram: (1, 3)  solver: saga  tol: 3  C: 0.1  f1: 0.43340026652677016\n"
          ]
        },
        {
          "output_type": "stream",
          "name": "stderr",
          "text": [
            "/usr/local/lib/python3.10/dist-packages/sklearn/utils/validation.py:1183: DataConversionWarning: A column-vector y was passed when a 1d array was expected. Please change the shape of y to (n_samples, ), for example using ravel().\n",
            "  y = column_or_1d(y, warn=True)\n"
          ]
        },
        {
          "output_type": "stream",
          "name": "stdout",
          "text": [
            "                     precision    recall  f1-score   support\n",
            "\n",
            "      no_depression       0.82      0.81      0.82      1000\n",
            "possible_depression       0.31      0.35      0.33       250\n",
            "    true_depression       0.22      0.13      0.17        75\n",
            "\n",
            "           accuracy                           0.69      1325\n",
            "          macro avg       0.45      0.43      0.44      1325\n",
            "       weighted avg       0.69      0.69      0.69      1325\n",
            "\n",
            "max_features: 5000 n_gram: (1, 3)  solver: saga  tol: 3  C: 0.3  f1: 0.43744688679075905\n"
          ]
        },
        {
          "output_type": "stream",
          "name": "stderr",
          "text": [
            "/usr/local/lib/python3.10/dist-packages/sklearn/utils/validation.py:1183: DataConversionWarning: A column-vector y was passed when a 1d array was expected. Please change the shape of y to (n_samples, ), for example using ravel().\n",
            "  y = column_or_1d(y, warn=True)\n"
          ]
        },
        {
          "output_type": "stream",
          "name": "stdout",
          "text": [
            "                     precision    recall  f1-score   support\n",
            "\n",
            "      no_depression       0.83      0.75      0.79      1000\n",
            "possible_depression       0.28      0.37      0.32       250\n",
            "    true_depression       0.22      0.27      0.24        75\n",
            "\n",
            "           accuracy                           0.65      1325\n",
            "          macro avg       0.44      0.46      0.45      1325\n",
            "       weighted avg       0.69      0.65      0.67      1325\n",
            "\n",
            "max_features: 5000 n_gram: (1, 3)  solver: saga  tol: 3  C: 3  f1: 0.4480450294955027\n",
            "                     precision    recall  f1-score   support\n",
            "\n",
            "      no_depression       0.82      0.80      0.81      1000\n",
            "possible_depression       0.31      0.34      0.32       250\n",
            "    true_depression       0.21      0.23      0.22        75\n",
            "\n",
            "           accuracy                           0.68      1325\n",
            "          macro avg       0.45      0.45      0.45      1325\n",
            "       weighted avg       0.69      0.68      0.68      1325\n",
            "\n",
            "max_features: 5000 n_gram: (1, 3)  solver: saga  tol: 3  C: 10  f1: 0.44977531917196273\n",
            "0.47595605437545124\n",
            "{'max_features': 5000, 'n_gram': (1, 1), 'solver': 'liblinear', 'tol': 0.3, 'C': 0.3}\n"
          ]
        },
        {
          "output_type": "stream",
          "name": "stderr",
          "text": [
            "/usr/local/lib/python3.10/dist-packages/sklearn/utils/validation.py:1183: DataConversionWarning: A column-vector y was passed when a 1d array was expected. Please change the shape of y to (n_samples, ), for example using ravel().\n",
            "  y = column_or_1d(y, warn=True)\n"
          ]
        }
      ]
    },
    {
      "cell_type": "code",
      "execution_count": null,
      "id": "54f2b62890505da3",
      "metadata": {
        "ExecuteTime": {
          "end_time": "2024-06-24T16:37:13.012748Z",
          "start_time": "2024-06-24T16:37:12.153095Z"
        },
        "colab": {
          "base_uri": "https://localhost:8080/"
        },
        "id": "54f2b62890505da3",
        "outputId": "2a25238e-88df-4da4-82f1-26770ba60037"
      },
      "outputs": [
        {
          "output_type": "stream",
          "name": "stderr",
          "text": [
            "/usr/local/lib/python3.10/dist-packages/sklearn/utils/validation.py:1183: DataConversionWarning: A column-vector y was passed when a 1d array was expected. Please change the shape of y to (n_samples, ), for example using ravel().\n",
            "  y = column_or_1d(y, warn=True)\n"
          ]
        },
        {
          "output_type": "stream",
          "name": "stdout",
          "text": [
            "F1 Score: 0.47595605437545124\n",
            "                     precision    recall  f1-score   support\n",
            "\n",
            "      no_depression       0.83      0.81      0.82      1000\n",
            "possible_depression       0.33      0.35      0.34       250\n",
            "    true_depression       0.25      0.29      0.27        75\n",
            "\n",
            "           accuracy                           0.69      1325\n",
            "          macro avg       0.47      0.48      0.48      1325\n",
            "       weighted avg       0.70      0.69      0.70      1325\n",
            "\n"
          ]
        }
      ],
      "source": [
        "#generate classification report for best parameters\n",
        "\n",
        "tfidf = TfidfVectorizer(max_features = chosen_parameters[\"max_features\"], ngram_range = chosen_parameters[\"n_gram\"])\n",
        "\n",
        "X_train_tfidf = tfidf.fit_transform(preprocessed_train_data[\"text\"]).toarray()\n",
        "X_test_tfidf = tfidf.transform(preprocessed_test_data[\"text\"]).toarray()\n",
        "X_res, y_res = sm.fit_resample(X_train_tfidf, train_labels) # Use tfidf data for SMOTE\n",
        "\n",
        "model = LogisticRegression(solver = chosen_parameters[\"solver\"], tol = chosen_parameters[\"tol\"], C = chosen_parameters[\"C\"])\n",
        "\n",
        "model.fit(X_res, y_res)\n",
        "predictions = model.predict(X_test_tfidf)\n",
        "f1 = metrics.f1_score(test_labels['label'], predictions, average = 'macro')\n",
        "\n",
        "print(\"F1 Score:\", f1)\n",
        "print(classification_report(test_labels['label'], predictions))"
      ]
    },
    {
      "cell_type": "code",
      "execution_count": null,
      "id": "82aa3ae02a39f443",
      "metadata": {
        "ExecuteTime": {
          "end_time": "2024-06-24T20:35:31.678465Z",
          "start_time": "2024-06-24T20:35:31.307889Z"
        },
        "colab": {
          "base_uri": "https://localhost:8080/",
          "height": 564
        },
        "id": "82aa3ae02a39f443",
        "outputId": "03f6f4a1-ede1-4970-8cfc-dba6aa7c826f"
      },
      "outputs": [
        {
          "output_type": "display_data",
          "data": {
            "text/plain": [
              "<Figure size 800x600 with 2 Axes>"
            ],
            "image/png": "[encoded data removed]"
          },
          "metadata": {}
        }
      ],
      "source": [
        "#generate confusion matrix for best parameters\n",
        "\n",
        "conf_matrix = confusion_matrix(test_labels['label'], predictions)\n",
        "\n",
        "plt.figure(figsize=(8, 6))\n",
        "sns.heatmap(conf_matrix, annot=True, fmt='d', cmap='Purples', xticklabels = ['no_depression', 'possible_depression', 'true_depression'], yticklabels = ['no_depression', 'possible_depression', 'true_depression'])\n",
        "plt.xlabel('Predicted Labels')\n",
        "plt.ylabel('True Labels')\n",
        "plt.title('Confusion Matrix')\n",
        "plt.show()"
      ]
    },
    {
      "cell_type": "code",
      "execution_count": null,
      "id": "b062fea098484fa0",
      "metadata": {
        "id": "b062fea098484fa0"
      },
      "outputs": [],
      "source": [
        "doc = docx.Document()\n",
        "\n",
        "doc.add_heading('Hiperparametrization', 0)\n",
        "\n",
        "# Table data in a form of list\n",
        "# data = (\n",
        "#     (1, 'Geek 1'),\n",
        "#     (2, 'Geek 2'),\n",
        "#     (3, 'Geek 3')\n",
        "# )\n",
        "\n",
        "# Creating a table object\n",
        "table = doc.add_table(rows=1, cols=6)\n",
        "  # max_features: 1000 n_gram: (1, 1)  n_estimators: 10  max_depth: 1  learning_rate: 0.001  f1: 0.38419503322527343\n",
        "\n",
        "# Adding heading in the 1st row of the table\n",
        "row = table.rows[0].cells\n",
        "row[0].text = 'max_features'\n",
        "row[1].text = 'n_gram'\n",
        "row[2].text = 'solver'\n",
        "row[3].text = 'tol'\n",
        "row[4].text = 'C'\n",
        "row[5].text = 'f1'\n",
        "\n",
        "# Adding data from the list to the table\n",
        "for elem in data:\n",
        "    # Adding a row and then adding data in it.\n",
        "    row = table.add_row().cells\n",
        "    # Converting id to string as table can only take string input\n",
        "    row[0].text = str(elem['max_features'])\n",
        "    row[1].text = str(elem['n_gram'])\n",
        "    row[2].text = str(elem['solver'])\n",
        "    row[3].text = str(elem['tol'])\n",
        "    row[4].text = str(elem['C'])\n",
        "    row[5].text = str(round(elem['f1'],4))\n",
        "\n",
        "# Now save the document to a location\n",
        "doc.save('hiperparam_lroversampling.docx')"
      ]
    }
  ],
  "metadata": {
    "kernelspec": {
      "display_name": "Python 3 (ipykernel)",
      "language": "python",
      "name": "python3"
    },
    "language_info": {
      "codemirror_mode": {
        "name": "ipython",
        "version": 3
      },
      "file_extension": ".py",
      "mimetype": "text/x-python",
      "name": "python",
      "nbconvert_exporter": "python",
      "pygments_lexer": "ipython3",
      "version": "3.11.5"
    },
    "colab": {
      "provenance": []
    }
  },
  "nbformat": 4,
  "nbformat_minor": 5
}